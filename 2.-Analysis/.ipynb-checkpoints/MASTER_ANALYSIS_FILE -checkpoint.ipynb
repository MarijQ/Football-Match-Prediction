{
 "cells": [
  {
   "cell_type": "markdown",
   "id": "2a96a6fe",
   "metadata": {},
   "source": [
    "<h2 style=\"font-family: 'Times New Roman', sans-serif; color: #2e6c80;\">\"Goal-Driven Analytics : Leveraging ML and High-Performance Computing for Predicting Football League Scores\"</h2>"
   ]
  },
  {
   "cell_type": "markdown",
   "id": "c73044eb",
   "metadata": {},
   "source": [
    "<h3 style=\"font-family: 'Times New Roman', sans-serif; color: #2e6c80;\">Data Preprocessing, Cleaning, and Analysis Framework</h3>\n",
    "<ol>\n",
    "    <li><b>Load the CSV file</b> and convert it into a DataFrame.</li>\n",
    "    <li><b>Inspect the DataFrame</b> to understand its structure and contents.</li>\n",
    "    <li><b>Select the desired columns</b> of interest for further analysis.</li>\n",
    "    <li><b>Understand the numerical, categorical, and binary variables</b> to inform preprocessing strategies.</li>\n",
    "    <li><b>Examine duplicate entries, null values, missing values, and extreme values</b> to assess data quality.</li>\n",
    "    <li><b>Remove, Replace, or Impute</b> (Mean, Median, or Mode) as required to address data quality issues.</li>\n",
    "    <li><b>Write the cleaned DataFrame</b> into a new CSV file for persistence.</li>\n",
    "    <li><b>Repeat the process [1 - 7]</b> for all selected CSV files to ensure consistency in data quality.</li>\n",
    "    <li><b>Merging the CSV files</b> through a systematic process, identifying primary keys of interest.</li>\n",
    "    <li><b>Write the master dataset</b> into a new CSV file and name it <i>master_df</i>.</li>\n",
    "    <li><b>Repeat the process [4 - 7]</b> for the master DataFrame to ensure it is also clean and consistent.</li>\n",
    "    <li><b>Write the master DataFrame</b> into a new CSV file and name it <i>master_cleaned</i>.</li>\n",
    "</ol>"
   ]
  },
  {
   "cell_type": "markdown",
   "id": "fd1e3713",
   "metadata": {},
   "source": [
    "###### 1 -- GAMES DATA FRAME [games.csv]"
   ]
  },
  {
   "cell_type": "markdown",
   "id": "a521b63b",
   "metadata": {},
   "source": [
    "###### 1.1 Load the required libraries and csv files"
   ]
  },
  {
   "cell_type": "code",
   "execution_count": 479,
   "id": "8d503fea",
   "metadata": {
    "ExecuteTime": {
     "end_time": "2024-03-05T18:23:27.826774Z",
     "start_time": "2024-03-05T18:23:27.470132Z"
    }
   },
   "outputs": [
    {
     "data": {
      "text/html": [
       "<div>\n",
       "<style scoped>\n",
       "    .dataframe tbody tr th:only-of-type {\n",
       "        vertical-align: middle;\n",
       "    }\n",
       "\n",
       "    .dataframe tbody tr th {\n",
       "        vertical-align: top;\n",
       "    }\n",
       "\n",
       "    .dataframe thead th {\n",
       "        text-align: right;\n",
       "    }\n",
       "</style>\n",
       "<table border=\"1\" class=\"dataframe\">\n",
       "  <thead>\n",
       "    <tr style=\"text-align: right;\">\n",
       "      <th></th>\n",
       "      <th>game_id</th>\n",
       "      <th>competition_id</th>\n",
       "      <th>season</th>\n",
       "      <th>round</th>\n",
       "      <th>date</th>\n",
       "      <th>home_club_id</th>\n",
       "      <th>away_club_id</th>\n",
       "      <th>home_club_goals</th>\n",
       "      <th>away_club_goals</th>\n",
       "      <th>home_club_position</th>\n",
       "      <th>...</th>\n",
       "      <th>stadium</th>\n",
       "      <th>attendance</th>\n",
       "      <th>referee</th>\n",
       "      <th>url</th>\n",
       "      <th>home_club_formation</th>\n",
       "      <th>away_club_formation</th>\n",
       "      <th>home_club_name</th>\n",
       "      <th>away_club_name</th>\n",
       "      <th>aggregate</th>\n",
       "      <th>competition_type</th>\n",
       "    </tr>\n",
       "  </thead>\n",
       "  <tbody>\n",
       "    <tr>\n",
       "      <th>0</th>\n",
       "      <td>2321044</td>\n",
       "      <td>L1</td>\n",
       "      <td>2013</td>\n",
       "      <td>2. Matchday</td>\n",
       "      <td>2013-08-18</td>\n",
       "      <td>16</td>\n",
       "      <td>23</td>\n",
       "      <td>2</td>\n",
       "      <td>1</td>\n",
       "      <td>1.0</td>\n",
       "      <td>...</td>\n",
       "      <td>SIGNAL IDUNA PARK</td>\n",
       "      <td>80200.0</td>\n",
       "      <td>Peter Sippel</td>\n",
       "      <td>https://www.transfermarkt.co.uk/borussia-dortm...</td>\n",
       "      <td>4-2-3-1</td>\n",
       "      <td>4-3-2-1</td>\n",
       "      <td>Borussia Dortmund</td>\n",
       "      <td>Eintracht Braunschweig</td>\n",
       "      <td>2:1</td>\n",
       "      <td>domestic_league</td>\n",
       "    </tr>\n",
       "    <tr>\n",
       "      <th>1</th>\n",
       "      <td>2321060</td>\n",
       "      <td>L1</td>\n",
       "      <td>2013</td>\n",
       "      <td>3. Matchday</td>\n",
       "      <td>2013-08-25</td>\n",
       "      <td>23</td>\n",
       "      <td>24</td>\n",
       "      <td>0</td>\n",
       "      <td>2</td>\n",
       "      <td>18.0</td>\n",
       "      <td>...</td>\n",
       "      <td>EINTRACHT-Stadion</td>\n",
       "      <td>23325.0</td>\n",
       "      <td>Wolfgang Stark</td>\n",
       "      <td>https://www.transfermarkt.co.uk/eintracht-brau...</td>\n",
       "      <td>4-3-2-1</td>\n",
       "      <td>4-2-3-1</td>\n",
       "      <td>Eintracht Braunschweig</td>\n",
       "      <td>Eintracht Frankfurt Fußball AG</td>\n",
       "      <td>0:2</td>\n",
       "      <td>domestic_league</td>\n",
       "    </tr>\n",
       "    <tr>\n",
       "      <th>2</th>\n",
       "      <td>2321086</td>\n",
       "      <td>L1</td>\n",
       "      <td>2013</td>\n",
       "      <td>6. Matchday</td>\n",
       "      <td>2013-09-21</td>\n",
       "      <td>4</td>\n",
       "      <td>16</td>\n",
       "      <td>1</td>\n",
       "      <td>1</td>\n",
       "      <td>15.0</td>\n",
       "      <td>...</td>\n",
       "      <td>Max-Morlock-Stadion</td>\n",
       "      <td>50000.0</td>\n",
       "      <td>Knut Kircher</td>\n",
       "      <td>https://www.transfermarkt.co.uk/1-fc-nuremberg...</td>\n",
       "      <td>4-2-3-1</td>\n",
       "      <td>4-2-3-1</td>\n",
       "      <td>1.FC Nuremberg</td>\n",
       "      <td>Borussia Dortmund</td>\n",
       "      <td>1:1</td>\n",
       "      <td>domestic_league</td>\n",
       "    </tr>\n",
       "    <tr>\n",
       "      <th>3</th>\n",
       "      <td>2321152</td>\n",
       "      <td>L1</td>\n",
       "      <td>2013</td>\n",
       "      <td>11. Matchday</td>\n",
       "      <td>2013-11-02</td>\n",
       "      <td>44</td>\n",
       "      <td>33</td>\n",
       "      <td>0</td>\n",
       "      <td>2</td>\n",
       "      <td>7.0</td>\n",
       "      <td>...</td>\n",
       "      <td>Olympiastadion Berlin</td>\n",
       "      <td>69277.0</td>\n",
       "      <td>Günter Perl</td>\n",
       "      <td>https://www.transfermarkt.co.uk/hertha-bsc_fc-...</td>\n",
       "      <td>4-2-3-1</td>\n",
       "      <td>4-2-3-1</td>\n",
       "      <td>Hertha BSC</td>\n",
       "      <td>FC Schalke 04</td>\n",
       "      <td>0:2</td>\n",
       "      <td>domestic_league</td>\n",
       "    </tr>\n",
       "    <tr>\n",
       "      <th>4</th>\n",
       "      <td>2321205</td>\n",
       "      <td>L1</td>\n",
       "      <td>2013</td>\n",
       "      <td>17. Matchday</td>\n",
       "      <td>2013-12-21</td>\n",
       "      <td>41</td>\n",
       "      <td>39</td>\n",
       "      <td>2</td>\n",
       "      <td>3</td>\n",
       "      <td>14.0</td>\n",
       "      <td>...</td>\n",
       "      <td>Volksparkstadion</td>\n",
       "      <td>50000.0</td>\n",
       "      <td>Bastian Dankert</td>\n",
       "      <td>https://www.transfermarkt.co.uk/hamburger-sv_1...</td>\n",
       "      <td>4-2-3-1</td>\n",
       "      <td>4-4-2 Diamond</td>\n",
       "      <td>Hamburger SV</td>\n",
       "      <td>1. Fußball- und Sportverein Mainz 05</td>\n",
       "      <td>2:3</td>\n",
       "      <td>domestic_league</td>\n",
       "    </tr>\n",
       "  </tbody>\n",
       "</table>\n",
       "<p>5 rows × 23 columns</p>\n",
       "</div>"
      ],
      "text/plain": [
       "   game_id competition_id  season         round        date  home_club_id  \\\n",
       "0  2321044             L1    2013   2. Matchday  2013-08-18            16   \n",
       "1  2321060             L1    2013   3. Matchday  2013-08-25            23   \n",
       "2  2321086             L1    2013   6. Matchday  2013-09-21             4   \n",
       "3  2321152             L1    2013  11. Matchday  2013-11-02            44   \n",
       "4  2321205             L1    2013  17. Matchday  2013-12-21            41   \n",
       "\n",
       "   away_club_id  home_club_goals  away_club_goals  home_club_position  ...  \\\n",
       "0            23                2                1                 1.0  ...   \n",
       "1            24                0                2                18.0  ...   \n",
       "2            16                1                1                15.0  ...   \n",
       "3            33                0                2                 7.0  ...   \n",
       "4            39                2                3                14.0  ...   \n",
       "\n",
       "                 stadium attendance          referee  \\\n",
       "0      SIGNAL IDUNA PARK    80200.0     Peter Sippel   \n",
       "1      EINTRACHT-Stadion    23325.0   Wolfgang Stark   \n",
       "2    Max-Morlock-Stadion    50000.0     Knut Kircher   \n",
       "3  Olympiastadion Berlin    69277.0      Günter Perl   \n",
       "4       Volksparkstadion    50000.0  Bastian Dankert   \n",
       "\n",
       "                                                 url  home_club_formation  \\\n",
       "0  https://www.transfermarkt.co.uk/borussia-dortm...              4-2-3-1   \n",
       "1  https://www.transfermarkt.co.uk/eintracht-brau...              4-3-2-1   \n",
       "2  https://www.transfermarkt.co.uk/1-fc-nuremberg...              4-2-3-1   \n",
       "3  https://www.transfermarkt.co.uk/hertha-bsc_fc-...              4-2-3-1   \n",
       "4  https://www.transfermarkt.co.uk/hamburger-sv_1...              4-2-3-1   \n",
       "\n",
       "  away_club_formation          home_club_name  \\\n",
       "0             4-3-2-1       Borussia Dortmund   \n",
       "1             4-2-3-1  Eintracht Braunschweig   \n",
       "2             4-2-3-1          1.FC Nuremberg   \n",
       "3             4-2-3-1              Hertha BSC   \n",
       "4       4-4-2 Diamond            Hamburger SV   \n",
       "\n",
       "                         away_club_name aggregate competition_type  \n",
       "0                Eintracht Braunschweig       2:1  domestic_league  \n",
       "1        Eintracht Frankfurt Fußball AG       0:2  domestic_league  \n",
       "2                     Borussia Dortmund       1:1  domestic_league  \n",
       "3                         FC Schalke 04       0:2  domestic_league  \n",
       "4  1. Fußball- und Sportverein Mainz 05       2:3  domestic_league  \n",
       "\n",
       "[5 rows x 23 columns]"
      ]
     },
     "execution_count": 479,
     "metadata": {},
     "output_type": "execute_result"
    }
   ],
   "source": [
    "import pandas as pd \n",
    "import numpy as np \n",
    "import seaborn as sns\n",
    "import matplotlib.pyplot as plt\n",
    "from IPython.display import display\n",
    "from sklearn.preprocessing import LabelEncoder, StandardScaler\n",
    "from sklearn.ensemble import RandomForestClassifier\n",
    "from sklearn.cluster import KMeans\n",
    "from sklearn.impute import SimpleImputer\n",
    "\n",
    "games_data = pd.read_csv(\"../1. Input/games.csv\")\n",
    "games_data.head()"
   ]
  },
  {
   "cell_type": "markdown",
   "id": "9b7f21f8",
   "metadata": {},
   "source": [
    "###### 1.2 Data Type Inspection "
   ]
  },
  {
   "cell_type": "code",
   "execution_count": 480,
   "id": "0fb81c13",
   "metadata": {
    "ExecuteTime": {
     "end_time": "2024-03-05T18:23:29.707608Z",
     "start_time": "2024-03-05T18:23:29.697850Z"
    }
   },
   "outputs": [
    {
     "data": {
      "text/plain": [
       "game_id                     int64\n",
       "competition_id             object\n",
       "season                      int64\n",
       "round                      object\n",
       "date                       object\n",
       "home_club_id                int64\n",
       "away_club_id                int64\n",
       "home_club_goals             int64\n",
       "away_club_goals             int64\n",
       "home_club_position        float64\n",
       "away_club_position        float64\n",
       "home_club_manager_name     object\n",
       "away_club_manager_name     object\n",
       "stadium                    object\n",
       "attendance                float64\n",
       "referee                    object\n",
       "url                        object\n",
       "home_club_formation        object\n",
       "away_club_formation        object\n",
       "home_club_name             object\n",
       "away_club_name             object\n",
       "aggregate                  object\n",
       "competition_type           object\n",
       "dtype: object"
      ]
     },
     "execution_count": 480,
     "metadata": {},
     "output_type": "execute_result"
    }
   ],
   "source": [
    "games_data.dtypes"
   ]
  },
  {
   "cell_type": "markdown",
   "id": "fb7ddb81",
   "metadata": {},
   "source": [
    "###### 1.3 Descriptive Statistics "
   ]
  },
  {
   "cell_type": "code",
   "execution_count": 481,
   "id": "899288fa",
   "metadata": {
    "ExecuteTime": {
     "end_time": "2024-03-05T18:23:29.965795Z",
     "start_time": "2024-03-05T18:23:29.773293Z"
    }
   },
   "outputs": [
    {
     "data": {
      "text/plain": [
       "game_id                   66296\n",
       "competition_id               43\n",
       "season                       12\n",
       "round                       116\n",
       "date                       3458\n",
       "home_club_id               2413\n",
       "away_club_id               2134\n",
       "home_club_goals              16\n",
       "away_club_goals              18\n",
       "home_club_position           21\n",
       "away_club_position           21\n",
       "home_club_manager_name     4865\n",
       "away_club_manager_name     4592\n",
       "stadium                    2299\n",
       "attendance                27492\n",
       "referee                    2369\n",
       "url                       66296\n",
       "home_club_formation          51\n",
       "away_club_formation          65\n",
       "home_club_name              426\n",
       "away_club_name              426\n",
       "aggregate                   113\n",
       "competition_type              4\n",
       "dtype: int64"
      ]
     },
     "metadata": {},
     "output_type": "display_data"
    }
   ],
   "source": [
    "#display(games_data.describe(include = \"all\"))\n",
    "display(games_data.nunique())"
   ]
  },
  {
   "cell_type": "markdown",
   "id": "2df58fa6",
   "metadata": {},
   "source": [
    "<span style=\"font-size: smaller;\">**VARIABLE DESCRIPTION** -- SUMMARY</span>  \n",
    "<span style=\"font-size: smaller;\">**game_id**: Identifies each of the 66,296 unique games.</span>  \n",
    "<span style=\"font-size: smaller;\">**competition_id**: Represents 43 distinct competitions.</span>  \n",
    "<span style=\"font-size: smaller;\">**season**: Covers 12 unique seasons of play.</span>  \n",
    "<span style=\"font-size: smaller;\">**round**: Includes 116 different rounds or stages.</span>  \n",
    "<span style=\"font-size: smaller;\">**home_club_id**: Features 2,413 unique home clubs.</span>  \n",
    "<span style=\"font-size: smaller;\">**away_club_id**: Lists 2,134 distinct away clubs.</span>  \n",
    "<span style=\"font-size: smaller;\">**home_club_position**: Shows 21 unique positions for home clubs.</span>  \n",
    "<span style=\"font-size: smaller;\">**away_club_position**: Shows 21 unique positions for away clubs.</span>  \n",
    "<span style=\"font-size: smaller;\">**home_club_manager_name**: Names 4,865 different home club managers.</span>  \n",
    "<span style=\"font-size: smaller;\">**away_club_manager_name**: Names 4,592 different away club managers.</span>  \n",
    "<span style=\"font-size: smaller;\">**stadium**: Covers 2,299 unique stadiums where games are held.</span>  \n",
    "<span style=\"font-size: smaller;\">**referee**: Includes 2,369 unique referees who officiated the games.</span>  \n",
    "<span style=\"font-size: smaller;\">**url**: Provides 66,296 unique URLs for accessing detailed game information.</span>  \n",
    "<span style=\"font-size: smaller;\">**home_club_formation**: Details 51 different formations used by home clubs.</span>  \n",
    "<span style=\"font-size: smaller;\">**away_club_formation**: Details 65 different formations used by away clubs.</span>  \n",
    "<span style=\"font-size: smaller;\">**home_club_name**: Contains 426 unique names of home clubs.</span>  \n",
    "<span style=\"font-size: smaller;\">**away_club_name**: Contains 426 unique names of away clubs.</span>  \n",
    "<span style=\"font-size: smaller;\">**competition_type**: Differentiates between 4 types of competitions.</span>"
   ]
  },
  {
   "cell_type": "markdown",
   "id": "dfff6fcd",
   "metadata": {},
   "source": [
    "###### 1.4 Select variables from games data frame and save it as games_df "
   ]
  },
  {
   "cell_type": "code",
   "execution_count": 482,
   "id": "ad9b955c",
   "metadata": {
    "ExecuteTime": {
     "end_time": "2024-03-05T18:23:30.319308Z",
     "start_time": "2024-03-05T18:23:30.268514Z"
    }
   },
   "outputs": [
    {
     "data": {
      "text/html": [
       "<div>\n",
       "<style scoped>\n",
       "    .dataframe tbody tr th:only-of-type {\n",
       "        vertical-align: middle;\n",
       "    }\n",
       "\n",
       "    .dataframe tbody tr th {\n",
       "        vertical-align: top;\n",
       "    }\n",
       "\n",
       "    .dataframe thead th {\n",
       "        text-align: right;\n",
       "    }\n",
       "</style>\n",
       "<table border=\"1\" class=\"dataframe\">\n",
       "  <thead>\n",
       "    <tr style=\"text-align: right;\">\n",
       "      <th></th>\n",
       "      <th>game_id</th>\n",
       "      <th>competition_id</th>\n",
       "      <th>season</th>\n",
       "      <th>date</th>\n",
       "      <th>home_club_id</th>\n",
       "      <th>away_club_id</th>\n",
       "      <th>home_club_goals</th>\n",
       "      <th>away_club_goals</th>\n",
       "      <th>home_club_position</th>\n",
       "      <th>away_club_position</th>\n",
       "      <th>stadium</th>\n",
       "      <th>attendance</th>\n",
       "      <th>home_club_formation</th>\n",
       "      <th>away_club_formation</th>\n",
       "      <th>home_club_name</th>\n",
       "      <th>away_club_name</th>\n",
       "      <th>competition_type</th>\n",
       "    </tr>\n",
       "  </thead>\n",
       "  <tbody>\n",
       "    <tr>\n",
       "      <th>0</th>\n",
       "      <td>2321044</td>\n",
       "      <td>L1</td>\n",
       "      <td>2013</td>\n",
       "      <td>2013-08-18</td>\n",
       "      <td>16</td>\n",
       "      <td>23</td>\n",
       "      <td>2</td>\n",
       "      <td>1</td>\n",
       "      <td>1.0</td>\n",
       "      <td>15.0</td>\n",
       "      <td>SIGNAL IDUNA PARK</td>\n",
       "      <td>80200.0</td>\n",
       "      <td>4-2-3-1</td>\n",
       "      <td>4-3-2-1</td>\n",
       "      <td>Borussia Dortmund</td>\n",
       "      <td>Eintracht Braunschweig</td>\n",
       "      <td>domestic_league</td>\n",
       "    </tr>\n",
       "    <tr>\n",
       "      <th>1</th>\n",
       "      <td>2321060</td>\n",
       "      <td>L1</td>\n",
       "      <td>2013</td>\n",
       "      <td>2013-08-25</td>\n",
       "      <td>23</td>\n",
       "      <td>24</td>\n",
       "      <td>0</td>\n",
       "      <td>2</td>\n",
       "      <td>18.0</td>\n",
       "      <td>11.0</td>\n",
       "      <td>EINTRACHT-Stadion</td>\n",
       "      <td>23325.0</td>\n",
       "      <td>4-3-2-1</td>\n",
       "      <td>4-2-3-1</td>\n",
       "      <td>Eintracht Braunschweig</td>\n",
       "      <td>Eintracht Frankfurt Fußball AG</td>\n",
       "      <td>domestic_league</td>\n",
       "    </tr>\n",
       "    <tr>\n",
       "      <th>2</th>\n",
       "      <td>2321086</td>\n",
       "      <td>L1</td>\n",
       "      <td>2013</td>\n",
       "      <td>2013-09-21</td>\n",
       "      <td>4</td>\n",
       "      <td>16</td>\n",
       "      <td>1</td>\n",
       "      <td>1</td>\n",
       "      <td>15.0</td>\n",
       "      <td>1.0</td>\n",
       "      <td>Max-Morlock-Stadion</td>\n",
       "      <td>50000.0</td>\n",
       "      <td>4-2-3-1</td>\n",
       "      <td>4-2-3-1</td>\n",
       "      <td>1.FC Nuremberg</td>\n",
       "      <td>Borussia Dortmund</td>\n",
       "      <td>domestic_league</td>\n",
       "    </tr>\n",
       "    <tr>\n",
       "      <th>3</th>\n",
       "      <td>2321152</td>\n",
       "      <td>L1</td>\n",
       "      <td>2013</td>\n",
       "      <td>2013-11-02</td>\n",
       "      <td>44</td>\n",
       "      <td>33</td>\n",
       "      <td>0</td>\n",
       "      <td>2</td>\n",
       "      <td>7.0</td>\n",
       "      <td>6.0</td>\n",
       "      <td>Olympiastadion Berlin</td>\n",
       "      <td>69277.0</td>\n",
       "      <td>4-2-3-1</td>\n",
       "      <td>4-2-3-1</td>\n",
       "      <td>Hertha BSC</td>\n",
       "      <td>FC Schalke 04</td>\n",
       "      <td>domestic_league</td>\n",
       "    </tr>\n",
       "    <tr>\n",
       "      <th>4</th>\n",
       "      <td>2321205</td>\n",
       "      <td>L1</td>\n",
       "      <td>2013</td>\n",
       "      <td>2013-12-21</td>\n",
       "      <td>41</td>\n",
       "      <td>39</td>\n",
       "      <td>2</td>\n",
       "      <td>3</td>\n",
       "      <td>14.0</td>\n",
       "      <td>9.0</td>\n",
       "      <td>Volksparkstadion</td>\n",
       "      <td>50000.0</td>\n",
       "      <td>4-2-3-1</td>\n",
       "      <td>4-4-2 Diamond</td>\n",
       "      <td>Hamburger SV</td>\n",
       "      <td>1. Fußball- und Sportverein Mainz 05</td>\n",
       "      <td>domestic_league</td>\n",
       "    </tr>\n",
       "  </tbody>\n",
       "</table>\n",
       "</div>"
      ],
      "text/plain": [
       "   game_id competition_id  season        date  home_club_id  away_club_id  \\\n",
       "0  2321044             L1    2013  2013-08-18            16            23   \n",
       "1  2321060             L1    2013  2013-08-25            23            24   \n",
       "2  2321086             L1    2013  2013-09-21             4            16   \n",
       "3  2321152             L1    2013  2013-11-02            44            33   \n",
       "4  2321205             L1    2013  2013-12-21            41            39   \n",
       "\n",
       "   home_club_goals  away_club_goals  home_club_position  away_club_position  \\\n",
       "0                2                1                 1.0                15.0   \n",
       "1                0                2                18.0                11.0   \n",
       "2                1                1                15.0                 1.0   \n",
       "3                0                2                 7.0                 6.0   \n",
       "4                2                3                14.0                 9.0   \n",
       "\n",
       "                 stadium  attendance home_club_formation away_club_formation  \\\n",
       "0      SIGNAL IDUNA PARK     80200.0             4-2-3-1             4-3-2-1   \n",
       "1      EINTRACHT-Stadion     23325.0             4-3-2-1             4-2-3-1   \n",
       "2    Max-Morlock-Stadion     50000.0             4-2-3-1             4-2-3-1   \n",
       "3  Olympiastadion Berlin     69277.0             4-2-3-1             4-2-3-1   \n",
       "4       Volksparkstadion     50000.0             4-2-3-1       4-4-2 Diamond   \n",
       "\n",
       "           home_club_name                        away_club_name  \\\n",
       "0       Borussia Dortmund                Eintracht Braunschweig   \n",
       "1  Eintracht Braunschweig        Eintracht Frankfurt Fußball AG   \n",
       "2          1.FC Nuremberg                     Borussia Dortmund   \n",
       "3              Hertha BSC                         FC Schalke 04   \n",
       "4            Hamburger SV  1. Fußball- und Sportverein Mainz 05   \n",
       "\n",
       "  competition_type  \n",
       "0  domestic_league  \n",
       "1  domestic_league  \n",
       "2  domestic_league  \n",
       "3  domestic_league  \n",
       "4  domestic_league  "
      ]
     },
     "metadata": {},
     "output_type": "display_data"
    },
    {
     "name": "stdout",
     "output_type": "stream",
     "text": [
      "The total number of observations/columns : (66296, 17)\n"
     ]
    }
   ],
   "source": [
    "games_df = games_data[[\"game_id\",\"competition_id\",\"season\",\"date\",\"home_club_id\",\"away_club_id\",\"home_club_goals\",\"away_club_goals\",\"home_club_position\",\"away_club_position\",\"stadium\",\"attendance\",\"home_club_formation\",\"away_club_formation\",\"home_club_name\",\"away_club_name\",\"competition_type\"]]\n",
    "display(games_df.head())\n",
    "print(\"The total number of observations/columns :\",games_df.shape) # (66296, 17)"
   ]
  },
  {
   "cell_type": "markdown",
   "id": "5fa5c475",
   "metadata": {},
   "source": [
    "###### 1.5 Understand the Numerical, Categorical and Binary Variables"
   ]
  },
  {
   "cell_type": "code",
   "execution_count": 483,
   "id": "b7dd3f0f",
   "metadata": {
    "ExecuteTime": {
     "end_time": "2024-03-05T18:23:30.795714Z",
     "start_time": "2024-03-05T18:23:30.688925Z"
    }
   },
   "outputs": [
    {
     "name": "stdout",
     "output_type": "stream",
     "text": [
      "Numerical Variables: Index(['game_id', 'season', 'home_club_id', 'away_club_id', 'home_club_goals',\n",
      "       'away_club_goals', 'home_club_position', 'away_club_position',\n",
      "       'attendance'],\n",
      "      dtype='object')\n",
      "Categorical Variables: Index(['competition_id', 'date', 'stadium', 'home_club_formation',\n",
      "       'away_club_formation', 'home_club_name', 'away_club_name',\n",
      "       'competition_type'],\n",
      "      dtype='object')\n",
      "Total Number Of Numerical Variables:  9\n",
      "Total Number Of Categorical Variables:  8\n"
     ]
    }
   ],
   "source": [
    "# Create lists to hold the names of each type of column\n",
    "numerical_variables = []\n",
    "categorical_variables = []\n",
    "\n",
    "# select numerical columns\n",
    "numerical_variables = games_df.select_dtypes(include='number').columns\n",
    "\n",
    "#select categorical columns\n",
    "categorical_variables =  games_df.select_dtypes(include='object').columns\n",
    "\n",
    "print(\"Numerical Variables:\", numerical_variables)\n",
    "print(\"Categorical Variables:\", categorical_variables)\n",
    "\n",
    "print(\"Total Number Of Numerical Variables: \",len(numerical_variables))\n",
    "print(\"Total Number Of Categorical Variables: \",len(categorical_variables))"
   ]
  },
  {
   "cell_type": "markdown",
   "id": "f1726e31",
   "metadata": {},
   "source": [
    "###### 1.6 Inspect Numerical Variables "
   ]
  },
  {
   "cell_type": "code",
   "execution_count": 484,
   "id": "e367d868",
   "metadata": {
    "ExecuteTime": {
     "end_time": "2024-03-05T18:23:31.622554Z",
     "start_time": "2024-03-05T18:23:31.600539Z"
    }
   },
   "outputs": [
    {
     "data": {
      "text/html": [
       "<div>\n",
       "<style scoped>\n",
       "    .dataframe tbody tr th:only-of-type {\n",
       "        vertical-align: middle;\n",
       "    }\n",
       "\n",
       "    .dataframe tbody tr th {\n",
       "        vertical-align: top;\n",
       "    }\n",
       "\n",
       "    .dataframe thead th {\n",
       "        text-align: right;\n",
       "    }\n",
       "</style>\n",
       "<table border=\"1\" class=\"dataframe\">\n",
       "  <thead>\n",
       "    <tr style=\"text-align: right;\">\n",
       "      <th></th>\n",
       "      <th>game_id</th>\n",
       "      <th>season</th>\n",
       "      <th>home_club_id</th>\n",
       "      <th>away_club_id</th>\n",
       "      <th>home_club_goals</th>\n",
       "      <th>away_club_goals</th>\n",
       "      <th>home_club_position</th>\n",
       "      <th>away_club_position</th>\n",
       "      <th>attendance</th>\n",
       "    </tr>\n",
       "  </thead>\n",
       "  <tbody>\n",
       "    <tr>\n",
       "      <th>0</th>\n",
       "      <td>2321044</td>\n",
       "      <td>2013</td>\n",
       "      <td>16</td>\n",
       "      <td>23</td>\n",
       "      <td>2</td>\n",
       "      <td>1</td>\n",
       "      <td>1.0</td>\n",
       "      <td>15.0</td>\n",
       "      <td>80200.0</td>\n",
       "    </tr>\n",
       "    <tr>\n",
       "      <th>1</th>\n",
       "      <td>2321060</td>\n",
       "      <td>2013</td>\n",
       "      <td>23</td>\n",
       "      <td>24</td>\n",
       "      <td>0</td>\n",
       "      <td>2</td>\n",
       "      <td>18.0</td>\n",
       "      <td>11.0</td>\n",
       "      <td>23325.0</td>\n",
       "    </tr>\n",
       "    <tr>\n",
       "      <th>2</th>\n",
       "      <td>2321086</td>\n",
       "      <td>2013</td>\n",
       "      <td>4</td>\n",
       "      <td>16</td>\n",
       "      <td>1</td>\n",
       "      <td>1</td>\n",
       "      <td>15.0</td>\n",
       "      <td>1.0</td>\n",
       "      <td>50000.0</td>\n",
       "    </tr>\n",
       "    <tr>\n",
       "      <th>3</th>\n",
       "      <td>2321152</td>\n",
       "      <td>2013</td>\n",
       "      <td>44</td>\n",
       "      <td>33</td>\n",
       "      <td>0</td>\n",
       "      <td>2</td>\n",
       "      <td>7.0</td>\n",
       "      <td>6.0</td>\n",
       "      <td>69277.0</td>\n",
       "    </tr>\n",
       "    <tr>\n",
       "      <th>4</th>\n",
       "      <td>2321205</td>\n",
       "      <td>2013</td>\n",
       "      <td>41</td>\n",
       "      <td>39</td>\n",
       "      <td>2</td>\n",
       "      <td>3</td>\n",
       "      <td>14.0</td>\n",
       "      <td>9.0</td>\n",
       "      <td>50000.0</td>\n",
       "    </tr>\n",
       "  </tbody>\n",
       "</table>\n",
       "</div>"
      ],
      "text/plain": [
       "   game_id  season  home_club_id  away_club_id  home_club_goals  \\\n",
       "0  2321044    2013            16            23                2   \n",
       "1  2321060    2013            23            24                0   \n",
       "2  2321086    2013             4            16                1   \n",
       "3  2321152    2013            44            33                0   \n",
       "4  2321205    2013            41            39                2   \n",
       "\n",
       "   away_club_goals  home_club_position  away_club_position  attendance  \n",
       "0                1                 1.0                15.0     80200.0  \n",
       "1                2                18.0                11.0     23325.0  \n",
       "2                1                15.0                 1.0     50000.0  \n",
       "3                2                 7.0                 6.0     69277.0  \n",
       "4                3                14.0                 9.0     50000.0  "
      ]
     },
     "execution_count": 484,
     "metadata": {},
     "output_type": "execute_result"
    }
   ],
   "source": [
    "games_df[numerical_variables].head()"
   ]
  },
  {
   "cell_type": "markdown",
   "id": "441d8927",
   "metadata": {},
   "source": [
    "###### 1.7 Structure of Numerical Variables"
   ]
  },
  {
   "cell_type": "code",
   "execution_count": 485,
   "id": "90ea9def",
   "metadata": {
    "ExecuteTime": {
     "end_time": "2024-03-05T18:23:32.236261Z",
     "start_time": "2024-03-05T18:23:32.113647Z"
    }
   },
   "outputs": [
    {
     "name": "stdout",
     "output_type": "stream",
     "text": [
      "<class 'pandas.core.frame.DataFrame'>\n",
      "RangeIndex: 66296 entries, 0 to 66295\n",
      "Data columns (total 9 columns):\n",
      " #   Column              Non-Null Count  Dtype  \n",
      "---  ------              --------------  -----  \n",
      " 0   game_id             66296 non-null  int64  \n",
      " 1   season              66296 non-null  int64  \n",
      " 2   home_club_id        66296 non-null  int64  \n",
      " 3   away_club_id        66296 non-null  int64  \n",
      " 4   home_club_goals     66296 non-null  int64  \n",
      " 5   away_club_goals     66296 non-null  int64  \n",
      " 6   home_club_position  46546 non-null  float64\n",
      " 7   away_club_position  46546 non-null  float64\n",
      " 8   attendance          56615 non-null  float64\n",
      "dtypes: float64(3), int64(6)\n",
      "memory usage: 4.6 MB\n"
     ]
    },
    {
     "data": {
      "text/plain": [
       "None"
      ]
     },
     "metadata": {},
     "output_type": "display_data"
    },
    {
     "data": {
      "text/plain": [
       "game_id               66296\n",
       "season                   12\n",
       "home_club_id           2413\n",
       "away_club_id           2134\n",
       "home_club_goals          16\n",
       "away_club_goals          18\n",
       "home_club_position       21\n",
       "away_club_position       21\n",
       "attendance            27492\n",
       "dtype: int64"
      ]
     },
     "metadata": {},
     "output_type": "display_data"
    }
   ],
   "source": [
    "games_df[numerical_variables].describe(include = \"all\")\n",
    "display(games_df[numerical_variables].info())\n",
    "display(games_df[numerical_variables].nunique())"
   ]
  },
  {
   "cell_type": "markdown",
   "id": "3ceae610",
   "metadata": {},
   "source": [
    "###### 1.8 Check Duplicate Values of Games Data Frame whether it adheres to Data Standards"
   ]
  },
  {
   "cell_type": "code",
   "execution_count": 486,
   "id": "7dbe9fc4",
   "metadata": {
    "ExecuteTime": {
     "end_time": "2024-03-05T18:23:32.511295Z",
     "start_time": "2024-03-05T18:23:32.419795Z"
    }
   },
   "outputs": [
    {
     "name": "stdout",
     "output_type": "stream",
     "text": [
      "0\n"
     ]
    }
   ],
   "source": [
    "games_df_duplicates = games_df.duplicated().sum()\n",
    "print(games_df_duplicates) # No duplicate entries found"
   ]
  },
  {
   "cell_type": "markdown",
   "id": "e2d8676a",
   "metadata": {},
   "source": [
    "###### 1.9 Subset the games data frame where the data caters only for Domestic League Competitions"
   ]
  },
  {
   "cell_type": "code",
   "execution_count": 487,
   "id": "7831a064",
   "metadata": {
    "ExecuteTime": {
     "end_time": "2024-03-05T18:23:32.923583Z",
     "start_time": "2024-03-05T18:23:32.878721Z"
    }
   },
   "outputs": [
    {
     "data": {
      "text/html": [
       "<div>\n",
       "<style scoped>\n",
       "    .dataframe tbody tr th:only-of-type {\n",
       "        vertical-align: middle;\n",
       "    }\n",
       "\n",
       "    .dataframe tbody tr th {\n",
       "        vertical-align: top;\n",
       "    }\n",
       "\n",
       "    .dataframe thead th {\n",
       "        text-align: right;\n",
       "    }\n",
       "</style>\n",
       "<table border=\"1\" class=\"dataframe\">\n",
       "  <thead>\n",
       "    <tr style=\"text-align: right;\">\n",
       "      <th></th>\n",
       "      <th>game_id</th>\n",
       "      <th>competition_id</th>\n",
       "      <th>season</th>\n",
       "      <th>date</th>\n",
       "      <th>home_club_id</th>\n",
       "      <th>away_club_id</th>\n",
       "      <th>home_club_goals</th>\n",
       "      <th>away_club_goals</th>\n",
       "      <th>home_club_position</th>\n",
       "      <th>away_club_position</th>\n",
       "      <th>stadium</th>\n",
       "      <th>attendance</th>\n",
       "      <th>home_club_formation</th>\n",
       "      <th>away_club_formation</th>\n",
       "      <th>home_club_name</th>\n",
       "      <th>away_club_name</th>\n",
       "      <th>competition_type</th>\n",
       "    </tr>\n",
       "  </thead>\n",
       "  <tbody>\n",
       "    <tr>\n",
       "      <th>0</th>\n",
       "      <td>2321044</td>\n",
       "      <td>L1</td>\n",
       "      <td>2013</td>\n",
       "      <td>2013-08-18</td>\n",
       "      <td>16</td>\n",
       "      <td>23</td>\n",
       "      <td>2</td>\n",
       "      <td>1</td>\n",
       "      <td>1.0</td>\n",
       "      <td>15.0</td>\n",
       "      <td>SIGNAL IDUNA PARK</td>\n",
       "      <td>80200.0</td>\n",
       "      <td>4-2-3-1</td>\n",
       "      <td>4-3-2-1</td>\n",
       "      <td>Borussia Dortmund</td>\n",
       "      <td>Eintracht Braunschweig</td>\n",
       "      <td>domestic_league</td>\n",
       "    </tr>\n",
       "    <tr>\n",
       "      <th>1</th>\n",
       "      <td>2321060</td>\n",
       "      <td>L1</td>\n",
       "      <td>2013</td>\n",
       "      <td>2013-08-25</td>\n",
       "      <td>23</td>\n",
       "      <td>24</td>\n",
       "      <td>0</td>\n",
       "      <td>2</td>\n",
       "      <td>18.0</td>\n",
       "      <td>11.0</td>\n",
       "      <td>EINTRACHT-Stadion</td>\n",
       "      <td>23325.0</td>\n",
       "      <td>4-3-2-1</td>\n",
       "      <td>4-2-3-1</td>\n",
       "      <td>Eintracht Braunschweig</td>\n",
       "      <td>Eintracht Frankfurt Fußball AG</td>\n",
       "      <td>domestic_league</td>\n",
       "    </tr>\n",
       "    <tr>\n",
       "      <th>2</th>\n",
       "      <td>2321086</td>\n",
       "      <td>L1</td>\n",
       "      <td>2013</td>\n",
       "      <td>2013-09-21</td>\n",
       "      <td>4</td>\n",
       "      <td>16</td>\n",
       "      <td>1</td>\n",
       "      <td>1</td>\n",
       "      <td>15.0</td>\n",
       "      <td>1.0</td>\n",
       "      <td>Max-Morlock-Stadion</td>\n",
       "      <td>50000.0</td>\n",
       "      <td>4-2-3-1</td>\n",
       "      <td>4-2-3-1</td>\n",
       "      <td>1.FC Nuremberg</td>\n",
       "      <td>Borussia Dortmund</td>\n",
       "      <td>domestic_league</td>\n",
       "    </tr>\n",
       "    <tr>\n",
       "      <th>3</th>\n",
       "      <td>2321152</td>\n",
       "      <td>L1</td>\n",
       "      <td>2013</td>\n",
       "      <td>2013-11-02</td>\n",
       "      <td>44</td>\n",
       "      <td>33</td>\n",
       "      <td>0</td>\n",
       "      <td>2</td>\n",
       "      <td>7.0</td>\n",
       "      <td>6.0</td>\n",
       "      <td>Olympiastadion Berlin</td>\n",
       "      <td>69277.0</td>\n",
       "      <td>4-2-3-1</td>\n",
       "      <td>4-2-3-1</td>\n",
       "      <td>Hertha BSC</td>\n",
       "      <td>FC Schalke 04</td>\n",
       "      <td>domestic_league</td>\n",
       "    </tr>\n",
       "    <tr>\n",
       "      <th>4</th>\n",
       "      <td>2321205</td>\n",
       "      <td>L1</td>\n",
       "      <td>2013</td>\n",
       "      <td>2013-12-21</td>\n",
       "      <td>41</td>\n",
       "      <td>39</td>\n",
       "      <td>2</td>\n",
       "      <td>3</td>\n",
       "      <td>14.0</td>\n",
       "      <td>9.0</td>\n",
       "      <td>Volksparkstadion</td>\n",
       "      <td>50000.0</td>\n",
       "      <td>4-2-3-1</td>\n",
       "      <td>4-4-2 Diamond</td>\n",
       "      <td>Hamburger SV</td>\n",
       "      <td>1. Fußball- und Sportverein Mainz 05</td>\n",
       "      <td>domestic_league</td>\n",
       "    </tr>\n",
       "  </tbody>\n",
       "</table>\n",
       "</div>"
      ],
      "text/plain": [
       "   game_id competition_id  season        date  home_club_id  away_club_id  \\\n",
       "0  2321044             L1    2013  2013-08-18            16            23   \n",
       "1  2321060             L1    2013  2013-08-25            23            24   \n",
       "2  2321086             L1    2013  2013-09-21             4            16   \n",
       "3  2321152             L1    2013  2013-11-02            44            33   \n",
       "4  2321205             L1    2013  2013-12-21            41            39   \n",
       "\n",
       "   home_club_goals  away_club_goals  home_club_position  away_club_position  \\\n",
       "0                2                1                 1.0                15.0   \n",
       "1                0                2                18.0                11.0   \n",
       "2                1                1                15.0                 1.0   \n",
       "3                0                2                 7.0                 6.0   \n",
       "4                2                3                14.0                 9.0   \n",
       "\n",
       "                 stadium  attendance home_club_formation away_club_formation  \\\n",
       "0      SIGNAL IDUNA PARK     80200.0             4-2-3-1             4-3-2-1   \n",
       "1      EINTRACHT-Stadion     23325.0             4-3-2-1             4-2-3-1   \n",
       "2    Max-Morlock-Stadion     50000.0             4-2-3-1             4-2-3-1   \n",
       "3  Olympiastadion Berlin     69277.0             4-2-3-1             4-2-3-1   \n",
       "4       Volksparkstadion     50000.0             4-2-3-1       4-4-2 Diamond   \n",
       "\n",
       "           home_club_name                        away_club_name  \\\n",
       "0       Borussia Dortmund                Eintracht Braunschweig   \n",
       "1  Eintracht Braunschweig        Eintracht Frankfurt Fußball AG   \n",
       "2          1.FC Nuremberg                     Borussia Dortmund   \n",
       "3              Hertha BSC                         FC Schalke 04   \n",
       "4            Hamburger SV  1. Fußball- und Sportverein Mainz 05   \n",
       "\n",
       "  competition_type  \n",
       "0  domestic_league  \n",
       "1  domestic_league  \n",
       "2  domestic_league  \n",
       "3  domestic_league  \n",
       "4  domestic_league  "
      ]
     },
     "metadata": {},
     "output_type": "display_data"
    },
    {
     "data": {
      "text/plain": [
       "(46552, 17)"
      ]
     },
     "metadata": {},
     "output_type": "display_data"
    }
   ],
   "source": [
    "#display(games_df[\"competition_type\"].unique()) # Returns the different competition types\n",
    "games_df = games_df[games_df[\"competition_type\"] == \"domestic_league\"]\n",
    "display(games_df.head())\n",
    "display(games_df.shape) # (46552, 17)"
   ]
  },
  {
   "cell_type": "markdown",
   "id": "b4b44a51",
   "metadata": {},
   "source": [
    "###### 1.10 Inspect Null Values for Numerical Variables"
   ]
  },
  {
   "cell_type": "code",
   "execution_count": 488,
   "id": "8826c335",
   "metadata": {
    "ExecuteTime": {
     "end_time": "2024-03-05T18:23:33.494015Z",
     "start_time": "2024-03-05T18:23:33.479065Z"
    }
   },
   "outputs": [
    {
     "data": {
      "text/plain": [
       "game_id                  0\n",
       "season                   0\n",
       "home_club_id             0\n",
       "away_club_id             0\n",
       "home_club_goals          0\n",
       "away_club_goals          0\n",
       "home_club_position       6\n",
       "away_club_position       6\n",
       "attendance            5678\n",
       "dtype: int64"
      ]
     },
     "execution_count": 488,
     "metadata": {},
     "output_type": "execute_result"
    }
   ],
   "source": [
    "numerical_nulls = games_df[numerical_variables].isnull().sum()\n",
    "numerical_nulls\n",
    "# home_club_position       6\n",
    "# away_club_position       6\n",
    "# attendance            5678 [Needs further inspection]"
   ]
  },
  {
   "cell_type": "markdown",
   "id": "e5b39619",
   "metadata": {},
   "source": [
    "###### 1.11 Inspect the Attendance Variable"
   ]
  },
  {
   "cell_type": "code",
   "execution_count": 489,
   "id": "bf2d6105",
   "metadata": {
    "ExecuteTime": {
     "end_time": "2024-03-05T18:23:34.006996Z",
     "start_time": "2024-03-05T18:23:33.986695Z"
    }
   },
   "outputs": [
    {
     "data": {
      "text/plain": [
       "count    40874.000000\n",
       "mean     19678.569726\n",
       "std      17598.554404\n",
       "min         23.000000\n",
       "25%       5976.000000\n",
       "50%      14413.500000\n",
       "75%      28301.000000\n",
       "max      99354.000000\n",
       "Name: attendance, dtype: float64"
      ]
     },
     "execution_count": 489,
     "metadata": {},
     "output_type": "execute_result"
    }
   ],
   "source": [
    "games_df[\"attendance\"].describe()"
   ]
  },
  {
   "cell_type": "markdown",
   "id": "aa95000f",
   "metadata": {},
   "source": [
    "###### 1.12 Address Null Values for Attendance Variable"
   ]
  },
  {
   "cell_type": "code",
   "execution_count": 490,
   "id": "77b0ddc6",
   "metadata": {
    "ExecuteTime": {
     "end_time": "2024-03-05T18:23:34.287826Z",
     "start_time": "2024-03-05T18:23:34.271867Z"
    }
   },
   "outputs": [
    {
     "data": {
      "text/plain": [
       "(5678, 17)"
      ]
     },
     "metadata": {},
     "output_type": "display_data"
    },
    {
     "data": {
      "text/plain": [
       "(3489, 17)"
      ]
     },
     "metadata": {},
     "output_type": "display_data"
    }
   ],
   "source": [
    "attendance_null_val = games_df[games_df[\"attendance\"].isnull()] # Inspect the df for null values\n",
    "#display(attendance_null_val)\n",
    "display(attendance_null_val.shape) # (5678, 17)\n",
    "\n",
    "# Inspect the null values attendance for season 2020\n",
    "attendance_2020_null = games_df[(games_df[\"season\"] == 2020) & (games_df[\"attendance\"].isnull())]\n",
    "#display(attendance_2020_null)\n",
    "display(attendance_2020_null.shape) # (3489, 17)\n",
    "# Through inspection it is clear that the null values for attendance predominantly lies as a result\n",
    "# of Covid-19 pandemic."
   ]
  },
  {
   "cell_type": "markdown",
   "id": "9dc2de8c",
   "metadata": {},
   "source": [
    "###### 1.13 Conditional Replacement and Mean Imputation For Addressing Null Values in Attendance Variable"
   ]
  },
  {
   "cell_type": "code",
   "execution_count": 491,
   "id": "1fb6d1b5",
   "metadata": {
    "ExecuteTime": {
     "end_time": "2024-03-05T18:23:34.425100Z",
     "start_time": "2024-03-05T18:23:34.406138Z"
    }
   },
   "outputs": [
    {
     "data": {
      "text/plain": [
       "38"
      ]
     },
     "execution_count": 491,
     "metadata": {},
     "output_type": "execute_result"
    }
   ],
   "source": [
    "# To address the null values during Covid-19 pandemic, replace the null values with zero.\n",
    "# For the remaining null values, impute the attendance column with the mean by competition_id. \n",
    "\n",
    "games_df.loc[games_df[\"season\"] == 2020,\"attendance\"] = games_df.loc[games_df[\"season\"] == 2020,\"attendance\"].fillna(value=0)\n",
    "#games_df['attendance'].isnull().sum() # 2189 Imputed the null values successfully \n",
    "\n",
    "attendance_by_competition_home_club_id = games_df.groupby(['competition_id', 'home_club_id'])['attendance'].transform('mean')\n",
    "#display(attendance_by_competition)\n",
    "\n",
    "# Impute the mean of attendance by competition_id\n",
    "games_df['attendance'] = games_df['attendance'].fillna(attendance_by_competition_home_club_id)\n",
    "games_df['attendance'].isnull().sum() # Imputed the null values successfully"
   ]
  },
  {
   "cell_type": "markdown",
   "id": "40a84710",
   "metadata": {},
   "source": [
    "###### 1.14 Inspect the Home Club Position and Away Club Position Variable"
   ]
  },
  {
   "cell_type": "code",
   "execution_count": 492,
   "id": "242b14ca",
   "metadata": {
    "ExecuteTime": {
     "end_time": "2024-03-05T18:23:35.028511Z",
     "start_time": "2024-03-05T18:23:34.998055Z"
    }
   },
   "outputs": [
    {
     "data": {
      "text/plain": [
       "(46552, 17)"
      ]
     },
     "metadata": {},
     "output_type": "display_data"
    },
    {
     "name": "stdout",
     "output_type": "stream",
     "text": [
      "game_id                0\n",
      "season                 0\n",
      "home_club_id           0\n",
      "away_club_id           0\n",
      "home_club_goals        0\n",
      "away_club_goals        0\n",
      "home_club_position     0\n",
      "away_club_position     0\n",
      "attendance            38\n",
      "dtype: int64\n",
      "(46546, 9)\n"
     ]
    }
   ],
   "source": [
    "# Inspect the games data frame before the variable of interest\n",
    "display(games_df.shape)# No rows or columns have been removed after the last imputation (46552, 17)\n",
    "home_club_position_nulls = games_df[games_df[\"home_club_position\"].isnull()] # Inspect the data frame\n",
    "# display(home_club_position_nulls.shape) # (6, 17)\n",
    "away_club_position_nulls = games_df[games_df[\"away_club_position\"].isnull()] # Inspect the data frame\n",
    "#display(away_club_position_nulls) # (6, 17) \n",
    "# Basically the null values are common for both home and away club positions.\n",
    "\n",
    "# Mode of Action : Drop the rows for home or away club positions to eliminate null values\n",
    "games_df.dropna(subset=['home_club_position'],inplace=True)\n",
    "# Check the null values for the numerical variables after rows have been dropped\n",
    "print(games_df[numerical_variables].isnull().sum())\n",
    "print(games_df[numerical_variables].shape) # (46546, 9) \n",
    "\n",
    "# 6 null values removed\n",
    "# All the null values have been taken care of, the next part is to examine the extreme values."
   ]
  },
  {
   "cell_type": "markdown",
   "id": "e97375f4",
   "metadata": {},
   "source": [
    "###### 1.15 Extreme Value Detection for Numerical Variables "
   ]
  },
  {
   "cell_type": "code",
   "execution_count": 493,
   "id": "a5c7e039",
   "metadata": {},
   "outputs": [
    {
     "name": "stdout",
     "output_type": "stream",
     "text": [
      "       game_id competition_id  season        date  home_club_id  away_club_id  \\\n",
      "6639   3902066           UKR1    2022  2022-08-29         83678         49364   \n",
      "6644   4070618           UKR1    2022  2023-05-29         83678         61825   \n",
      "6857   4070627           UKR1    2022  2023-06-04         83678          6992   \n",
      "6913   4120608           UKR1    2023  2023-09-02         53646         39097   \n",
      "14104  4120626           UKR1    2023  2023-09-23         53646         61825   \n",
      "14105  4120645           UKR1    2023  2023-10-06         53646           338   \n",
      "17480  4050043           UKR1    2022  2023-04-15         83678         26459   \n",
      "18325  4120581           UKR1    2023  2023-08-04         39097           338   \n",
      "21482  4120590           UKR1    2023  2023-08-12         53646         48726   \n",
      "21483  4120622           UKR1    2023  2023-09-17         63007         48726   \n",
      "21550  4120699           UKR1    2023  2023-12-08         53646         60551   \n",
      "24853  3902093           UKR1    2022  2022-10-01         83678           660   \n",
      "25144  4120642           UKR1    2023  2023-10-07         63007         18303   \n",
      "26632  4036084           UKR1    2022  2023-04-01         83678         48332   \n",
      "27776  4120601           UKR1    2023  2023-08-28         39097          3592   \n",
      "34378  3953961           UKR1    2022  2022-11-14         83678          3592   \n",
      "34597  4062326           UKR1    2022  2023-05-07         83678         18105   \n",
      "34621  4120630           UKR1    2023  2023-09-23         63007           338   \n",
      "38951  4120640           UKR1    2023  2023-10-08         39097         55686   \n",
      "42082  4120688           UKR1    2023  2023-12-01         53646         26459   \n",
      "42506  4120656           UKR1    2023  2023-10-29         63007         39097   \n",
      "45733  3947823           UKR1    2022  2022-11-08         83678         55686   \n",
      "45736  3975249           UKR1    2022  2023-03-05         83678         48726   \n",
      "45748  4062343           UKR1    2022  2023-05-14         83678         10690   \n",
      "45928  4120592           UKR1    2023  2023-08-18         63007         53646   \n",
      "49425  3909968           UKR1    2022  2022-10-15         83678          2740   \n",
      "49435  3944830           UKR1    2022  2022-10-23         83678         60551   \n",
      "50259  4120652           UKR1    2023  2023-10-20         39097         10690   \n",
      "50278  4120624           UKR1    2023  2023-09-22         39097         26459   \n",
      "53274  4056026           UKR1    2022  2023-04-28         83678           338   \n",
      "56939  4120665           UKR1    2023  2023-11-04         63007         48332   \n",
      "56987  4104310           UKR1    2023  2023-07-28         39097         48332   \n",
      "59054  4031359           UKR1    2022  2023-03-17         83678         18303   \n",
      "59843  4120675           UKR1    2023  2023-11-11         39097          2740   \n",
      "62928  4120672           UKR1    2023  2023-11-11         53646         55686   \n",
      "63116  4120666           UKR1    2023  2023-11-06         53646          3592   \n",
      "63131  4120600           UKR1    2023  2023-08-26         63007         55686   \n",
      "63390  4104311           UKR1    2023  2023-07-30         63007          6992   \n",
      "\n",
      "       home_club_goals  away_club_goals  home_club_position  \\\n",
      "6639                 1                1                 6.0   \n",
      "6644                 1                2                15.0   \n",
      "6857                 0                3                15.0   \n",
      "6913                 2                0                 2.0   \n",
      "14104                2                1                 4.0   \n",
      "14105                3                2                 3.0   \n",
      "17480                5                5                14.0   \n",
      "18325                2                4                11.0   \n",
      "21482                0                1                 9.0   \n",
      "21483                2                1                12.0   \n",
      "21550                1                1                 3.0   \n",
      "24853                1                6                 9.0   \n",
      "25144                0                0                12.0   \n",
      "26632                0                0                14.0   \n",
      "27776                0                0                13.0   \n",
      "34378                0                1                11.0   \n",
      "34597                1                0                15.0   \n",
      "34621                2                4                12.0   \n",
      "38951                1                0                10.0   \n",
      "42082                1                1                 3.0   \n",
      "42506                3                0                10.0   \n",
      "45733                0                0                 8.0   \n",
      "45736                1                2                13.0   \n",
      "45748                0                5                15.0   \n",
      "45928                1                2                12.0   \n",
      "49425                3                2                 3.0   \n",
      "49435                0                1                 8.0   \n",
      "50259                2                4                10.0   \n",
      "50278                0                0                13.0   \n",
      "53274                1                3                15.0   \n",
      "56939                1                1                11.0   \n",
      "56987                0                0                 8.0   \n",
      "59054                0                0                15.0   \n",
      "59843                0                1                12.0   \n",
      "62928                2                1                 2.0   \n",
      "63116                1                1                 3.0   \n",
      "63131                0                1                14.0   \n",
      "63390                0                2                15.0   \n",
      "\n",
      "       away_club_position                      stadium  attendance  \\\n",
      "6639                 11.0                     Avangard         NaN   \n",
      "6644                  8.0                     Avangard         NaN   \n",
      "6857                 10.0  Stadion Chornomorets (2011)         NaN   \n",
      "6913                 13.0         Tsentralnyi Polissya         NaN   \n",
      "14104                16.0         Tsentralnyi Polissya         NaN   \n",
      "14105                 4.0         Tsentralnyi Polissya         NaN   \n",
      "17480                12.0                     Avangard         NaN   \n",
      "18325                 1.0                 Obolon-Arena         NaN   \n",
      "21482                 2.0         Tsentralnyi Polissya         NaN   \n",
      "21483                 7.0               Cherkasy-Arena         NaN   \n",
      "21550                 2.0         Tsentralnyi Polissya         NaN   \n",
      "24853                 2.0                   Arena Lviv         NaN   \n",
      "25144                13.0               Cherkasy-Arena         NaN   \n",
      "26632                 8.0                     Avangard         NaN   \n",
      "27776                 7.0                 Obolon-Arena         NaN   \n",
      "34378                 9.0                     Avangard         NaN   \n",
      "34597                16.0                     Avangard         NaN   \n",
      "34621                 3.0               Cherkasy-Arena         NaN   \n",
      "38951                11.0                 Obolon-Arena         NaN   \n",
      "42082                14.0         Tsentralnyi Polissya         NaN   \n",
      "42506                12.0               Cherkasy-Arena         NaN   \n",
      "45733                11.0                     Avangard         NaN   \n",
      "45736                11.0                     Avangard         NaN   \n",
      "45748                 3.0                     Avangard         NaN   \n",
      "45928                 9.0               Cherkasy-Arena         NaN   \n",
      "49425                10.0                     Avangard         NaN   \n",
      "49435                 2.0                     Avangard         NaN   \n",
      "50259                12.0                 Obolon-Arena         NaN   \n",
      "50278                15.0                 Obolon-Arena         NaN   \n",
      "53274                 4.0                     Avangard         NaN   \n",
      "56939                 8.0               Cherkasy-Arena         NaN   \n",
      "56987                 9.0                 Obolon-Arena         NaN   \n",
      "59054                 5.0                     Avangard         NaN   \n",
      "59843                 9.0                 Obolon-Arena         NaN   \n",
      "62928                11.0         Tsentralnyi Polissya         NaN   \n",
      "63116                 1.0         Tsentralnyi Polissya         NaN   \n",
      "63131                10.0               Cherkasy-Arena         NaN   \n",
      "63390                 2.0               Cherkasy-Arena         NaN   \n",
      "\n",
      "      home_club_formation away_club_formation        home_club_name  \\\n",
      "6639              4-1-4-1             4-1-4-1      Metalist Kharkiv   \n",
      "6644              3-4-2-1               5-4-1      Metalist Kharkiv   \n",
      "6857              3-4-2-1     4-3-3 Attacking      Metalist Kharkiv   \n",
      "6913              4-2-3-1             4-2-3-1  FK Polissya Zhytomyr   \n",
      "14104             4-2-3-1       5-4-1 Diamond  FK Polissya Zhytomyr   \n",
      "14105             4-2-3-1             4-2-3-1  FK Polissya Zhytomyr   \n",
      "17480     4-3-3 Attacking     4-3-3 Attacking      Metalist Kharkiv   \n",
      "18325               3-5-2             4-2-3-1        FK Obolon Kyiv   \n",
      "21482             4-2-3-1             4-1-4-1  FK Polissya Zhytomyr   \n",
      "21483             4-2-3-1             4-2-3-1          LNZ Cherkasy   \n",
      "21550             4-2-3-1             4-2-3-1  FK Polissya Zhytomyr   \n",
      "24853             4-2-3-1             4-1-4-1      Metalist Kharkiv   \n",
      "25144               3-4-3     4-3-3 Attacking          LNZ Cherkasy   \n",
      "26632     4-3-3 Attacking             4-2-3-1      Metalist Kharkiv   \n",
      "27776               3-5-2     4-3-3 Attacking        FK Obolon Kyiv   \n",
      "34378             4-1-4-1             4-2-3-1      Metalist Kharkiv   \n",
      "34597             4-1-4-1             4-2-3-1      Metalist Kharkiv   \n",
      "34621               5-4-1             4-2-3-1          LNZ Cherkasy   \n",
      "38951          3-5-2 flat      4-4-2 double 6        FK Obolon Kyiv   \n",
      "42082             4-2-3-1             4-2-3-1  FK Polissya Zhytomyr   \n",
      "42506             4-2-3-1             4-2-3-1          LNZ Cherkasy   \n",
      "45733             4-2-3-1             4-2-3-1      Metalist Kharkiv   \n",
      "45736     4-3-3 Attacking             4-2-3-1      Metalist Kharkiv   \n",
      "45748             4-2-3-1             4-2-3-1      Metalist Kharkiv   \n",
      "45928     4-3-3 Attacking             4-1-4-1          LNZ Cherkasy   \n",
      "49425             4-1-4-1               4-4-2      Metalist Kharkiv   \n",
      "49435     4-3-3 Attacking             4-2-3-1      Metalist Kharkiv   \n",
      "50259               5-3-2     4-3-3 Attacking        FK Obolon Kyiv   \n",
      "50278      4-4-2 double 6             4-2-3-1        FK Obolon Kyiv   \n",
      "53274               5-4-1     4-3-3 Attacking      Metalist Kharkiv   \n",
      "56939               3-4-3               3-4-3          LNZ Cherkasy   \n",
      "56987             4-2-3-1     4-3-3 Attacking        FK Obolon Kyiv   \n",
      "59054             4-2-3-1             4-1-4-1      Metalist Kharkiv   \n",
      "59843               3-5-2             4-2-3-1        FK Obolon Kyiv   \n",
      "62928             4-1-4-1     4-3-3 Attacking  FK Polissya Zhytomyr   \n",
      "63116     4-3-3 Attacking             4-2-3-1  FK Polissya Zhytomyr   \n",
      "63131             4-2-3-1             4-1-4-1          LNZ Cherkasy   \n",
      "63390     4-3-3 Attacking     4-3-3 Attacking          LNZ Cherkasy   \n",
      "\n",
      "                     away_club_name competition_type  \n",
      "6639               Ingulets Petrove  domestic_league  \n",
      "6644                       FK Minaj  domestic_league  \n",
      "6857     ZAO FK Chornomorets Odessa  domestic_league  \n",
      "6913                 FK Obolon Kyiv  domestic_league  \n",
      "14104                      FK Minaj  domestic_league  \n",
      "14105    Futbolniy Klub Dynamo Kyiv  domestic_league  \n",
      "17480                NK Veres Rivne  domestic_league  \n",
      "18325    Futbolniy Klub Dynamo Kyiv  domestic_league  \n",
      "21482                  FC Rukh Lviv  domestic_league  \n",
      "21483                  FC Rukh Lviv  domestic_league  \n",
      "21550           Sport Klub Dnipro-1  domestic_league  \n",
      "24853           FC Shakhtar Donetsk  domestic_league  \n",
      "25144               FK Oleksandriya  domestic_league  \n",
      "26632            FK Kolos Kovalivka  domestic_league  \n",
      "27776         FK Kryvbas Kryvyi Rig  domestic_league  \n",
      "34378         FK Kryvbas Kryvyi Rig  domestic_league  \n",
      "34597                      PFK Lviv  domestic_league  \n",
      "34621    Futbolniy Klub Dynamo Kyiv  domestic_league  \n",
      "38951  TOV FK Metalist 1925 Kharkiv  domestic_league  \n",
      "42082                NK Veres Rivne  domestic_league  \n",
      "42506                FK Obolon Kyiv  domestic_league  \n",
      "45733  TOV FK Metalist 1925 Kharkiv  domestic_league  \n",
      "45736                  FC Rukh Lviv  domestic_league  \n",
      "45748              FK Zarya Lugansk  domestic_league  \n",
      "45928          FK Polissya Zhytomyr  domestic_league  \n",
      "49425               Vorskla Poltava  domestic_league  \n",
      "49435           Sport Klub Dnipro-1  domestic_league  \n",
      "50259              FK Zarya Lugansk  domestic_league  \n",
      "50278                NK Veres Rivne  domestic_league  \n",
      "53274    Futbolniy Klub Dynamo Kyiv  domestic_league  \n",
      "56939            FK Kolos Kovalivka  domestic_league  \n",
      "56987            FK Kolos Kovalivka  domestic_league  \n",
      "59054               FK Oleksandriya  domestic_league  \n",
      "59843               Vorskla Poltava  domestic_league  \n",
      "62928  TOV FK Metalist 1925 Kharkiv  domestic_league  \n",
      "63116         FK Kryvbas Kryvyi Rig  domestic_league  \n",
      "63131  TOV FK Metalist 1925 Kharkiv  domestic_league  \n",
      "63390    ZAO FK Chornomorets Odessa  domestic_league  \n"
     ]
    }
   ],
   "source": [
    "print(games_df[games_df[\"attendance\"].isnull()])"
   ]
  },
  {
   "cell_type": "code",
   "execution_count": 494,
   "id": "1cca3ffd",
   "metadata": {},
   "outputs": [],
   "source": [
    "# zero imputation to the missing attendace in Ukraine stadiums that correspond to 2023-2024, potentially due to war in the Ukraine\n",
    "games_df.loc[games_df[\"competition_id\"] == 'UKR1',\"attendance\"] = games_df.loc[games_df[\"competition_id\"] == 'UKR1',\"attendance\"].fillna(value=0)"
   ]
  },
  {
   "cell_type": "code",
   "execution_count": 495,
   "id": "359dc741",
   "metadata": {
    "ExecuteTime": {
     "end_time": "2024-03-05T18:23:36.005275Z",
     "start_time": "2024-03-05T18:23:35.272843Z"
    }
   },
   "outputs": [
    {
     "name": "stdout",
     "output_type": "stream",
     "text": [
      "The number of games that have attendance greater than the third quartile : 11637\n"
     ]
    },
    {
     "data": {
      "image/png": "[encoded data removed]",
      "text/plain": [
       "<Figure size 640x480 with 1 Axes>"
      ]
     },
     "metadata": {},
     "output_type": "display_data"
    },
    {
     "data": {
      "text/plain": [
       "<Figure size 640x480 with 0 Axes>"
      ]
     },
     "metadata": {},
     "output_type": "display_data"
    }
   ],
   "source": [
    "games_df[numerical_variables].describe(include = \"all\")\n",
    "\n",
    "# Inspect the home_club_goals, away_club_goals and attendance variable\n",
    "sns.boxplot(data = games_df[['home_club_goals','away_club_goals','attendance']])\n",
    "\n",
    "Q3_attendance = games_df['attendance'].describe()['75%']\n",
    "# Even though that there are quiet significant amount of outliers for the attendance variable there might be stadiums that have higher seating capacity within the stadiums.\n",
    "attendance_greater_Q3 = len(games_df[games_df[\"attendance\"] > Q3_attendance])\n",
    "print(f'The number of games that have attendance greater than the third quartile : {attendance_greater_Q3}')\n",
    "plt.show()\n",
    "plt.clf()"
   ]
  },
  {
   "cell_type": "markdown",
   "id": "e2193407",
   "metadata": {},
   "source": [
    "###### 1.16 Data Type Conversion : Home Club Positions, Away Club Positions and Attendance Variable"
   ]
  },
  {
   "cell_type": "code",
   "execution_count": 496,
   "id": "0e6aa52f",
   "metadata": {
    "ExecuteTime": {
     "end_time": "2024-03-05T18:23:36.026996Z",
     "start_time": "2024-03-05T18:23:36.007338Z"
    }
   },
   "outputs": [
    {
     "data": {
      "text/plain": [
       "game_id                 int64\n",
       "season                  int64\n",
       "home_club_id            int64\n",
       "away_club_id            int64\n",
       "home_club_goals         int64\n",
       "away_club_goals         int64\n",
       "home_club_position    float64\n",
       "away_club_position    float64\n",
       "attendance            float64\n",
       "dtype: object"
      ]
     },
     "metadata": {},
     "output_type": "display_data"
    },
    {
     "data": {
      "text/plain": [
       "game_id               int64\n",
       "season                int64\n",
       "home_club_id          int64\n",
       "away_club_id          int64\n",
       "home_club_goals       int64\n",
       "away_club_goals       int64\n",
       "home_club_position    int64\n",
       "away_club_position    int64\n",
       "attendance            int64\n",
       "dtype: object"
      ]
     },
     "metadata": {},
     "output_type": "display_data"
    }
   ],
   "source": [
    "# Check the data types before conversion :\n",
    "display(games_df[numerical_variables].dtypes)\n",
    "\n",
    "# Perform the conversion :\n",
    "games_df[\"home_club_position\"] = games_df[\"home_club_position\"].astype(\"int64\")\n",
    "games_df[\"away_club_position\"] = games_df[\"away_club_position\"].astype(\"int64\")\n",
    "games_df[\"attendance\"] = games_df[\"attendance\"].astype(\"int64\")\n",
    "\n",
    "# Confirm the data types after conversion :\n",
    "display(games_df[numerical_variables].dtypes)"
   ]
  },
  {
   "cell_type": "markdown",
   "id": "05539fdc",
   "metadata": {},
   "source": [
    "###### 1.17 Examine Categorical Variables [Descriptive Statistics / Conversions] "
   ]
  },
  {
   "cell_type": "code",
   "execution_count": 497,
   "id": "5a35cd11",
   "metadata": {
    "ExecuteTime": {
     "end_time": "2024-03-05T18:23:36.178505Z",
     "start_time": "2024-03-05T18:23:36.029557Z"
    }
   },
   "outputs": [
    {
     "name": "stdout",
     "output_type": "stream",
     "text": [
      "competition_id         object\n",
      "date                   object\n",
      "stadium                object\n",
      "home_club_formation    object\n",
      "away_club_formation    object\n",
      "home_club_name         object\n",
      "away_club_name         object\n",
      "competition_type       object\n",
      "dtype: object\n",
      "competition_id                 object\n",
      "date                   datetime64[ns]\n",
      "stadium                        object\n",
      "home_club_formation            object\n",
      "away_club_formation            object\n",
      "home_club_name                 object\n",
      "away_club_name                 object\n",
      "competition_type               object\n",
      "dtype: object\n",
      "competition_id           14\n",
      "date                   2585\n",
      "stadium                 510\n",
      "home_club_formation      36\n",
      "away_club_formation      35\n",
      "home_club_name          426\n",
      "away_club_name          426\n",
      "competition_type          1\n",
      "dtype: int64\n"
     ]
    }
   ],
   "source": [
    "games_df[categorical_variables].describe(include = \"all\") #,datetime_is_numeric = True\n",
    "print(games_df[categorical_variables].dtypes)\n",
    "\n",
    "# Convert the date [object/string] to the date time format\n",
    "games_df['date'] = pd.to_datetime(games_df['date'])\n",
    "print(games_df[categorical_variables].dtypes)\n",
    "\n",
    "# Understanding the categorical variables through counts/frequencies\n",
    "print(games_df[categorical_variables].nunique())\n",
    "# 510 different stadiums\n",
    "# 35 - 36 home/away club formations\n",
    "# 426 home/away clubs playing in domestic league competitions"
   ]
  },
  {
   "cell_type": "markdown",
   "id": "0ce709b2",
   "metadata": {},
   "source": [
    "###### 1.18 Examine Null Values Across Categorical Variables"
   ]
  },
  {
   "cell_type": "code",
   "execution_count": 498,
   "id": "ff6b622a",
   "metadata": {
    "ExecuteTime": {
     "end_time": "2024-03-05T18:23:36.218049Z",
     "start_time": "2024-03-05T18:23:36.182514Z"
    }
   },
   "outputs": [
    {
     "data": {
      "text/plain": [
       "competition_id            0\n",
       "date                      0\n",
       "stadium                  38\n",
       "home_club_formation    4162\n",
       "away_club_formation    4161\n",
       "home_club_name            0\n",
       "away_club_name            0\n",
       "competition_type          0\n",
       "dtype: int64"
      ]
     },
     "metadata": {},
     "output_type": "display_data"
    }
   ],
   "source": [
    "display(games_df[categorical_variables].isnull().sum())"
   ]
  },
  {
   "cell_type": "markdown",
   "id": "a41d4a6c",
   "metadata": {},
   "source": [
    "###### 1.19 Address Null Values For Stadium Variable"
   ]
  },
  {
   "cell_type": "code",
   "execution_count": 499,
   "id": "b869412f",
   "metadata": {
    "ExecuteTime": {
     "end_time": "2024-03-05T18:23:36.314720Z",
     "start_time": "2024-03-05T18:23:36.221064Z"
    }
   },
   "outputs": [
    {
     "data": {
      "text/plain": [
       "competition_id            0\n",
       "date                      0\n",
       "stadium                   0\n",
       "home_club_formation    4162\n",
       "away_club_formation    4161\n",
       "home_club_name            0\n",
       "away_club_name            0\n",
       "competition_type          0\n",
       "dtype: int64"
      ]
     },
     "metadata": {},
     "output_type": "display_data"
    }
   ],
   "source": [
    "# Conduct initial inspection where the null values have occurred\n",
    "# Replace/Impute the values wherever necessary\n",
    "\n",
    "# Major Stadiums For Domestic Leagues In Turkey and Russia For Null Value Imputation\n",
    "\n",
    "# Beşiktaş Jimnastik Kulübü - BJK İnönü Stadium\n",
    "# FK Spartak Moskva - Luzhniki Stadium \n",
    "# SC Olhanense - Estádio José Arcanjo  \n",
    "# PFK CSKA Moskva - Arena Khimki \n",
    "# Elazigspor - Elazığ Atatürk\n",
    "\n",
    "stadium_null_vals = games_df[games_df[\"stadium\"].isnull()]\n",
    "\n",
    "# Examining Stadium Variable\n",
    "#display(stadium_null_vals[\"home_club_name\"].unique())\n",
    "#display(games_df[games_df['home_club_name'] == 'Beşiktaş Jimnastik Kulübü']['stadium'].value_counts())\n",
    "#display(games_df[games_df['home_club_name'] == 'FK Spartak Moskva']['stadium'].value_counts())\n",
    "#display(games_df[games_df['home_club_name'] == 'SC Olhanense']['stadium'].value_counts())\n",
    "#display(games_df[games_df['home_club_name'] == 'PFK CSKA Moskva']['stadium'].value_counts())\n",
    "#display(games_df[games_df['home_club_name'] == 'Elazigspor']['stadium'].value_counts())\n",
    "\n",
    "# Cross Validation Code\n",
    "#display(stadium_null_vals[(stadium_null_vals[\"stadium\"].isnull()) & \n",
    "#                          (stadium_null_vals[\"home_club_name\"] == \"FK Spartak Moskva\")])\n",
    "\n",
    "# Step-Wise Stadium Value Imputation \n",
    "games_df.loc[(games_df[\"home_club_name\"] == \"Beşiktaş Jimnastik Kulübü\") & \n",
    "             (games_df[\"stadium\"].isnull()), \"stadium\"] = \"BJK İnönü Stadium\"\n",
    "#display(games_df[\"stadium\"].isnull().sum()) # 17 Null values replaced 21 Remaining\n",
    "games_df.loc[(games_df[\"home_club_name\"] == \"FK Spartak Moskva\") & \n",
    "             (games_df[\"stadium\"].isnull()), \"stadium\"] = \"Luzhniki Stadium\"\n",
    "#display(games_df[\"stadium\"].isnull().sum()) # 13 Null values replaced 8 Remaining\n",
    "games_df.loc[(games_df[\"home_club_name\"] == \"SC Olhanense\") & \n",
    "             (games_df[\"stadium\"].isnull()), \"stadium\"] = \"Estádio José Arcanjo\"\n",
    "#display(games_df[\"stadium\"].isnull().sum()) # 3 Null values replaced 5 Remaining\n",
    "games_df.loc[(games_df[\"home_club_name\"] == \"PFK CSKA Moskva\") & \n",
    "             (games_df[\"stadium\"].isnull()), \"stadium\"] = \"Arena Khimki\"\n",
    "#display(games_df[\"stadium\"].isnull().sum()) # 4 Null values replaced 1 Remaining\n",
    "games_df.loc[(games_df[\"home_club_name\"] == \"Elazigspor\") & \n",
    "             (games_df[\"stadium\"].isnull()), \"stadium\"] = \"Elazığ Atatürk\"\n",
    "#display(games_df[\"stadium\"].isnull().sum()) # 1 Null value replaced 0 Remaining\n",
    "\n",
    "# Checking whether the values have been imputed successfully\n",
    "display(games_df[categorical_variables].isnull().sum())"
   ]
  },
  {
   "cell_type": "markdown",
   "id": "2e215573",
   "metadata": {},
   "source": [
    "###### 1.20 Address Null Values For Home and Away Club Formation Variable"
   ]
  },
  {
   "cell_type": "code",
   "execution_count": 500,
   "id": "50a9efc9",
   "metadata": {
    "ExecuteTime": {
     "end_time": "2024-03-05T18:23:36.393811Z",
     "start_time": "2024-03-05T18:23:36.317738Z"
    }
   },
   "outputs": [
    {
     "data": {
      "text/plain": [
       "array(['4-2-3-1', '4-3-2-1', '4-3-3 Defending', '4-3-3 Attacking',\n",
       "       '4-4-2 double 6', '4-1-4-1', '4-3-1-2', '3-5-2 flat', '5-4-1',\n",
       "       '4-4-1-1', '4-4-2', '3-4-2-1', '5-3-2', '3-5-2', '3-6-1',\n",
       "       '4-4-2 Diamond', '4-3-3', '4-5-1', '3-4-3', nan, '5-4-1 Diamond',\n",
       "       '2-5-3', '3-4-1-2', '3-5-2 Attacking', '4-5-1 flat', '3-1-4-2',\n",
       "       '5-2-3', '4-1-3-2', '3-4-3 Diamond', '3-3-3-1', '4-2-4', '4-6-0',\n",
       "       '6-2-2', '6-1-3', '2-4-4', '2-7-1', '3-3-4'], dtype=object)"
      ]
     },
     "metadata": {},
     "output_type": "display_data"
    },
    {
     "data": {
      "text/html": [
       "<div>\n",
       "<style scoped>\n",
       "    .dataframe tbody tr th:only-of-type {\n",
       "        vertical-align: middle;\n",
       "    }\n",
       "\n",
       "    .dataframe tbody tr th {\n",
       "        vertical-align: top;\n",
       "    }\n",
       "\n",
       "    .dataframe thead th {\n",
       "        text-align: right;\n",
       "    }\n",
       "</style>\n",
       "<table border=\"1\" class=\"dataframe\">\n",
       "  <thead>\n",
       "    <tr style=\"text-align: right;\">\n",
       "      <th></th>\n",
       "      <th>game_id</th>\n",
       "      <th>competition_id</th>\n",
       "      <th>season</th>\n",
       "      <th>date</th>\n",
       "      <th>home_club_id</th>\n",
       "      <th>away_club_id</th>\n",
       "      <th>home_club_goals</th>\n",
       "      <th>away_club_goals</th>\n",
       "      <th>home_club_position</th>\n",
       "      <th>away_club_position</th>\n",
       "      <th>stadium</th>\n",
       "      <th>attendance</th>\n",
       "      <th>home_club_formation</th>\n",
       "      <th>away_club_formation</th>\n",
       "      <th>home_club_name</th>\n",
       "      <th>away_club_name</th>\n",
       "      <th>competition_type</th>\n",
       "    </tr>\n",
       "  </thead>\n",
       "  <tbody>\n",
       "    <tr>\n",
       "      <th>235</th>\n",
       "      <td>2518602</td>\n",
       "      <td>GR1</td>\n",
       "      <td>2014</td>\n",
       "      <td>2015-02-14</td>\n",
       "      <td>7185</td>\n",
       "      <td>5572</td>\n",
       "      <td>3</td>\n",
       "      <td>0</td>\n",
       "      <td>12</td>\n",
       "      <td>18</td>\n",
       "      <td>Stadio Komotinis OPAP</td>\n",
       "      <td>1463</td>\n",
       "      <td>NaN</td>\n",
       "      <td>NaN</td>\n",
       "      <td>Panthrakikos Komotini</td>\n",
       "      <td>Niki Volou</td>\n",
       "      <td>domestic_league</td>\n",
       "    </tr>\n",
       "    <tr>\n",
       "      <th>579</th>\n",
       "      <td>2888455</td>\n",
       "      <td>UKR1</td>\n",
       "      <td>2017</td>\n",
       "      <td>2017-08-26</td>\n",
       "      <td>6993</td>\n",
       "      <td>338</td>\n",
       "      <td>3</td>\n",
       "      <td>0</td>\n",
       "      <td>5</td>\n",
       "      <td>2</td>\n",
       "      <td>Stadion im. Volodymyra Boyko</td>\n",
       "      <td>3680</td>\n",
       "      <td>NaN</td>\n",
       "      <td>NaN</td>\n",
       "      <td>FK Mariupol</td>\n",
       "      <td>Futbolniy Klub Dynamo Kyiv</td>\n",
       "      <td>domestic_league</td>\n",
       "    </tr>\n",
       "    <tr>\n",
       "      <th>679</th>\n",
       "      <td>2453109</td>\n",
       "      <td>UKR1</td>\n",
       "      <td>2013</td>\n",
       "      <td>2014-05-17</td>\n",
       "      <td>16245</td>\n",
       "      <td>6996</td>\n",
       "      <td>3</td>\n",
       "      <td>0</td>\n",
       "      <td>9</td>\n",
       "      <td>12</td>\n",
       "      <td>SK Sevastopol</td>\n",
       "      <td>5072</td>\n",
       "      <td>NaN</td>\n",
       "      <td>NaN</td>\n",
       "      <td>FK Sevastopol (- 2014)</td>\n",
       "      <td>Goverla Uzhgorod (- 2016)</td>\n",
       "      <td>domestic_league</td>\n",
       "    </tr>\n",
       "    <tr>\n",
       "      <th>951</th>\n",
       "      <td>2222597</td>\n",
       "      <td>RU1</td>\n",
       "      <td>2012</td>\n",
       "      <td>2012-08-25</td>\n",
       "      <td>3725</td>\n",
       "      <td>232</td>\n",
       "      <td>2</td>\n",
       "      <td>1</td>\n",
       "      <td>2</td>\n",
       "      <td>5</td>\n",
       "      <td>Akhmat-Arena</td>\n",
       "      <td>21700</td>\n",
       "      <td>NaN</td>\n",
       "      <td>NaN</td>\n",
       "      <td>RFK Akhmat Grozny</td>\n",
       "      <td>FK Spartak Moskva</td>\n",
       "      <td>domestic_league</td>\n",
       "    </tr>\n",
       "    <tr>\n",
       "      <th>952</th>\n",
       "      <td>2222627</td>\n",
       "      <td>RU1</td>\n",
       "      <td>2012</td>\n",
       "      <td>2012-08-20</td>\n",
       "      <td>2696</td>\n",
       "      <td>4128</td>\n",
       "      <td>0</td>\n",
       "      <td>2</td>\n",
       "      <td>11</td>\n",
       "      <td>10</td>\n",
       "      <td>Metallurg</td>\n",
       "      <td>11400</td>\n",
       "      <td>NaN</td>\n",
       "      <td>NaN</td>\n",
       "      <td>PFK Krylya Sovetov Samara</td>\n",
       "      <td>Amkar Perm</td>\n",
       "      <td>domestic_league</td>\n",
       "    </tr>\n",
       "  </tbody>\n",
       "</table>\n",
       "</div>"
      ],
      "text/plain": [
       "     game_id competition_id  season       date  home_club_id  away_club_id  \\\n",
       "235  2518602            GR1    2014 2015-02-14          7185          5572   \n",
       "579  2888455           UKR1    2017 2017-08-26          6993           338   \n",
       "679  2453109           UKR1    2013 2014-05-17         16245          6996   \n",
       "951  2222597            RU1    2012 2012-08-25          3725           232   \n",
       "952  2222627            RU1    2012 2012-08-20          2696          4128   \n",
       "\n",
       "     home_club_goals  away_club_goals  home_club_position  away_club_position  \\\n",
       "235                3                0                  12                  18   \n",
       "579                3                0                   5                   2   \n",
       "679                3                0                   9                  12   \n",
       "951                2                1                   2                   5   \n",
       "952                0                2                  11                  10   \n",
       "\n",
       "                          stadium  attendance home_club_formation  \\\n",
       "235         Stadio Komotinis OPAP        1463                 NaN   \n",
       "579  Stadion im. Volodymyra Boyko        3680                 NaN   \n",
       "679                 SK Sevastopol        5072                 NaN   \n",
       "951                  Akhmat-Arena       21700                 NaN   \n",
       "952                     Metallurg       11400                 NaN   \n",
       "\n",
       "    away_club_formation             home_club_name  \\\n",
       "235                 NaN      Panthrakikos Komotini   \n",
       "579                 NaN                FK Mariupol   \n",
       "679                 NaN     FK Sevastopol (- 2014)   \n",
       "951                 NaN          RFK Akhmat Grozny   \n",
       "952                 NaN  PFK Krylya Sovetov Samara   \n",
       "\n",
       "                 away_club_name competition_type  \n",
       "235                  Niki Volou  domestic_league  \n",
       "579  Futbolniy Klub Dynamo Kyiv  domestic_league  \n",
       "679   Goverla Uzhgorod (- 2016)  domestic_league  \n",
       "951           FK Spartak Moskva  domestic_league  \n",
       "952                  Amkar Perm  domestic_league  "
      ]
     },
     "metadata": {},
     "output_type": "display_data"
    },
    {
     "data": {
      "text/plain": [
       "(4162, 17)"
      ]
     },
     "metadata": {},
     "output_type": "display_data"
    },
    {
     "data": {
      "text/plain": [
       "array(['4-3-2-1', '4-2-3-1', '4-4-2 Diamond', '4-1-4-1', '4-4-2 double 6',\n",
       "       '4-3-3 Attacking', '4-3-3 Defending', '4-3-1-2', '5-3-2',\n",
       "       '4-4-1-1', '3-5-2 flat', '4-3-3', '5-4-1', '4-1-3-2', '4-4-2',\n",
       "       '4-5-1', nan, '3-5-2', '4-5-1 flat', '3-5-2 Attacking', '3-4-2-1',\n",
       "       '3-4-1-2', '3-4-3', '4-2-4', '3-3-3-1', '5-4-1 Diamond', '3-1-4-2',\n",
       "       '5-2-3', '3-4-3 Diamond', '6-1-3', '6-2-2', '3-6-1', '3-3-4',\n",
       "       '5-1-4', '6-3-1', '2-6-2'], dtype=object)"
      ]
     },
     "metadata": {},
     "output_type": "display_data"
    },
    {
     "data": {
      "text/html": [
       "<div>\n",
       "<style scoped>\n",
       "    .dataframe tbody tr th:only-of-type {\n",
       "        vertical-align: middle;\n",
       "    }\n",
       "\n",
       "    .dataframe tbody tr th {\n",
       "        vertical-align: top;\n",
       "    }\n",
       "\n",
       "    .dataframe thead th {\n",
       "        text-align: right;\n",
       "    }\n",
       "</style>\n",
       "<table border=\"1\" class=\"dataframe\">\n",
       "  <thead>\n",
       "    <tr style=\"text-align: right;\">\n",
       "      <th></th>\n",
       "      <th>game_id</th>\n",
       "      <th>competition_id</th>\n",
       "      <th>season</th>\n",
       "      <th>date</th>\n",
       "      <th>home_club_id</th>\n",
       "      <th>away_club_id</th>\n",
       "      <th>home_club_goals</th>\n",
       "      <th>away_club_goals</th>\n",
       "      <th>home_club_position</th>\n",
       "      <th>away_club_position</th>\n",
       "      <th>stadium</th>\n",
       "      <th>attendance</th>\n",
       "      <th>home_club_formation</th>\n",
       "      <th>away_club_formation</th>\n",
       "      <th>home_club_name</th>\n",
       "      <th>away_club_name</th>\n",
       "      <th>competition_type</th>\n",
       "    </tr>\n",
       "  </thead>\n",
       "  <tbody>\n",
       "    <tr>\n",
       "      <th>235</th>\n",
       "      <td>2518602</td>\n",
       "      <td>GR1</td>\n",
       "      <td>2014</td>\n",
       "      <td>2015-02-14</td>\n",
       "      <td>7185</td>\n",
       "      <td>5572</td>\n",
       "      <td>3</td>\n",
       "      <td>0</td>\n",
       "      <td>12</td>\n",
       "      <td>18</td>\n",
       "      <td>Stadio Komotinis OPAP</td>\n",
       "      <td>1463</td>\n",
       "      <td>NaN</td>\n",
       "      <td>NaN</td>\n",
       "      <td>Panthrakikos Komotini</td>\n",
       "      <td>Niki Volou</td>\n",
       "      <td>domestic_league</td>\n",
       "    </tr>\n",
       "    <tr>\n",
       "      <th>579</th>\n",
       "      <td>2888455</td>\n",
       "      <td>UKR1</td>\n",
       "      <td>2017</td>\n",
       "      <td>2017-08-26</td>\n",
       "      <td>6993</td>\n",
       "      <td>338</td>\n",
       "      <td>3</td>\n",
       "      <td>0</td>\n",
       "      <td>5</td>\n",
       "      <td>2</td>\n",
       "      <td>Stadion im. Volodymyra Boyko</td>\n",
       "      <td>3680</td>\n",
       "      <td>NaN</td>\n",
       "      <td>NaN</td>\n",
       "      <td>FK Mariupol</td>\n",
       "      <td>Futbolniy Klub Dynamo Kyiv</td>\n",
       "      <td>domestic_league</td>\n",
       "    </tr>\n",
       "    <tr>\n",
       "      <th>679</th>\n",
       "      <td>2453109</td>\n",
       "      <td>UKR1</td>\n",
       "      <td>2013</td>\n",
       "      <td>2014-05-17</td>\n",
       "      <td>16245</td>\n",
       "      <td>6996</td>\n",
       "      <td>3</td>\n",
       "      <td>0</td>\n",
       "      <td>9</td>\n",
       "      <td>12</td>\n",
       "      <td>SK Sevastopol</td>\n",
       "      <td>5072</td>\n",
       "      <td>NaN</td>\n",
       "      <td>NaN</td>\n",
       "      <td>FK Sevastopol (- 2014)</td>\n",
       "      <td>Goverla Uzhgorod (- 2016)</td>\n",
       "      <td>domestic_league</td>\n",
       "    </tr>\n",
       "    <tr>\n",
       "      <th>951</th>\n",
       "      <td>2222597</td>\n",
       "      <td>RU1</td>\n",
       "      <td>2012</td>\n",
       "      <td>2012-08-25</td>\n",
       "      <td>3725</td>\n",
       "      <td>232</td>\n",
       "      <td>2</td>\n",
       "      <td>1</td>\n",
       "      <td>2</td>\n",
       "      <td>5</td>\n",
       "      <td>Akhmat-Arena</td>\n",
       "      <td>21700</td>\n",
       "      <td>NaN</td>\n",
       "      <td>NaN</td>\n",
       "      <td>RFK Akhmat Grozny</td>\n",
       "      <td>FK Spartak Moskva</td>\n",
       "      <td>domestic_league</td>\n",
       "    </tr>\n",
       "    <tr>\n",
       "      <th>952</th>\n",
       "      <td>2222627</td>\n",
       "      <td>RU1</td>\n",
       "      <td>2012</td>\n",
       "      <td>2012-08-20</td>\n",
       "      <td>2696</td>\n",
       "      <td>4128</td>\n",
       "      <td>0</td>\n",
       "      <td>2</td>\n",
       "      <td>11</td>\n",
       "      <td>10</td>\n",
       "      <td>Metallurg</td>\n",
       "      <td>11400</td>\n",
       "      <td>NaN</td>\n",
       "      <td>NaN</td>\n",
       "      <td>PFK Krylya Sovetov Samara</td>\n",
       "      <td>Amkar Perm</td>\n",
       "      <td>domestic_league</td>\n",
       "    </tr>\n",
       "  </tbody>\n",
       "</table>\n",
       "</div>"
      ],
      "text/plain": [
       "     game_id competition_id  season       date  home_club_id  away_club_id  \\\n",
       "235  2518602            GR1    2014 2015-02-14          7185          5572   \n",
       "579  2888455           UKR1    2017 2017-08-26          6993           338   \n",
       "679  2453109           UKR1    2013 2014-05-17         16245          6996   \n",
       "951  2222597            RU1    2012 2012-08-25          3725           232   \n",
       "952  2222627            RU1    2012 2012-08-20          2696          4128   \n",
       "\n",
       "     home_club_goals  away_club_goals  home_club_position  away_club_position  \\\n",
       "235                3                0                  12                  18   \n",
       "579                3                0                   5                   2   \n",
       "679                3                0                   9                  12   \n",
       "951                2                1                   2                   5   \n",
       "952                0                2                  11                  10   \n",
       "\n",
       "                          stadium  attendance home_club_formation  \\\n",
       "235         Stadio Komotinis OPAP        1463                 NaN   \n",
       "579  Stadion im. Volodymyra Boyko        3680                 NaN   \n",
       "679                 SK Sevastopol        5072                 NaN   \n",
       "951                  Akhmat-Arena       21700                 NaN   \n",
       "952                     Metallurg       11400                 NaN   \n",
       "\n",
       "    away_club_formation             home_club_name  \\\n",
       "235                 NaN      Panthrakikos Komotini   \n",
       "579                 NaN                FK Mariupol   \n",
       "679                 NaN     FK Sevastopol (- 2014)   \n",
       "951                 NaN          RFK Akhmat Grozny   \n",
       "952                 NaN  PFK Krylya Sovetov Samara   \n",
       "\n",
       "                 away_club_name competition_type  \n",
       "235                  Niki Volou  domestic_league  \n",
       "579  Futbolniy Klub Dynamo Kyiv  domestic_league  \n",
       "679   Goverla Uzhgorod (- 2016)  domestic_league  \n",
       "951           FK Spartak Moskva  domestic_league  \n",
       "952                  Amkar Perm  domestic_league  "
      ]
     },
     "metadata": {},
     "output_type": "display_data"
    },
    {
     "data": {
      "text/plain": [
       "(4161, 17)"
      ]
     },
     "metadata": {},
     "output_type": "display_data"
    }
   ],
   "source": [
    "# Home Club Formations\n",
    "\n",
    "home_club_unique = games_df[\"home_club_formation\"].unique()\n",
    "display(home_club_unique)\n",
    "\n",
    "home_club_nulls = games_df[games_df[\"home_club_formation\"].isnull()]\n",
    "display(home_club_nulls.head()) \n",
    "display(home_club_nulls.shape) # (4162, 17)\n",
    "\n",
    "# Away Club Formations\n",
    "\n",
    "away_club_unique = games_df[\"away_club_formation\"].unique()\n",
    "display(away_club_unique)\n",
    "\n",
    "away_club_nulls = games_df[games_df[\"away_club_formation\"].isnull()]\n",
    "display(away_club_nulls.head()) \n",
    "display(away_club_nulls.shape) # (4161, 17)"
   ]
  },
  {
   "cell_type": "markdown",
   "id": "fb979835",
   "metadata": {},
   "source": [
    "###### 1.21 Strategic Imputation and Feature Engineering For Home and Away Club Formations"
   ]
  },
  {
   "cell_type": "code",
   "execution_count": 501,
   "id": "523c02bd",
   "metadata": {
    "ExecuteTime": {
     "end_time": "2024-03-05T18:23:38.970011Z",
     "start_time": "2024-03-05T18:23:36.515059Z"
    }
   },
   "outputs": [
    {
     "name": "stdout",
     "output_type": "stream",
     "text": [
      "Missing values for home club formation after imputation: 0\n",
      "Missing values for away club formation after imputation: 0\n"
     ]
    },
    {
     "data": {
      "text/html": [
       "<div>\n",
       "<style scoped>\n",
       "    .dataframe tbody tr th:only-of-type {\n",
       "        vertical-align: middle;\n",
       "    }\n",
       "\n",
       "    .dataframe tbody tr th {\n",
       "        vertical-align: top;\n",
       "    }\n",
       "\n",
       "    .dataframe thead th {\n",
       "        text-align: right;\n",
       "    }\n",
       "</style>\n",
       "<table border=\"1\" class=\"dataframe\">\n",
       "  <thead>\n",
       "    <tr style=\"text-align: right;\">\n",
       "      <th></th>\n",
       "      <th>game_id</th>\n",
       "      <th>competition_id</th>\n",
       "      <th>season</th>\n",
       "      <th>date</th>\n",
       "      <th>home_club_id</th>\n",
       "      <th>away_club_id</th>\n",
       "      <th>home_club_goals</th>\n",
       "      <th>away_club_goals</th>\n",
       "      <th>home_club_position</th>\n",
       "      <th>away_club_position</th>\n",
       "      <th>stadium</th>\n",
       "      <th>attendance</th>\n",
       "      <th>home_club_formation</th>\n",
       "      <th>away_club_formation</th>\n",
       "      <th>home_club_name</th>\n",
       "      <th>away_club_name</th>\n",
       "      <th>competition_type</th>\n",
       "      <th>home_club_strategy</th>\n",
       "      <th>away_club_strategy</th>\n",
       "    </tr>\n",
       "  </thead>\n",
       "  <tbody>\n",
       "    <tr>\n",
       "      <th>0</th>\n",
       "      <td>2321044</td>\n",
       "      <td>L1</td>\n",
       "      <td>2013</td>\n",
       "      <td>2013-08-18</td>\n",
       "      <td>16</td>\n",
       "      <td>23</td>\n",
       "      <td>2</td>\n",
       "      <td>1</td>\n",
       "      <td>1</td>\n",
       "      <td>15</td>\n",
       "      <td>SIGNAL IDUNA PARK</td>\n",
       "      <td>80200</td>\n",
       "      <td>4-2-3-1</td>\n",
       "      <td>4-3-2-1</td>\n",
       "      <td>Borussia Dortmund</td>\n",
       "      <td>Eintracht Braunschweig</td>\n",
       "      <td>domestic_league</td>\n",
       "      <td>Balanced</td>\n",
       "      <td>Balanced</td>\n",
       "    </tr>\n",
       "    <tr>\n",
       "      <th>1</th>\n",
       "      <td>2321060</td>\n",
       "      <td>L1</td>\n",
       "      <td>2013</td>\n",
       "      <td>2013-08-25</td>\n",
       "      <td>23</td>\n",
       "      <td>24</td>\n",
       "      <td>0</td>\n",
       "      <td>2</td>\n",
       "      <td>18</td>\n",
       "      <td>11</td>\n",
       "      <td>EINTRACHT-Stadion</td>\n",
       "      <td>23325</td>\n",
       "      <td>4-3-2-1</td>\n",
       "      <td>4-2-3-1</td>\n",
       "      <td>Eintracht Braunschweig</td>\n",
       "      <td>Eintracht Frankfurt Fußball AG</td>\n",
       "      <td>domestic_league</td>\n",
       "      <td>Balanced</td>\n",
       "      <td>Balanced</td>\n",
       "    </tr>\n",
       "    <tr>\n",
       "      <th>2</th>\n",
       "      <td>2321086</td>\n",
       "      <td>L1</td>\n",
       "      <td>2013</td>\n",
       "      <td>2013-09-21</td>\n",
       "      <td>4</td>\n",
       "      <td>16</td>\n",
       "      <td>1</td>\n",
       "      <td>1</td>\n",
       "      <td>15</td>\n",
       "      <td>1</td>\n",
       "      <td>Max-Morlock-Stadion</td>\n",
       "      <td>50000</td>\n",
       "      <td>4-2-3-1</td>\n",
       "      <td>4-2-3-1</td>\n",
       "      <td>1.FC Nuremberg</td>\n",
       "      <td>Borussia Dortmund</td>\n",
       "      <td>domestic_league</td>\n",
       "      <td>Balanced</td>\n",
       "      <td>Balanced</td>\n",
       "    </tr>\n",
       "    <tr>\n",
       "      <th>3</th>\n",
       "      <td>2321152</td>\n",
       "      <td>L1</td>\n",
       "      <td>2013</td>\n",
       "      <td>2013-11-02</td>\n",
       "      <td>44</td>\n",
       "      <td>33</td>\n",
       "      <td>0</td>\n",
       "      <td>2</td>\n",
       "      <td>7</td>\n",
       "      <td>6</td>\n",
       "      <td>Olympiastadion Berlin</td>\n",
       "      <td>69277</td>\n",
       "      <td>4-2-3-1</td>\n",
       "      <td>4-2-3-1</td>\n",
       "      <td>Hertha BSC</td>\n",
       "      <td>FC Schalke 04</td>\n",
       "      <td>domestic_league</td>\n",
       "      <td>Balanced</td>\n",
       "      <td>Balanced</td>\n",
       "    </tr>\n",
       "    <tr>\n",
       "      <th>4</th>\n",
       "      <td>2321205</td>\n",
       "      <td>L1</td>\n",
       "      <td>2013</td>\n",
       "      <td>2013-12-21</td>\n",
       "      <td>41</td>\n",
       "      <td>39</td>\n",
       "      <td>2</td>\n",
       "      <td>3</td>\n",
       "      <td>14</td>\n",
       "      <td>9</td>\n",
       "      <td>Volksparkstadion</td>\n",
       "      <td>50000</td>\n",
       "      <td>4-2-3-1</td>\n",
       "      <td>4-4-2 Diamond</td>\n",
       "      <td>Hamburger SV</td>\n",
       "      <td>1. Fußball- und Sportverein Mainz 05</td>\n",
       "      <td>domestic_league</td>\n",
       "      <td>Balanced</td>\n",
       "      <td>Balanced</td>\n",
       "    </tr>\n",
       "  </tbody>\n",
       "</table>\n",
       "</div>"
      ],
      "text/plain": [
       "   game_id competition_id  season       date  home_club_id  away_club_id  \\\n",
       "0  2321044             L1    2013 2013-08-18            16            23   \n",
       "1  2321060             L1    2013 2013-08-25            23            24   \n",
       "2  2321086             L1    2013 2013-09-21             4            16   \n",
       "3  2321152             L1    2013 2013-11-02            44            33   \n",
       "4  2321205             L1    2013 2013-12-21            41            39   \n",
       "\n",
       "   home_club_goals  away_club_goals  home_club_position  away_club_position  \\\n",
       "0                2                1                   1                  15   \n",
       "1                0                2                  18                  11   \n",
       "2                1                1                  15                   1   \n",
       "3                0                2                   7                   6   \n",
       "4                2                3                  14                   9   \n",
       "\n",
       "                 stadium  attendance home_club_formation away_club_formation  \\\n",
       "0      SIGNAL IDUNA PARK       80200             4-2-3-1             4-3-2-1   \n",
       "1      EINTRACHT-Stadion       23325             4-3-2-1             4-2-3-1   \n",
       "2    Max-Morlock-Stadion       50000             4-2-3-1             4-2-3-1   \n",
       "3  Olympiastadion Berlin       69277             4-2-3-1             4-2-3-1   \n",
       "4       Volksparkstadion       50000             4-2-3-1       4-4-2 Diamond   \n",
       "\n",
       "           home_club_name                        away_club_name  \\\n",
       "0       Borussia Dortmund                Eintracht Braunschweig   \n",
       "1  Eintracht Braunschweig        Eintracht Frankfurt Fußball AG   \n",
       "2          1.FC Nuremberg                     Borussia Dortmund   \n",
       "3              Hertha BSC                         FC Schalke 04   \n",
       "4            Hamburger SV  1. Fußball- und Sportverein Mainz 05   \n",
       "\n",
       "  competition_type home_club_strategy away_club_strategy  \n",
       "0  domestic_league           Balanced           Balanced  \n",
       "1  domestic_league           Balanced           Balanced  \n",
       "2  domestic_league           Balanced           Balanced  \n",
       "3  domestic_league           Balanced           Balanced  \n",
       "4  domestic_league           Balanced           Balanced  "
      ]
     },
     "metadata": {},
     "output_type": "display_data"
    },
    {
     "data": {
      "text/plain": [
       "Balanced      34068\n",
       "Aggressive     8072\n",
       "Defensive      4406\n",
       "Name: home_club_strategy, dtype: int64"
      ]
     },
     "metadata": {},
     "output_type": "display_data"
    },
    {
     "data": {
      "text/plain": [
       "Balanced      33758\n",
       "Aggressive     7947\n",
       "Defensive      4841\n",
       "Name: away_club_strategy, dtype: int64"
      ]
     },
     "metadata": {},
     "output_type": "display_data"
    }
   ],
   "source": [
    "# Procedure for Imputing Home/Away Club Null Values and Creating The Tactical Apporach Column\n",
    "\n",
    "# Step 1 : Group the home club formation by season and home club name\n",
    "# Step 2 : Compute the modes for each group\n",
    "# Step 3 : Check, if the series is not empty the first mode is imputed towards missing values\n",
    "# Step 4 : Else, if the series is empty then the null values are imputed\n",
    "# Step 5 : Global assignment, if there are still missing values and a possible solution \n",
    "#          is to address with a global mode [overall most formation] if necessary\n",
    "# Step 6 : Evaluate the misssing values for home/away club formations\n",
    "# Step 7 : Define the tactical apporach by creating a dictionary for the home/away club formations\n",
    "# Step 8 : Map the home/away club formation to the tactical approach and if there are null values\n",
    "#          for the tactical approach, name the approach as 'unknown'\n",
    "# Step 9 : Make sure that there are no null values at the end of the imputation across columns and \n",
    "#          and display the first few rows to review the final result\n",
    "\n",
    "# Home/Away Club Formation Imputation [Steps 1 - 4]\n",
    "\n",
    "games_df['home_club_formation'] = games_df.groupby(\n",
    "    ['season','home_club_name'])['home_club_formation'].transform(\n",
    "    lambda x: x.fillna(x.mode().iloc[0] if not x.mode().empty else np.nan))\n",
    "\n",
    "games_df['away_club_formation'] = games_df.groupby(\n",
    "    ['season','away_club_name'])['away_club_formation'].transform(\n",
    "    lambda x: x.fillna(x.mode().iloc[0] if not x.mode().empty else np.nan))\n",
    "\n",
    "# Home/Away Club Formation Imputation [Steps 5 - 6]\n",
    "\n",
    "if games_df['home_club_formation'].isnull().any():\n",
    "    most_common_formation = games_df['home_club_formation'].mode().iloc[0]\n",
    "    games_df['home_club_formation'] = games_df['home_club_formation'].fillna(most_common_formation)\n",
    "    \n",
    "if games_df['away_club_formation'].isnull().any():\n",
    "    most_common_formation = games_df['away_club_formation'].mode().iloc[0]\n",
    "    games_df['away_club_formation'] = games_df['away_club_formation'].fillna(most_common_formation)\n",
    "\n",
    "home_formation_null = games_df['home_club_formation'].isnull().sum()\n",
    "print(f\"Missing values for home club formation after imputation: {home_formation_null}\")\n",
    "\n",
    "away_formation_null = games_df['away_club_formation'].isnull().sum()\n",
    "print(f\"Missing values for away club formation after imputation: {away_formation_null}\")\n",
    "\n",
    "# Home/Away Club Formation Imputation [Steps 7 - 9]\n",
    "\n",
    "home_formations = {\n",
    "    '4-2-3-1': 'Balanced',\n",
    "    '4-3-2-1': 'Balanced',\n",
    "    '4-3-3 Defending': 'Defensive',\n",
    "    '4-3-3 Attacking': 'Aggressive',\n",
    "    '4-4-2 double 6': 'Balanced',\n",
    "    '4-1-4-1': 'Balanced',\n",
    "    '4-3-1-2': 'Balanced',\n",
    "    '3-5-2 flat': 'Balanced',\n",
    "    '5-4-1': 'Defensive',\n",
    "    '4-4-1-1': 'Balanced',\n",
    "    '4-4-2': 'Balanced',\n",
    "    '3-4-2-1': 'Balanced',\n",
    "    '5-3-2': 'Defensive',\n",
    "    '3-5-2': 'Balanced',\n",
    "    '3-6-1': 'Defensive',\n",
    "    '4-4-2 Diamond': 'Balanced',\n",
    "    '4-3-3': 'Balanced',\n",
    "    '4-5-1': 'Defensive',\n",
    "    '3-4-3': 'Aggressive',\n",
    "    '5-4-1 Diamond': 'Defensive',\n",
    "    '2-5-3': 'Aggressive',\n",
    "    '3-4-1-2': 'Balanced',\n",
    "    '3-5-2 Attacking': 'Aggressive',\n",
    "    '4-5-1 flat': 'Defensive',\n",
    "    '3-1-4-2': 'Balanced',\n",
    "    '5-2-3': 'Aggressive',\n",
    "    '4-1-3-2': 'Balanced',\n",
    "    '3-4-3 Diamond': 'Aggressive',\n",
    "    '3-3-3-1': 'Aggressive',\n",
    "    '4-2-4': 'Aggressive',\n",
    "    '4-6-0': 'Balanced',  \n",
    "    '6-2-2': 'Defensive',\n",
    "    '6-1-3': 'Defensive',\n",
    "    '2-4-4': 'Aggressive',\n",
    "    '2-7-1': 'Defensive',\n",
    "    '3-3-4': 'Aggressive'\n",
    "}\n",
    "\n",
    "away_formations = {\n",
    "    '4-3-2-1': 'Balanced',\n",
    "    '4-2-3-1': 'Balanced',\n",
    "    '4-4-2 Diamond': 'Balanced',\n",
    "    '4-1-4-1': 'Balanced',\n",
    "    '4-4-2 double 6': 'Balanced',\n",
    "    '4-3-3 Attacking': 'Aggressive',\n",
    "    '4-3-3 Defending': 'Defensive',\n",
    "    '4-3-1-2': 'Balanced',\n",
    "    '5-3-2': 'Defensive',\n",
    "    '4-4-1-1': 'Balanced',\n",
    "    '3-5-2 flat': 'Balanced',\n",
    "    '4-3-3': 'Balanced',\n",
    "    '5-4-1': 'Defensive',\n",
    "    '4-1-3-2': 'Balanced',\n",
    "    '4-4-2': 'Balanced',\n",
    "    '4-5-1': 'Defensive',\n",
    "    '3-5-2': 'Balanced',\n",
    "    '4-5-1 flat': 'Defensive',\n",
    "    '3-5-2 Attacking': 'Aggressive',\n",
    "    '3-4-2-1': 'Balanced',\n",
    "    '3-4-1-2': 'Balanced',\n",
    "    '3-4-3': 'Aggressive',\n",
    "    '4-2-4': 'Aggressive',\n",
    "    '3-3-3-1': 'Aggressive',\n",
    "    '5-4-1 Diamond': 'Defensive',\n",
    "    '3-1-4-2': 'Balanced',\n",
    "    '5-2-3': 'Aggressive',\n",
    "    '3-4-3 Diamond': 'Aggressive',\n",
    "    '6-1-3': 'Defensive',\n",
    "    '6-2-2': 'Defensive',\n",
    "    '3-6-1': 'Defensive',\n",
    "    '3-3-4': 'Aggressive',\n",
    "    '5-1-4': 'Defensive',  \n",
    "    '6-3-1': 'Defensive',  \n",
    "    '2-6-2': 'Balanced'  \n",
    "}\n",
    "\n",
    "games_df['home_club_strategy'] = games_df['home_club_formation'].map(\n",
    "    home_formations).fillna('Unknown')\n",
    "games_df['away_club_strategy'] = games_df['away_club_formation'].map(\n",
    "    away_formations).fillna('Unknown')\n",
    "\n",
    "display(games_df.head())\n",
    "display(games_df['home_club_strategy'].value_counts())\n",
    "display(games_df['away_club_strategy'].value_counts())"
   ]
  },
  {
   "cell_type": "markdown",
   "id": "1afe84e2",
   "metadata": {},
   "source": [
    "###### 1.22 Inspect the Cleaned Games Data Frame "
   ]
  },
  {
   "cell_type": "code",
   "execution_count": 502,
   "id": "af16bc37",
   "metadata": {
    "ExecuteTime": {
     "end_time": "2024-03-05T18:23:39.026230Z",
     "start_time": "2024-03-05T18:23:38.975450Z"
    }
   },
   "outputs": [
    {
     "data": {
      "text/plain": [
       "game_id                0\n",
       "competition_id         0\n",
       "season                 0\n",
       "date                   0\n",
       "home_club_id           0\n",
       "away_club_id           0\n",
       "home_club_goals        0\n",
       "away_club_goals        0\n",
       "home_club_position     0\n",
       "away_club_position     0\n",
       "stadium                0\n",
       "attendance             0\n",
       "home_club_formation    0\n",
       "away_club_formation    0\n",
       "home_club_name         0\n",
       "away_club_name         0\n",
       "competition_type       0\n",
       "home_club_strategy     0\n",
       "away_club_strategy     0\n",
       "dtype: int64"
      ]
     },
     "metadata": {},
     "output_type": "display_data"
    },
    {
     "data": {
      "text/plain": [
       "(46546, 19)"
      ]
     },
     "metadata": {},
     "output_type": "display_data"
    },
    {
     "data": {
      "text/html": [
       "<div>\n",
       "<style scoped>\n",
       "    .dataframe tbody tr th:only-of-type {\n",
       "        vertical-align: middle;\n",
       "    }\n",
       "\n",
       "    .dataframe tbody tr th {\n",
       "        vertical-align: top;\n",
       "    }\n",
       "\n",
       "    .dataframe thead th {\n",
       "        text-align: right;\n",
       "    }\n",
       "</style>\n",
       "<table border=\"1\" class=\"dataframe\">\n",
       "  <thead>\n",
       "    <tr style=\"text-align: right;\">\n",
       "      <th></th>\n",
       "      <th>game_id</th>\n",
       "      <th>competition_id</th>\n",
       "      <th>season</th>\n",
       "      <th>date</th>\n",
       "      <th>home_club_id</th>\n",
       "      <th>away_club_id</th>\n",
       "      <th>home_club_goals</th>\n",
       "      <th>away_club_goals</th>\n",
       "      <th>home_club_position</th>\n",
       "      <th>away_club_position</th>\n",
       "      <th>stadium</th>\n",
       "      <th>attendance</th>\n",
       "      <th>home_club_formation</th>\n",
       "      <th>away_club_formation</th>\n",
       "      <th>home_club_name</th>\n",
       "      <th>away_club_name</th>\n",
       "      <th>competition_type</th>\n",
       "      <th>home_club_strategy</th>\n",
       "      <th>away_club_strategy</th>\n",
       "    </tr>\n",
       "  </thead>\n",
       "  <tbody>\n",
       "    <tr>\n",
       "      <th>0</th>\n",
       "      <td>2321044</td>\n",
       "      <td>L1</td>\n",
       "      <td>2013</td>\n",
       "      <td>2013-08-18</td>\n",
       "      <td>16</td>\n",
       "      <td>23</td>\n",
       "      <td>2</td>\n",
       "      <td>1</td>\n",
       "      <td>1</td>\n",
       "      <td>15</td>\n",
       "      <td>SIGNAL IDUNA PARK</td>\n",
       "      <td>80200</td>\n",
       "      <td>4-2-3-1</td>\n",
       "      <td>4-3-2-1</td>\n",
       "      <td>Borussia Dortmund</td>\n",
       "      <td>Eintracht Braunschweig</td>\n",
       "      <td>domestic_league</td>\n",
       "      <td>Balanced</td>\n",
       "      <td>Balanced</td>\n",
       "    </tr>\n",
       "    <tr>\n",
       "      <th>1</th>\n",
       "      <td>2321060</td>\n",
       "      <td>L1</td>\n",
       "      <td>2013</td>\n",
       "      <td>2013-08-25</td>\n",
       "      <td>23</td>\n",
       "      <td>24</td>\n",
       "      <td>0</td>\n",
       "      <td>2</td>\n",
       "      <td>18</td>\n",
       "      <td>11</td>\n",
       "      <td>EINTRACHT-Stadion</td>\n",
       "      <td>23325</td>\n",
       "      <td>4-3-2-1</td>\n",
       "      <td>4-2-3-1</td>\n",
       "      <td>Eintracht Braunschweig</td>\n",
       "      <td>Eintracht Frankfurt Fußball AG</td>\n",
       "      <td>domestic_league</td>\n",
       "      <td>Balanced</td>\n",
       "      <td>Balanced</td>\n",
       "    </tr>\n",
       "    <tr>\n",
       "      <th>2</th>\n",
       "      <td>2321086</td>\n",
       "      <td>L1</td>\n",
       "      <td>2013</td>\n",
       "      <td>2013-09-21</td>\n",
       "      <td>4</td>\n",
       "      <td>16</td>\n",
       "      <td>1</td>\n",
       "      <td>1</td>\n",
       "      <td>15</td>\n",
       "      <td>1</td>\n",
       "      <td>Max-Morlock-Stadion</td>\n",
       "      <td>50000</td>\n",
       "      <td>4-2-3-1</td>\n",
       "      <td>4-2-3-1</td>\n",
       "      <td>1.FC Nuremberg</td>\n",
       "      <td>Borussia Dortmund</td>\n",
       "      <td>domestic_league</td>\n",
       "      <td>Balanced</td>\n",
       "      <td>Balanced</td>\n",
       "    </tr>\n",
       "    <tr>\n",
       "      <th>3</th>\n",
       "      <td>2321152</td>\n",
       "      <td>L1</td>\n",
       "      <td>2013</td>\n",
       "      <td>2013-11-02</td>\n",
       "      <td>44</td>\n",
       "      <td>33</td>\n",
       "      <td>0</td>\n",
       "      <td>2</td>\n",
       "      <td>7</td>\n",
       "      <td>6</td>\n",
       "      <td>Olympiastadion Berlin</td>\n",
       "      <td>69277</td>\n",
       "      <td>4-2-3-1</td>\n",
       "      <td>4-2-3-1</td>\n",
       "      <td>Hertha BSC</td>\n",
       "      <td>FC Schalke 04</td>\n",
       "      <td>domestic_league</td>\n",
       "      <td>Balanced</td>\n",
       "      <td>Balanced</td>\n",
       "    </tr>\n",
       "    <tr>\n",
       "      <th>4</th>\n",
       "      <td>2321205</td>\n",
       "      <td>L1</td>\n",
       "      <td>2013</td>\n",
       "      <td>2013-12-21</td>\n",
       "      <td>41</td>\n",
       "      <td>39</td>\n",
       "      <td>2</td>\n",
       "      <td>3</td>\n",
       "      <td>14</td>\n",
       "      <td>9</td>\n",
       "      <td>Volksparkstadion</td>\n",
       "      <td>50000</td>\n",
       "      <td>4-2-3-1</td>\n",
       "      <td>4-4-2 Diamond</td>\n",
       "      <td>Hamburger SV</td>\n",
       "      <td>1. Fußball- und Sportverein Mainz 05</td>\n",
       "      <td>domestic_league</td>\n",
       "      <td>Balanced</td>\n",
       "      <td>Balanced</td>\n",
       "    </tr>\n",
       "  </tbody>\n",
       "</table>\n",
       "</div>"
      ],
      "text/plain": [
       "   game_id competition_id  season       date  home_club_id  away_club_id  \\\n",
       "0  2321044             L1    2013 2013-08-18            16            23   \n",
       "1  2321060             L1    2013 2013-08-25            23            24   \n",
       "2  2321086             L1    2013 2013-09-21             4            16   \n",
       "3  2321152             L1    2013 2013-11-02            44            33   \n",
       "4  2321205             L1    2013 2013-12-21            41            39   \n",
       "\n",
       "   home_club_goals  away_club_goals  home_club_position  away_club_position  \\\n",
       "0                2                1                   1                  15   \n",
       "1                0                2                  18                  11   \n",
       "2                1                1                  15                   1   \n",
       "3                0                2                   7                   6   \n",
       "4                2                3                  14                   9   \n",
       "\n",
       "                 stadium  attendance home_club_formation away_club_formation  \\\n",
       "0      SIGNAL IDUNA PARK       80200             4-2-3-1             4-3-2-1   \n",
       "1      EINTRACHT-Stadion       23325             4-3-2-1             4-2-3-1   \n",
       "2    Max-Morlock-Stadion       50000             4-2-3-1             4-2-3-1   \n",
       "3  Olympiastadion Berlin       69277             4-2-3-1             4-2-3-1   \n",
       "4       Volksparkstadion       50000             4-2-3-1       4-4-2 Diamond   \n",
       "\n",
       "           home_club_name                        away_club_name  \\\n",
       "0       Borussia Dortmund                Eintracht Braunschweig   \n",
       "1  Eintracht Braunschweig        Eintracht Frankfurt Fußball AG   \n",
       "2          1.FC Nuremberg                     Borussia Dortmund   \n",
       "3              Hertha BSC                         FC Schalke 04   \n",
       "4            Hamburger SV  1. Fußball- und Sportverein Mainz 05   \n",
       "\n",
       "  competition_type home_club_strategy away_club_strategy  \n",
       "0  domestic_league           Balanced           Balanced  \n",
       "1  domestic_league           Balanced           Balanced  \n",
       "2  domestic_league           Balanced           Balanced  \n",
       "3  domestic_league           Balanced           Balanced  \n",
       "4  domestic_league           Balanced           Balanced  "
      ]
     },
     "metadata": {},
     "output_type": "display_data"
    }
   ],
   "source": [
    "display(games_df.isnull().sum()) # No null values reported\n",
    "display(games_df.shape) # (46546, 19)\n",
    "#display(games_df.describe(include = \"all\"))\n",
    "display(games_df.head()) # Final review of the games_df [data frame]"
   ]
  },
  {
   "cell_type": "markdown",
   "id": "3a7580eb",
   "metadata": {},
   "source": [
    "###### 2 -- CLUBS DATA FRAME [clubs.csv]"
   ]
  },
  {
   "cell_type": "markdown",
   "id": "2cd04152",
   "metadata": {},
   "source": [
    "###### 2.1 Load the clubs csv file and convert it into a data frame "
   ]
  },
  {
   "cell_type": "code",
   "execution_count": 503,
   "id": "4bc5f133",
   "metadata": {
    "ExecuteTime": {
     "end_time": "2024-03-05T18:23:39.080212Z",
     "start_time": "2024-03-05T18:23:39.028238Z"
    }
   },
   "outputs": [
    {
     "data": {
      "text/html": [
       "<div>\n",
       "<style scoped>\n",
       "    .dataframe tbody tr th:only-of-type {\n",
       "        vertical-align: middle;\n",
       "    }\n",
       "\n",
       "    .dataframe tbody tr th {\n",
       "        vertical-align: top;\n",
       "    }\n",
       "\n",
       "    .dataframe thead th {\n",
       "        text-align: right;\n",
       "    }\n",
       "</style>\n",
       "<table border=\"1\" class=\"dataframe\">\n",
       "  <thead>\n",
       "    <tr style=\"text-align: right;\">\n",
       "      <th></th>\n",
       "      <th>club_id</th>\n",
       "      <th>club_code</th>\n",
       "      <th>name</th>\n",
       "      <th>domestic_competition_id</th>\n",
       "      <th>total_market_value</th>\n",
       "      <th>squad_size</th>\n",
       "      <th>average_age</th>\n",
       "      <th>foreigners_number</th>\n",
       "      <th>foreigners_percentage</th>\n",
       "      <th>national_team_players</th>\n",
       "      <th>stadium_name</th>\n",
       "      <th>stadium_seats</th>\n",
       "      <th>net_transfer_record</th>\n",
       "      <th>coach_name</th>\n",
       "      <th>last_season</th>\n",
       "      <th>filename</th>\n",
       "      <th>url</th>\n",
       "    </tr>\n",
       "  </thead>\n",
       "  <tbody>\n",
       "    <tr>\n",
       "      <th>0</th>\n",
       "      <td>105</td>\n",
       "      <td>sv-darmstadt-98</td>\n",
       "      <td>Sportverein Darmstadt 1898 e. V.</td>\n",
       "      <td>L1</td>\n",
       "      <td>NaN</td>\n",
       "      <td>30</td>\n",
       "      <td>26.3</td>\n",
       "      <td>11</td>\n",
       "      <td>36.7</td>\n",
       "      <td>1</td>\n",
       "      <td>Merck-Stadion am Böllenfalltor</td>\n",
       "      <td>17810</td>\n",
       "      <td>€-1.48m</td>\n",
       "      <td>NaN</td>\n",
       "      <td>2023</td>\n",
       "      <td>../data/raw/transfermarkt-scraper/2023/clubs.j...</td>\n",
       "      <td>https://www.transfermarkt.co.uk/sv-darmstadt-9...</td>\n",
       "    </tr>\n",
       "    <tr>\n",
       "      <th>1</th>\n",
       "      <td>11127</td>\n",
       "      <td>ural-ekaterinburg</td>\n",
       "      <td>FK Ural Yekaterinburg</td>\n",
       "      <td>RU1</td>\n",
       "      <td>NaN</td>\n",
       "      <td>27</td>\n",
       "      <td>27.5</td>\n",
       "      <td>15</td>\n",
       "      <td>55.6</td>\n",
       "      <td>7</td>\n",
       "      <td>Yekaterinburg Arena</td>\n",
       "      <td>23000</td>\n",
       "      <td>€-770k</td>\n",
       "      <td>NaN</td>\n",
       "      <td>2023</td>\n",
       "      <td>../data/raw/transfermarkt-scraper/2023/clubs.j...</td>\n",
       "      <td>https://www.transfermarkt.co.uk/ural-ekaterinb...</td>\n",
       "    </tr>\n",
       "    <tr>\n",
       "      <th>2</th>\n",
       "      <td>114</td>\n",
       "      <td>besiktas-istanbul</td>\n",
       "      <td>Beşiktaş Jimnastik Kulübü</td>\n",
       "      <td>TR1</td>\n",
       "      <td>NaN</td>\n",
       "      <td>30</td>\n",
       "      <td>27.3</td>\n",
       "      <td>14</td>\n",
       "      <td>46.7</td>\n",
       "      <td>12</td>\n",
       "      <td>Tüpraş Stadyumu</td>\n",
       "      <td>42590</td>\n",
       "      <td>€-14.50m</td>\n",
       "      <td>NaN</td>\n",
       "      <td>2023</td>\n",
       "      <td>../data/raw/transfermarkt-scraper/2023/clubs.j...</td>\n",
       "      <td>https://www.transfermarkt.co.uk/besiktas-istan...</td>\n",
       "    </tr>\n",
       "    <tr>\n",
       "      <th>3</th>\n",
       "      <td>12</td>\n",
       "      <td>as-rom</td>\n",
       "      <td>Associazione Sportiva Roma</td>\n",
       "      <td>IT1</td>\n",
       "      <td>NaN</td>\n",
       "      <td>27</td>\n",
       "      <td>26.6</td>\n",
       "      <td>18</td>\n",
       "      <td>66.7</td>\n",
       "      <td>17</td>\n",
       "      <td>Olimpico di Roma</td>\n",
       "      <td>73261</td>\n",
       "      <td>+€72.25m</td>\n",
       "      <td>NaN</td>\n",
       "      <td>2023</td>\n",
       "      <td>../data/raw/transfermarkt-scraper/2023/clubs.j...</td>\n",
       "      <td>https://www.transfermarkt.co.uk/as-rom/startse...</td>\n",
       "    </tr>\n",
       "    <tr>\n",
       "      <th>4</th>\n",
       "      <td>148</td>\n",
       "      <td>tottenham-hotspur</td>\n",
       "      <td>Tottenham Hotspur Football Club</td>\n",
       "      <td>GB1</td>\n",
       "      <td>NaN</td>\n",
       "      <td>28</td>\n",
       "      <td>25.5</td>\n",
       "      <td>22</td>\n",
       "      <td>78.6</td>\n",
       "      <td>21</td>\n",
       "      <td>Tottenham Hotspur Stadium</td>\n",
       "      <td>62850</td>\n",
       "      <td>€-154.90m</td>\n",
       "      <td>NaN</td>\n",
       "      <td>2023</td>\n",
       "      <td>../data/raw/transfermarkt-scraper/2023/clubs.j...</td>\n",
       "      <td>https://www.transfermarkt.co.uk/tottenham-hots...</td>\n",
       "    </tr>\n",
       "  </tbody>\n",
       "</table>\n",
       "</div>"
      ],
      "text/plain": [
       "   club_id          club_code                              name  \\\n",
       "0      105    sv-darmstadt-98  Sportverein Darmstadt 1898 e. V.   \n",
       "1    11127  ural-ekaterinburg             FK Ural Yekaterinburg   \n",
       "2      114  besiktas-istanbul         Beşiktaş Jimnastik Kulübü   \n",
       "3       12             as-rom        Associazione Sportiva Roma   \n",
       "4      148  tottenham-hotspur   Tottenham Hotspur Football Club   \n",
       "\n",
       "  domestic_competition_id  total_market_value  squad_size  average_age  \\\n",
       "0                      L1                 NaN          30         26.3   \n",
       "1                     RU1                 NaN          27         27.5   \n",
       "2                     TR1                 NaN          30         27.3   \n",
       "3                     IT1                 NaN          27         26.6   \n",
       "4                     GB1                 NaN          28         25.5   \n",
       "\n",
       "   foreigners_number  foreigners_percentage  national_team_players  \\\n",
       "0                 11                   36.7                      1   \n",
       "1                 15                   55.6                      7   \n",
       "2                 14                   46.7                     12   \n",
       "3                 18                   66.7                     17   \n",
       "4                 22                   78.6                     21   \n",
       "\n",
       "                     stadium_name  stadium_seats net_transfer_record  \\\n",
       "0  Merck-Stadion am Böllenfalltor          17810             €-1.48m   \n",
       "1             Yekaterinburg Arena          23000              €-770k   \n",
       "2                 Tüpraş Stadyumu          42590            €-14.50m   \n",
       "3                Olimpico di Roma          73261            +€72.25m   \n",
       "4       Tottenham Hotspur Stadium          62850           €-154.90m   \n",
       "\n",
       "   coach_name  last_season                                           filename  \\\n",
       "0         NaN         2023  ../data/raw/transfermarkt-scraper/2023/clubs.j...   \n",
       "1         NaN         2023  ../data/raw/transfermarkt-scraper/2023/clubs.j...   \n",
       "2         NaN         2023  ../data/raw/transfermarkt-scraper/2023/clubs.j...   \n",
       "3         NaN         2023  ../data/raw/transfermarkt-scraper/2023/clubs.j...   \n",
       "4         NaN         2023  ../data/raw/transfermarkt-scraper/2023/clubs.j...   \n",
       "\n",
       "                                                 url  \n",
       "0  https://www.transfermarkt.co.uk/sv-darmstadt-9...  \n",
       "1  https://www.transfermarkt.co.uk/ural-ekaterinb...  \n",
       "2  https://www.transfermarkt.co.uk/besiktas-istan...  \n",
       "3  https://www.transfermarkt.co.uk/as-rom/startse...  \n",
       "4  https://www.transfermarkt.co.uk/tottenham-hots...  "
      ]
     },
     "metadata": {},
     "output_type": "display_data"
    },
    {
     "data": {
      "text/plain": [
       "Index(['club_id', 'club_code', 'name', 'domestic_competition_id',\n",
       "       'total_market_value', 'squad_size', 'average_age', 'foreigners_number',\n",
       "       'foreigners_percentage', 'national_team_players', 'stadium_name',\n",
       "       'stadium_seats', 'net_transfer_record', 'coach_name', 'last_season',\n",
       "       'filename', 'url'],\n",
       "      dtype='object')"
      ]
     },
     "metadata": {},
     "output_type": "display_data"
    }
   ],
   "source": [
    "clubs_data = pd.read_csv(\"../1. Input/clubs.csv\")\n",
    "display(clubs_data.head())\n",
    "display(clubs_data.columns)"
   ]
  },
  {
   "cell_type": "markdown",
   "id": "0fe0bb14",
   "metadata": {},
   "source": [
    "###### 2.2 Inspect the Data Frame"
   ]
  },
  {
   "cell_type": "code",
   "execution_count": 504,
   "id": "c12bf7cc",
   "metadata": {
    "ExecuteTime": {
     "end_time": "2024-03-05T18:23:39.098636Z",
     "start_time": "2024-03-05T18:23:39.084221Z"
    }
   },
   "outputs": [
    {
     "data": {
      "text/plain": [
       "(426, 17)"
      ]
     },
     "metadata": {},
     "output_type": "display_data"
    },
    {
     "data": {
      "text/plain": [
       "club_id                    426\n",
       "club_code                  426\n",
       "name                       426\n",
       "domestic_competition_id     14\n",
       "total_market_value           0\n",
       "squad_size                  31\n",
       "average_age                 70\n",
       "foreigners_number           29\n",
       "foreigners_percentage      170\n",
       "national_team_players       22\n",
       "stadium_name               409\n",
       "stadium_seats              380\n",
       "net_transfer_record        276\n",
       "coach_name                   0\n",
       "last_season                 12\n",
       "filename                    12\n",
       "url                        426\n",
       "dtype: int64"
      ]
     },
     "metadata": {},
     "output_type": "display_data"
    }
   ],
   "source": [
    "display(clubs_data.shape) # (426, 17)\n",
    "#display(clubs_data.dtypes)\n",
    "display(clubs_data.nunique())\n",
    "# 426 unique clubs\n",
    "# 409 stadiums"
   ]
  },
  {
   "cell_type": "markdown",
   "id": "9ca5bbd8",
   "metadata": {},
   "source": [
    "###### 2.3 Descriptive Statistics"
   ]
  },
  {
   "cell_type": "code",
   "execution_count": 505,
   "id": "ff0a0450",
   "metadata": {
    "ExecuteTime": {
     "end_time": "2024-03-05T18:23:39.148170Z",
     "start_time": "2024-03-05T18:23:39.100642Z"
    }
   },
   "outputs": [
    {
     "data": {
      "text/html": [
       "<div>\n",
       "<style scoped>\n",
       "    .dataframe tbody tr th:only-of-type {\n",
       "        vertical-align: middle;\n",
       "    }\n",
       "\n",
       "    .dataframe tbody tr th {\n",
       "        vertical-align: top;\n",
       "    }\n",
       "\n",
       "    .dataframe thead th {\n",
       "        text-align: right;\n",
       "    }\n",
       "</style>\n",
       "<table border=\"1\" class=\"dataframe\">\n",
       "  <thead>\n",
       "    <tr style=\"text-align: right;\">\n",
       "      <th></th>\n",
       "      <th>club_id</th>\n",
       "      <th>club_code</th>\n",
       "      <th>name</th>\n",
       "      <th>domestic_competition_id</th>\n",
       "      <th>total_market_value</th>\n",
       "      <th>squad_size</th>\n",
       "      <th>average_age</th>\n",
       "      <th>foreigners_number</th>\n",
       "      <th>foreigners_percentage</th>\n",
       "      <th>national_team_players</th>\n",
       "      <th>stadium_name</th>\n",
       "      <th>stadium_seats</th>\n",
       "      <th>net_transfer_record</th>\n",
       "      <th>coach_name</th>\n",
       "      <th>last_season</th>\n",
       "      <th>filename</th>\n",
       "      <th>url</th>\n",
       "    </tr>\n",
       "  </thead>\n",
       "  <tbody>\n",
       "    <tr>\n",
       "      <th>count</th>\n",
       "      <td>426.000000</td>\n",
       "      <td>426</td>\n",
       "      <td>426</td>\n",
       "      <td>426</td>\n",
       "      <td>0.0</td>\n",
       "      <td>426.000000</td>\n",
       "      <td>388.000000</td>\n",
       "      <td>426.000000</td>\n",
       "      <td>379.000000</td>\n",
       "      <td>426.000000</td>\n",
       "      <td>426</td>\n",
       "      <td>426.000000</td>\n",
       "      <td>426</td>\n",
       "      <td>0.0</td>\n",
       "      <td>426.000000</td>\n",
       "      <td>426</td>\n",
       "      <td>426</td>\n",
       "    </tr>\n",
       "    <tr>\n",
       "      <th>unique</th>\n",
       "      <td>NaN</td>\n",
       "      <td>426</td>\n",
       "      <td>426</td>\n",
       "      <td>14</td>\n",
       "      <td>NaN</td>\n",
       "      <td>NaN</td>\n",
       "      <td>NaN</td>\n",
       "      <td>NaN</td>\n",
       "      <td>NaN</td>\n",
       "      <td>NaN</td>\n",
       "      <td>409</td>\n",
       "      <td>NaN</td>\n",
       "      <td>276</td>\n",
       "      <td>NaN</td>\n",
       "      <td>NaN</td>\n",
       "      <td>12</td>\n",
       "      <td>426</td>\n",
       "    </tr>\n",
       "    <tr>\n",
       "      <th>top</th>\n",
       "      <td>NaN</td>\n",
       "      <td>sv-darmstadt-98</td>\n",
       "      <td>Sportverein Darmstadt 1898 e. V.</td>\n",
       "      <td>TR1</td>\n",
       "      <td>NaN</td>\n",
       "      <td>NaN</td>\n",
       "      <td>NaN</td>\n",
       "      <td>NaN</td>\n",
       "      <td>NaN</td>\n",
       "      <td>NaN</td>\n",
       "      <td>Panthessaliko Stadio</td>\n",
       "      <td>NaN</td>\n",
       "      <td>0</td>\n",
       "      <td>NaN</td>\n",
       "      <td>NaN</td>\n",
       "      <td>../data/raw/transfermarkt-scraper/2023/clubs.j...</td>\n",
       "      <td>https://www.transfermarkt.co.uk/sv-darmstadt-9...</td>\n",
       "    </tr>\n",
       "    <tr>\n",
       "      <th>freq</th>\n",
       "      <td>NaN</td>\n",
       "      <td>1</td>\n",
       "      <td>1</td>\n",
       "      <td>40</td>\n",
       "      <td>NaN</td>\n",
       "      <td>NaN</td>\n",
       "      <td>NaN</td>\n",
       "      <td>NaN</td>\n",
       "      <td>NaN</td>\n",
       "      <td>NaN</td>\n",
       "      <td>2</td>\n",
       "      <td>NaN</td>\n",
       "      <td>113</td>\n",
       "      <td>NaN</td>\n",
       "      <td>NaN</td>\n",
       "      <td>238</td>\n",
       "      <td>1</td>\n",
       "    </tr>\n",
       "    <tr>\n",
       "      <th>mean</th>\n",
       "      <td>5314.525822</td>\n",
       "      <td>NaN</td>\n",
       "      <td>NaN</td>\n",
       "      <td>NaN</td>\n",
       "      <td>NaN</td>\n",
       "      <td>24.384977</td>\n",
       "      <td>25.428866</td>\n",
       "      <td>11.009390</td>\n",
       "      <td>45.308971</td>\n",
       "      <td>4.739437</td>\n",
       "      <td>NaN</td>\n",
       "      <td>24307.868545</td>\n",
       "      <td>NaN</td>\n",
       "      <td>NaN</td>\n",
       "      <td>2020.830986</td>\n",
       "      <td>NaN</td>\n",
       "      <td>NaN</td>\n",
       "    </tr>\n",
       "    <tr>\n",
       "      <th>std</th>\n",
       "      <td>11752.013818</td>\n",
       "      <td>NaN</td>\n",
       "      <td>NaN</td>\n",
       "      <td>NaN</td>\n",
       "      <td>NaN</td>\n",
       "      <td>8.815610</td>\n",
       "      <td>1.525694</td>\n",
       "      <td>6.719237</td>\n",
       "      <td>19.780345</td>\n",
       "      <td>4.997429</td>\n",
       "      <td>NaN</td>\n",
       "      <td>17136.239606</td>\n",
       "      <td>NaN</td>\n",
       "      <td>NaN</td>\n",
       "      <td>3.207283</td>\n",
       "      <td>NaN</td>\n",
       "      <td>NaN</td>\n",
       "    </tr>\n",
       "    <tr>\n",
       "      <th>min</th>\n",
       "      <td>3.000000</td>\n",
       "      <td>NaN</td>\n",
       "      <td>NaN</td>\n",
       "      <td>NaN</td>\n",
       "      <td>NaN</td>\n",
       "      <td>0.000000</td>\n",
       "      <td>18.300000</td>\n",
       "      <td>0.000000</td>\n",
       "      <td>2.400000</td>\n",
       "      <td>0.000000</td>\n",
       "      <td>NaN</td>\n",
       "      <td>1312.000000</td>\n",
       "      <td>NaN</td>\n",
       "      <td>NaN</td>\n",
       "      <td>2012.000000</td>\n",
       "      <td>NaN</td>\n",
       "      <td>NaN</td>\n",
       "    </tr>\n",
       "    <tr>\n",
       "      <th>25%</th>\n",
       "      <td>421.000000</td>\n",
       "      <td>NaN</td>\n",
       "      <td>NaN</td>\n",
       "      <td>NaN</td>\n",
       "      <td>NaN</td>\n",
       "      <td>25.000000</td>\n",
       "      <td>24.400000</td>\n",
       "      <td>6.000000</td>\n",
       "      <td>31.150000</td>\n",
       "      <td>1.000000</td>\n",
       "      <td>NaN</td>\n",
       "      <td>11024.500000</td>\n",
       "      <td>NaN</td>\n",
       "      <td>NaN</td>\n",
       "      <td>2019.000000</td>\n",
       "      <td>NaN</td>\n",
       "      <td>NaN</td>\n",
       "    </tr>\n",
       "    <tr>\n",
       "      <th>50%</th>\n",
       "      <td>1139.500000</td>\n",
       "      <td>NaN</td>\n",
       "      <td>NaN</td>\n",
       "      <td>NaN</td>\n",
       "      <td>NaN</td>\n",
       "      <td>27.000000</td>\n",
       "      <td>25.450000</td>\n",
       "      <td>12.000000</td>\n",
       "      <td>46.700000</td>\n",
       "      <td>3.000000</td>\n",
       "      <td>NaN</td>\n",
       "      <td>20046.000000</td>\n",
       "      <td>NaN</td>\n",
       "      <td>NaN</td>\n",
       "      <td>2023.000000</td>\n",
       "      <td>NaN</td>\n",
       "      <td>NaN</td>\n",
       "    </tr>\n",
       "    <tr>\n",
       "      <th>75%</th>\n",
       "      <td>3415.750000</td>\n",
       "      <td>NaN</td>\n",
       "      <td>NaN</td>\n",
       "      <td>NaN</td>\n",
       "      <td>NaN</td>\n",
       "      <td>29.000000</td>\n",
       "      <td>26.400000</td>\n",
       "      <td>16.000000</td>\n",
       "      <td>58.600000</td>\n",
       "      <td>7.000000</td>\n",
       "      <td>NaN</td>\n",
       "      <td>32798.000000</td>\n",
       "      <td>NaN</td>\n",
       "      <td>NaN</td>\n",
       "      <td>2023.000000</td>\n",
       "      <td>NaN</td>\n",
       "      <td>NaN</td>\n",
       "    </tr>\n",
       "    <tr>\n",
       "      <th>max</th>\n",
       "      <td>83678.000000</td>\n",
       "      <td>NaN</td>\n",
       "      <td>NaN</td>\n",
       "      <td>NaN</td>\n",
       "      <td>NaN</td>\n",
       "      <td>41.000000</td>\n",
       "      <td>28.800000</td>\n",
       "      <td>28.000000</td>\n",
       "      <td>100.000000</td>\n",
       "      <td>21.000000</td>\n",
       "      <td>NaN</td>\n",
       "      <td>81365.000000</td>\n",
       "      <td>NaN</td>\n",
       "      <td>NaN</td>\n",
       "      <td>2023.000000</td>\n",
       "      <td>NaN</td>\n",
       "      <td>NaN</td>\n",
       "    </tr>\n",
       "  </tbody>\n",
       "</table>\n",
       "</div>"
      ],
      "text/plain": [
       "             club_id        club_code                              name  \\\n",
       "count     426.000000              426                               426   \n",
       "unique           NaN              426                               426   \n",
       "top              NaN  sv-darmstadt-98  Sportverein Darmstadt 1898 e. V.   \n",
       "freq             NaN                1                                 1   \n",
       "mean     5314.525822              NaN                               NaN   \n",
       "std     11752.013818              NaN                               NaN   \n",
       "min         3.000000              NaN                               NaN   \n",
       "25%       421.000000              NaN                               NaN   \n",
       "50%      1139.500000              NaN                               NaN   \n",
       "75%      3415.750000              NaN                               NaN   \n",
       "max     83678.000000              NaN                               NaN   \n",
       "\n",
       "       domestic_competition_id  total_market_value  squad_size  average_age  \\\n",
       "count                      426                 0.0  426.000000   388.000000   \n",
       "unique                      14                 NaN         NaN          NaN   \n",
       "top                        TR1                 NaN         NaN          NaN   \n",
       "freq                        40                 NaN         NaN          NaN   \n",
       "mean                       NaN                 NaN   24.384977    25.428866   \n",
       "std                        NaN                 NaN    8.815610     1.525694   \n",
       "min                        NaN                 NaN    0.000000    18.300000   \n",
       "25%                        NaN                 NaN   25.000000    24.400000   \n",
       "50%                        NaN                 NaN   27.000000    25.450000   \n",
       "75%                        NaN                 NaN   29.000000    26.400000   \n",
       "max                        NaN                 NaN   41.000000    28.800000   \n",
       "\n",
       "        foreigners_number  foreigners_percentage  national_team_players  \\\n",
       "count          426.000000             379.000000             426.000000   \n",
       "unique                NaN                    NaN                    NaN   \n",
       "top                   NaN                    NaN                    NaN   \n",
       "freq                  NaN                    NaN                    NaN   \n",
       "mean            11.009390              45.308971               4.739437   \n",
       "std              6.719237              19.780345               4.997429   \n",
       "min              0.000000               2.400000               0.000000   \n",
       "25%              6.000000              31.150000               1.000000   \n",
       "50%             12.000000              46.700000               3.000000   \n",
       "75%             16.000000              58.600000               7.000000   \n",
       "max             28.000000             100.000000              21.000000   \n",
       "\n",
       "                stadium_name  stadium_seats net_transfer_record  coach_name  \\\n",
       "count                    426     426.000000                 426         0.0   \n",
       "unique                   409            NaN                 276         NaN   \n",
       "top     Panthessaliko Stadio            NaN                   0         NaN   \n",
       "freq                       2            NaN                 113         NaN   \n",
       "mean                     NaN   24307.868545                 NaN         NaN   \n",
       "std                      NaN   17136.239606                 NaN         NaN   \n",
       "min                      NaN    1312.000000                 NaN         NaN   \n",
       "25%                      NaN   11024.500000                 NaN         NaN   \n",
       "50%                      NaN   20046.000000                 NaN         NaN   \n",
       "75%                      NaN   32798.000000                 NaN         NaN   \n",
       "max                      NaN   81365.000000                 NaN         NaN   \n",
       "\n",
       "        last_season                                           filename  \\\n",
       "count    426.000000                                                426   \n",
       "unique          NaN                                                 12   \n",
       "top             NaN  ../data/raw/transfermarkt-scraper/2023/clubs.j...   \n",
       "freq            NaN                                                238   \n",
       "mean    2020.830986                                                NaN   \n",
       "std        3.207283                                                NaN   \n",
       "min     2012.000000                                                NaN   \n",
       "25%     2019.000000                                                NaN   \n",
       "50%     2023.000000                                                NaN   \n",
       "75%     2023.000000                                                NaN   \n",
       "max     2023.000000                                                NaN   \n",
       "\n",
       "                                                      url  \n",
       "count                                                 426  \n",
       "unique                                                426  \n",
       "top     https://www.transfermarkt.co.uk/sv-darmstadt-9...  \n",
       "freq                                                    1  \n",
       "mean                                                  NaN  \n",
       "std                                                   NaN  \n",
       "min                                                   NaN  \n",
       "25%                                                   NaN  \n",
       "50%                                                   NaN  \n",
       "75%                                                   NaN  \n",
       "max                                                   NaN  "
      ]
     },
     "metadata": {},
     "output_type": "display_data"
    }
   ],
   "source": [
    "display(clubs_data.describe(include = \"all\"))"
   ]
  },
  {
   "cell_type": "markdown",
   "id": "b2221ad0",
   "metadata": {},
   "source": [
    "###### 2.4 Select the desired variables from the clubs data frame and save it as clubs_df"
   ]
  },
  {
   "cell_type": "code",
   "execution_count": 506,
   "id": "4b30208b",
   "metadata": {
    "ExecuteTime": {
     "end_time": "2024-03-05T18:23:39.167969Z",
     "start_time": "2024-03-05T18:23:39.151177Z"
    }
   },
   "outputs": [
    {
     "data": {
      "text/html": [
       "<div>\n",
       "<style scoped>\n",
       "    .dataframe tbody tr th:only-of-type {\n",
       "        vertical-align: middle;\n",
       "    }\n",
       "\n",
       "    .dataframe tbody tr th {\n",
       "        vertical-align: top;\n",
       "    }\n",
       "\n",
       "    .dataframe thead th {\n",
       "        text-align: right;\n",
       "    }\n",
       "</style>\n",
       "<table border=\"1\" class=\"dataframe\">\n",
       "  <thead>\n",
       "    <tr style=\"text-align: right;\">\n",
       "      <th></th>\n",
       "      <th>club_id</th>\n",
       "      <th>domestic_competition_id</th>\n",
       "      <th>average_age</th>\n",
       "      <th>stadium_seats</th>\n",
       "      <th>net_transfer_record</th>\n",
       "    </tr>\n",
       "  </thead>\n",
       "  <tbody>\n",
       "    <tr>\n",
       "      <th>0</th>\n",
       "      <td>105</td>\n",
       "      <td>L1</td>\n",
       "      <td>26.3</td>\n",
       "      <td>17810</td>\n",
       "      <td>€-1.48m</td>\n",
       "    </tr>\n",
       "    <tr>\n",
       "      <th>1</th>\n",
       "      <td>11127</td>\n",
       "      <td>RU1</td>\n",
       "      <td>27.5</td>\n",
       "      <td>23000</td>\n",
       "      <td>€-770k</td>\n",
       "    </tr>\n",
       "    <tr>\n",
       "      <th>2</th>\n",
       "      <td>114</td>\n",
       "      <td>TR1</td>\n",
       "      <td>27.3</td>\n",
       "      <td>42590</td>\n",
       "      <td>€-14.50m</td>\n",
       "    </tr>\n",
       "    <tr>\n",
       "      <th>3</th>\n",
       "      <td>12</td>\n",
       "      <td>IT1</td>\n",
       "      <td>26.6</td>\n",
       "      <td>73261</td>\n",
       "      <td>+€72.25m</td>\n",
       "    </tr>\n",
       "    <tr>\n",
       "      <th>4</th>\n",
       "      <td>148</td>\n",
       "      <td>GB1</td>\n",
       "      <td>25.5</td>\n",
       "      <td>62850</td>\n",
       "      <td>€-154.90m</td>\n",
       "    </tr>\n",
       "  </tbody>\n",
       "</table>\n",
       "</div>"
      ],
      "text/plain": [
       "   club_id domestic_competition_id  average_age  stadium_seats  \\\n",
       "0      105                      L1         26.3          17810   \n",
       "1    11127                     RU1         27.5          23000   \n",
       "2      114                     TR1         27.3          42590   \n",
       "3       12                     IT1         26.6          73261   \n",
       "4      148                     GB1         25.5          62850   \n",
       "\n",
       "  net_transfer_record  \n",
       "0             €-1.48m  \n",
       "1              €-770k  \n",
       "2            €-14.50m  \n",
       "3            +€72.25m  \n",
       "4           €-154.90m  "
      ]
     },
     "metadata": {},
     "output_type": "display_data"
    },
    {
     "data": {
      "text/plain": [
       "(426, 5)"
      ]
     },
     "metadata": {},
     "output_type": "display_data"
    }
   ],
   "source": [
    "clubs_df = clubs_data[[\"club_id\",\"domestic_competition_id\",\"average_age\",\"stadium_seats\",\"net_transfer_record\"]]\n",
    "display(clubs_df.head())\n",
    "display(clubs_df.shape) # (426, 5) "
   ]
  },
  {
   "cell_type": "markdown",
   "id": "120ba4db",
   "metadata": {},
   "source": [
    "###### 2.5 Understand the Numerical, Categorical and Binary Variables "
   ]
  },
  {
   "cell_type": "code",
   "execution_count": 507,
   "id": "59f7b011",
   "metadata": {
    "ExecuteTime": {
     "end_time": "2024-03-05T18:23:39.180403Z",
     "start_time": "2024-03-05T18:23:39.169978Z"
    }
   },
   "outputs": [
    {
     "name": "stdout",
     "output_type": "stream",
     "text": [
      "Numerical Variables: Index(['club_id', 'average_age', 'stadium_seats'], dtype='object')\n",
      "Categorical Variables: Index(['domestic_competition_id', 'net_transfer_record'], dtype='object')\n",
      "Total Numerical Variables:  3\n",
      "Total Categorical Variables:  2\n"
     ]
    }
   ],
   "source": [
    "# Create lists to hold the names of each type of column\n",
    "numerical_variables = []\n",
    "categorical_variables = []\n",
    "binary_variables = []\n",
    "\n",
    "# select numerical columns\n",
    "numerical_variables = clubs_df.select_dtypes(include='number').columns\n",
    "\n",
    "#select categorical columns\n",
    "categorical_variables =  clubs_df.select_dtypes(include='object').columns\n",
    "\n",
    "print(\"Numerical Variables:\", numerical_variables)\n",
    "print(\"Categorical Variables:\", categorical_variables)\n",
    "\n",
    "print(\"Total Numerical Variables: \",len(numerical_variables))\n",
    "print(\"Total Categorical Variables: \",len(categorical_variables))"
   ]
  },
  {
   "cell_type": "markdown",
   "id": "7991e9b1",
   "metadata": {},
   "source": [
    "###### 2.6 Inspect Numerical Variables  and Address Null Values"
   ]
  },
  {
   "cell_type": "markdown",
   "id": "0bf3bf13",
   "metadata": {},
   "source": []
  },
  {
   "cell_type": "code",
   "execution_count": 508,
   "id": "8058710f",
   "metadata": {
    "ExecuteTime": {
     "end_time": "2024-03-05T18:23:39.208232Z",
     "start_time": "2024-03-05T18:23:39.182411Z"
    }
   },
   "outputs": [
    {
     "data": {
      "text/plain": [
       "club_id            int64\n",
       "average_age      float64\n",
       "stadium_seats      int64\n",
       "dtype: object"
      ]
     },
     "metadata": {},
     "output_type": "display_data"
    },
    {
     "data": {
      "text/plain": [
       "club_id           0\n",
       "average_age      38\n",
       "stadium_seats     0\n",
       "dtype: int64"
      ]
     },
     "metadata": {},
     "output_type": "display_data"
    },
    {
     "name": "stderr",
     "output_type": "stream",
     "text": [
      "C:\\Users\\Lenovo\\AppData\\Local\\Temp\\ipykernel_12516\\3312100006.py:17: SettingWithCopyWarning: \n",
      "A value is trying to be set on a copy of a slice from a DataFrame.\n",
      "Try using .loc[row_indexer,col_indexer] = value instead\n",
      "\n",
      "See the caveats in the documentation: https://pandas.pydata.org/pandas-docs/stable/user_guide/indexing.html#returning-a-view-versus-a-copy\n",
      "  clubs_df['average_age'] = clubs_df['average_age'].fillna(average_age_competition_id)\n"
     ]
    },
    {
     "data": {
      "text/plain": [
       "club_id           0\n",
       "average_age      38\n",
       "stadium_seats     0\n",
       "dtype: int64"
      ]
     },
     "metadata": {},
     "output_type": "display_data"
    }
   ],
   "source": [
    "display(clubs_df[numerical_variables].dtypes) # Data types checked\n",
    "display(clubs_df[numerical_variables].isnull().sum())\n",
    "# average_age      38 [Needs Further Inspection]\n",
    "\n",
    "# Average Age Variable \n",
    "average_age_null = clubs_df[clubs_df[\"average_age\"].isnull()]\n",
    "#display(average_age_null.head())\n",
    "\n",
    "# Mode Of Action : Mean Imputation By Domestic Competition ID\n",
    "# Reason : Imputation/Interpolation/Extrapolation might not be the best feasible measure, however\n",
    "# by subsetting the rows, it would remove 38 rows from the initial master data frame which might\n",
    "# potentially cause an effect on the overall analysis.\n",
    "\n",
    "#display(clubs_df.shape) # (426, 5)\n",
    "average_age_competition_id = clubs_df.groupby('club_id')['average_age'].transform('mean')\n",
    "#display(average_age_competition_id)\n",
    "clubs_df['average_age'] = clubs_df['average_age'].fillna(average_age_competition_id)\n",
    "#display(clubs_df.shape) # (426, 5)\n",
    "\n",
    "# Check to confirm that there are no null values present within numerical variables\n",
    "display(clubs_df[numerical_variables].isnull().sum())"
   ]
  },
  {
   "cell_type": "code",
   "execution_count": 509,
   "id": "eb7c82ba",
   "metadata": {},
   "outputs": [],
   "source": [
    "# read the player_csv file to extract the date_of_birth, last_season and current_club_id to compute the average age of the teams with missing value in average age\n",
    "# (there is link between current_club_id and club_id from the clubs_df)\n",
    "players_df = pd.read_csv(\"../1. Input/players.csv\")"
   ]
  },
  {
   "cell_type": "code",
   "execution_count": 510,
   "id": "6071b743",
   "metadata": {},
   "outputs": [
    {
     "name": "stdout",
     "output_type": "stream",
     "text": [
      "Index(['player_id', 'first_name', 'last_name', 'name', 'last_season',\n",
      "       'current_club_id', 'player_code', 'country_of_birth', 'city_of_birth',\n",
      "       'country_of_citizenship', 'date_of_birth', 'sub_position', 'position',\n",
      "       'foot', 'height_in_cm', 'contract_expiration_date', 'agent_name',\n",
      "       'image_url', 'url', 'current_club_domestic_competition_id',\n",
      "       'current_club_name', 'market_value_in_eur',\n",
      "       'highest_market_value_in_eur'],\n",
      "      dtype='object')\n"
     ]
    }
   ],
   "source": [
    "print(players_df.columns)"
   ]
  },
  {
   "cell_type": "code",
   "execution_count": 511,
   "id": "c53923f7",
   "metadata": {},
   "outputs": [
    {
     "name": "stdout",
     "output_type": "stream",
     "text": [
      "     club_id domestic_competition_id  average_age  stadium_seats  \\\n",
      "11     21957                     GR1          NaN           3700   \n",
      "25      6996                    UKR1          NaN          10640   \n",
      "38      2477                    UKR1          NaN          28051   \n",
      "53       566                     BE1          NaN          12771   \n",
      "68      1411                     BE1          NaN          12662   \n",
      "91     16239                    UKR1          NaN          12060   \n",
      "96     28956                     GR1          NaN           4000   \n",
      "119    16247                    UKR1          NaN           5100   \n",
      "120    20100                     DK1          NaN          10000   \n",
      "126     3691                     RU1          NaN          10028   \n",
      "130      498                     BE1          NaN          12000   \n",
      "131      524                     TR1          NaN          33502   \n",
      "137      976                     PO1          NaN           2500   \n",
      "142    11126                     RU1          NaN          44442   \n",
      "144    12438                     RU1          NaN          17856   \n",
      "158     3336                     PO1          NaN           5441   \n",
      "163     6414                    UKR1          NaN          38685   \n",
      "164     6993                    UKR1          NaN          12680   \n",
      "175      128                     GR1          NaN           7361   \n",
      "202    29228                     BE1          NaN          10830   \n",
      "203     3216                     TR1          NaN          25000   \n",
      "210    40426                     RU1          NaN          20985   \n",
      "221     1506                     TR1          NaN          12400   \n",
      "225    23611                    UKR1          NaN           1678   \n",
      "254     2700                     RU1          NaN           1600   \n",
      "268    16245                    UKR1          NaN           5826   \n",
      "277      339                    UKR1          NaN          24381   \n",
      "298     2439                     RU1          NaN          31654   \n",
      "299     2703                     RU1          NaN          32464   \n",
      "307     4482                    UKR1          NaN          12080   \n",
      "325      204                     BE1          NaN          14538   \n",
      "326     2227                    UKR1          NaN          19978   \n",
      "341     6894                     TR1          NaN           2000   \n",
      "345      862                     IT1          NaN          31045   \n",
      "347     9007                    UKR1          NaN          70050   \n",
      "358    41201                     RU1          NaN          44149   \n",
      "363     6994                    UKR1          NaN          11883   \n",
      "379     2783                    UKR1          NaN           5090   \n",
      "\n",
      "    net_transfer_record  \n",
      "11                    0  \n",
      "25                    0  \n",
      "38                    0  \n",
      "53                    0  \n",
      "68                    0  \n",
      "91                    0  \n",
      "96                    0  \n",
      "119                   0  \n",
      "120                   0  \n",
      "126                   0  \n",
      "130                   0  \n",
      "131                   0  \n",
      "137                   0  \n",
      "142                   0  \n",
      "144                   0  \n",
      "158                   0  \n",
      "163                   0  \n",
      "164              +€100k  \n",
      "175                   0  \n",
      "202               +€40k  \n",
      "203                   0  \n",
      "210                   0  \n",
      "221                   0  \n",
      "225                   0  \n",
      "254                   0  \n",
      "268                   0  \n",
      "277                   0  \n",
      "298                   0  \n",
      "299                   0  \n",
      "307                   0  \n",
      "325                   0  \n",
      "326                   0  \n",
      "341                   0  \n",
      "345                   0  \n",
      "347                   0  \n",
      "358                   0  \n",
      "363                   0  \n",
      "379                   0  \n"
     ]
    }
   ],
   "source": [
    "print(clubs_df[clubs_df[\"average_age\"].isnull()])"
   ]
  },
  {
   "cell_type": "code",
   "execution_count": 512,
   "id": "c0794a9e",
   "metadata": {},
   "outputs": [
    {
     "name": "stdout",
     "output_type": "stream",
     "text": [
      "Index(['game_id', 'competition_id', 'season', 'date', 'home_club_id',\n",
      "       'away_club_id', 'home_club_goals', 'away_club_goals',\n",
      "       'home_club_position', 'away_club_position', 'stadium', 'attendance',\n",
      "       'home_club_formation', 'away_club_formation', 'home_club_name',\n",
      "       'away_club_name', 'competition_type', 'home_club_strategy',\n",
      "       'away_club_strategy'],\n",
      "      dtype='object')\n"
     ]
    }
   ],
   "source": [
    "print(games_df.columns)"
   ]
  },
  {
   "cell_type": "code",
   "execution_count": 513,
   "id": "d891b7b4",
   "metadata": {},
   "outputs": [],
   "source": [
    "# import game_lineups.csv \n",
    "game_lineups_df = pd.read_csv(\"../0. Raw Input Data (do not edit)/game_lineups.csv\")\n",
    "\n",
    "# merge game_lineups and game_df by game_id to get season, club_id and player id (necessary for the next merging) in the same dataframe\n",
    "first_merged_df = games_df[['game_id', 'season']].merge(\n",
    "    game_lineups_df[['game_id', 'club_id', 'player_id']],\n",
    "    on='game_id',\n",
    "    how='inner'  # get multiple rows for each game - one row for each player in the lineup of that game.\n",
    ")"
   ]
  },
  {
   "cell_type": "code",
   "execution_count": 514,
   "id": "92bf2824",
   "metadata": {},
   "outputs": [],
   "source": [
    "# merge the previous merged dataframe with player_df by player_id to get mainly dates of birth and heights of players\n",
    "second_merged_df = first_merged_df.merge(\n",
    "    players_df[['player_id','current_club_id', 'date_of_birth', 'height_in_cm']],\n",
    "    on='player_id',\n",
    "    how='left'  # using 'left' join to keep all players from the merged dataset even if there is no matching 'player_id' in players_df\n",
    ")"
   ]
  },
  {
   "cell_type": "code",
   "execution_count": 515,
   "id": "bc0b010b",
   "metadata": {},
   "outputs": [
    {
     "name": "stdout",
     "output_type": "stream",
     "text": [
      "3194\n"
     ]
    }
   ],
   "source": [
    "# inspect the number of missing values in date_of_birth\n",
    "print(second_merged_df['date_of_birth'].isnull().sum())"
   ]
  },
  {
   "cell_type": "code",
   "execution_count": 516,
   "id": "15fd3050",
   "metadata": {},
   "outputs": [],
   "source": [
    "# since the main purpose of this merging is finding the average age for each team for each season, imputing mean in the missing values does not provide extra value\n",
    "# drop rows where 'date_of_birth' is NaN\n",
    "second_merged_df_cleaned = second_merged_df.dropna(subset=['date_of_birth'])"
   ]
  },
  {
   "cell_type": "code",
   "execution_count": 517,
   "id": "cc4c1211",
   "metadata": {},
   "outputs": [
    {
     "name": "stdout",
     "output_type": "stream",
     "text": [
      "         game_id  season  club_id  player_id  current_club_id date_of_birth  \\\n",
      "0        2321044    2013       16         26             16.0    1980-08-06   \n",
      "1        2321044    2013       16        410             16.0    1980-02-13   \n",
      "2        2321044    2013       23       1659             23.0    1980-04-01   \n",
      "3        2321044    2013       23       2386             23.0    1979-05-22   \n",
      "4        2321044    2013       23       6287             23.0    1984-04-14   \n",
      "...          ...     ...      ...        ...              ...           ...   \n",
      "1641688  4097959    2023      467     646991            467.0    2003-01-17   \n",
      "1641689  4097959    2023      467     694039            467.0    2005-08-01   \n",
      "1641690  4097959    2023      383     702869            383.0    2001-01-28   \n",
      "1641692  4097959    2023      383     813437            383.0    2005-04-06   \n",
      "1641693  4097959    2023      467     957544            467.0    2003-09-25   \n",
      "\n",
      "         height_in_cm  \n",
      "0               190.0  \n",
      "1               187.0  \n",
      "2               179.0  \n",
      "3               186.0  \n",
      "4                 NaN  \n",
      "...               ...  \n",
      "1641688         193.0  \n",
      "1641689           NaN  \n",
      "1641690         185.0  \n",
      "1641692         179.0  \n",
      "1641693         176.0  \n",
      "\n",
      "[1638500 rows x 7 columns]\n"
     ]
    }
   ],
   "source": [
    "print(second_merged_df_cleaned)"
   ]
  },
  {
   "cell_type": "code",
   "execution_count": 518,
   "id": "98ee32df",
   "metadata": {},
   "outputs": [
    {
     "name": "stderr",
     "output_type": "stream",
     "text": [
      "C:\\Users\\Lenovo\\AppData\\Local\\Temp\\ipykernel_12516\\2072485055.py:16: SettingWithCopyWarning: \n",
      "A value is trying to be set on a copy of a slice from a DataFrame.\n",
      "Try using .loc[row_indexer,col_indexer] = value instead\n",
      "\n",
      "See the caveats in the documentation: https://pandas.pydata.org/pandas-docs/stable/user_guide/indexing.html#returning-a-view-versus-a-copy\n",
      "  second_merged_df_cleaned['age'] = second_merged_df_cleaned.apply(\n"
     ]
    }
   ],
   "source": [
    "from datetime import datetime\n",
    "\n",
    "# function to calculate age based on date_of_birth and the season of the game\n",
    "def calculate_age(dob, season):\n",
    "    if '-' in dob:  # assuming the format 'YYYY-MM-DD'\n",
    "        dob = datetime.strptime(dob, \"%Y-%m-%d\")\n",
    "    else:  # sssuming the format 'MM/DD/YYYY'\n",
    "        dob = datetime.strptime(dob, \"%m/%d/%Y\")\n",
    "    season_start_year = int(season)\n",
    "    #  calculates the difference between the year of the last season and the birth year (first subtract)\n",
    "    #  if the current season is before the player's birthday (True),\n",
    "    #  it subtracts 1 from the initial age calculation because the player has not had their birthday yet for that season/year\n",
    "    return season_start_year - dob.year - ((season_start_year, dob.month) < (dob.month, dob.day)) \n",
    "\n",
    "# calculate ages for all players in the dataframe using the 'season' column\n",
    "second_merged_df_cleaned['age'] = second_merged_df_cleaned.apply(\n",
    "    lambda row: calculate_age(row['date_of_birth'], row['season']), axis=1)\n",
    "\n",
    "# group by 'club_id' and 'season' to calculate the average age for each team for each season\n",
    "# store the average age of players for each team for each season in dataframe\n",
    "averages_by_team_season = second_merged_df_cleaned.groupby(['club_id', 'season'])['age'].mean().reset_index()\n",
    "\n",
    "# rename the columns for clarity\n",
    "averages_by_team_season.rename(columns={'age': 'average_age'}, inplace=True)\n"
   ]
  },
  {
   "cell_type": "code",
   "execution_count": 519,
   "id": "199bb0fa",
   "metadata": {},
   "outputs": [
    {
     "name": "stdout",
     "output_type": "stream",
     "text": [
      "20337\n"
     ]
    }
   ],
   "source": [
    "print(second_merged_df_cleaned['height_in_cm'].isnull().sum())"
   ]
  },
  {
   "cell_type": "code",
   "execution_count": 520,
   "id": "bc9938bc",
   "metadata": {},
   "outputs": [],
   "source": [
    "# the NaN values in height_in_cm are a lot more than age and so there are dropped now, in order not to affect the calculation of average ages \n",
    "second_merged_df_cleaned = second_merged_df.dropna(subset=['height_in_cm'])\n",
    "\n",
    "# calculate the average height of players for each team for each season and store them\n",
    "average_ages_team_season = second_merged_df_cleaned.groupby(['club_id', 'season'])['height_in_cm'].mean().reset_index()\n",
    "\n",
    "# rename the columns for clarity\n",
    "average_ages_team_season.rename(columns={'height_in_cm': 'average_height_in_cm'}, inplace=True)\n",
    "\n",
    "# merging back to the dataframe with the averages for each team for each season\n",
    "averages_by_team_season = averages_by_team_season.merge(average_ages_team_season, on=['club_id', 'season'], how='left')"
   ]
  },
  {
   "cell_type": "code",
   "execution_count": 521,
   "id": "508e0d19",
   "metadata": {},
   "outputs": [
    {
     "name": "stdout",
     "output_type": "stream",
     "text": [
      "      club_id  season  average_age  average_height_in_cm\n",
      "0           3    2014    25.053265            183.845735\n",
      "1           3    2015    24.905074            184.824057\n",
      "2           3    2016    25.248773            184.980496\n",
      "3           3    2017    25.540098            184.611015\n",
      "4           3    2019    25.810931            185.041359\n",
      "...       ...     ...          ...                   ...\n",
      "2625    68608    2014    25.589491            183.050903\n",
      "2626    68608    2015    25.815486            182.645799\n",
      "2627    68608    2016    25.409836            183.316393\n",
      "2628    68608    2017    26.511438            182.946078\n",
      "2629    83678    2022    24.556098            181.294309\n",
      "\n",
      "[2630 rows x 4 columns]\n"
     ]
    }
   ],
   "source": [
    "print(averages_by_team_season)"
   ]
  },
  {
   "cell_type": "markdown",
   "id": "b8f271dd",
   "metadata": {},
   "source": [
    "The average ages and heights and market values and will be imputed after the merging, so that the merging will be done both according to club_id and season.\n",
    "The missing values in averages ages in clubs_df will be imputed this way later for the same reason."
   ]
  },
  {
   "cell_type": "markdown",
   "id": "3c3a25ef",
   "metadata": {},
   "source": [
    "It follows the merging of player_valuations.csv to the second_merged_df_cleaned to add the players' market value for the correspoding season and then calculate the average market value for each team for each season."
   ]
  },
  {
   "cell_type": "code",
   "execution_count": 522,
   "id": "b8767835",
   "metadata": {},
   "outputs": [],
   "source": [
    "# import player_valuations.csv and store it\n",
    "player_valuations_df = pd.read_csv(\"../0. Raw Input Data (do not edit)/player_valuations.csv\")\n",
    "\n",
    "# merge the second_merged_df_cleaned with the player_valuation_df by player_id to add the market values of players in it\n",
    "second_merged_df_cleaned = second_merged_df_cleaned.merge(\n",
    "    player_valuations_df[['player_id','market_value_in_eur']],\n",
    "    on='player_id',\n",
    "    how='left' )"
   ]
  },
  {
   "cell_type": "code",
   "execution_count": 523,
   "id": "60e0abde",
   "metadata": {},
   "outputs": [
    {
     "name": "stdout",
     "output_type": "stream",
     "text": [
      "1462\n"
     ]
    }
   ],
   "source": [
    "# insperct the missing values in market values after merging\n",
    "print(second_merged_df_cleaned['market_value_in_eur'].isnull().sum())"
   ]
  },
  {
   "cell_type": "code",
   "execution_count": 524,
   "id": "40179144",
   "metadata": {},
   "outputs": [],
   "source": [
    "# the NaN values in market_value_in_eur are dropped now \n",
    "second_merged_df_cleaned = second_merged_df_cleaned.dropna(subset=['market_value_in_eur'])\n",
    "\n",
    "# calculate the average market values of players for each team for each season and store them\n",
    "average_market_value = second_merged_df_cleaned.groupby(['club_id', 'season'])['market_value_in_eur'].mean().reset_index()\n",
    "\n",
    "# rename the columns for clarity\n",
    "average_market_value.rename(columns={'market_value_in_eur': 'average_market_value_in_eur'}, inplace=True)\n",
    "\n",
    "# merge back to the dataframe with the averages for each team for each season\n",
    "averages_by_team_season = averages_by_team_season.merge(average_market_value, on=['club_id', 'season'], how='left')"
   ]
  },
  {
   "cell_type": "code",
   "execution_count": 525,
   "id": "e1f0e64a",
   "metadata": {},
   "outputs": [
    {
     "name": "stdout",
     "output_type": "stream",
     "text": [
      "      club_id  season  average_age  average_height_in_cm  \\\n",
      "0           3    2014    25.053265            183.845735   \n",
      "1           3    2015    24.905074            184.824057   \n",
      "2           3    2016    25.248773            184.980496   \n",
      "3           3    2017    25.540098            184.611015   \n",
      "4           3    2019    25.810931            185.041359   \n",
      "...       ...     ...          ...                   ...   \n",
      "2625    68608    2014    25.589491            183.050903   \n",
      "2626    68608    2015    25.815486            182.645799   \n",
      "2627    68608    2016    25.409836            183.316393   \n",
      "2628    68608    2017    26.511438            182.946078   \n",
      "2629    83678    2022    24.556098            181.294309   \n",
      "\n",
      "      average_market_value_in_eur  \n",
      "0                    2.365691e+06  \n",
      "1                    2.846478e+06  \n",
      "2                    2.846050e+06  \n",
      "3                    3.050579e+06  \n",
      "4                    3.331845e+06  \n",
      "...                           ...  \n",
      "2625                 1.115944e+06  \n",
      "2626                 9.021219e+05  \n",
      "2627                 1.312539e+06  \n",
      "2628                 8.305946e+05  \n",
      "2629                 2.857585e+05  \n",
      "\n",
      "[2630 rows x 5 columns]\n"
     ]
    }
   ],
   "source": [
    "print(averages_by_team_season)"
   ]
  },
  {
   "cell_type": "markdown",
   "id": "5b0aff36",
   "metadata": {},
   "source": [
    "###### 2.7 Inspect Numerical Variables and Extreme Values"
   ]
  },
  {
   "cell_type": "code",
   "execution_count": 526,
   "id": "3efd8af5",
   "metadata": {
    "ExecuteTime": {
     "end_time": "2024-03-05T18:23:39.366704Z",
     "start_time": "2024-03-05T18:23:39.210415Z"
    }
   },
   "outputs": [
    {
     "data": {
      "image/png": "[encoded data removed]",
      "text/plain": [
       "<Figure size 640x480 with 1 Axes>"
      ]
     },
     "metadata": {},
     "output_type": "display_data"
    },
    {
     "name": "stdout",
     "output_type": "stream",
     "text": [
      "The number of outliers in average age variable:  16\n"
     ]
    },
    {
     "data": {
      "text/plain": [
       "<Figure size 640x480 with 0 Axes>"
      ]
     },
     "metadata": {},
     "output_type": "display_data"
    }
   ],
   "source": [
    "# Check for extreme values in average_age\n",
    "sns.boxplot(data = clubs_df['average_age'])\n",
    "plt.show()\n",
    "plt.clf()\n",
    "\n",
    "# Examining outliers for average_age less than 23 [Young Players]\n",
    "average_age_outlier = clubs_df[(clubs_df[\"average_age\"] < 23)]\n",
    "#display(average_age_outlier)\n",
    "print(\"The number of outliers in average age variable: \",len(average_age_outlier))\n",
    "# These are young players that range between 18 and 22 and does not need to be removed."
   ]
  },
  {
   "cell_type": "markdown",
   "id": "76019308",
   "metadata": {},
   "source": [
    "###### 2.8 Inspect Categorical Variables and Address Null Values"
   ]
  },
  {
   "cell_type": "code",
   "execution_count": 527,
   "id": "6310e2c4",
   "metadata": {
    "ExecuteTime": {
     "end_time": "2024-03-05T18:23:39.413065Z",
     "start_time": "2024-03-05T18:23:39.371964Z"
    }
   },
   "outputs": [
    {
     "data": {
      "text/html": [
       "<div>\n",
       "<style scoped>\n",
       "    .dataframe tbody tr th:only-of-type {\n",
       "        vertical-align: middle;\n",
       "    }\n",
       "\n",
       "    .dataframe tbody tr th {\n",
       "        vertical-align: top;\n",
       "    }\n",
       "\n",
       "    .dataframe thead th {\n",
       "        text-align: right;\n",
       "    }\n",
       "</style>\n",
       "<table border=\"1\" class=\"dataframe\">\n",
       "  <thead>\n",
       "    <tr style=\"text-align: right;\">\n",
       "      <th></th>\n",
       "      <th>domestic_competition_id</th>\n",
       "      <th>net_transfer_record</th>\n",
       "    </tr>\n",
       "  </thead>\n",
       "  <tbody>\n",
       "    <tr>\n",
       "      <th>0</th>\n",
       "      <td>L1</td>\n",
       "      <td>€-1.48m</td>\n",
       "    </tr>\n",
       "    <tr>\n",
       "      <th>1</th>\n",
       "      <td>RU1</td>\n",
       "      <td>€-770k</td>\n",
       "    </tr>\n",
       "    <tr>\n",
       "      <th>2</th>\n",
       "      <td>TR1</td>\n",
       "      <td>€-14.50m</td>\n",
       "    </tr>\n",
       "    <tr>\n",
       "      <th>3</th>\n",
       "      <td>IT1</td>\n",
       "      <td>+€72.25m</td>\n",
       "    </tr>\n",
       "    <tr>\n",
       "      <th>4</th>\n",
       "      <td>GB1</td>\n",
       "      <td>€-154.90m</td>\n",
       "    </tr>\n",
       "  </tbody>\n",
       "</table>\n",
       "</div>"
      ],
      "text/plain": [
       "  domestic_competition_id net_transfer_record\n",
       "0                      L1             €-1.48m\n",
       "1                     RU1              €-770k\n",
       "2                     TR1            €-14.50m\n",
       "3                     IT1            +€72.25m\n",
       "4                     GB1           €-154.90m"
      ]
     },
     "metadata": {},
     "output_type": "display_data"
    },
    {
     "data": {
      "text/html": [
       "<div>\n",
       "<style scoped>\n",
       "    .dataframe tbody tr th:only-of-type {\n",
       "        vertical-align: middle;\n",
       "    }\n",
       "\n",
       "    .dataframe tbody tr th {\n",
       "        vertical-align: top;\n",
       "    }\n",
       "\n",
       "    .dataframe thead th {\n",
       "        text-align: right;\n",
       "    }\n",
       "</style>\n",
       "<table border=\"1\" class=\"dataframe\">\n",
       "  <thead>\n",
       "    <tr style=\"text-align: right;\">\n",
       "      <th></th>\n",
       "      <th>domestic_competition_id</th>\n",
       "      <th>net_transfer_record</th>\n",
       "    </tr>\n",
       "  </thead>\n",
       "  <tbody>\n",
       "    <tr>\n",
       "      <th>count</th>\n",
       "      <td>426</td>\n",
       "      <td>426</td>\n",
       "    </tr>\n",
       "    <tr>\n",
       "      <th>unique</th>\n",
       "      <td>14</td>\n",
       "      <td>276</td>\n",
       "    </tr>\n",
       "    <tr>\n",
       "      <th>top</th>\n",
       "      <td>TR1</td>\n",
       "      <td>0</td>\n",
       "    </tr>\n",
       "    <tr>\n",
       "      <th>freq</th>\n",
       "      <td>40</td>\n",
       "      <td>113</td>\n",
       "    </tr>\n",
       "  </tbody>\n",
       "</table>\n",
       "</div>"
      ],
      "text/plain": [
       "       domestic_competition_id net_transfer_record\n",
       "count                      426                 426\n",
       "unique                      14                 276\n",
       "top                        TR1                   0\n",
       "freq                        40                 113"
      ]
     },
     "metadata": {},
     "output_type": "display_data"
    },
    {
     "data": {
      "text/plain": [
       "domestic_competition_id    object\n",
       "net_transfer_record        object\n",
       "dtype: object"
      ]
     },
     "metadata": {},
     "output_type": "display_data"
    },
    {
     "data": {
      "text/plain": [
       "domestic_competition_id    0\n",
       "net_transfer_record        0\n",
       "dtype: int64"
      ]
     },
     "metadata": {},
     "output_type": "display_data"
    },
    {
     "data": {
      "text/plain": [
       "(426, 5)"
      ]
     },
     "metadata": {},
     "output_type": "display_data"
    }
   ],
   "source": [
    "display(clubs_df[categorical_variables].head())\n",
    "display(clubs_df[categorical_variables].describe(include = \"all\"))\n",
    "display(clubs_df[categorical_variables].dtypes) \n",
    "# The net transfer record needs to be converted into float64 and requires adequate feature engineering\n",
    "# for extracting the required information.\n",
    "display(clubs_df[categorical_variables].isnull().sum()) # No null values reported \n",
    "# Final observations/columns for the clubs data frame\n",
    "display(clubs_df.shape) # (426, 5)"
   ]
  },
  {
   "cell_type": "markdown",
   "id": "a50199ef",
   "metadata": {},
   "source": [
    "###### 2.9 Feature Engineering for Net Transfer Record [Convert the string / object into float64]"
   ]
  },
  {
   "cell_type": "code",
   "execution_count": 528,
   "id": "7980b34b",
   "metadata": {
    "ExecuteTime": {
     "end_time": "2024-03-05T18:23:39.457789Z",
     "start_time": "2024-03-05T18:23:39.416121Z"
    }
   },
   "outputs": [
    {
     "data": {
      "text/plain": [
       "276"
      ]
     },
     "metadata": {},
     "output_type": "display_data"
    },
    {
     "data": {
      "text/html": [
       "<div>\n",
       "<style scoped>\n",
       "    .dataframe tbody tr th:only-of-type {\n",
       "        vertical-align: middle;\n",
       "    }\n",
       "\n",
       "    .dataframe tbody tr th {\n",
       "        vertical-align: top;\n",
       "    }\n",
       "\n",
       "    .dataframe thead th {\n",
       "        text-align: right;\n",
       "    }\n",
       "</style>\n",
       "<table border=\"1\" class=\"dataframe\">\n",
       "  <thead>\n",
       "    <tr style=\"text-align: right;\">\n",
       "      <th></th>\n",
       "      <th>club_id</th>\n",
       "      <th>domestic_competition_id</th>\n",
       "      <th>average_age</th>\n",
       "      <th>stadium_seats</th>\n",
       "      <th>net_transfer_record</th>\n",
       "    </tr>\n",
       "  </thead>\n",
       "  <tbody>\n",
       "    <tr>\n",
       "      <th>0</th>\n",
       "      <td>105</td>\n",
       "      <td>L1</td>\n",
       "      <td>26.3</td>\n",
       "      <td>17810</td>\n",
       "      <td>€-1.48m</td>\n",
       "    </tr>\n",
       "    <tr>\n",
       "      <th>1</th>\n",
       "      <td>11127</td>\n",
       "      <td>RU1</td>\n",
       "      <td>27.5</td>\n",
       "      <td>23000</td>\n",
       "      <td>€-770k</td>\n",
       "    </tr>\n",
       "    <tr>\n",
       "      <th>2</th>\n",
       "      <td>114</td>\n",
       "      <td>TR1</td>\n",
       "      <td>27.3</td>\n",
       "      <td>42590</td>\n",
       "      <td>€-14.50m</td>\n",
       "    </tr>\n",
       "    <tr>\n",
       "      <th>3</th>\n",
       "      <td>12</td>\n",
       "      <td>IT1</td>\n",
       "      <td>26.6</td>\n",
       "      <td>73261</td>\n",
       "      <td>+€72.25m</td>\n",
       "    </tr>\n",
       "    <tr>\n",
       "      <th>4</th>\n",
       "      <td>148</td>\n",
       "      <td>GB1</td>\n",
       "      <td>25.5</td>\n",
       "      <td>62850</td>\n",
       "      <td>€-154.90m</td>\n",
       "    </tr>\n",
       "  </tbody>\n",
       "</table>\n",
       "</div>"
      ],
      "text/plain": [
       "   club_id domestic_competition_id  average_age  stadium_seats  \\\n",
       "0      105                      L1         26.3          17810   \n",
       "1    11127                     RU1         27.5          23000   \n",
       "2      114                     TR1         27.3          42590   \n",
       "3       12                     IT1         26.6          73261   \n",
       "4      148                     GB1         25.5          62850   \n",
       "\n",
       "  net_transfer_record  \n",
       "0             €-1.48m  \n",
       "1              €-770k  \n",
       "2            €-14.50m  \n",
       "3            +€72.25m  \n",
       "4           €-154.90m  "
      ]
     },
     "metadata": {},
     "output_type": "display_data"
    },
    {
     "name": "stderr",
     "output_type": "stream",
     "text": [
      "C:\\Users\\Lenovo\\AppData\\Local\\Temp\\ipykernel_12516\\2554671223.py:4: SettingWithCopyWarning: \n",
      "A value is trying to be set on a copy of a slice from a DataFrame.\n",
      "Try using .loc[row_indexer,col_indexer] = value instead\n",
      "\n",
      "See the caveats in the documentation: https://pandas.pydata.org/pandas-docs/stable/user_guide/indexing.html#returning-a-view-versus-a-copy\n",
      "  clubs_df['net_transfer_record'] = clubs_df['net_transfer_record'].str.replace('€', '').str.replace('m', 'e6').str.replace('k', 'e3')\n",
      "C:\\Users\\Lenovo\\AppData\\Local\\Temp\\ipykernel_12516\\2554671223.py:5: SettingWithCopyWarning: \n",
      "A value is trying to be set on a copy of a slice from a DataFrame.\n",
      "Try using .loc[row_indexer,col_indexer] = value instead\n",
      "\n",
      "See the caveats in the documentation: https://pandas.pydata.org/pandas-docs/stable/user_guide/indexing.html#returning-a-view-versus-a-copy\n",
      "  clubs_df['net_transfer_record'] = clubs_df['net_transfer_record'].apply(lambda x: '0' if x == '+-0' else x)\n",
      "C:\\Users\\Lenovo\\AppData\\Local\\Temp\\ipykernel_12516\\2554671223.py:6: SettingWithCopyWarning: \n",
      "A value is trying to be set on a copy of a slice from a DataFrame.\n",
      "Try using .loc[row_indexer,col_indexer] = value instead\n",
      "\n",
      "See the caveats in the documentation: https://pandas.pydata.org/pandas-docs/stable/user_guide/indexing.html#returning-a-view-versus-a-copy\n",
      "  clubs_df['net_transfer_record'] = clubs_df['net_transfer_record'].astype(\"float64\")\n"
     ]
    },
    {
     "data": {
      "text/plain": [
       "club_id                      int64\n",
       "domestic_competition_id     object\n",
       "average_age                float64\n",
       "stadium_seats                int64\n",
       "net_transfer_record        float64\n",
       "dtype: object"
      ]
     },
     "metadata": {},
     "output_type": "display_data"
    },
    {
     "data": {
      "text/html": [
       "<div>\n",
       "<style scoped>\n",
       "    .dataframe tbody tr th:only-of-type {\n",
       "        vertical-align: middle;\n",
       "    }\n",
       "\n",
       "    .dataframe tbody tr th {\n",
       "        vertical-align: top;\n",
       "    }\n",
       "\n",
       "    .dataframe thead th {\n",
       "        text-align: right;\n",
       "    }\n",
       "</style>\n",
       "<table border=\"1\" class=\"dataframe\">\n",
       "  <thead>\n",
       "    <tr style=\"text-align: right;\">\n",
       "      <th></th>\n",
       "      <th>club_id</th>\n",
       "      <th>domestic_competition_id</th>\n",
       "      <th>average_age</th>\n",
       "      <th>stadium_seats</th>\n",
       "      <th>net_transfer_record</th>\n",
       "    </tr>\n",
       "  </thead>\n",
       "  <tbody>\n",
       "    <tr>\n",
       "      <th>0</th>\n",
       "      <td>105</td>\n",
       "      <td>L1</td>\n",
       "      <td>26.3</td>\n",
       "      <td>17810</td>\n",
       "      <td>-1480000.0</td>\n",
       "    </tr>\n",
       "    <tr>\n",
       "      <th>1</th>\n",
       "      <td>11127</td>\n",
       "      <td>RU1</td>\n",
       "      <td>27.5</td>\n",
       "      <td>23000</td>\n",
       "      <td>-770000.0</td>\n",
       "    </tr>\n",
       "    <tr>\n",
       "      <th>2</th>\n",
       "      <td>114</td>\n",
       "      <td>TR1</td>\n",
       "      <td>27.3</td>\n",
       "      <td>42590</td>\n",
       "      <td>-14500000.0</td>\n",
       "    </tr>\n",
       "    <tr>\n",
       "      <th>3</th>\n",
       "      <td>12</td>\n",
       "      <td>IT1</td>\n",
       "      <td>26.6</td>\n",
       "      <td>73261</td>\n",
       "      <td>72250000.0</td>\n",
       "    </tr>\n",
       "    <tr>\n",
       "      <th>4</th>\n",
       "      <td>148</td>\n",
       "      <td>GB1</td>\n",
       "      <td>25.5</td>\n",
       "      <td>62850</td>\n",
       "      <td>-154900000.0</td>\n",
       "    </tr>\n",
       "  </tbody>\n",
       "</table>\n",
       "</div>"
      ],
      "text/plain": [
       "   club_id domestic_competition_id  average_age  stadium_seats  \\\n",
       "0      105                      L1         26.3          17810   \n",
       "1    11127                     RU1         27.5          23000   \n",
       "2      114                     TR1         27.3          42590   \n",
       "3       12                     IT1         26.6          73261   \n",
       "4      148                     GB1         25.5          62850   \n",
       "\n",
       "   net_transfer_record  \n",
       "0           -1480000.0  \n",
       "1            -770000.0  \n",
       "2          -14500000.0  \n",
       "3           72250000.0  \n",
       "4         -154900000.0  "
      ]
     },
     "metadata": {},
     "output_type": "display_data"
    }
   ],
   "source": [
    "display(clubs_df[\"net_transfer_record\"].nunique()) # 275 unique values\n",
    "#display(clubs_df[\"net_transfer_record\"].unique())\n",
    "display(clubs_df.head())\n",
    "clubs_df['net_transfer_record'] = clubs_df['net_transfer_record'].str.replace('€', '').str.replace('m', 'e6').str.replace('k', 'e3')\n",
    "clubs_df['net_transfer_record'] = clubs_df['net_transfer_record'].apply(lambda x: '0' if x == '+-0' else x)\n",
    "clubs_df['net_transfer_record'] = clubs_df['net_transfer_record'].astype(\"float64\")\n",
    "display(clubs_df.dtypes) # Successfully completed the object/string to float64 conversion\n",
    "display(clubs_df.head()) "
   ]
  },
  {
   "cell_type": "markdown",
   "id": "34dc7050",
   "metadata": {},
   "source": [
    "###### 2.10 Inspect the Cleaned Clubs Data Frame"
   ]
  },
  {
   "cell_type": "code",
   "execution_count": 529,
   "id": "e861916e",
   "metadata": {
    "ExecuteTime": {
     "end_time": "2024-03-05T18:23:39.483965Z",
     "start_time": "2024-03-05T18:23:39.460146Z"
    }
   },
   "outputs": [
    {
     "data": {
      "text/html": [
       "<div>\n",
       "<style scoped>\n",
       "    .dataframe tbody tr th:only-of-type {\n",
       "        vertical-align: middle;\n",
       "    }\n",
       "\n",
       "    .dataframe tbody tr th {\n",
       "        vertical-align: top;\n",
       "    }\n",
       "\n",
       "    .dataframe thead th {\n",
       "        text-align: right;\n",
       "    }\n",
       "</style>\n",
       "<table border=\"1\" class=\"dataframe\">\n",
       "  <thead>\n",
       "    <tr style=\"text-align: right;\">\n",
       "      <th></th>\n",
       "      <th>club_id</th>\n",
       "      <th>domestic_competition_id</th>\n",
       "      <th>average_age</th>\n",
       "      <th>stadium_seats</th>\n",
       "      <th>net_transfer_record</th>\n",
       "    </tr>\n",
       "  </thead>\n",
       "  <tbody>\n",
       "    <tr>\n",
       "      <th>0</th>\n",
       "      <td>105</td>\n",
       "      <td>L1</td>\n",
       "      <td>26.3</td>\n",
       "      <td>17810</td>\n",
       "      <td>-1480000.0</td>\n",
       "    </tr>\n",
       "    <tr>\n",
       "      <th>1</th>\n",
       "      <td>11127</td>\n",
       "      <td>RU1</td>\n",
       "      <td>27.5</td>\n",
       "      <td>23000</td>\n",
       "      <td>-770000.0</td>\n",
       "    </tr>\n",
       "    <tr>\n",
       "      <th>2</th>\n",
       "      <td>114</td>\n",
       "      <td>TR1</td>\n",
       "      <td>27.3</td>\n",
       "      <td>42590</td>\n",
       "      <td>-14500000.0</td>\n",
       "    </tr>\n",
       "    <tr>\n",
       "      <th>3</th>\n",
       "      <td>12</td>\n",
       "      <td>IT1</td>\n",
       "      <td>26.6</td>\n",
       "      <td>73261</td>\n",
       "      <td>72250000.0</td>\n",
       "    </tr>\n",
       "    <tr>\n",
       "      <th>4</th>\n",
       "      <td>148</td>\n",
       "      <td>GB1</td>\n",
       "      <td>25.5</td>\n",
       "      <td>62850</td>\n",
       "      <td>-154900000.0</td>\n",
       "    </tr>\n",
       "  </tbody>\n",
       "</table>\n",
       "</div>"
      ],
      "text/plain": [
       "   club_id domestic_competition_id  average_age  stadium_seats  \\\n",
       "0      105                      L1         26.3          17810   \n",
       "1    11127                     RU1         27.5          23000   \n",
       "2      114                     TR1         27.3          42590   \n",
       "3       12                     IT1         26.6          73261   \n",
       "4      148                     GB1         25.5          62850   \n",
       "\n",
       "   net_transfer_record  \n",
       "0           -1480000.0  \n",
       "1            -770000.0  \n",
       "2          -14500000.0  \n",
       "3           72250000.0  \n",
       "4         -154900000.0  "
      ]
     },
     "metadata": {},
     "output_type": "display_data"
    },
    {
     "data": {
      "text/plain": [
       "club_id                     0\n",
       "domestic_competition_id     0\n",
       "average_age                38\n",
       "stadium_seats               0\n",
       "net_transfer_record         0\n",
       "dtype: int64"
      ]
     },
     "metadata": {},
     "output_type": "display_data"
    },
    {
     "data": {
      "text/plain": [
       "(426, 5)"
      ]
     },
     "metadata": {},
     "output_type": "display_data"
    }
   ],
   "source": [
    "display(clubs_df.head())\n",
    "#display(clubs_df.describe(include = \"all\"))\n",
    "#display(clubs_df.dtypes)\n",
    "display(clubs_df.isnull().sum())\n",
    "display(clubs_df.shape) # (426, 5)"
   ]
  },
  {
   "cell_type": "markdown",
   "id": "e6630713",
   "metadata": {},
   "source": [
    "###### 3 -- COMPETITIONS DATA FRAME [competitions.csv]"
   ]
  },
  {
   "cell_type": "markdown",
   "id": "db84a95a",
   "metadata": {},
   "source": [
    "###### 3.1 Load the competitions csv file and convert it into a data frame"
   ]
  },
  {
   "cell_type": "code",
   "execution_count": 530,
   "id": "e212f402",
   "metadata": {
    "ExecuteTime": {
     "end_time": "2024-03-05T18:23:40.351879Z",
     "start_time": "2024-03-05T18:23:40.313445Z"
    }
   },
   "outputs": [
    {
     "data": {
      "text/html": [
       "<div>\n",
       "<style scoped>\n",
       "    .dataframe tbody tr th:only-of-type {\n",
       "        vertical-align: middle;\n",
       "    }\n",
       "\n",
       "    .dataframe tbody tr th {\n",
       "        vertical-align: top;\n",
       "    }\n",
       "\n",
       "    .dataframe thead th {\n",
       "        text-align: right;\n",
       "    }\n",
       "</style>\n",
       "<table border=\"1\" class=\"dataframe\">\n",
       "  <thead>\n",
       "    <tr style=\"text-align: right;\">\n",
       "      <th></th>\n",
       "      <th>competition_id</th>\n",
       "      <th>competition_code</th>\n",
       "      <th>name</th>\n",
       "      <th>sub_type</th>\n",
       "      <th>type</th>\n",
       "      <th>country_id</th>\n",
       "      <th>country_name</th>\n",
       "      <th>domestic_league_code</th>\n",
       "      <th>confederation</th>\n",
       "      <th>url</th>\n",
       "    </tr>\n",
       "  </thead>\n",
       "  <tbody>\n",
       "    <tr>\n",
       "      <th>0</th>\n",
       "      <td>CIT</td>\n",
       "      <td>italy-cup</td>\n",
       "      <td>italy-cup</td>\n",
       "      <td>domestic_cup</td>\n",
       "      <td>domestic_cup</td>\n",
       "      <td>75</td>\n",
       "      <td>Italy</td>\n",
       "      <td>IT1</td>\n",
       "      <td>europa</td>\n",
       "      <td>https://www.transfermarkt.co.uk/italy-cup/star...</td>\n",
       "    </tr>\n",
       "    <tr>\n",
       "      <th>1</th>\n",
       "      <td>NLSC</td>\n",
       "      <td>johan-cruijff-schaal</td>\n",
       "      <td>johan-cruijff-schaal</td>\n",
       "      <td>domestic_super_cup</td>\n",
       "      <td>other</td>\n",
       "      <td>122</td>\n",
       "      <td>Netherlands</td>\n",
       "      <td>NL1</td>\n",
       "      <td>europa</td>\n",
       "      <td>https://www.transfermarkt.co.uk/johan-cruijff-...</td>\n",
       "    </tr>\n",
       "    <tr>\n",
       "      <th>2</th>\n",
       "      <td>GRP</td>\n",
       "      <td>kypello-elladas</td>\n",
       "      <td>kypello-elladas</td>\n",
       "      <td>domestic_cup</td>\n",
       "      <td>domestic_cup</td>\n",
       "      <td>56</td>\n",
       "      <td>Greece</td>\n",
       "      <td>GR1</td>\n",
       "      <td>europa</td>\n",
       "      <td>https://www.transfermarkt.co.uk/kypello-ellada...</td>\n",
       "    </tr>\n",
       "    <tr>\n",
       "      <th>3</th>\n",
       "      <td>POSU</td>\n",
       "      <td>supertaca-candido-de-oliveira</td>\n",
       "      <td>supertaca-candido-de-oliveira</td>\n",
       "      <td>domestic_super_cup</td>\n",
       "      <td>other</td>\n",
       "      <td>136</td>\n",
       "      <td>Portugal</td>\n",
       "      <td>PO1</td>\n",
       "      <td>europa</td>\n",
       "      <td>https://www.transfermarkt.co.uk/supertaca-cand...</td>\n",
       "    </tr>\n",
       "    <tr>\n",
       "      <th>4</th>\n",
       "      <td>RUSS</td>\n",
       "      <td>russian-super-cup</td>\n",
       "      <td>russian-super-cup</td>\n",
       "      <td>domestic_super_cup</td>\n",
       "      <td>other</td>\n",
       "      <td>141</td>\n",
       "      <td>Russia</td>\n",
       "      <td>RU1</td>\n",
       "      <td>europa</td>\n",
       "      <td>https://www.transfermarkt.co.uk/russian-super-...</td>\n",
       "    </tr>\n",
       "  </tbody>\n",
       "</table>\n",
       "</div>"
      ],
      "text/plain": [
       "  competition_id               competition_code  \\\n",
       "0            CIT                      italy-cup   \n",
       "1           NLSC           johan-cruijff-schaal   \n",
       "2            GRP                kypello-elladas   \n",
       "3           POSU  supertaca-candido-de-oliveira   \n",
       "4           RUSS              russian-super-cup   \n",
       "\n",
       "                            name            sub_type          type  \\\n",
       "0                      italy-cup        domestic_cup  domestic_cup   \n",
       "1           johan-cruijff-schaal  domestic_super_cup         other   \n",
       "2                kypello-elladas        domestic_cup  domestic_cup   \n",
       "3  supertaca-candido-de-oliveira  domestic_super_cup         other   \n",
       "4              russian-super-cup  domestic_super_cup         other   \n",
       "\n",
       "   country_id country_name domestic_league_code confederation  \\\n",
       "0          75        Italy                  IT1        europa   \n",
       "1         122  Netherlands                  NL1        europa   \n",
       "2          56       Greece                  GR1        europa   \n",
       "3         136     Portugal                  PO1        europa   \n",
       "4         141       Russia                  RU1        europa   \n",
       "\n",
       "                                                 url  \n",
       "0  https://www.transfermarkt.co.uk/italy-cup/star...  \n",
       "1  https://www.transfermarkt.co.uk/johan-cruijff-...  \n",
       "2  https://www.transfermarkt.co.uk/kypello-ellada...  \n",
       "3  https://www.transfermarkt.co.uk/supertaca-cand...  \n",
       "4  https://www.transfermarkt.co.uk/russian-super-...  "
      ]
     },
     "metadata": {},
     "output_type": "display_data"
    }
   ],
   "source": [
    "competitions_data = pd.read_csv('../1. Input/competitions.csv')\n",
    "display(competitions_data.head())"
   ]
  },
  {
   "cell_type": "markdown",
   "id": "2fec6a00",
   "metadata": {},
   "source": [
    "###### 3.2 Inspect the Data Frame"
   ]
  },
  {
   "cell_type": "code",
   "execution_count": 531,
   "id": "86272fe7",
   "metadata": {
    "ExecuteTime": {
     "end_time": "2024-03-05T18:23:41.703927Z",
     "start_time": "2024-03-05T18:23:41.692329Z"
    }
   },
   "outputs": [
    {
     "data": {
      "text/plain": [
       "(43, 10)"
      ]
     },
     "metadata": {},
     "output_type": "display_data"
    },
    {
     "data": {
      "text/plain": [
       "competition_id          43\n",
       "competition_code        42\n",
       "name                    42\n",
       "sub_type                11\n",
       "type                     4\n",
       "country_id              15\n",
       "country_name            14\n",
       "domestic_league_code    14\n",
       "confederation            1\n",
       "url                     43\n",
       "dtype: int64"
      ]
     },
     "metadata": {},
     "output_type": "display_data"
    }
   ],
   "source": [
    "display(competitions_data.shape) # (43, 10)\n",
    "#display(competitions_data.dtypes)\n",
    "display(competitions_data.nunique())"
   ]
  },
  {
   "cell_type": "markdown",
   "id": "3d7455b0",
   "metadata": {},
   "source": [
    "###### 3.3 Descriptive Statistics"
   ]
  },
  {
   "cell_type": "code",
   "execution_count": 532,
   "id": "49e00169",
   "metadata": {
    "ExecuteTime": {
     "end_time": "2024-03-05T18:23:42.921658Z",
     "start_time": "2024-03-05T18:23:42.895293Z"
    }
   },
   "outputs": [
    {
     "data": {
      "text/html": [
       "<div>\n",
       "<style scoped>\n",
       "    .dataframe tbody tr th:only-of-type {\n",
       "        vertical-align: middle;\n",
       "    }\n",
       "\n",
       "    .dataframe tbody tr th {\n",
       "        vertical-align: top;\n",
       "    }\n",
       "\n",
       "    .dataframe thead th {\n",
       "        text-align: right;\n",
       "    }\n",
       "</style>\n",
       "<table border=\"1\" class=\"dataframe\">\n",
       "  <thead>\n",
       "    <tr style=\"text-align: right;\">\n",
       "      <th></th>\n",
       "      <th>competition_id</th>\n",
       "      <th>competition_code</th>\n",
       "      <th>name</th>\n",
       "      <th>sub_type</th>\n",
       "      <th>type</th>\n",
       "      <th>country_id</th>\n",
       "      <th>country_name</th>\n",
       "      <th>domestic_league_code</th>\n",
       "      <th>confederation</th>\n",
       "      <th>url</th>\n",
       "    </tr>\n",
       "  </thead>\n",
       "  <tbody>\n",
       "    <tr>\n",
       "      <th>count</th>\n",
       "      <td>43</td>\n",
       "      <td>43</td>\n",
       "      <td>43</td>\n",
       "      <td>43</td>\n",
       "      <td>43</td>\n",
       "      <td>43.000000</td>\n",
       "      <td>36</td>\n",
       "      <td>36</td>\n",
       "      <td>43</td>\n",
       "      <td>43</td>\n",
       "    </tr>\n",
       "    <tr>\n",
       "      <th>unique</th>\n",
       "      <td>43</td>\n",
       "      <td>42</td>\n",
       "      <td>42</td>\n",
       "      <td>11</td>\n",
       "      <td>4</td>\n",
       "      <td>NaN</td>\n",
       "      <td>14</td>\n",
       "      <td>14</td>\n",
       "      <td>1</td>\n",
       "      <td>43</td>\n",
       "    </tr>\n",
       "    <tr>\n",
       "      <th>top</th>\n",
       "      <td>CIT</td>\n",
       "      <td>premier-liga</td>\n",
       "      <td>premier-liga</td>\n",
       "      <td>first_tier</td>\n",
       "      <td>domestic_league</td>\n",
       "      <td>NaN</td>\n",
       "      <td>England</td>\n",
       "      <td>GB1</td>\n",
       "      <td>europa</td>\n",
       "      <td>https://www.transfermarkt.co.uk/italy-cup/star...</td>\n",
       "    </tr>\n",
       "    <tr>\n",
       "      <th>freq</th>\n",
       "      <td>1</td>\n",
       "      <td>2</td>\n",
       "      <td>2</td>\n",
       "      <td>14</td>\n",
       "      <td>14</td>\n",
       "      <td>NaN</td>\n",
       "      <td>4</td>\n",
       "      <td>4</td>\n",
       "      <td>43</td>\n",
       "      <td>1</td>\n",
       "    </tr>\n",
       "    <tr>\n",
       "      <th>mean</th>\n",
       "      <td>NaN</td>\n",
       "      <td>NaN</td>\n",
       "      <td>NaN</td>\n",
       "      <td>NaN</td>\n",
       "      <td>NaN</td>\n",
       "      <td>97.093023</td>\n",
       "      <td>NaN</td>\n",
       "      <td>NaN</td>\n",
       "      <td>NaN</td>\n",
       "      <td>NaN</td>\n",
       "    </tr>\n",
       "    <tr>\n",
       "      <th>std</th>\n",
       "      <td>NaN</td>\n",
       "      <td>NaN</td>\n",
       "      <td>NaN</td>\n",
       "      <td>NaN</td>\n",
       "      <td>NaN</td>\n",
       "      <td>69.766896</td>\n",
       "      <td>NaN</td>\n",
       "      <td>NaN</td>\n",
       "      <td>NaN</td>\n",
       "      <td>NaN</td>\n",
       "    </tr>\n",
       "    <tr>\n",
       "      <th>min</th>\n",
       "      <td>NaN</td>\n",
       "      <td>NaN</td>\n",
       "      <td>NaN</td>\n",
       "      <td>NaN</td>\n",
       "      <td>NaN</td>\n",
       "      <td>-1.000000</td>\n",
       "      <td>NaN</td>\n",
       "      <td>NaN</td>\n",
       "      <td>NaN</td>\n",
       "      <td>NaN</td>\n",
       "    </tr>\n",
       "    <tr>\n",
       "      <th>25%</th>\n",
       "      <td>NaN</td>\n",
       "      <td>NaN</td>\n",
       "      <td>NaN</td>\n",
       "      <td>NaN</td>\n",
       "      <td>NaN</td>\n",
       "      <td>39.500000</td>\n",
       "      <td>NaN</td>\n",
       "      <td>NaN</td>\n",
       "      <td>NaN</td>\n",
       "      <td>NaN</td>\n",
       "    </tr>\n",
       "    <tr>\n",
       "      <th>50%</th>\n",
       "      <td>NaN</td>\n",
       "      <td>NaN</td>\n",
       "      <td>NaN</td>\n",
       "      <td>NaN</td>\n",
       "      <td>NaN</td>\n",
       "      <td>122.000000</td>\n",
       "      <td>NaN</td>\n",
       "      <td>NaN</td>\n",
       "      <td>NaN</td>\n",
       "      <td>NaN</td>\n",
       "    </tr>\n",
       "    <tr>\n",
       "      <th>75%</th>\n",
       "      <td>NaN</td>\n",
       "      <td>NaN</td>\n",
       "      <td>NaN</td>\n",
       "      <td>NaN</td>\n",
       "      <td>NaN</td>\n",
       "      <td>157.000000</td>\n",
       "      <td>NaN</td>\n",
       "      <td>NaN</td>\n",
       "      <td>NaN</td>\n",
       "      <td>NaN</td>\n",
       "    </tr>\n",
       "    <tr>\n",
       "      <th>max</th>\n",
       "      <td>NaN</td>\n",
       "      <td>NaN</td>\n",
       "      <td>NaN</td>\n",
       "      <td>NaN</td>\n",
       "      <td>NaN</td>\n",
       "      <td>190.000000</td>\n",
       "      <td>NaN</td>\n",
       "      <td>NaN</td>\n",
       "      <td>NaN</td>\n",
       "      <td>NaN</td>\n",
       "    </tr>\n",
       "  </tbody>\n",
       "</table>\n",
       "</div>"
      ],
      "text/plain": [
       "       competition_id competition_code          name    sub_type  \\\n",
       "count              43               43            43          43   \n",
       "unique             43               42            42          11   \n",
       "top               CIT     premier-liga  premier-liga  first_tier   \n",
       "freq                1                2             2          14   \n",
       "mean              NaN              NaN           NaN         NaN   \n",
       "std               NaN              NaN           NaN         NaN   \n",
       "min               NaN              NaN           NaN         NaN   \n",
       "25%               NaN              NaN           NaN         NaN   \n",
       "50%               NaN              NaN           NaN         NaN   \n",
       "75%               NaN              NaN           NaN         NaN   \n",
       "max               NaN              NaN           NaN         NaN   \n",
       "\n",
       "                   type  country_id country_name domestic_league_code  \\\n",
       "count                43   43.000000           36                   36   \n",
       "unique                4         NaN           14                   14   \n",
       "top     domestic_league         NaN      England                  GB1   \n",
       "freq                 14         NaN            4                    4   \n",
       "mean                NaN   97.093023          NaN                  NaN   \n",
       "std                 NaN   69.766896          NaN                  NaN   \n",
       "min                 NaN   -1.000000          NaN                  NaN   \n",
       "25%                 NaN   39.500000          NaN                  NaN   \n",
       "50%                 NaN  122.000000          NaN                  NaN   \n",
       "75%                 NaN  157.000000          NaN                  NaN   \n",
       "max                 NaN  190.000000          NaN                  NaN   \n",
       "\n",
       "       confederation                                                url  \n",
       "count             43                                                 43  \n",
       "unique             1                                                 43  \n",
       "top           europa  https://www.transfermarkt.co.uk/italy-cup/star...  \n",
       "freq              43                                                  1  \n",
       "mean             NaN                                                NaN  \n",
       "std              NaN                                                NaN  \n",
       "min              NaN                                                NaN  \n",
       "25%              NaN                                                NaN  \n",
       "50%              NaN                                                NaN  \n",
       "75%              NaN                                                NaN  \n",
       "max              NaN                                                NaN  "
      ]
     },
     "metadata": {},
     "output_type": "display_data"
    }
   ],
   "source": [
    "display(competitions_data.describe(include = \"all\"))"
   ]
  },
  {
   "cell_type": "markdown",
   "id": "a27cdd9b",
   "metadata": {},
   "source": [
    "###### 3.4 Select the desired variables from the competitions data frame and save it as competitions_df  "
   ]
  },
  {
   "cell_type": "code",
   "execution_count": 533,
   "id": "3ca242d9",
   "metadata": {
    "ExecuteTime": {
     "end_time": "2024-03-05T18:23:43.538401Z",
     "start_time": "2024-03-05T18:23:43.523207Z"
    }
   },
   "outputs": [
    {
     "data": {
      "text/html": [
       "<div>\n",
       "<style scoped>\n",
       "    .dataframe tbody tr th:only-of-type {\n",
       "        vertical-align: middle;\n",
       "    }\n",
       "\n",
       "    .dataframe tbody tr th {\n",
       "        vertical-align: top;\n",
       "    }\n",
       "\n",
       "    .dataframe thead th {\n",
       "        text-align: right;\n",
       "    }\n",
       "</style>\n",
       "<table border=\"1\" class=\"dataframe\">\n",
       "  <thead>\n",
       "    <tr style=\"text-align: right;\">\n",
       "      <th></th>\n",
       "      <th>competition_id</th>\n",
       "      <th>name</th>\n",
       "      <th>country_name</th>\n",
       "    </tr>\n",
       "  </thead>\n",
       "  <tbody>\n",
       "    <tr>\n",
       "      <th>7</th>\n",
       "      <td>DK1</td>\n",
       "      <td>superligaen</td>\n",
       "      <td>Denmark</td>\n",
       "    </tr>\n",
       "    <tr>\n",
       "      <th>9</th>\n",
       "      <td>ES1</td>\n",
       "      <td>laliga</td>\n",
       "      <td>Spain</td>\n",
       "    </tr>\n",
       "    <tr>\n",
       "      <th>10</th>\n",
       "      <td>FR1</td>\n",
       "      <td>ligue-1</td>\n",
       "      <td>France</td>\n",
       "    </tr>\n",
       "    <tr>\n",
       "      <th>11</th>\n",
       "      <td>IT1</td>\n",
       "      <td>serie-a</td>\n",
       "      <td>Italy</td>\n",
       "    </tr>\n",
       "    <tr>\n",
       "      <th>12</th>\n",
       "      <td>NL1</td>\n",
       "      <td>eredivisie</td>\n",
       "      <td>Netherlands</td>\n",
       "    </tr>\n",
       "  </tbody>\n",
       "</table>\n",
       "</div>"
      ],
      "text/plain": [
       "   competition_id         name country_name\n",
       "7             DK1  superligaen      Denmark\n",
       "9             ES1       laliga        Spain\n",
       "10            FR1      ligue-1       France\n",
       "11            IT1      serie-a        Italy\n",
       "12            NL1   eredivisie  Netherlands"
      ]
     },
     "metadata": {},
     "output_type": "display_data"
    },
    {
     "data": {
      "text/plain": [
       "competition_id    object\n",
       "name              object\n",
       "country_name      object\n",
       "dtype: object"
      ]
     },
     "metadata": {},
     "output_type": "display_data"
    }
   ],
   "source": [
    "#competitions_data['type'].unique() # domestic_league\n",
    "competitions_df = competitions_data[competitions_data['type'] == 'domestic_league']\n",
    "#competitions_df.head()\n",
    "competitions_df = competitions_df[[\"competition_id\",\"name\",\"country_name\"]]\n",
    "display(competitions_df.head())\n",
    "display(competitions_df.dtypes)"
   ]
  },
  {
   "cell_type": "markdown",
   "id": "504cfb6f",
   "metadata": {},
   "source": [
    "###### 3.5 Inspect The Cleaned Competitions Data Frame"
   ]
  },
  {
   "cell_type": "code",
   "execution_count": 534,
   "id": "d3e9bb41",
   "metadata": {
    "ExecuteTime": {
     "end_time": "2024-03-05T18:23:43.817243Z",
     "start_time": "2024-03-05T18:23:43.801220Z"
    }
   },
   "outputs": [
    {
     "data": {
      "text/plain": [
       "competition_id    0\n",
       "name              0\n",
       "country_name      0\n",
       "dtype: int64"
      ]
     },
     "metadata": {},
     "output_type": "display_data"
    },
    {
     "data": {
      "text/plain": [
       "(14, 3)"
      ]
     },
     "metadata": {},
     "output_type": "display_data"
    },
    {
     "data": {
      "text/html": [
       "<div>\n",
       "<style scoped>\n",
       "    .dataframe tbody tr th:only-of-type {\n",
       "        vertical-align: middle;\n",
       "    }\n",
       "\n",
       "    .dataframe tbody tr th {\n",
       "        vertical-align: top;\n",
       "    }\n",
       "\n",
       "    .dataframe thead th {\n",
       "        text-align: right;\n",
       "    }\n",
       "</style>\n",
       "<table border=\"1\" class=\"dataframe\">\n",
       "  <thead>\n",
       "    <tr style=\"text-align: right;\">\n",
       "      <th></th>\n",
       "      <th>competition_id</th>\n",
       "      <th>name</th>\n",
       "      <th>country_name</th>\n",
       "    </tr>\n",
       "  </thead>\n",
       "  <tbody>\n",
       "    <tr>\n",
       "      <th>7</th>\n",
       "      <td>DK1</td>\n",
       "      <td>superligaen</td>\n",
       "      <td>Denmark</td>\n",
       "    </tr>\n",
       "    <tr>\n",
       "      <th>9</th>\n",
       "      <td>ES1</td>\n",
       "      <td>laliga</td>\n",
       "      <td>Spain</td>\n",
       "    </tr>\n",
       "    <tr>\n",
       "      <th>10</th>\n",
       "      <td>FR1</td>\n",
       "      <td>ligue-1</td>\n",
       "      <td>France</td>\n",
       "    </tr>\n",
       "    <tr>\n",
       "      <th>11</th>\n",
       "      <td>IT1</td>\n",
       "      <td>serie-a</td>\n",
       "      <td>Italy</td>\n",
       "    </tr>\n",
       "    <tr>\n",
       "      <th>12</th>\n",
       "      <td>NL1</td>\n",
       "      <td>eredivisie</td>\n",
       "      <td>Netherlands</td>\n",
       "    </tr>\n",
       "  </tbody>\n",
       "</table>\n",
       "</div>"
      ],
      "text/plain": [
       "   competition_id         name country_name\n",
       "7             DK1  superligaen      Denmark\n",
       "9             ES1       laliga        Spain\n",
       "10            FR1      ligue-1       France\n",
       "11            IT1      serie-a        Italy\n",
       "12            NL1   eredivisie  Netherlands"
      ]
     },
     "metadata": {},
     "output_type": "display_data"
    }
   ],
   "source": [
    "display(competitions_df.isnull().sum()) \n",
    "# No reported null values and the competitions data frame is ready for merging.\n",
    "display(competitions_df.shape) # (14, 3)\n",
    "#display(competitions_df.describe(include = \"all\"))\n",
    "display(competitions_df.head())"
   ]
  },
  {
   "cell_type": "markdown",
   "id": "903ef0d2",
   "metadata": {},
   "source": [
    "###### 4 -- GAME EVENTS DATA FRAME [game_events.csv]"
   ]
  },
  {
   "cell_type": "markdown",
   "id": "5a778267",
   "metadata": {},
   "source": [
    "###### 4.1 Load the game events csv file and convert it into a data frame "
   ]
  },
  {
   "cell_type": "code",
   "execution_count": 535,
   "id": "fe1c8c77",
   "metadata": {
    "ExecuteTime": {
     "end_time": "2024-03-05T18:23:46.081304Z",
     "start_time": "2024-03-05T18:23:44.255989Z"
    }
   },
   "outputs": [
    {
     "data": {
      "text/html": [
       "<div>\n",
       "<style scoped>\n",
       "    .dataframe tbody tr th:only-of-type {\n",
       "        vertical-align: middle;\n",
       "    }\n",
       "\n",
       "    .dataframe tbody tr th {\n",
       "        vertical-align: top;\n",
       "    }\n",
       "\n",
       "    .dataframe thead th {\n",
       "        text-align: right;\n",
       "    }\n",
       "</style>\n",
       "<table border=\"1\" class=\"dataframe\">\n",
       "  <thead>\n",
       "    <tr style=\"text-align: right;\">\n",
       "      <th></th>\n",
       "      <th>game_event_id</th>\n",
       "      <th>date</th>\n",
       "      <th>game_id</th>\n",
       "      <th>minute</th>\n",
       "      <th>type</th>\n",
       "      <th>club_id</th>\n",
       "      <th>player_id</th>\n",
       "      <th>description</th>\n",
       "      <th>player_in_id</th>\n",
       "      <th>player_assist_id</th>\n",
       "    </tr>\n",
       "  </thead>\n",
       "  <tbody>\n",
       "    <tr>\n",
       "      <th>0</th>\n",
       "      <td>2f41da30c471492e7d4a984951671677</td>\n",
       "      <td>2012-08-05</td>\n",
       "      <td>2211607</td>\n",
       "      <td>77</td>\n",
       "      <td>Cards</td>\n",
       "      <td>610</td>\n",
       "      <td>4425</td>\n",
       "      <td>1. Yellow card  , Mass confrontation</td>\n",
       "      <td>NaN</td>\n",
       "      <td>NaN</td>\n",
       "    </tr>\n",
       "    <tr>\n",
       "      <th>1</th>\n",
       "      <td>a72f7186d132775f234d3e2f7bc0ed5b</td>\n",
       "      <td>2012-08-05</td>\n",
       "      <td>2211607</td>\n",
       "      <td>77</td>\n",
       "      <td>Cards</td>\n",
       "      <td>383</td>\n",
       "      <td>33210</td>\n",
       "      <td>1. Yellow card  , Mass confrontation</td>\n",
       "      <td>NaN</td>\n",
       "      <td>NaN</td>\n",
       "    </tr>\n",
       "    <tr>\n",
       "      <th>2</th>\n",
       "      <td>b2d721eaed4692a5c59a92323689ef18</td>\n",
       "      <td>2012-08-05</td>\n",
       "      <td>2211607</td>\n",
       "      <td>3</td>\n",
       "      <td>Goals</td>\n",
       "      <td>383</td>\n",
       "      <td>36500</td>\n",
       "      <td>, Header, 1. Tournament Goal Assist: , Corner,...</td>\n",
       "      <td>NaN</td>\n",
       "      <td>56416.0</td>\n",
       "    </tr>\n",
       "    <tr>\n",
       "      <th>3</th>\n",
       "      <td>aef768899cedac0c9a650980219075a2</td>\n",
       "      <td>2012-08-05</td>\n",
       "      <td>2211607</td>\n",
       "      <td>53</td>\n",
       "      <td>Goals</td>\n",
       "      <td>383</td>\n",
       "      <td>36500</td>\n",
       "      <td>, Right-footed shot, 2. Tournament Goal Assist...</td>\n",
       "      <td>NaN</td>\n",
       "      <td>146258.0</td>\n",
       "    </tr>\n",
       "    <tr>\n",
       "      <th>4</th>\n",
       "      <td>5d6d9533023057b6619ecd145a038bbe</td>\n",
       "      <td>2012-08-05</td>\n",
       "      <td>2211607</td>\n",
       "      <td>74</td>\n",
       "      <td>Substitutions</td>\n",
       "      <td>383</td>\n",
       "      <td>36500</td>\n",
       "      <td>, Not reported</td>\n",
       "      <td>49499.0</td>\n",
       "      <td>NaN</td>\n",
       "    </tr>\n",
       "  </tbody>\n",
       "</table>\n",
       "</div>"
      ],
      "text/plain": [
       "                      game_event_id        date  game_id  minute  \\\n",
       "0  2f41da30c471492e7d4a984951671677  2012-08-05  2211607      77   \n",
       "1  a72f7186d132775f234d3e2f7bc0ed5b  2012-08-05  2211607      77   \n",
       "2  b2d721eaed4692a5c59a92323689ef18  2012-08-05  2211607       3   \n",
       "3  aef768899cedac0c9a650980219075a2  2012-08-05  2211607      53   \n",
       "4  5d6d9533023057b6619ecd145a038bbe  2012-08-05  2211607      74   \n",
       "\n",
       "            type  club_id  player_id  \\\n",
       "0          Cards      610       4425   \n",
       "1          Cards      383      33210   \n",
       "2          Goals      383      36500   \n",
       "3          Goals      383      36500   \n",
       "4  Substitutions      383      36500   \n",
       "\n",
       "                                         description  player_in_id  \\\n",
       "0               1. Yellow card  , Mass confrontation           NaN   \n",
       "1               1. Yellow card  , Mass confrontation           NaN   \n",
       "2  , Header, 1. Tournament Goal Assist: , Corner,...           NaN   \n",
       "3  , Right-footed shot, 2. Tournament Goal Assist...           NaN   \n",
       "4                                     , Not reported       49499.0   \n",
       "\n",
       "   player_assist_id  \n",
       "0               NaN  \n",
       "1               NaN  \n",
       "2           56416.0  \n",
       "3          146258.0  \n",
       "4               NaN  "
      ]
     },
     "metadata": {},
     "output_type": "display_data"
    },
    {
     "data": {
      "text/plain": [
       "Index(['game_event_id', 'date', 'game_id', 'minute', 'type', 'club_id',\n",
       "       'player_id', 'description', 'player_in_id', 'player_assist_id'],\n",
       "      dtype='object')"
      ]
     },
     "metadata": {},
     "output_type": "display_data"
    }
   ],
   "source": [
    "game_events_data = pd.read_csv('../1. Input/game_events.csv')\n",
    "display(game_events_data.head())\n",
    "display(game_events_data.columns)"
   ]
  },
  {
   "cell_type": "markdown",
   "id": "4210276f",
   "metadata": {},
   "source": [
    "###### 4.2 Inspect the Data Frame"
   ]
  },
  {
   "cell_type": "code",
   "execution_count": 536,
   "id": "7505ae08",
   "metadata": {
    "ExecuteTime": {
     "end_time": "2024-03-05T18:23:46.525748Z",
     "start_time": "2024-03-05T18:23:46.084313Z"
    }
   },
   "outputs": [
    {
     "data": {
      "text/plain": [
       "(683511, 10)"
      ]
     },
     "metadata": {},
     "output_type": "display_data"
    },
    {
     "data": {
      "text/plain": [
       "game_event_id       683511\n",
       "date                  3456\n",
       "game_id              66154\n",
       "minute                 121\n",
       "type                     4\n",
       "club_id               2597\n",
       "player_id            52853\n",
       "description           4775\n",
       "player_in_id         51408\n",
       "player_assist_id     10721\n",
       "dtype: int64"
      ]
     },
     "metadata": {},
     "output_type": "display_data"
    }
   ],
   "source": [
    "display(game_events_data.shape) # (683511, 10)\n",
    "#display(game_events_data.dtypes)\n",
    "display(game_events_data.nunique())"
   ]
  },
  {
   "cell_type": "markdown",
   "id": "6f36186d",
   "metadata": {},
   "source": [
    "###### 4.3 Descriptive Statistics"
   ]
  },
  {
   "cell_type": "code",
   "execution_count": 537,
   "id": "fad5fc9d",
   "metadata": {
    "ExecuteTime": {
     "end_time": "2024-03-05T18:23:47.661524Z",
     "start_time": "2024-03-05T18:23:46.527761Z"
    }
   },
   "outputs": [
    {
     "data": {
      "text/html": [
       "<div>\n",
       "<style scoped>\n",
       "    .dataframe tbody tr th:only-of-type {\n",
       "        vertical-align: middle;\n",
       "    }\n",
       "\n",
       "    .dataframe tbody tr th {\n",
       "        vertical-align: top;\n",
       "    }\n",
       "\n",
       "    .dataframe thead th {\n",
       "        text-align: right;\n",
       "    }\n",
       "</style>\n",
       "<table border=\"1\" class=\"dataframe\">\n",
       "  <thead>\n",
       "    <tr style=\"text-align: right;\">\n",
       "      <th></th>\n",
       "      <th>game_event_id</th>\n",
       "      <th>date</th>\n",
       "      <th>game_id</th>\n",
       "      <th>minute</th>\n",
       "      <th>type</th>\n",
       "      <th>club_id</th>\n",
       "      <th>player_id</th>\n",
       "      <th>description</th>\n",
       "      <th>player_in_id</th>\n",
       "      <th>player_assist_id</th>\n",
       "    </tr>\n",
       "  </thead>\n",
       "  <tbody>\n",
       "    <tr>\n",
       "      <th>count</th>\n",
       "      <td>683511</td>\n",
       "      <td>683511</td>\n",
       "      <td>6.835110e+05</td>\n",
       "      <td>683511.000000</td>\n",
       "      <td>683511</td>\n",
       "      <td>683511.000000</td>\n",
       "      <td>6.835110e+05</td>\n",
       "      <td>346075</td>\n",
       "      <td>4.304520e+05</td>\n",
       "      <td>3.318900e+04</td>\n",
       "    </tr>\n",
       "    <tr>\n",
       "      <th>unique</th>\n",
       "      <td>683511</td>\n",
       "      <td>3456</td>\n",
       "      <td>NaN</td>\n",
       "      <td>NaN</td>\n",
       "      <td>4</td>\n",
       "      <td>NaN</td>\n",
       "      <td>NaN</td>\n",
       "      <td>4775</td>\n",
       "      <td>NaN</td>\n",
       "      <td>NaN</td>\n",
       "    </tr>\n",
       "    <tr>\n",
       "      <th>top</th>\n",
       "      <td>2f41da30c471492e7d4a984951671677</td>\n",
       "      <td>2023-11-01</td>\n",
       "      <td>NaN</td>\n",
       "      <td>NaN</td>\n",
       "      <td>Substitutions</td>\n",
       "      <td>NaN</td>\n",
       "      <td>NaN</td>\n",
       "      <td>, Tactical</td>\n",
       "      <td>NaN</td>\n",
       "      <td>NaN</td>\n",
       "    </tr>\n",
       "    <tr>\n",
       "      <th>freq</th>\n",
       "      <td>1</td>\n",
       "      <td>1557</td>\n",
       "      <td>NaN</td>\n",
       "      <td>NaN</td>\n",
       "      <td>431125</td>\n",
       "      <td>NaN</td>\n",
       "      <td>NaN</td>\n",
       "      <td>44799</td>\n",
       "      <td>NaN</td>\n",
       "      <td>NaN</td>\n",
       "    </tr>\n",
       "    <tr>\n",
       "      <th>mean</th>\n",
       "      <td>NaN</td>\n",
       "      <td>NaN</td>\n",
       "      <td>3.078808e+06</td>\n",
       "      <td>63.522136</td>\n",
       "      <td>NaN</td>\n",
       "      <td>4569.101725</td>\n",
       "      <td>2.059399e+05</td>\n",
       "      <td>NaN</td>\n",
       "      <td>2.472917e+05</td>\n",
       "      <td>1.482554e+05</td>\n",
       "    </tr>\n",
       "    <tr>\n",
       "      <th>std</th>\n",
       "      <td>NaN</td>\n",
       "      <td>NaN</td>\n",
       "      <td>6.241691e+05</td>\n",
       "      <td>21.943703</td>\n",
       "      <td>NaN</td>\n",
       "      <td>10874.839919</td>\n",
       "      <td>1.914740e+05</td>\n",
       "      <td>NaN</td>\n",
       "      <td>2.113640e+05</td>\n",
       "      <td>1.905296e+05</td>\n",
       "    </tr>\n",
       "    <tr>\n",
       "      <th>min</th>\n",
       "      <td>NaN</td>\n",
       "      <td>NaN</td>\n",
       "      <td>2.211607e+06</td>\n",
       "      <td>-1.000000</td>\n",
       "      <td>NaN</td>\n",
       "      <td>1.000000</td>\n",
       "      <td>1.000000e+01</td>\n",
       "      <td>NaN</td>\n",
       "      <td>1.000000e+01</td>\n",
       "      <td>1.000000e+01</td>\n",
       "    </tr>\n",
       "    <tr>\n",
       "      <th>25%</th>\n",
       "      <td>NaN</td>\n",
       "      <td>NaN</td>\n",
       "      <td>2.486837e+06</td>\n",
       "      <td>51.000000</td>\n",
       "      <td>NaN</td>\n",
       "      <td>336.000000</td>\n",
       "      <td>5.800100e+04</td>\n",
       "      <td>NaN</td>\n",
       "      <td>7.531400e+04</td>\n",
       "      <td>3.412900e+04</td>\n",
       "    </tr>\n",
       "    <tr>\n",
       "      <th>50%</th>\n",
       "      <td>NaN</td>\n",
       "      <td>NaN</td>\n",
       "      <td>3.058414e+06</td>\n",
       "      <td>68.000000</td>\n",
       "      <td>NaN</td>\n",
       "      <td>984.000000</td>\n",
       "      <td>1.461640e+05</td>\n",
       "      <td>NaN</td>\n",
       "      <td>1.918500e+05</td>\n",
       "      <td>6.730300e+04</td>\n",
       "    </tr>\n",
       "    <tr>\n",
       "      <th>75%</th>\n",
       "      <td>NaN</td>\n",
       "      <td>NaN</td>\n",
       "      <td>3.602488e+06</td>\n",
       "      <td>80.000000</td>\n",
       "      <td>NaN</td>\n",
       "      <td>3021.000000</td>\n",
       "      <td>2.966950e+05</td>\n",
       "      <td>NaN</td>\n",
       "      <td>3.543610e+05</td>\n",
       "      <td>1.765140e+05</td>\n",
       "    </tr>\n",
       "    <tr>\n",
       "      <th>max</th>\n",
       "      <td>NaN</td>\n",
       "      <td>NaN</td>\n",
       "      <td>4.273950e+06</td>\n",
       "      <td>120.000000</td>\n",
       "      <td>NaN</td>\n",
       "      <td>112755.000000</td>\n",
       "      <td>1.210422e+06</td>\n",
       "      <td>NaN</td>\n",
       "      <td>1.220936e+06</td>\n",
       "      <td>1.207623e+06</td>\n",
       "    </tr>\n",
       "  </tbody>\n",
       "</table>\n",
       "</div>"
      ],
      "text/plain": [
       "                           game_event_id        date       game_id  \\\n",
       "count                             683511      683511  6.835110e+05   \n",
       "unique                            683511        3456           NaN   \n",
       "top     2f41da30c471492e7d4a984951671677  2023-11-01           NaN   \n",
       "freq                                   1        1557           NaN   \n",
       "mean                                 NaN         NaN  3.078808e+06   \n",
       "std                                  NaN         NaN  6.241691e+05   \n",
       "min                                  NaN         NaN  2.211607e+06   \n",
       "25%                                  NaN         NaN  2.486837e+06   \n",
       "50%                                  NaN         NaN  3.058414e+06   \n",
       "75%                                  NaN         NaN  3.602488e+06   \n",
       "max                                  NaN         NaN  4.273950e+06   \n",
       "\n",
       "               minute           type        club_id     player_id description  \\\n",
       "count   683511.000000         683511  683511.000000  6.835110e+05      346075   \n",
       "unique            NaN              4            NaN           NaN        4775   \n",
       "top               NaN  Substitutions            NaN           NaN  , Tactical   \n",
       "freq              NaN         431125            NaN           NaN       44799   \n",
       "mean        63.522136            NaN    4569.101725  2.059399e+05         NaN   \n",
       "std         21.943703            NaN   10874.839919  1.914740e+05         NaN   \n",
       "min         -1.000000            NaN       1.000000  1.000000e+01         NaN   \n",
       "25%         51.000000            NaN     336.000000  5.800100e+04         NaN   \n",
       "50%         68.000000            NaN     984.000000  1.461640e+05         NaN   \n",
       "75%         80.000000            NaN    3021.000000  2.966950e+05         NaN   \n",
       "max        120.000000            NaN  112755.000000  1.210422e+06         NaN   \n",
       "\n",
       "        player_in_id  player_assist_id  \n",
       "count   4.304520e+05      3.318900e+04  \n",
       "unique           NaN               NaN  \n",
       "top              NaN               NaN  \n",
       "freq             NaN               NaN  \n",
       "mean    2.472917e+05      1.482554e+05  \n",
       "std     2.113640e+05      1.905296e+05  \n",
       "min     1.000000e+01      1.000000e+01  \n",
       "25%     7.531400e+04      3.412900e+04  \n",
       "50%     1.918500e+05      6.730300e+04  \n",
       "75%     3.543610e+05      1.765140e+05  \n",
       "max     1.220936e+06      1.207623e+06  "
      ]
     },
     "metadata": {},
     "output_type": "display_data"
    }
   ],
   "source": [
    "display(game_events_data.describe(include = \"all\"))"
   ]
  },
  {
   "cell_type": "markdown",
   "id": "fb5266fb",
   "metadata": {},
   "source": [
    "###### 4.4 Select the desired variables from the game events data frame and save it as events_df"
   ]
  },
  {
   "cell_type": "code",
   "execution_count": 538,
   "id": "dc252151",
   "metadata": {
    "ExecuteTime": {
     "end_time": "2024-03-05T18:23:47.709897Z",
     "start_time": "2024-03-05T18:23:47.665536Z"
    }
   },
   "outputs": [
    {
     "data": {
      "text/html": [
       "<div>\n",
       "<style scoped>\n",
       "    .dataframe tbody tr th:only-of-type {\n",
       "        vertical-align: middle;\n",
       "    }\n",
       "\n",
       "    .dataframe tbody tr th {\n",
       "        vertical-align: top;\n",
       "    }\n",
       "\n",
       "    .dataframe thead th {\n",
       "        text-align: right;\n",
       "    }\n",
       "</style>\n",
       "<table border=\"1\" class=\"dataframe\">\n",
       "  <thead>\n",
       "    <tr style=\"text-align: right;\">\n",
       "      <th></th>\n",
       "      <th>game_event_id</th>\n",
       "      <th>game_id</th>\n",
       "      <th>club_id</th>\n",
       "      <th>player_id</th>\n",
       "      <th>minute</th>\n",
       "      <th>type</th>\n",
       "      <th>description</th>\n",
       "    </tr>\n",
       "  </thead>\n",
       "  <tbody>\n",
       "    <tr>\n",
       "      <th>0</th>\n",
       "      <td>2f41da30c471492e7d4a984951671677</td>\n",
       "      <td>2211607</td>\n",
       "      <td>610</td>\n",
       "      <td>4425</td>\n",
       "      <td>77</td>\n",
       "      <td>Cards</td>\n",
       "      <td>1. Yellow card  , Mass confrontation</td>\n",
       "    </tr>\n",
       "    <tr>\n",
       "      <th>1</th>\n",
       "      <td>a72f7186d132775f234d3e2f7bc0ed5b</td>\n",
       "      <td>2211607</td>\n",
       "      <td>383</td>\n",
       "      <td>33210</td>\n",
       "      <td>77</td>\n",
       "      <td>Cards</td>\n",
       "      <td>1. Yellow card  , Mass confrontation</td>\n",
       "    </tr>\n",
       "    <tr>\n",
       "      <th>2</th>\n",
       "      <td>b2d721eaed4692a5c59a92323689ef18</td>\n",
       "      <td>2211607</td>\n",
       "      <td>383</td>\n",
       "      <td>36500</td>\n",
       "      <td>3</td>\n",
       "      <td>Goals</td>\n",
       "      <td>, Header, 1. Tournament Goal Assist: , Corner,...</td>\n",
       "    </tr>\n",
       "    <tr>\n",
       "      <th>3</th>\n",
       "      <td>aef768899cedac0c9a650980219075a2</td>\n",
       "      <td>2211607</td>\n",
       "      <td>383</td>\n",
       "      <td>36500</td>\n",
       "      <td>53</td>\n",
       "      <td>Goals</td>\n",
       "      <td>, Right-footed shot, 2. Tournament Goal Assist...</td>\n",
       "    </tr>\n",
       "    <tr>\n",
       "      <th>4</th>\n",
       "      <td>5d6d9533023057b6619ecd145a038bbe</td>\n",
       "      <td>2211607</td>\n",
       "      <td>383</td>\n",
       "      <td>36500</td>\n",
       "      <td>74</td>\n",
       "      <td>Substitutions</td>\n",
       "      <td>, Not reported</td>\n",
       "    </tr>\n",
       "  </tbody>\n",
       "</table>\n",
       "</div>"
      ],
      "text/plain": [
       "                      game_event_id  game_id  club_id  player_id  minute  \\\n",
       "0  2f41da30c471492e7d4a984951671677  2211607      610       4425      77   \n",
       "1  a72f7186d132775f234d3e2f7bc0ed5b  2211607      383      33210      77   \n",
       "2  b2d721eaed4692a5c59a92323689ef18  2211607      383      36500       3   \n",
       "3  aef768899cedac0c9a650980219075a2  2211607      383      36500      53   \n",
       "4  5d6d9533023057b6619ecd145a038bbe  2211607      383      36500      74   \n",
       "\n",
       "            type                                        description  \n",
       "0          Cards               1. Yellow card  , Mass confrontation  \n",
       "1          Cards               1. Yellow card  , Mass confrontation  \n",
       "2          Goals  , Header, 1. Tournament Goal Assist: , Corner,...  \n",
       "3          Goals  , Right-footed shot, 2. Tournament Goal Assist...  \n",
       "4  Substitutions                                     , Not reported  "
      ]
     },
     "metadata": {},
     "output_type": "display_data"
    },
    {
     "data": {
      "text/plain": [
       "(683511, 7)"
      ]
     },
     "metadata": {},
     "output_type": "display_data"
    }
   ],
   "source": [
    "events_df = game_events_data[[\"game_event_id\",\"game_id\",\"club_id\",\"player_id\",\"minute\",\"type\",\"description\"]]\n",
    "display(events_df.head())\n",
    "display(events_df.shape) # (683511, 7)"
   ]
  },
  {
   "cell_type": "markdown",
   "id": "c9c2c4f1",
   "metadata": {},
   "source": [
    "###### 4.5 Understand the Numerical, Categorical and Binary Variables"
   ]
  },
  {
   "cell_type": "code",
   "execution_count": 539,
   "id": "031cacf2",
   "metadata": {
    "ExecuteTime": {
     "end_time": "2024-03-05T18:23:48.067345Z",
     "start_time": "2024-03-05T18:23:47.712910Z"
    }
   },
   "outputs": [
    {
     "name": "stdout",
     "output_type": "stream",
     "text": [
      "Numerical Variables: ['game_id', 'club_id', 'player_id', 'minute']\n",
      "Categorical Variables: ['game_event_id', 'type', 'description']\n",
      "Binary Variables: []\n",
      "Total Numerical Variables:  4\n",
      "Total Categorical Variables:  3\n",
      "Total Binary Variables:  0\n"
     ]
    }
   ],
   "source": [
    "# Create lists to hold the names of each type of column\n",
    "numerical_variables = []\n",
    "categorical_variables = []\n",
    "binary_variables = []\n",
    "\n",
    "# Loop through the games_df columns to classify them\n",
    "for column_name in events_df.columns:\n",
    "    unique_vals = events_df[column_name].nunique()\n",
    "    \n",
    "    # Check for Binary\n",
    "    if (events_df[column_name].dtype in ['int64', 'float64', 'bool']) and (unique_vals == 2):\n",
    "        binary_variables.append(column_name)\n",
    "    # Check for Numerical\n",
    "    elif events_df[column_name].dtype in ['int64', 'float64']:\n",
    "        numerical_variables.append(column_name)\n",
    "    # Check for Categorical\n",
    "    elif events_df[column_name].dtype == 'object' or events_df[column_name].dtype.name == 'category':\n",
    "        categorical_variables.append(column_name)\n",
    "\n",
    "print(\"Numerical Variables:\", numerical_variables)\n",
    "print(\"Categorical Variables:\", categorical_variables)\n",
    "print(\"Binary Variables:\", binary_variables)\n",
    "\n",
    "print(\"Total Numerical Variables: \",len(numerical_variables))\n",
    "print(\"Total Categorical Variables: \",len(categorical_variables))\n",
    "print(\"Total Binary Variables: \",len(binary_variables))"
   ]
  },
  {
   "cell_type": "markdown",
   "id": "53cb7399",
   "metadata": {},
   "source": [
    "###### 4.6 Inspect Numerical Variables and Null Values"
   ]
  },
  {
   "cell_type": "code",
   "execution_count": 540,
   "id": "5e309665",
   "metadata": {
    "ExecuteTime": {
     "end_time": "2024-03-05T18:23:48.298190Z",
     "start_time": "2024-03-05T18:23:48.070359Z"
    }
   },
   "outputs": [
    {
     "data": {
      "text/html": [
       "<div>\n",
       "<style scoped>\n",
       "    .dataframe tbody tr th:only-of-type {\n",
       "        vertical-align: middle;\n",
       "    }\n",
       "\n",
       "    .dataframe tbody tr th {\n",
       "        vertical-align: top;\n",
       "    }\n",
       "\n",
       "    .dataframe thead th {\n",
       "        text-align: right;\n",
       "    }\n",
       "</style>\n",
       "<table border=\"1\" class=\"dataframe\">\n",
       "  <thead>\n",
       "    <tr style=\"text-align: right;\">\n",
       "      <th></th>\n",
       "      <th>game_id</th>\n",
       "      <th>club_id</th>\n",
       "      <th>player_id</th>\n",
       "      <th>minute</th>\n",
       "    </tr>\n",
       "  </thead>\n",
       "  <tbody>\n",
       "    <tr>\n",
       "      <th>0</th>\n",
       "      <td>2211607</td>\n",
       "      <td>610</td>\n",
       "      <td>4425</td>\n",
       "      <td>77</td>\n",
       "    </tr>\n",
       "    <tr>\n",
       "      <th>1</th>\n",
       "      <td>2211607</td>\n",
       "      <td>383</td>\n",
       "      <td>33210</td>\n",
       "      <td>77</td>\n",
       "    </tr>\n",
       "    <tr>\n",
       "      <th>2</th>\n",
       "      <td>2211607</td>\n",
       "      <td>383</td>\n",
       "      <td>36500</td>\n",
       "      <td>3</td>\n",
       "    </tr>\n",
       "    <tr>\n",
       "      <th>3</th>\n",
       "      <td>2211607</td>\n",
       "      <td>383</td>\n",
       "      <td>36500</td>\n",
       "      <td>53</td>\n",
       "    </tr>\n",
       "    <tr>\n",
       "      <th>4</th>\n",
       "      <td>2211607</td>\n",
       "      <td>383</td>\n",
       "      <td>36500</td>\n",
       "      <td>74</td>\n",
       "    </tr>\n",
       "  </tbody>\n",
       "</table>\n",
       "</div>"
      ],
      "text/plain": [
       "   game_id  club_id  player_id  minute\n",
       "0  2211607      610       4425      77\n",
       "1  2211607      383      33210      77\n",
       "2  2211607      383      36500       3\n",
       "3  2211607      383      36500      53\n",
       "4  2211607      383      36500      74"
      ]
     },
     "metadata": {},
     "output_type": "display_data"
    },
    {
     "data": {
      "text/html": [
       "<div>\n",
       "<style scoped>\n",
       "    .dataframe tbody tr th:only-of-type {\n",
       "        vertical-align: middle;\n",
       "    }\n",
       "\n",
       "    .dataframe tbody tr th {\n",
       "        vertical-align: top;\n",
       "    }\n",
       "\n",
       "    .dataframe thead th {\n",
       "        text-align: right;\n",
       "    }\n",
       "</style>\n",
       "<table border=\"1\" class=\"dataframe\">\n",
       "  <thead>\n",
       "    <tr style=\"text-align: right;\">\n",
       "      <th></th>\n",
       "      <th>game_id</th>\n",
       "      <th>club_id</th>\n",
       "      <th>player_id</th>\n",
       "      <th>minute</th>\n",
       "    </tr>\n",
       "  </thead>\n",
       "  <tbody>\n",
       "    <tr>\n",
       "      <th>count</th>\n",
       "      <td>6.835110e+05</td>\n",
       "      <td>683511.000000</td>\n",
       "      <td>6.835110e+05</td>\n",
       "      <td>683511.000000</td>\n",
       "    </tr>\n",
       "    <tr>\n",
       "      <th>mean</th>\n",
       "      <td>3.078808e+06</td>\n",
       "      <td>4569.101725</td>\n",
       "      <td>2.059399e+05</td>\n",
       "      <td>63.522136</td>\n",
       "    </tr>\n",
       "    <tr>\n",
       "      <th>std</th>\n",
       "      <td>6.241691e+05</td>\n",
       "      <td>10874.839919</td>\n",
       "      <td>1.914740e+05</td>\n",
       "      <td>21.943703</td>\n",
       "    </tr>\n",
       "    <tr>\n",
       "      <th>min</th>\n",
       "      <td>2.211607e+06</td>\n",
       "      <td>1.000000</td>\n",
       "      <td>1.000000e+01</td>\n",
       "      <td>-1.000000</td>\n",
       "    </tr>\n",
       "    <tr>\n",
       "      <th>25%</th>\n",
       "      <td>2.486837e+06</td>\n",
       "      <td>336.000000</td>\n",
       "      <td>5.800100e+04</td>\n",
       "      <td>51.000000</td>\n",
       "    </tr>\n",
       "    <tr>\n",
       "      <th>50%</th>\n",
       "      <td>3.058414e+06</td>\n",
       "      <td>984.000000</td>\n",
       "      <td>1.461640e+05</td>\n",
       "      <td>68.000000</td>\n",
       "    </tr>\n",
       "    <tr>\n",
       "      <th>75%</th>\n",
       "      <td>3.602488e+06</td>\n",
       "      <td>3021.000000</td>\n",
       "      <td>2.966950e+05</td>\n",
       "      <td>80.000000</td>\n",
       "    </tr>\n",
       "    <tr>\n",
       "      <th>max</th>\n",
       "      <td>4.273950e+06</td>\n",
       "      <td>112755.000000</td>\n",
       "      <td>1.210422e+06</td>\n",
       "      <td>120.000000</td>\n",
       "    </tr>\n",
       "  </tbody>\n",
       "</table>\n",
       "</div>"
      ],
      "text/plain": [
       "            game_id        club_id     player_id         minute\n",
       "count  6.835110e+05  683511.000000  6.835110e+05  683511.000000\n",
       "mean   3.078808e+06    4569.101725  2.059399e+05      63.522136\n",
       "std    6.241691e+05   10874.839919  1.914740e+05      21.943703\n",
       "min    2.211607e+06       1.000000  1.000000e+01      -1.000000\n",
       "25%    2.486837e+06     336.000000  5.800100e+04      51.000000\n",
       "50%    3.058414e+06     984.000000  1.461640e+05      68.000000\n",
       "75%    3.602488e+06    3021.000000  2.966950e+05      80.000000\n",
       "max    4.273950e+06  112755.000000  1.210422e+06     120.000000"
      ]
     },
     "metadata": {},
     "output_type": "display_data"
    },
    {
     "data": {
      "text/plain": [
       "game_id      0\n",
       "club_id      0\n",
       "player_id    0\n",
       "minute       0\n",
       "dtype: int64"
      ]
     },
     "metadata": {},
     "output_type": "display_data"
    },
    {
     "data": {
      "text/plain": [
       "game_id      66154\n",
       "club_id       2597\n",
       "player_id    52853\n",
       "minute         121\n",
       "dtype: int64"
      ]
     },
     "metadata": {},
     "output_type": "display_data"
    }
   ],
   "source": [
    "display(events_df[numerical_variables].head())\n",
    "#events_df[numerical_variables].dtypes\n",
    "display(events_df[numerical_variables].describe(include = \"all\")) \n",
    "#display(events_df[numerical_variables].shape) # (683511, 4)\n",
    "display(events_df[numerical_variables].isnull().sum()) # No null values reported\n",
    "display(events_df[numerical_variables].nunique())\n",
    "# game_id      66154 [Total number of games]\n",
    "# club_id       2597 [Total number of clubs]\n",
    "# player_id    52853 [Total number of players]\n",
    "# minute       Check extreme values for minute variable"
   ]
  },
  {
   "cell_type": "markdown",
   "id": "285c8263",
   "metadata": {},
   "source": [
    "###### 4.7 Inspect Extreme Values For Numerical Variables"
   ]
  },
  {
   "cell_type": "code",
   "execution_count": 541,
   "id": "0e9ec6a2",
   "metadata": {
    "ExecuteTime": {
     "end_time": "2024-03-05T18:23:49.712712Z",
     "start_time": "2024-03-05T18:23:48.300202Z"
    }
   },
   "outputs": [
    {
     "data": {
      "image/png": "[encoded data removed]",
      "text/plain": [
       "<Figure size 640x480 with 1 Axes>"
      ]
     },
     "metadata": {},
     "output_type": "display_data"
    },
    {
     "data": {
      "text/html": [
       "<div>\n",
       "<style scoped>\n",
       "    .dataframe tbody tr th:only-of-type {\n",
       "        vertical-align: middle;\n",
       "    }\n",
       "\n",
       "    .dataframe tbody tr th {\n",
       "        vertical-align: top;\n",
       "    }\n",
       "\n",
       "    .dataframe thead th {\n",
       "        text-align: right;\n",
       "    }\n",
       "</style>\n",
       "<table border=\"1\" class=\"dataframe\">\n",
       "  <thead>\n",
       "    <tr style=\"text-align: right;\">\n",
       "      <th></th>\n",
       "      <th>game_event_id</th>\n",
       "      <th>game_id</th>\n",
       "      <th>club_id</th>\n",
       "      <th>player_id</th>\n",
       "      <th>minute</th>\n",
       "      <th>type</th>\n",
       "      <th>description</th>\n",
       "    </tr>\n",
       "  </thead>\n",
       "  <tbody>\n",
       "    <tr>\n",
       "      <th>15</th>\n",
       "      <td>874987f117bca74599041037e0c43075</td>\n",
       "      <td>2211607</td>\n",
       "      <td>610</td>\n",
       "      <td>124883</td>\n",
       "      <td>-1</td>\n",
       "      <td>Cards</td>\n",
       "      <td>1. Yellow card</td>\n",
       "    </tr>\n",
       "    <tr>\n",
       "      <th>204</th>\n",
       "      <td>3aaa80875fbd40d6286c2ad811c81dd5</td>\n",
       "      <td>2221757</td>\n",
       "      <td>127</td>\n",
       "      <td>2198</td>\n",
       "      <td>-1</td>\n",
       "      <td>Cards</td>\n",
       "      <td>1. Yellow card  , Foul</td>\n",
       "    </tr>\n",
       "    <tr>\n",
       "      <th>205</th>\n",
       "      <td>12332d376f646311d98f269f05f261db</td>\n",
       "      <td>2221757</td>\n",
       "      <td>127</td>\n",
       "      <td>2201</td>\n",
       "      <td>-1</td>\n",
       "      <td>Cards</td>\n",
       "      <td>1. Yellow card  , Dissent</td>\n",
       "    </tr>\n",
       "    <tr>\n",
       "      <th>211</th>\n",
       "      <td>acd8bc16b3cefb8f03542964942a7379</td>\n",
       "      <td>2221757</td>\n",
       "      <td>10</td>\n",
       "      <td>39105</td>\n",
       "      <td>-1</td>\n",
       "      <td>Cards</td>\n",
       "      <td>1. Yellow card  , Foul</td>\n",
       "    </tr>\n",
       "    <tr>\n",
       "      <th>215</th>\n",
       "      <td>5d52467708d6c25d619b6198c1b3681f</td>\n",
       "      <td>2221757</td>\n",
       "      <td>10</td>\n",
       "      <td>77879</td>\n",
       "      <td>-1</td>\n",
       "      <td>Cards</td>\n",
       "      <td>1. Yellow card  , Serious foul</td>\n",
       "    </tr>\n",
       "    <tr>\n",
       "      <th>...</th>\n",
       "      <td>...</td>\n",
       "      <td>...</td>\n",
       "      <td>...</td>\n",
       "      <td>...</td>\n",
       "      <td>...</td>\n",
       "      <td>...</td>\n",
       "      <td>...</td>\n",
       "    </tr>\n",
       "    <tr>\n",
       "      <th>682533</th>\n",
       "      <td>5925101a849ed646d0b4e6b5a32cc7dc</td>\n",
       "      <td>4254174</td>\n",
       "      <td>430</td>\n",
       "      <td>413507</td>\n",
       "      <td>-1</td>\n",
       "      <td>Shootout</td>\n",
       "      <td>, Scored</td>\n",
       "    </tr>\n",
       "    <tr>\n",
       "      <th>682536</th>\n",
       "      <td>bd8e5c5d3cd4aec16c3ad84fc9b8a800</td>\n",
       "      <td>4254174</td>\n",
       "      <td>1025</td>\n",
       "      <td>428563</td>\n",
       "      <td>-1</td>\n",
       "      <td>Shootout</td>\n",
       "      <td>, Scored</td>\n",
       "    </tr>\n",
       "    <tr>\n",
       "      <th>682537</th>\n",
       "      <td>2eefe14a8ea444d87db77c7ea6a28736</td>\n",
       "      <td>4254174</td>\n",
       "      <td>1025</td>\n",
       "      <td>435648</td>\n",
       "      <td>-1</td>\n",
       "      <td>Shootout</td>\n",
       "      <td>, Scored</td>\n",
       "    </tr>\n",
       "    <tr>\n",
       "      <th>682538</th>\n",
       "      <td>5041739de02bb1e59324feb7fabb6d4a</td>\n",
       "      <td>4254174</td>\n",
       "      <td>1025</td>\n",
       "      <td>502821</td>\n",
       "      <td>-1</td>\n",
       "      <td>Shootout</td>\n",
       "      <td>, Scored</td>\n",
       "    </tr>\n",
       "    <tr>\n",
       "      <th>682920</th>\n",
       "      <td>cdb382a31d819fa850b0acd3e8aa332b</td>\n",
       "      <td>4261503</td>\n",
       "      <td>3205</td>\n",
       "      <td>282560</td>\n",
       "      <td>-1</td>\n",
       "      <td>Cards</td>\n",
       "      <td>1. Yellow card  , Dissent</td>\n",
       "    </tr>\n",
       "  </tbody>\n",
       "</table>\n",
       "<p>2561 rows × 7 columns</p>\n",
       "</div>"
      ],
      "text/plain": [
       "                           game_event_id  game_id  club_id  player_id  minute  \\\n",
       "15      874987f117bca74599041037e0c43075  2211607      610     124883      -1   \n",
       "204     3aaa80875fbd40d6286c2ad811c81dd5  2221757      127       2198      -1   \n",
       "205     12332d376f646311d98f269f05f261db  2221757      127       2201      -1   \n",
       "211     acd8bc16b3cefb8f03542964942a7379  2221757       10      39105      -1   \n",
       "215     5d52467708d6c25d619b6198c1b3681f  2221757       10      77879      -1   \n",
       "...                                  ...      ...      ...        ...     ...   \n",
       "682533  5925101a849ed646d0b4e6b5a32cc7dc  4254174      430     413507      -1   \n",
       "682536  bd8e5c5d3cd4aec16c3ad84fc9b8a800  4254174     1025     428563      -1   \n",
       "682537  2eefe14a8ea444d87db77c7ea6a28736  4254174     1025     435648      -1   \n",
       "682538  5041739de02bb1e59324feb7fabb6d4a  4254174     1025     502821      -1   \n",
       "682920  cdb382a31d819fa850b0acd3e8aa332b  4261503     3205     282560      -1   \n",
       "\n",
       "            type                     description  \n",
       "15         Cards                  1. Yellow card  \n",
       "204        Cards          1. Yellow card  , Foul  \n",
       "205        Cards       1. Yellow card  , Dissent  \n",
       "211        Cards          1. Yellow card  , Foul  \n",
       "215        Cards  1. Yellow card  , Serious foul  \n",
       "...          ...                             ...  \n",
       "682533  Shootout                        , Scored  \n",
       "682536  Shootout                        , Scored  \n",
       "682537  Shootout                        , Scored  \n",
       "682538  Shootout                        , Scored  \n",
       "682920     Cards       1. Yellow card  , Dissent  \n",
       "\n",
       "[2561 rows x 7 columns]"
      ]
     },
     "metadata": {},
     "output_type": "display_data"
    },
    {
     "data": {
      "text/plain": [
       "120"
      ]
     },
     "metadata": {},
     "output_type": "display_data"
    },
    {
     "data": {
      "text/plain": [
       "-1"
      ]
     },
     "metadata": {},
     "output_type": "display_data"
    },
    {
     "name": "stderr",
     "output_type": "stream",
     "text": [
      "C:\\Users\\Lenovo\\AppData\\Local\\Temp\\ipykernel_12516\\2826533575.py:13: SettingWithCopyWarning: \n",
      "A value is trying to be set on a copy of a slice from a DataFrame.\n",
      "Try using .loc[row_indexer,col_indexer] = value instead\n",
      "\n",
      "See the caveats in the documentation: https://pandas.pydata.org/pandas-docs/stable/user_guide/indexing.html#returning-a-view-versus-a-copy\n",
      "  events_df['minute'] = events_df['minute'].replace(-1,1)\n"
     ]
    },
    {
     "data": {
      "text/plain": [
       "0"
      ]
     },
     "metadata": {},
     "output_type": "display_data"
    },
    {
     "data": {
      "text/plain": [
       "count    683511.000000\n",
       "mean         63.529630\n",
       "std          21.921999\n",
       "min           1.000000\n",
       "25%          51.000000\n",
       "50%          68.000000\n",
       "75%          80.000000\n",
       "max         120.000000\n",
       "Name: minute, dtype: float64"
      ]
     },
     "metadata": {},
     "output_type": "display_data"
    },
    {
     "data": {
      "text/plain": [
       "<Figure size 640x480 with 0 Axes>"
      ]
     },
     "metadata": {},
     "output_type": "display_data"
    }
   ],
   "source": [
    "# Inspect Minute Variable for Outlier Detection\n",
    "sns.boxplot(data = events_df['minute'])\n",
    "plt.show()\n",
    "plt.clf()\n",
    "\n",
    "# Further Inspection of Minute Variable [minutes less than 0]\n",
    "minutes_less_zero = events_df[events_df['minute'] <= 0]\n",
    "display(minutes_less_zero) # minute variable has value of -1 and this is an entry mistake\n",
    "display(events_df['minute'].max()) # 120 minutes\n",
    "display(events_df['minute'].min()) # -1 minutes\n",
    "\n",
    "# Replace the -1 with +1 for the minute variable\n",
    "events_df['minute'] = events_df['minute'].replace(-1,1)\n",
    "display(len(events_df[events_df['minute'] <= 0]))\n",
    "\n",
    "# Inspect Descriptive Statistics of Minute Variable\n",
    "display(events_df['minute'].describe()) # Within an acceptable range (1,120)"
   ]
  },
  {
   "cell_type": "markdown",
   "id": "119a2921",
   "metadata": {},
   "source": [
    "###### 4.8 Inspect Categorical Variables and Null Values"
   ]
  },
  {
   "cell_type": "code",
   "execution_count": 542,
   "id": "9749d105",
   "metadata": {
    "ExecuteTime": {
     "end_time": "2024-03-05T18:23:50.452945Z",
     "start_time": "2024-03-05T18:23:49.715720Z"
    }
   },
   "outputs": [
    {
     "data": {
      "text/plain": [
       "game_event_id         0\n",
       "type                  0\n",
       "description      337436\n",
       "dtype: int64"
      ]
     },
     "metadata": {},
     "output_type": "display_data"
    },
    {
     "data": {
      "text/html": [
       "<div>\n",
       "<style scoped>\n",
       "    .dataframe tbody tr th:only-of-type {\n",
       "        vertical-align: middle;\n",
       "    }\n",
       "\n",
       "    .dataframe tbody tr th {\n",
       "        vertical-align: top;\n",
       "    }\n",
       "\n",
       "    .dataframe thead th {\n",
       "        text-align: right;\n",
       "    }\n",
       "</style>\n",
       "<table border=\"1\" class=\"dataframe\">\n",
       "  <thead>\n",
       "    <tr style=\"text-align: right;\">\n",
       "      <th></th>\n",
       "      <th>game_event_id</th>\n",
       "      <th>game_id</th>\n",
       "      <th>club_id</th>\n",
       "      <th>player_id</th>\n",
       "      <th>minute</th>\n",
       "      <th>type</th>\n",
       "      <th>description</th>\n",
       "    </tr>\n",
       "  </thead>\n",
       "  <tbody>\n",
       "    <tr>\n",
       "      <th>26555</th>\n",
       "      <td>e4d512124476ec9412a40b6a5992ee2f</td>\n",
       "      <td>2235964</td>\n",
       "      <td>10468</td>\n",
       "      <td>121235</td>\n",
       "      <td>81</td>\n",
       "      <td>Substitutions</td>\n",
       "      <td>NaN</td>\n",
       "    </tr>\n",
       "    <tr>\n",
       "      <th>26557</th>\n",
       "      <td>ac641aeaaf272da2f7e39427fe5e03c8</td>\n",
       "      <td>2235964</td>\n",
       "      <td>10468</td>\n",
       "      <td>201284</td>\n",
       "      <td>66</td>\n",
       "      <td>Substitutions</td>\n",
       "      <td>NaN</td>\n",
       "    </tr>\n",
       "    <tr>\n",
       "      <th>28472</th>\n",
       "      <td>9e4d13d444aa9315f9fb56ef075faf23</td>\n",
       "      <td>2240152</td>\n",
       "      <td>1465</td>\n",
       "      <td>17352</td>\n",
       "      <td>81</td>\n",
       "      <td>Substitutions</td>\n",
       "      <td>NaN</td>\n",
       "    </tr>\n",
       "    <tr>\n",
       "      <th>28473</th>\n",
       "      <td>4bc0bb78995d14303a22390aeec4e601</td>\n",
       "      <td>2240152</td>\n",
       "      <td>1301</td>\n",
       "      <td>24880</td>\n",
       "      <td>62</td>\n",
       "      <td>Substitutions</td>\n",
       "      <td>NaN</td>\n",
       "    </tr>\n",
       "    <tr>\n",
       "      <th>28475</th>\n",
       "      <td>b08ec33cbbcb9be738f1525e8d09d4e1</td>\n",
       "      <td>2240152</td>\n",
       "      <td>1465</td>\n",
       "      <td>42303</td>\n",
       "      <td>65</td>\n",
       "      <td>Substitutions</td>\n",
       "      <td>NaN</td>\n",
       "    </tr>\n",
       "  </tbody>\n",
       "</table>\n",
       "</div>"
      ],
      "text/plain": [
       "                          game_event_id  game_id  club_id  player_id  minute  \\\n",
       "26555  e4d512124476ec9412a40b6a5992ee2f  2235964    10468     121235      81   \n",
       "26557  ac641aeaaf272da2f7e39427fe5e03c8  2235964    10468     201284      66   \n",
       "28472  9e4d13d444aa9315f9fb56ef075faf23  2240152     1465      17352      81   \n",
       "28473  4bc0bb78995d14303a22390aeec4e601  2240152     1301      24880      62   \n",
       "28475  b08ec33cbbcb9be738f1525e8d09d4e1  2240152     1465      42303      65   \n",
       "\n",
       "                type description  \n",
       "26555  Substitutions         NaN  \n",
       "26557  Substitutions         NaN  \n",
       "28472  Substitutions         NaN  \n",
       "28473  Substitutions         NaN  \n",
       "28475  Substitutions         NaN  "
      ]
     },
     "metadata": {},
     "output_type": "display_data"
    },
    {
     "data": {
      "text/plain": [
       "Substitutions    337436\n",
       "Name: type, dtype: int64"
      ]
     },
     "metadata": {},
     "output_type": "display_data"
    },
    {
     "data": {
      "text/plain": [
       ", Tactical                            44799\n",
       ", Not reported                        40248\n",
       ", Injury                               6076\n",
       ", Delay                                 893\n",
       ", Resting                               766\n",
       ", Special achievements                  555\n",
       ", Risk of booking                       300\n",
       ", Substitution without replacement       52\n",
       "Name: description, dtype: int64"
      ]
     },
     "metadata": {},
     "output_type": "display_data"
    },
    {
     "data": {
      "text/plain": [
       "Substitutions    431125\n",
       "Goals            183940\n",
       "Cards             67037\n",
       "Shootout           1409\n",
       "Name: type, dtype: int64"
      ]
     },
     "metadata": {},
     "output_type": "display_data"
    },
    {
     "name": "stderr",
     "output_type": "stream",
     "text": [
      "C:\\Users\\Lenovo\\AppData\\Local\\Temp\\ipykernel_12516\\4215383721.py:18: SettingWithCopyWarning: \n",
      "A value is trying to be set on a copy of a slice from a DataFrame.\n",
      "Try using .loc[row_indexer,col_indexer] = value instead\n",
      "\n",
      "See the caveats in the documentation: https://pandas.pydata.org/pandas-docs/stable/user_guide/indexing.html#returning-a-view-versus-a-copy\n",
      "  events_df['description'] = events_df['description'].fillna(', Not reported')\n"
     ]
    },
    {
     "data": {
      "text/plain": [
       ", Not reported                        377684\n",
       ", Tactical                             44799\n",
       ", Injury                                6076\n",
       ", Delay                                  893\n",
       ", Resting                                766\n",
       ", Special achievements                   555\n",
       ", Risk of booking                        300\n",
       ", Substitution without replacement        52\n",
       "Name: description, dtype: int64"
      ]
     },
     "metadata": {},
     "output_type": "display_data"
    },
    {
     "data": {
      "text/plain": [
       "game_event_id    0\n",
       "type             0\n",
       "description      0\n",
       "dtype: int64"
      ]
     },
     "metadata": {},
     "output_type": "display_data"
    }
   ],
   "source": [
    "# Check the null values for categorical variables\n",
    "display(events_df[categorical_variables].isnull().sum())\n",
    "# game_event_id         0\n",
    "# type                  0\n",
    "# description      337436 [Need further inspection]\n",
    "\n",
    "# Inspect Description Variable\n",
    "description_null = events_df[events_df['description'].isnull()]\n",
    "display(description_null.head())\n",
    "display(description_null['type'].value_counts())\n",
    "# Substitutions    337436 [From the nulls]\n",
    "# All the null values are for substitutions and have no descriptions\n",
    "# For the descriptions that have null values replace the values with Not reported\n",
    "display(events_df[events_df['type'] == 'Substitutions']['description'].value_counts())\n",
    "\n",
    "# Replacement of null values in the description column\n",
    "display(events_df['type'].value_counts())\n",
    "events_df['description'] = events_df['description'].fillna(', Not reported') \n",
    "display(events_df[events_df['type'] == 'Substitutions']['description'].value_counts())\n",
    "display(events_df[categorical_variables].isnull().sum()) # Successfully replaced null values"
   ]
  },
  {
   "cell_type": "markdown",
   "id": "69624eda",
   "metadata": {},
   "source": [
    "###### 4.9 Extract Yellow and Red Cards From Descriptions Variable [Feature Engineering]"
   ]
  },
  {
   "cell_type": "code",
   "execution_count": 543,
   "id": "f141cdac",
   "metadata": {
    "ExecuteTime": {
     "end_time": "2024-03-05T18:23:51.224487Z",
     "start_time": "2024-03-05T18:23:50.454957Z"
    }
   },
   "outputs": [
    {
     "data": {
      "text/plain": [
       "game_event_id    0\n",
       "game_id          0\n",
       "club_id          0\n",
       "player_id        0\n",
       "minute           0\n",
       "type             0\n",
       "description      0\n",
       "dtype: int64"
      ]
     },
     "metadata": {},
     "output_type": "display_data"
    },
    {
     "data": {
      "text/plain": [
       "(683511, 7)"
      ]
     },
     "metadata": {},
     "output_type": "display_data"
    },
    {
     "name": "stderr",
     "output_type": "stream",
     "text": [
      "C:\\Users\\Lenovo\\AppData\\Local\\Temp\\ipykernel_12516\\897546559.py:10: SettingWithCopyWarning: \n",
      "A value is trying to be set on a copy of a slice from a DataFrame.\n",
      "Try using .loc[row_indexer,col_indexer] = value instead\n",
      "\n",
      "See the caveats in the documentation: https://pandas.pydata.org/pandas-docs/stable/user_guide/indexing.html#returning-a-view-versus-a-copy\n",
      "  events_df['yellow_card'] = events_df['description'].apply(lambda x: 1 if 'Yellow card' in x else 0)\n",
      "C:\\Users\\Lenovo\\AppData\\Local\\Temp\\ipykernel_12516\\897546559.py:11: SettingWithCopyWarning: \n",
      "A value is trying to be set on a copy of a slice from a DataFrame.\n",
      "Try using .loc[row_indexer,col_indexer] = value instead\n",
      "\n",
      "See the caveats in the documentation: https://pandas.pydata.org/pandas-docs/stable/user_guide/indexing.html#returning-a-view-versus-a-copy\n",
      "  events_df['red_card'] = events_df['description'].apply(lambda x: 1 if 'Red card' in x else 0)\n"
     ]
    },
    {
     "data": {
      "text/plain": [
       "(683511, 8)"
      ]
     },
     "metadata": {},
     "output_type": "display_data"
    },
    {
     "data": {
      "text/html": [
       "<div>\n",
       "<style scoped>\n",
       "    .dataframe tbody tr th:only-of-type {\n",
       "        vertical-align: middle;\n",
       "    }\n",
       "\n",
       "    .dataframe tbody tr th {\n",
       "        vertical-align: top;\n",
       "    }\n",
       "\n",
       "    .dataframe thead th {\n",
       "        text-align: right;\n",
       "    }\n",
       "</style>\n",
       "<table border=\"1\" class=\"dataframe\">\n",
       "  <thead>\n",
       "    <tr style=\"text-align: right;\">\n",
       "      <th></th>\n",
       "      <th>game_event_id</th>\n",
       "      <th>game_id</th>\n",
       "      <th>club_id</th>\n",
       "      <th>player_id</th>\n",
       "      <th>minute</th>\n",
       "      <th>type</th>\n",
       "      <th>yellow_card</th>\n",
       "      <th>red_card</th>\n",
       "    </tr>\n",
       "  </thead>\n",
       "  <tbody>\n",
       "    <tr>\n",
       "      <th>0</th>\n",
       "      <td>2f41da30c471492e7d4a984951671677</td>\n",
       "      <td>2211607</td>\n",
       "      <td>610</td>\n",
       "      <td>4425</td>\n",
       "      <td>77</td>\n",
       "      <td>Cards</td>\n",
       "      <td>1</td>\n",
       "      <td>0</td>\n",
       "    </tr>\n",
       "    <tr>\n",
       "      <th>1</th>\n",
       "      <td>a72f7186d132775f234d3e2f7bc0ed5b</td>\n",
       "      <td>2211607</td>\n",
       "      <td>383</td>\n",
       "      <td>33210</td>\n",
       "      <td>77</td>\n",
       "      <td>Cards</td>\n",
       "      <td>1</td>\n",
       "      <td>0</td>\n",
       "    </tr>\n",
       "    <tr>\n",
       "      <th>2</th>\n",
       "      <td>b2d721eaed4692a5c59a92323689ef18</td>\n",
       "      <td>2211607</td>\n",
       "      <td>383</td>\n",
       "      <td>36500</td>\n",
       "      <td>3</td>\n",
       "      <td>Goals</td>\n",
       "      <td>0</td>\n",
       "      <td>0</td>\n",
       "    </tr>\n",
       "    <tr>\n",
       "      <th>3</th>\n",
       "      <td>aef768899cedac0c9a650980219075a2</td>\n",
       "      <td>2211607</td>\n",
       "      <td>383</td>\n",
       "      <td>36500</td>\n",
       "      <td>53</td>\n",
       "      <td>Goals</td>\n",
       "      <td>0</td>\n",
       "      <td>0</td>\n",
       "    </tr>\n",
       "    <tr>\n",
       "      <th>4</th>\n",
       "      <td>5d6d9533023057b6619ecd145a038bbe</td>\n",
       "      <td>2211607</td>\n",
       "      <td>383</td>\n",
       "      <td>36500</td>\n",
       "      <td>74</td>\n",
       "      <td>Substitutions</td>\n",
       "      <td>0</td>\n",
       "      <td>0</td>\n",
       "    </tr>\n",
       "  </tbody>\n",
       "</table>\n",
       "</div>"
      ],
      "text/plain": [
       "                      game_event_id  game_id  club_id  player_id  minute  \\\n",
       "0  2f41da30c471492e7d4a984951671677  2211607      610       4425      77   \n",
       "1  a72f7186d132775f234d3e2f7bc0ed5b  2211607      383      33210      77   \n",
       "2  b2d721eaed4692a5c59a92323689ef18  2211607      383      36500       3   \n",
       "3  aef768899cedac0c9a650980219075a2  2211607      383      36500      53   \n",
       "4  5d6d9533023057b6619ecd145a038bbe  2211607      383      36500      74   \n",
       "\n",
       "            type  yellow_card  red_card  \n",
       "0          Cards            1         0  \n",
       "1          Cards            1         0  \n",
       "2          Goals            0         0  \n",
       "3          Goals            0         0  \n",
       "4  Substitutions            0         0  "
      ]
     },
     "metadata": {},
     "output_type": "display_data"
    }
   ],
   "source": [
    "# Inspect the null values before feature extraction\n",
    "display(events_df.isnull().sum()) # No null values \n",
    "display(events_df.shape) # (683511, 7)\n",
    "#display(events_df.head())\n",
    "\n",
    "# Extract yellow and red cards from the description variable to create 2 new variables\n",
    "# Check the string of red and yellow cards from the description\n",
    "#display(events_df[events_df['type'] == 'Cards'].head(10)) # Yellow card, Red card\n",
    "\n",
    "events_df['yellow_card'] = events_df['description'].apply(lambda x: 1 if 'Yellow card' in x else 0)\n",
    "events_df['red_card'] = events_df['description'].apply(lambda x: 1 if 'Red card' in x else 0)\n",
    "#display(events_df['yellow_card'].value_counts())\n",
    "#display(events_df['red_card'].value_counts())\n",
    "        \n",
    "# Drop the description variable from the game events data frame as feature extraction is complete\n",
    "events_df = events_df.drop('description', axis=1)\n",
    "display(events_df.shape)\n",
    "display(events_df.head())"
   ]
  },
  {
   "cell_type": "markdown",
   "id": "6f924eb5",
   "metadata": {},
   "source": [
    "###### 4.10 Inspect Cleaned Game Events Data Frame "
   ]
  },
  {
   "cell_type": "code",
   "execution_count": 544,
   "id": "08650070",
   "metadata": {
    "ExecuteTime": {
     "end_time": "2024-03-05T18:23:51.332278Z",
     "start_time": "2024-03-05T18:23:51.228714Z"
    }
   },
   "outputs": [
    {
     "data": {
      "text/plain": [
       "game_event_id    0\n",
       "game_id          0\n",
       "club_id          0\n",
       "player_id        0\n",
       "minute           0\n",
       "type             0\n",
       "yellow_card      0\n",
       "red_card         0\n",
       "dtype: int64"
      ]
     },
     "metadata": {},
     "output_type": "display_data"
    },
    {
     "data": {
      "text/plain": [
       "(683511, 8)"
      ]
     },
     "metadata": {},
     "output_type": "display_data"
    },
    {
     "data": {
      "text/html": [
       "<div>\n",
       "<style scoped>\n",
       "    .dataframe tbody tr th:only-of-type {\n",
       "        vertical-align: middle;\n",
       "    }\n",
       "\n",
       "    .dataframe tbody tr th {\n",
       "        vertical-align: top;\n",
       "    }\n",
       "\n",
       "    .dataframe thead th {\n",
       "        text-align: right;\n",
       "    }\n",
       "</style>\n",
       "<table border=\"1\" class=\"dataframe\">\n",
       "  <thead>\n",
       "    <tr style=\"text-align: right;\">\n",
       "      <th></th>\n",
       "      <th>game_event_id</th>\n",
       "      <th>game_id</th>\n",
       "      <th>club_id</th>\n",
       "      <th>player_id</th>\n",
       "      <th>minute</th>\n",
       "      <th>type</th>\n",
       "      <th>yellow_card</th>\n",
       "      <th>red_card</th>\n",
       "    </tr>\n",
       "  </thead>\n",
       "  <tbody>\n",
       "    <tr>\n",
       "      <th>0</th>\n",
       "      <td>2f41da30c471492e7d4a984951671677</td>\n",
       "      <td>2211607</td>\n",
       "      <td>610</td>\n",
       "      <td>4425</td>\n",
       "      <td>77</td>\n",
       "      <td>Cards</td>\n",
       "      <td>1</td>\n",
       "      <td>0</td>\n",
       "    </tr>\n",
       "    <tr>\n",
       "      <th>1</th>\n",
       "      <td>a72f7186d132775f234d3e2f7bc0ed5b</td>\n",
       "      <td>2211607</td>\n",
       "      <td>383</td>\n",
       "      <td>33210</td>\n",
       "      <td>77</td>\n",
       "      <td>Cards</td>\n",
       "      <td>1</td>\n",
       "      <td>0</td>\n",
       "    </tr>\n",
       "    <tr>\n",
       "      <th>2</th>\n",
       "      <td>b2d721eaed4692a5c59a92323689ef18</td>\n",
       "      <td>2211607</td>\n",
       "      <td>383</td>\n",
       "      <td>36500</td>\n",
       "      <td>3</td>\n",
       "      <td>Goals</td>\n",
       "      <td>0</td>\n",
       "      <td>0</td>\n",
       "    </tr>\n",
       "    <tr>\n",
       "      <th>3</th>\n",
       "      <td>aef768899cedac0c9a650980219075a2</td>\n",
       "      <td>2211607</td>\n",
       "      <td>383</td>\n",
       "      <td>36500</td>\n",
       "      <td>53</td>\n",
       "      <td>Goals</td>\n",
       "      <td>0</td>\n",
       "      <td>0</td>\n",
       "    </tr>\n",
       "    <tr>\n",
       "      <th>4</th>\n",
       "      <td>5d6d9533023057b6619ecd145a038bbe</td>\n",
       "      <td>2211607</td>\n",
       "      <td>383</td>\n",
       "      <td>36500</td>\n",
       "      <td>74</td>\n",
       "      <td>Substitutions</td>\n",
       "      <td>0</td>\n",
       "      <td>0</td>\n",
       "    </tr>\n",
       "  </tbody>\n",
       "</table>\n",
       "</div>"
      ],
      "text/plain": [
       "                      game_event_id  game_id  club_id  player_id  minute  \\\n",
       "0  2f41da30c471492e7d4a984951671677  2211607      610       4425      77   \n",
       "1  a72f7186d132775f234d3e2f7bc0ed5b  2211607      383      33210      77   \n",
       "2  b2d721eaed4692a5c59a92323689ef18  2211607      383      36500       3   \n",
       "3  aef768899cedac0c9a650980219075a2  2211607      383      36500      53   \n",
       "4  5d6d9533023057b6619ecd145a038bbe  2211607      383      36500      74   \n",
       "\n",
       "            type  yellow_card  red_card  \n",
       "0          Cards            1         0  \n",
       "1          Cards            1         0  \n",
       "2          Goals            0         0  \n",
       "3          Goals            0         0  \n",
       "4  Substitutions            0         0  "
      ]
     },
     "metadata": {},
     "output_type": "display_data"
    }
   ],
   "source": [
    "display(events_df.isnull().sum()) \n",
    "# No reported null values and the game events data frame is ready for merging.\n",
    "display(events_df.shape) # (683511, 8)\n",
    "#display(events_df.describe(include = \"all\"))\n",
    "display(events_df.head())"
   ]
  },
  {
   "cell_type": "markdown",
   "id": "5a947244",
   "metadata": {},
   "source": [
    "###### 5 -- PLAYERS DATA FRAME [players.csv]"
   ]
  },
  {
   "cell_type": "markdown",
   "id": "ca374a88",
   "metadata": {},
   "source": [
    "###### 5.1 Load the players csv file and convert it into a data frame "
   ]
  },
  {
   "cell_type": "code",
   "execution_count": 545,
   "id": "21271faa",
   "metadata": {
    "ExecuteTime": {
     "end_time": "2024-03-05T18:23:51.706370Z",
     "start_time": "2024-03-05T18:23:51.335289Z"
    }
   },
   "outputs": [
    {
     "data": {
      "text/html": [
       "<div>\n",
       "<style scoped>\n",
       "    .dataframe tbody tr th:only-of-type {\n",
       "        vertical-align: middle;\n",
       "    }\n",
       "\n",
       "    .dataframe tbody tr th {\n",
       "        vertical-align: top;\n",
       "    }\n",
       "\n",
       "    .dataframe thead th {\n",
       "        text-align: right;\n",
       "    }\n",
       "</style>\n",
       "<table border=\"1\" class=\"dataframe\">\n",
       "  <thead>\n",
       "    <tr style=\"text-align: right;\">\n",
       "      <th></th>\n",
       "      <th>player_id</th>\n",
       "      <th>first_name</th>\n",
       "      <th>last_name</th>\n",
       "      <th>name</th>\n",
       "      <th>last_season</th>\n",
       "      <th>current_club_id</th>\n",
       "      <th>player_code</th>\n",
       "      <th>country_of_birth</th>\n",
       "      <th>city_of_birth</th>\n",
       "      <th>country_of_citizenship</th>\n",
       "      <th>...</th>\n",
       "      <th>foot</th>\n",
       "      <th>height_in_cm</th>\n",
       "      <th>contract_expiration_date</th>\n",
       "      <th>agent_name</th>\n",
       "      <th>image_url</th>\n",
       "      <th>url</th>\n",
       "      <th>current_club_domestic_competition_id</th>\n",
       "      <th>current_club_name</th>\n",
       "      <th>market_value_in_eur</th>\n",
       "      <th>highest_market_value_in_eur</th>\n",
       "    </tr>\n",
       "  </thead>\n",
       "  <tbody>\n",
       "    <tr>\n",
       "      <th>0</th>\n",
       "      <td>10</td>\n",
       "      <td>Miroslav</td>\n",
       "      <td>Klose</td>\n",
       "      <td>Miroslav Klose</td>\n",
       "      <td>2015</td>\n",
       "      <td>398</td>\n",
       "      <td>miroslav-klose</td>\n",
       "      <td>Poland</td>\n",
       "      <td>Opole</td>\n",
       "      <td>Germany</td>\n",
       "      <td>...</td>\n",
       "      <td>right</td>\n",
       "      <td>184.0</td>\n",
       "      <td>NaN</td>\n",
       "      <td>ASBW Sport Marketing</td>\n",
       "      <td>https://img.a.transfermarkt.technology/portrai...</td>\n",
       "      <td>https://www.transfermarkt.co.uk/miroslav-klose...</td>\n",
       "      <td>IT1</td>\n",
       "      <td>Società Sportiva Lazio S.p.A.</td>\n",
       "      <td>1000000.0</td>\n",
       "      <td>30000000.0</td>\n",
       "    </tr>\n",
       "    <tr>\n",
       "      <th>1</th>\n",
       "      <td>26</td>\n",
       "      <td>Roman</td>\n",
       "      <td>Weidenfeller</td>\n",
       "      <td>Roman Weidenfeller</td>\n",
       "      <td>2017</td>\n",
       "      <td>16</td>\n",
       "      <td>roman-weidenfeller</td>\n",
       "      <td>Germany</td>\n",
       "      <td>Diez</td>\n",
       "      <td>Germany</td>\n",
       "      <td>...</td>\n",
       "      <td>left</td>\n",
       "      <td>190.0</td>\n",
       "      <td>NaN</td>\n",
       "      <td>Neubauer 13 GmbH</td>\n",
       "      <td>https://img.a.transfermarkt.technology/portrai...</td>\n",
       "      <td>https://www.transfermarkt.co.uk/roman-weidenfe...</td>\n",
       "      <td>L1</td>\n",
       "      <td>Borussia Dortmund</td>\n",
       "      <td>750000.0</td>\n",
       "      <td>8000000.0</td>\n",
       "    </tr>\n",
       "    <tr>\n",
       "      <th>2</th>\n",
       "      <td>65</td>\n",
       "      <td>Dimitar</td>\n",
       "      <td>Berbatov</td>\n",
       "      <td>Dimitar Berbatov</td>\n",
       "      <td>2015</td>\n",
       "      <td>1091</td>\n",
       "      <td>dimitar-berbatov</td>\n",
       "      <td>Bulgaria</td>\n",
       "      <td>Blagoevgrad</td>\n",
       "      <td>Bulgaria</td>\n",
       "      <td>...</td>\n",
       "      <td>NaN</td>\n",
       "      <td>NaN</td>\n",
       "      <td>NaN</td>\n",
       "      <td>CSKA-AS-23 Ltd.</td>\n",
       "      <td>https://img.a.transfermarkt.technology/portrai...</td>\n",
       "      <td>https://www.transfermarkt.co.uk/dimitar-berbat...</td>\n",
       "      <td>GR1</td>\n",
       "      <td>Panthessalonikios Athlitikos Omilos Konstantin...</td>\n",
       "      <td>1000000.0</td>\n",
       "      <td>34500000.0</td>\n",
       "    </tr>\n",
       "    <tr>\n",
       "      <th>3</th>\n",
       "      <td>77</td>\n",
       "      <td>NaN</td>\n",
       "      <td>Lúcio</td>\n",
       "      <td>Lúcio</td>\n",
       "      <td>2012</td>\n",
       "      <td>506</td>\n",
       "      <td>lucio</td>\n",
       "      <td>Brazil</td>\n",
       "      <td>Brasília</td>\n",
       "      <td>Brazil</td>\n",
       "      <td>...</td>\n",
       "      <td>NaN</td>\n",
       "      <td>NaN</td>\n",
       "      <td>NaN</td>\n",
       "      <td>NaN</td>\n",
       "      <td>https://img.a.transfermarkt.technology/portrai...</td>\n",
       "      <td>https://www.transfermarkt.co.uk/lucio/profil/s...</td>\n",
       "      <td>IT1</td>\n",
       "      <td>Juventus Football Club</td>\n",
       "      <td>200000.0</td>\n",
       "      <td>24500000.0</td>\n",
       "    </tr>\n",
       "    <tr>\n",
       "      <th>4</th>\n",
       "      <td>80</td>\n",
       "      <td>Tom</td>\n",
       "      <td>Starke</td>\n",
       "      <td>Tom Starke</td>\n",
       "      <td>2017</td>\n",
       "      <td>27</td>\n",
       "      <td>tom-starke</td>\n",
       "      <td>East Germany (GDR)</td>\n",
       "      <td>Freital</td>\n",
       "      <td>Germany</td>\n",
       "      <td>...</td>\n",
       "      <td>right</td>\n",
       "      <td>194.0</td>\n",
       "      <td>NaN</td>\n",
       "      <td>IFM</td>\n",
       "      <td>https://img.a.transfermarkt.technology/portrai...</td>\n",
       "      <td>https://www.transfermarkt.co.uk/tom-starke/pro...</td>\n",
       "      <td>L1</td>\n",
       "      <td>FC Bayern München</td>\n",
       "      <td>100000.0</td>\n",
       "      <td>3000000.0</td>\n",
       "    </tr>\n",
       "  </tbody>\n",
       "</table>\n",
       "<p>5 rows × 23 columns</p>\n",
       "</div>"
      ],
      "text/plain": [
       "   player_id first_name     last_name                name  last_season  \\\n",
       "0         10   Miroslav         Klose      Miroslav Klose         2015   \n",
       "1         26      Roman  Weidenfeller  Roman Weidenfeller         2017   \n",
       "2         65    Dimitar      Berbatov    Dimitar Berbatov         2015   \n",
       "3         77        NaN         Lúcio               Lúcio         2012   \n",
       "4         80        Tom        Starke          Tom Starke         2017   \n",
       "\n",
       "   current_club_id         player_code    country_of_birth city_of_birth  \\\n",
       "0              398      miroslav-klose              Poland         Opole   \n",
       "1               16  roman-weidenfeller             Germany          Diez   \n",
       "2             1091    dimitar-berbatov            Bulgaria   Blagoevgrad   \n",
       "3              506               lucio              Brazil      Brasília   \n",
       "4               27          tom-starke  East Germany (GDR)       Freital   \n",
       "\n",
       "  country_of_citizenship  ...   foot height_in_cm contract_expiration_date  \\\n",
       "0                Germany  ...  right        184.0                      NaN   \n",
       "1                Germany  ...   left        190.0                      NaN   \n",
       "2               Bulgaria  ...    NaN          NaN                      NaN   \n",
       "3                 Brazil  ...    NaN          NaN                      NaN   \n",
       "4                Germany  ...  right        194.0                      NaN   \n",
       "\n",
       "             agent_name                                          image_url  \\\n",
       "0  ASBW Sport Marketing  https://img.a.transfermarkt.technology/portrai...   \n",
       "1      Neubauer 13 GmbH  https://img.a.transfermarkt.technology/portrai...   \n",
       "2       CSKA-AS-23 Ltd.  https://img.a.transfermarkt.technology/portrai...   \n",
       "3                   NaN  https://img.a.transfermarkt.technology/portrai...   \n",
       "4                   IFM  https://img.a.transfermarkt.technology/portrai...   \n",
       "\n",
       "                                                 url  \\\n",
       "0  https://www.transfermarkt.co.uk/miroslav-klose...   \n",
       "1  https://www.transfermarkt.co.uk/roman-weidenfe...   \n",
       "2  https://www.transfermarkt.co.uk/dimitar-berbat...   \n",
       "3  https://www.transfermarkt.co.uk/lucio/profil/s...   \n",
       "4  https://www.transfermarkt.co.uk/tom-starke/pro...   \n",
       "\n",
       "  current_club_domestic_competition_id  \\\n",
       "0                                  IT1   \n",
       "1                                   L1   \n",
       "2                                  GR1   \n",
       "3                                  IT1   \n",
       "4                                   L1   \n",
       "\n",
       "                                   current_club_name market_value_in_eur  \\\n",
       "0                      Società Sportiva Lazio S.p.A.           1000000.0   \n",
       "1                                  Borussia Dortmund            750000.0   \n",
       "2  Panthessalonikios Athlitikos Omilos Konstantin...           1000000.0   \n",
       "3                             Juventus Football Club            200000.0   \n",
       "4                                  FC Bayern München            100000.0   \n",
       "\n",
       "  highest_market_value_in_eur  \n",
       "0                  30000000.0  \n",
       "1                   8000000.0  \n",
       "2                  34500000.0  \n",
       "3                  24500000.0  \n",
       "4                   3000000.0  \n",
       "\n",
       "[5 rows x 23 columns]"
      ]
     },
     "metadata": {},
     "output_type": "display_data"
    },
    {
     "data": {
      "text/plain": [
       "Index(['player_id', 'first_name', 'last_name', 'name', 'last_season',\n",
       "       'current_club_id', 'player_code', 'country_of_birth', 'city_of_birth',\n",
       "       'country_of_citizenship', 'date_of_birth', 'sub_position', 'position',\n",
       "       'foot', 'height_in_cm', 'contract_expiration_date', 'agent_name',\n",
       "       'image_url', 'url', 'current_club_domestic_competition_id',\n",
       "       'current_club_name', 'market_value_in_eur',\n",
       "       'highest_market_value_in_eur'],\n",
       "      dtype='object')"
      ]
     },
     "metadata": {},
     "output_type": "display_data"
    }
   ],
   "source": [
    "players_data = pd.read_csv('../1. Input/players.csv')\n",
    "display(players_data.head())\n",
    "display(players_data.columns)"
   ]
  },
  {
   "cell_type": "markdown",
   "id": "9f82cecc",
   "metadata": {},
   "source": [
    "###### 5.2 Inspect the Data Frame"
   ]
  },
  {
   "cell_type": "code",
   "execution_count": 546,
   "id": "54faeb60",
   "metadata": {
    "ExecuteTime": {
     "end_time": "2024-03-05T18:23:51.776711Z",
     "start_time": "2024-03-05T18:23:51.708378Z"
    }
   },
   "outputs": [
    {
     "data": {
      "text/plain": [
       "(30419, 23)"
      ]
     },
     "metadata": {},
     "output_type": "display_data"
    },
    {
     "data": {
      "text/plain": [
       "player_id                               30419\n",
       "first_name                               6573\n",
       "last_name                               22386\n",
       "name                                    29771\n",
       "last_season                                12\n",
       "current_club_id                           424\n",
       "player_code                             29733\n",
       "country_of_birth                          183\n",
       "city_of_birth                            8214\n",
       "country_of_citizenship                    181\n",
       "date_of_birth                            8912\n",
       "sub_position                               13\n",
       "position                                    5\n",
       "foot                                        3\n",
       "height_in_cm                               50\n",
       "contract_expiration_date                  103\n",
       "agent_name                               2664\n",
       "image_url                               24860\n",
       "url                                     30419\n",
       "current_club_domestic_competition_id       14\n",
       "current_club_name                         424\n",
       "market_value_in_eur                       123\n",
       "highest_market_value_in_eur               204\n",
       "dtype: int64"
      ]
     },
     "metadata": {},
     "output_type": "display_data"
    }
   ],
   "source": [
    "display(players_data.shape) # (30419, 23)\n",
    "#display(players_data.dtypes)\n",
    "display(players_data.nunique())"
   ]
  },
  {
   "cell_type": "markdown",
   "id": "730670f4",
   "metadata": {},
   "source": [
    "###### 5.3 Descriptive Statistics"
   ]
  },
  {
   "cell_type": "code",
   "execution_count": 547,
   "id": "1188e67c",
   "metadata": {
    "ExecuteTime": {
     "end_time": "2024-03-05T18:23:51.952720Z",
     "start_time": "2024-03-05T18:23:51.778721Z"
    }
   },
   "outputs": [
    {
     "data": {
      "text/html": [
       "<div>\n",
       "<style scoped>\n",
       "    .dataframe tbody tr th:only-of-type {\n",
       "        vertical-align: middle;\n",
       "    }\n",
       "\n",
       "    .dataframe tbody tr th {\n",
       "        vertical-align: top;\n",
       "    }\n",
       "\n",
       "    .dataframe thead th {\n",
       "        text-align: right;\n",
       "    }\n",
       "</style>\n",
       "<table border=\"1\" class=\"dataframe\">\n",
       "  <thead>\n",
       "    <tr style=\"text-align: right;\">\n",
       "      <th></th>\n",
       "      <th>player_id</th>\n",
       "      <th>first_name</th>\n",
       "      <th>last_name</th>\n",
       "      <th>name</th>\n",
       "      <th>last_season</th>\n",
       "      <th>current_club_id</th>\n",
       "      <th>player_code</th>\n",
       "      <th>country_of_birth</th>\n",
       "      <th>city_of_birth</th>\n",
       "      <th>country_of_citizenship</th>\n",
       "      <th>...</th>\n",
       "      <th>foot</th>\n",
       "      <th>height_in_cm</th>\n",
       "      <th>contract_expiration_date</th>\n",
       "      <th>agent_name</th>\n",
       "      <th>image_url</th>\n",
       "      <th>url</th>\n",
       "      <th>current_club_domestic_competition_id</th>\n",
       "      <th>current_club_name</th>\n",
       "      <th>market_value_in_eur</th>\n",
       "      <th>highest_market_value_in_eur</th>\n",
       "    </tr>\n",
       "  </thead>\n",
       "  <tbody>\n",
       "    <tr>\n",
       "      <th>count</th>\n",
       "      <td>3.041900e+04</td>\n",
       "      <td>28439</td>\n",
       "      <td>30419</td>\n",
       "      <td>30419</td>\n",
       "      <td>30419.000000</td>\n",
       "      <td>30419.000000</td>\n",
       "      <td>30419</td>\n",
       "      <td>27723</td>\n",
       "      <td>28229</td>\n",
       "      <td>29859</td>\n",
       "      <td>...</td>\n",
       "      <td>28043</td>\n",
       "      <td>28335.000000</td>\n",
       "      <td>18968</td>\n",
       "      <td>15067</td>\n",
       "      <td>30419</td>\n",
       "      <td>30419</td>\n",
       "      <td>30419</td>\n",
       "      <td>30419</td>\n",
       "      <td>2.929700e+04</td>\n",
       "      <td>2.929700e+04</td>\n",
       "    </tr>\n",
       "    <tr>\n",
       "      <th>unique</th>\n",
       "      <td>NaN</td>\n",
       "      <td>6573</td>\n",
       "      <td>22386</td>\n",
       "      <td>29771</td>\n",
       "      <td>NaN</td>\n",
       "      <td>NaN</td>\n",
       "      <td>29733</td>\n",
       "      <td>183</td>\n",
       "      <td>8214</td>\n",
       "      <td>181</td>\n",
       "      <td>...</td>\n",
       "      <td>3</td>\n",
       "      <td>NaN</td>\n",
       "      <td>103</td>\n",
       "      <td>2664</td>\n",
       "      <td>24860</td>\n",
       "      <td>30419</td>\n",
       "      <td>14</td>\n",
       "      <td>424</td>\n",
       "      <td>NaN</td>\n",
       "      <td>NaN</td>\n",
       "    </tr>\n",
       "    <tr>\n",
       "      <th>top</th>\n",
       "      <td>NaN</td>\n",
       "      <td>David</td>\n",
       "      <td>García</td>\n",
       "      <td>Paulinho</td>\n",
       "      <td>NaN</td>\n",
       "      <td>NaN</td>\n",
       "      <td>paulinho</td>\n",
       "      <td>France</td>\n",
       "      <td>London</td>\n",
       "      <td>Turkey</td>\n",
       "      <td>...</td>\n",
       "      <td>right</td>\n",
       "      <td>NaN</td>\n",
       "      <td>2024-06-30 00:00:00</td>\n",
       "      <td>Wasserman</td>\n",
       "      <td>https://img.a.transfermarkt.technology/portrai...</td>\n",
       "      <td>https://www.transfermarkt.co.uk/miroslav-klose...</td>\n",
       "      <td>IT1</td>\n",
       "      <td>Kilmarnock Football Club</td>\n",
       "      <td>NaN</td>\n",
       "      <td>NaN</td>\n",
       "    </tr>\n",
       "    <tr>\n",
       "      <th>freq</th>\n",
       "      <td>NaN</td>\n",
       "      <td>201</td>\n",
       "      <td>61</td>\n",
       "      <td>12</td>\n",
       "      <td>NaN</td>\n",
       "      <td>NaN</td>\n",
       "      <td>12</td>\n",
       "      <td>2189</td>\n",
       "      <td>436</td>\n",
       "      <td>1836</td>\n",
       "      <td>...</td>\n",
       "      <td>19676</td>\n",
       "      <td>NaN</td>\n",
       "      <td>5146</td>\n",
       "      <td>433</td>\n",
       "      <td>5560</td>\n",
       "      <td>1</td>\n",
       "      <td>2991</td>\n",
       "      <td>180</td>\n",
       "      <td>NaN</td>\n",
       "      <td>NaN</td>\n",
       "    </tr>\n",
       "    <tr>\n",
       "      <th>mean</th>\n",
       "      <td>3.130137e+05</td>\n",
       "      <td>NaN</td>\n",
       "      <td>NaN</td>\n",
       "      <td>NaN</td>\n",
       "      <td>2018.782208</td>\n",
       "      <td>4398.548670</td>\n",
       "      <td>NaN</td>\n",
       "      <td>NaN</td>\n",
       "      <td>NaN</td>\n",
       "      <td>NaN</td>\n",
       "      <td>...</td>\n",
       "      <td>NaN</td>\n",
       "      <td>182.248068</td>\n",
       "      <td>NaN</td>\n",
       "      <td>NaN</td>\n",
       "      <td>NaN</td>\n",
       "      <td>NaN</td>\n",
       "      <td>NaN</td>\n",
       "      <td>NaN</td>\n",
       "      <td>1.572947e+06</td>\n",
       "      <td>3.639672e+06</td>\n",
       "    </tr>\n",
       "    <tr>\n",
       "      <th>std</th>\n",
       "      <td>2.518691e+05</td>\n",
       "      <td>NaN</td>\n",
       "      <td>NaN</td>\n",
       "      <td>NaN</td>\n",
       "      <td>3.653036</td>\n",
       "      <td>10108.956926</td>\n",
       "      <td>NaN</td>\n",
       "      <td>NaN</td>\n",
       "      <td>NaN</td>\n",
       "      <td>NaN</td>\n",
       "      <td>...</td>\n",
       "      <td>NaN</td>\n",
       "      <td>6.841311</td>\n",
       "      <td>NaN</td>\n",
       "      <td>NaN</td>\n",
       "      <td>NaN</td>\n",
       "      <td>NaN</td>\n",
       "      <td>NaN</td>\n",
       "      <td>NaN</td>\n",
       "      <td>6.158944e+06</td>\n",
       "      <td>9.471887e+06</td>\n",
       "    </tr>\n",
       "    <tr>\n",
       "      <th>min</th>\n",
       "      <td>1.000000e+01</td>\n",
       "      <td>NaN</td>\n",
       "      <td>NaN</td>\n",
       "      <td>NaN</td>\n",
       "      <td>2012.000000</td>\n",
       "      <td>3.000000</td>\n",
       "      <td>NaN</td>\n",
       "      <td>NaN</td>\n",
       "      <td>NaN</td>\n",
       "      <td>NaN</td>\n",
       "      <td>...</td>\n",
       "      <td>NaN</td>\n",
       "      <td>18.000000</td>\n",
       "      <td>NaN</td>\n",
       "      <td>NaN</td>\n",
       "      <td>NaN</td>\n",
       "      <td>NaN</td>\n",
       "      <td>NaN</td>\n",
       "      <td>NaN</td>\n",
       "      <td>1.000000e+04</td>\n",
       "      <td>1.000000e+04</td>\n",
       "    </tr>\n",
       "    <tr>\n",
       "      <th>25%</th>\n",
       "      <td>9.573100e+04</td>\n",
       "      <td>NaN</td>\n",
       "      <td>NaN</td>\n",
       "      <td>NaN</td>\n",
       "      <td>2016.000000</td>\n",
       "      <td>403.000000</td>\n",
       "      <td>NaN</td>\n",
       "      <td>NaN</td>\n",
       "      <td>NaN</td>\n",
       "      <td>NaN</td>\n",
       "      <td>...</td>\n",
       "      <td>NaN</td>\n",
       "      <td>178.000000</td>\n",
       "      <td>NaN</td>\n",
       "      <td>NaN</td>\n",
       "      <td>NaN</td>\n",
       "      <td>NaN</td>\n",
       "      <td>NaN</td>\n",
       "      <td>NaN</td>\n",
       "      <td>1.000000e+05</td>\n",
       "      <td>2.750000e+05</td>\n",
       "    </tr>\n",
       "    <tr>\n",
       "      <th>50%</th>\n",
       "      <td>2.585200e+05</td>\n",
       "      <td>NaN</td>\n",
       "      <td>NaN</td>\n",
       "      <td>NaN</td>\n",
       "      <td>2020.000000</td>\n",
       "      <td>1075.000000</td>\n",
       "      <td>NaN</td>\n",
       "      <td>NaN</td>\n",
       "      <td>NaN</td>\n",
       "      <td>NaN</td>\n",
       "      <td>...</td>\n",
       "      <td>NaN</td>\n",
       "      <td>182.000000</td>\n",
       "      <td>NaN</td>\n",
       "      <td>NaN</td>\n",
       "      <td>NaN</td>\n",
       "      <td>NaN</td>\n",
       "      <td>NaN</td>\n",
       "      <td>NaN</td>\n",
       "      <td>2.500000e+05</td>\n",
       "      <td>8.000000e+05</td>\n",
       "    </tr>\n",
       "    <tr>\n",
       "      <th>75%</th>\n",
       "      <td>4.682390e+05</td>\n",
       "      <td>NaN</td>\n",
       "      <td>NaN</td>\n",
       "      <td>NaN</td>\n",
       "      <td>2022.000000</td>\n",
       "      <td>3057.000000</td>\n",
       "      <td>NaN</td>\n",
       "      <td>NaN</td>\n",
       "      <td>NaN</td>\n",
       "      <td>NaN</td>\n",
       "      <td>...</td>\n",
       "      <td>NaN</td>\n",
       "      <td>187.000000</td>\n",
       "      <td>NaN</td>\n",
       "      <td>NaN</td>\n",
       "      <td>NaN</td>\n",
       "      <td>NaN</td>\n",
       "      <td>NaN</td>\n",
       "      <td>NaN</td>\n",
       "      <td>6.500000e+05</td>\n",
       "      <td>2.800000e+06</td>\n",
       "    </tr>\n",
       "    <tr>\n",
       "      <th>max</th>\n",
       "      <td>1.225269e+06</td>\n",
       "      <td>NaN</td>\n",
       "      <td>NaN</td>\n",
       "      <td>NaN</td>\n",
       "      <td>2023.000000</td>\n",
       "      <td>83678.000000</td>\n",
       "      <td>NaN</td>\n",
       "      <td>NaN</td>\n",
       "      <td>NaN</td>\n",
       "      <td>NaN</td>\n",
       "      <td>...</td>\n",
       "      <td>NaN</td>\n",
       "      <td>207.000000</td>\n",
       "      <td>NaN</td>\n",
       "      <td>NaN</td>\n",
       "      <td>NaN</td>\n",
       "      <td>NaN</td>\n",
       "      <td>NaN</td>\n",
       "      <td>NaN</td>\n",
       "      <td>1.800000e+08</td>\n",
       "      <td>2.000000e+08</td>\n",
       "    </tr>\n",
       "  </tbody>\n",
       "</table>\n",
       "<p>11 rows × 23 columns</p>\n",
       "</div>"
      ],
      "text/plain": [
       "           player_id first_name last_name      name   last_season  \\\n",
       "count   3.041900e+04      28439     30419     30419  30419.000000   \n",
       "unique           NaN       6573     22386     29771           NaN   \n",
       "top              NaN      David    García  Paulinho           NaN   \n",
       "freq             NaN        201        61        12           NaN   \n",
       "mean    3.130137e+05        NaN       NaN       NaN   2018.782208   \n",
       "std     2.518691e+05        NaN       NaN       NaN      3.653036   \n",
       "min     1.000000e+01        NaN       NaN       NaN   2012.000000   \n",
       "25%     9.573100e+04        NaN       NaN       NaN   2016.000000   \n",
       "50%     2.585200e+05        NaN       NaN       NaN   2020.000000   \n",
       "75%     4.682390e+05        NaN       NaN       NaN   2022.000000   \n",
       "max     1.225269e+06        NaN       NaN       NaN   2023.000000   \n",
       "\n",
       "        current_club_id player_code country_of_birth city_of_birth  \\\n",
       "count      30419.000000       30419            27723         28229   \n",
       "unique              NaN       29733              183          8214   \n",
       "top                 NaN    paulinho           France        London   \n",
       "freq                NaN          12             2189           436   \n",
       "mean        4398.548670         NaN              NaN           NaN   \n",
       "std        10108.956926         NaN              NaN           NaN   \n",
       "min            3.000000         NaN              NaN           NaN   \n",
       "25%          403.000000         NaN              NaN           NaN   \n",
       "50%         1075.000000         NaN              NaN           NaN   \n",
       "75%         3057.000000         NaN              NaN           NaN   \n",
       "max        83678.000000         NaN              NaN           NaN   \n",
       "\n",
       "       country_of_citizenship  ...   foot  height_in_cm  \\\n",
       "count                   29859  ...  28043  28335.000000   \n",
       "unique                    181  ...      3           NaN   \n",
       "top                    Turkey  ...  right           NaN   \n",
       "freq                     1836  ...  19676           NaN   \n",
       "mean                      NaN  ...    NaN    182.248068   \n",
       "std                       NaN  ...    NaN      6.841311   \n",
       "min                       NaN  ...    NaN     18.000000   \n",
       "25%                       NaN  ...    NaN    178.000000   \n",
       "50%                       NaN  ...    NaN    182.000000   \n",
       "75%                       NaN  ...    NaN    187.000000   \n",
       "max                       NaN  ...    NaN    207.000000   \n",
       "\n",
       "       contract_expiration_date agent_name  \\\n",
       "count                     18968      15067   \n",
       "unique                      103       2664   \n",
       "top         2024-06-30 00:00:00  Wasserman   \n",
       "freq                       5146        433   \n",
       "mean                        NaN        NaN   \n",
       "std                         NaN        NaN   \n",
       "min                         NaN        NaN   \n",
       "25%                         NaN        NaN   \n",
       "50%                         NaN        NaN   \n",
       "75%                         NaN        NaN   \n",
       "max                         NaN        NaN   \n",
       "\n",
       "                                                image_url  \\\n",
       "count                                               30419   \n",
       "unique                                              24860   \n",
       "top     https://img.a.transfermarkt.technology/portrai...   \n",
       "freq                                                 5560   \n",
       "mean                                                  NaN   \n",
       "std                                                   NaN   \n",
       "min                                                   NaN   \n",
       "25%                                                   NaN   \n",
       "50%                                                   NaN   \n",
       "75%                                                   NaN   \n",
       "max                                                   NaN   \n",
       "\n",
       "                                                      url  \\\n",
       "count                                               30419   \n",
       "unique                                              30419   \n",
       "top     https://www.transfermarkt.co.uk/miroslav-klose...   \n",
       "freq                                                    1   \n",
       "mean                                                  NaN   \n",
       "std                                                   NaN   \n",
       "min                                                   NaN   \n",
       "25%                                                   NaN   \n",
       "50%                                                   NaN   \n",
       "75%                                                   NaN   \n",
       "max                                                   NaN   \n",
       "\n",
       "       current_club_domestic_competition_id         current_club_name  \\\n",
       "count                                 30419                     30419   \n",
       "unique                                   14                       424   \n",
       "top                                     IT1  Kilmarnock Football Club   \n",
       "freq                                   2991                       180   \n",
       "mean                                    NaN                       NaN   \n",
       "std                                     NaN                       NaN   \n",
       "min                                     NaN                       NaN   \n",
       "25%                                     NaN                       NaN   \n",
       "50%                                     NaN                       NaN   \n",
       "75%                                     NaN                       NaN   \n",
       "max                                     NaN                       NaN   \n",
       "\n",
       "       market_value_in_eur highest_market_value_in_eur  \n",
       "count         2.929700e+04                2.929700e+04  \n",
       "unique                 NaN                         NaN  \n",
       "top                    NaN                         NaN  \n",
       "freq                   NaN                         NaN  \n",
       "mean          1.572947e+06                3.639672e+06  \n",
       "std           6.158944e+06                9.471887e+06  \n",
       "min           1.000000e+04                1.000000e+04  \n",
       "25%           1.000000e+05                2.750000e+05  \n",
       "50%           2.500000e+05                8.000000e+05  \n",
       "75%           6.500000e+05                2.800000e+06  \n",
       "max           1.800000e+08                2.000000e+08  \n",
       "\n",
       "[11 rows x 23 columns]"
      ]
     },
     "metadata": {},
     "output_type": "display_data"
    }
   ],
   "source": [
    "display(players_data.describe(include = \"all\"))"
   ]
  },
  {
   "cell_type": "markdown",
   "id": "c9905d06",
   "metadata": {},
   "source": [
    "###### 5.4 Select the desired variables from the players data frame and save it as players_df"
   ]
  },
  {
   "cell_type": "code",
   "execution_count": 548,
   "id": "49106604",
   "metadata": {
    "ExecuteTime": {
     "end_time": "2024-03-05T18:23:51.969740Z",
     "start_time": "2024-03-05T18:23:51.953728Z"
    }
   },
   "outputs": [
    {
     "data": {
      "text/html": [
       "<div>\n",
       "<style scoped>\n",
       "    .dataframe tbody tr th:only-of-type {\n",
       "        vertical-align: middle;\n",
       "    }\n",
       "\n",
       "    .dataframe tbody tr th {\n",
       "        vertical-align: top;\n",
       "    }\n",
       "\n",
       "    .dataframe thead th {\n",
       "        text-align: right;\n",
       "    }\n",
       "</style>\n",
       "<table border=\"1\" class=\"dataframe\">\n",
       "  <thead>\n",
       "    <tr style=\"text-align: right;\">\n",
       "      <th></th>\n",
       "      <th>player_id</th>\n",
       "      <th>current_club_id</th>\n",
       "      <th>current_club_domestic_competition_id</th>\n",
       "      <th>height_in_cm</th>\n",
       "      <th>market_value_in_eur</th>\n",
       "      <th>highest_market_value_in_eur</th>\n",
       "    </tr>\n",
       "  </thead>\n",
       "  <tbody>\n",
       "    <tr>\n",
       "      <th>0</th>\n",
       "      <td>10</td>\n",
       "      <td>398</td>\n",
       "      <td>IT1</td>\n",
       "      <td>184.0</td>\n",
       "      <td>1000000.0</td>\n",
       "      <td>30000000.0</td>\n",
       "    </tr>\n",
       "    <tr>\n",
       "      <th>1</th>\n",
       "      <td>26</td>\n",
       "      <td>16</td>\n",
       "      <td>L1</td>\n",
       "      <td>190.0</td>\n",
       "      <td>750000.0</td>\n",
       "      <td>8000000.0</td>\n",
       "    </tr>\n",
       "    <tr>\n",
       "      <th>2</th>\n",
       "      <td>65</td>\n",
       "      <td>1091</td>\n",
       "      <td>GR1</td>\n",
       "      <td>NaN</td>\n",
       "      <td>1000000.0</td>\n",
       "      <td>34500000.0</td>\n",
       "    </tr>\n",
       "    <tr>\n",
       "      <th>3</th>\n",
       "      <td>77</td>\n",
       "      <td>506</td>\n",
       "      <td>IT1</td>\n",
       "      <td>NaN</td>\n",
       "      <td>200000.0</td>\n",
       "      <td>24500000.0</td>\n",
       "    </tr>\n",
       "    <tr>\n",
       "      <th>4</th>\n",
       "      <td>80</td>\n",
       "      <td>27</td>\n",
       "      <td>L1</td>\n",
       "      <td>194.0</td>\n",
       "      <td>100000.0</td>\n",
       "      <td>3000000.0</td>\n",
       "    </tr>\n",
       "  </tbody>\n",
       "</table>\n",
       "</div>"
      ],
      "text/plain": [
       "   player_id  current_club_id current_club_domestic_competition_id  \\\n",
       "0         10              398                                  IT1   \n",
       "1         26               16                                   L1   \n",
       "2         65             1091                                  GR1   \n",
       "3         77              506                                  IT1   \n",
       "4         80               27                                   L1   \n",
       "\n",
       "   height_in_cm  market_value_in_eur  highest_market_value_in_eur  \n",
       "0         184.0            1000000.0                   30000000.0  \n",
       "1         190.0             750000.0                    8000000.0  \n",
       "2           NaN            1000000.0                   34500000.0  \n",
       "3           NaN             200000.0                   24500000.0  \n",
       "4         194.0             100000.0                    3000000.0  "
      ]
     },
     "metadata": {},
     "output_type": "display_data"
    },
    {
     "data": {
      "text/plain": [
       "(30419, 6)"
      ]
     },
     "metadata": {},
     "output_type": "display_data"
    }
   ],
   "source": [
    "players_df = players_data[[\"player_id\",\"current_club_id\",\"current_club_domestic_competition_id\",\"height_in_cm\",\"market_value_in_eur\",\"highest_market_value_in_eur\"]]\n",
    "display(players_df.head())\n",
    "display(players_df.shape) # (30419, 6)"
   ]
  },
  {
   "cell_type": "markdown",
   "id": "4e248aa7",
   "metadata": {},
   "source": [
    "###### 5.5 Understand the Numerical, Categorical and Binary Variables"
   ]
  },
  {
   "cell_type": "code",
   "execution_count": 549,
   "id": "c6285cc4",
   "metadata": {
    "ExecuteTime": {
     "end_time": "2024-03-05T18:23:51.982720Z",
     "start_time": "2024-03-05T18:23:51.970747Z"
    }
   },
   "outputs": [
    {
     "name": "stdout",
     "output_type": "stream",
     "text": [
      "Numerical Variables: ['player_id', 'current_club_id', 'height_in_cm', 'market_value_in_eur', 'highest_market_value_in_eur']\n",
      "Categorical Variables: ['current_club_domestic_competition_id']\n",
      "Binary Variables: []\n",
      "Total Numerical Variables:  5\n",
      "Total Categorical Variables:  1\n",
      "Total Binary Variables:  0\n"
     ]
    }
   ],
   "source": [
    "# Create lists to hold the names of each type of column\n",
    "numerical_variables = []\n",
    "categorical_variables = []\n",
    "binary_variables = []\n",
    "\n",
    "# Loop through the games_df columns to classify them\n",
    "for column_name in players_df.columns:\n",
    "    unique_vals = players_df[column_name].nunique()\n",
    "    \n",
    "    # Check for Binary\n",
    "    if (players_df[column_name].dtype in ['int64', 'float64', 'bool']) and (unique_vals == 2):\n",
    "        binary_variables.append(column_name)\n",
    "    # Check for Numerical\n",
    "    elif players_df[column_name].dtype in ['int64', 'float64']:\n",
    "        numerical_variables.append(column_name)\n",
    "    # Check for Categorical\n",
    "    elif players_df[column_name].dtype == 'object' or players_df[column_name].dtype.name == 'category':\n",
    "        categorical_variables.append(column_name)\n",
    "\n",
    "print(\"Numerical Variables:\", numerical_variables)\n",
    "print(\"Categorical Variables:\", categorical_variables)\n",
    "print(\"Binary Variables:\", binary_variables)\n",
    "\n",
    "print(\"Total Numerical Variables: \",len(numerical_variables))\n",
    "print(\"Total Categorical Variables: \",len(categorical_variables))\n",
    "print(\"Total Binary Variables: \",len(binary_variables))"
   ]
  },
  {
   "cell_type": "markdown",
   "id": "3b5a69a4",
   "metadata": {},
   "source": [
    "###### 5.6 Inspect and Address Null Values"
   ]
  },
  {
   "cell_type": "code",
   "execution_count": 550,
   "id": "718273c0",
   "metadata": {
    "ExecuteTime": {
     "end_time": "2024-03-05T18:23:52.014702Z",
     "start_time": "2024-03-05T18:23:51.983727Z"
    }
   },
   "outputs": [
    {
     "data": {
      "text/plain": [
       "player_id                         0\n",
       "current_club_id                   0\n",
       "height_in_cm                   2084\n",
       "market_value_in_eur            1122\n",
       "highest_market_value_in_eur    1122\n",
       "dtype: int64"
      ]
     },
     "metadata": {},
     "output_type": "display_data"
    },
    {
     "data": {
      "text/html": [
       "<div>\n",
       "<style scoped>\n",
       "    .dataframe tbody tr th:only-of-type {\n",
       "        vertical-align: middle;\n",
       "    }\n",
       "\n",
       "    .dataframe tbody tr th {\n",
       "        vertical-align: top;\n",
       "    }\n",
       "\n",
       "    .dataframe thead th {\n",
       "        text-align: right;\n",
       "    }\n",
       "</style>\n",
       "<table border=\"1\" class=\"dataframe\">\n",
       "  <thead>\n",
       "    <tr style=\"text-align: right;\">\n",
       "      <th></th>\n",
       "      <th>player_id</th>\n",
       "      <th>current_club_id</th>\n",
       "      <th>current_club_domestic_competition_id</th>\n",
       "      <th>height_in_cm</th>\n",
       "      <th>market_value_in_eur</th>\n",
       "      <th>highest_market_value_in_eur</th>\n",
       "    </tr>\n",
       "  </thead>\n",
       "  <tbody>\n",
       "    <tr>\n",
       "      <th>2</th>\n",
       "      <td>65</td>\n",
       "      <td>1091</td>\n",
       "      <td>GR1</td>\n",
       "      <td>NaN</td>\n",
       "      <td>1000000.0</td>\n",
       "      <td>34500000.0</td>\n",
       "    </tr>\n",
       "    <tr>\n",
       "      <th>3</th>\n",
       "      <td>77</td>\n",
       "      <td>506</td>\n",
       "      <td>IT1</td>\n",
       "      <td>NaN</td>\n",
       "      <td>200000.0</td>\n",
       "      <td>24500000.0</td>\n",
       "    </tr>\n",
       "    <tr>\n",
       "      <th>5</th>\n",
       "      <td>109</td>\n",
       "      <td>825</td>\n",
       "      <td>TR1</td>\n",
       "      <td>NaN</td>\n",
       "      <td>400000.0</td>\n",
       "      <td>9500000.0</td>\n",
       "    </tr>\n",
       "    <tr>\n",
       "      <th>6</th>\n",
       "      <td>123</td>\n",
       "      <td>33</td>\n",
       "      <td>L1</td>\n",
       "      <td>NaN</td>\n",
       "      <td>1500000.0</td>\n",
       "      <td>9500000.0</td>\n",
       "    </tr>\n",
       "    <tr>\n",
       "      <th>12</th>\n",
       "      <td>276</td>\n",
       "      <td>20100</td>\n",
       "      <td>DK1</td>\n",
       "      <td>NaN</td>\n",
       "      <td>200000.0</td>\n",
       "      <td>500000.0</td>\n",
       "    </tr>\n",
       "  </tbody>\n",
       "</table>\n",
       "</div>"
      ],
      "text/plain": [
       "    player_id  current_club_id current_club_domestic_competition_id  \\\n",
       "2          65             1091                                  GR1   \n",
       "3          77              506                                  IT1   \n",
       "5         109              825                                  TR1   \n",
       "6         123               33                                   L1   \n",
       "12        276            20100                                  DK1   \n",
       "\n",
       "    height_in_cm  market_value_in_eur  highest_market_value_in_eur  \n",
       "2            NaN            1000000.0                   34500000.0  \n",
       "3            NaN             200000.0                   24500000.0  \n",
       "5            NaN             400000.0                    9500000.0  \n",
       "6            NaN            1500000.0                    9500000.0  \n",
       "12           NaN             200000.0                     500000.0  "
      ]
     },
     "metadata": {},
     "output_type": "display_data"
    },
    {
     "name": "stderr",
     "output_type": "stream",
     "text": [
      "C:\\Users\\Lenovo\\AppData\\Local\\Temp\\ipykernel_12516\\1021736910.py:13: SettingWithCopyWarning: \n",
      "A value is trying to be set on a copy of a slice from a DataFrame.\n",
      "Try using .loc[row_indexer,col_indexer] = value instead\n",
      "\n",
      "See the caveats in the documentation: https://pandas.pydata.org/pandas-docs/stable/user_guide/indexing.html#returning-a-view-versus-a-copy\n",
      "  players_df['height_in_cm'] = players_df['height_in_cm'].fillna(height_by_club_id)\n",
      "C:\\Users\\Lenovo\\AppData\\Local\\Temp\\ipykernel_12516\\1021736910.py:17: SettingWithCopyWarning: \n",
      "A value is trying to be set on a copy of a slice from a DataFrame.\n",
      "Try using .loc[row_indexer,col_indexer] = value instead\n",
      "\n",
      "See the caveats in the documentation: https://pandas.pydata.org/pandas-docs/stable/user_guide/indexing.html#returning-a-view-versus-a-copy\n",
      "  players_df['market_value_in_eur'] = players_df['market_value_in_eur'].fillna(market_val_by_club_id)\n",
      "C:\\Users\\Lenovo\\AppData\\Local\\Temp\\ipykernel_12516\\1021736910.py:20: SettingWithCopyWarning: \n",
      "A value is trying to be set on a copy of a slice from a DataFrame.\n",
      "Try using .loc[row_indexer,col_indexer] = value instead\n",
      "\n",
      "See the caveats in the documentation: https://pandas.pydata.org/pandas-docs/stable/user_guide/indexing.html#returning-a-view-versus-a-copy\n",
      "  players_df['highest_market_value_in_eur'] = players_df['highest_market_value_in_eur'].fillna(highest_val_by_club_id)\n"
     ]
    },
    {
     "data": {
      "text/plain": [
       "player_id                      0\n",
       "current_club_id                0\n",
       "height_in_cm                   0\n",
       "market_value_in_eur            0\n",
       "highest_market_value_in_eur    0\n",
       "dtype: int64"
      ]
     },
     "metadata": {},
     "output_type": "display_data"
    }
   ],
   "source": [
    "# Examine null values\n",
    "display(players_df[numerical_variables].isnull().sum())\n",
    "# height_in_cm                   2084 [Needs further inspection]\n",
    "# market_value_in_eur            1122 [Needs further inspection]\n",
    "# highest_market_value_in_eur    1122 [Needs further inspection]\n",
    "\n",
    "# Addressing null values in height_in_cm\n",
    "height_null_vals = players_df[players_df[\"height_in_cm\"].isnull()]\n",
    "display(height_null_vals.head())\n",
    "\n",
    "# Impute average height by current_club_id for the height_in_cm variable\n",
    "height_by_club_id = players_df.groupby('current_club_id')['height_in_cm'].transform('mean')\n",
    "players_df['height_in_cm'] = players_df['height_in_cm'].fillna(height_by_club_id)\n",
    "\n",
    "# Addressing null values for market_value_in_eur and highest_market_value_in_eur similarly\n",
    "market_val_by_club_id = players_df.groupby('current_club_id')['market_value_in_eur'].transform('mean')\n",
    "players_df['market_value_in_eur'] = players_df['market_value_in_eur'].fillna(market_val_by_club_id)\n",
    "\n",
    "highest_val_by_club_id = players_df.groupby('current_club_id')['highest_market_value_in_eur'].transform('mean')\n",
    "players_df['highest_market_value_in_eur'] = players_df['highest_market_value_in_eur'].fillna(highest_val_by_club_id)\n",
    "\n",
    "# Check if the imputation was successfull\n",
    "display(players_df[numerical_variables].isnull().sum())"
   ]
  },
  {
   "cell_type": "markdown",
   "id": "ed011468",
   "metadata": {},
   "source": [
    "###### 5.7 Inspect and Address Extreme Values"
   ]
  },
  {
   "cell_type": "code",
   "execution_count": 551,
   "id": "f6ea8cd3",
   "metadata": {
    "ExecuteTime": {
     "end_time": "2024-03-05T18:23:52.983717Z",
     "start_time": "2024-03-05T18:23:52.016710Z"
    }
   },
   "outputs": [
    {
     "data": {
      "text/html": [
       "<div>\n",
       "<style scoped>\n",
       "    .dataframe tbody tr th:only-of-type {\n",
       "        vertical-align: middle;\n",
       "    }\n",
       "\n",
       "    .dataframe tbody tr th {\n",
       "        vertical-align: top;\n",
       "    }\n",
       "\n",
       "    .dataframe thead th {\n",
       "        text-align: right;\n",
       "    }\n",
       "</style>\n",
       "<table border=\"1\" class=\"dataframe\">\n",
       "  <thead>\n",
       "    <tr style=\"text-align: right;\">\n",
       "      <th></th>\n",
       "      <th>player_id</th>\n",
       "      <th>current_club_id</th>\n",
       "      <th>height_in_cm</th>\n",
       "      <th>market_value_in_eur</th>\n",
       "      <th>highest_market_value_in_eur</th>\n",
       "    </tr>\n",
       "  </thead>\n",
       "  <tbody>\n",
       "    <tr>\n",
       "      <th>count</th>\n",
       "      <td>3.041900e+04</td>\n",
       "      <td>30419.000000</td>\n",
       "      <td>30419.000000</td>\n",
       "      <td>3.041900e+04</td>\n",
       "      <td>3.041900e+04</td>\n",
       "    </tr>\n",
       "    <tr>\n",
       "      <th>mean</th>\n",
       "      <td>3.130137e+05</td>\n",
       "      <td>4398.548670</td>\n",
       "      <td>182.254297</td>\n",
       "      <td>1.566868e+06</td>\n",
       "      <td>3.617803e+06</td>\n",
       "    </tr>\n",
       "    <tr>\n",
       "      <th>std</th>\n",
       "      <td>2.518691e+05</td>\n",
       "      <td>10108.956926</td>\n",
       "      <td>6.610099</td>\n",
       "      <td>6.069086e+06</td>\n",
       "      <td>9.341005e+06</td>\n",
       "    </tr>\n",
       "    <tr>\n",
       "      <th>min</th>\n",
       "      <td>1.000000e+01</td>\n",
       "      <td>3.000000</td>\n",
       "      <td>18.000000</td>\n",
       "      <td>1.000000e+04</td>\n",
       "      <td>1.000000e+04</td>\n",
       "    </tr>\n",
       "    <tr>\n",
       "      <th>25%</th>\n",
       "      <td>9.573100e+04</td>\n",
       "      <td>403.000000</td>\n",
       "      <td>178.000000</td>\n",
       "      <td>1.000000e+05</td>\n",
       "      <td>3.000000e+05</td>\n",
       "    </tr>\n",
       "    <tr>\n",
       "      <th>50%</th>\n",
       "      <td>2.585200e+05</td>\n",
       "      <td>1075.000000</td>\n",
       "      <td>182.224138</td>\n",
       "      <td>2.500000e+05</td>\n",
       "      <td>8.000000e+05</td>\n",
       "    </tr>\n",
       "    <tr>\n",
       "      <th>75%</th>\n",
       "      <td>4.682390e+05</td>\n",
       "      <td>3057.000000</td>\n",
       "      <td>187.000000</td>\n",
       "      <td>6.500000e+05</td>\n",
       "      <td>2.879342e+06</td>\n",
       "    </tr>\n",
       "    <tr>\n",
       "      <th>max</th>\n",
       "      <td>1.225269e+06</td>\n",
       "      <td>83678.000000</td>\n",
       "      <td>207.000000</td>\n",
       "      <td>1.800000e+08</td>\n",
       "      <td>2.000000e+08</td>\n",
       "    </tr>\n",
       "  </tbody>\n",
       "</table>\n",
       "</div>"
      ],
      "text/plain": [
       "          player_id  current_club_id  height_in_cm  market_value_in_eur  \\\n",
       "count  3.041900e+04     30419.000000  30419.000000         3.041900e+04   \n",
       "mean   3.130137e+05      4398.548670    182.254297         1.566868e+06   \n",
       "std    2.518691e+05     10108.956926      6.610099         6.069086e+06   \n",
       "min    1.000000e+01         3.000000     18.000000         1.000000e+04   \n",
       "25%    9.573100e+04       403.000000    178.000000         1.000000e+05   \n",
       "50%    2.585200e+05      1075.000000    182.224138         2.500000e+05   \n",
       "75%    4.682390e+05      3057.000000    187.000000         6.500000e+05   \n",
       "max    1.225269e+06     83678.000000    207.000000         1.800000e+08   \n",
       "\n",
       "       highest_market_value_in_eur  \n",
       "count                 3.041900e+04  \n",
       "mean                  3.617803e+06  \n",
       "std                   9.341005e+06  \n",
       "min                   1.000000e+04  \n",
       "25%                   3.000000e+05  \n",
       "50%                   8.000000e+05  \n",
       "75%                   2.879342e+06  \n",
       "max                   2.000000e+08  "
      ]
     },
     "metadata": {},
     "output_type": "display_data"
    },
    {
     "data": {
      "image/png": "[encoded data removed]",
      "text/plain": [
       "<Figure size 640x480 with 1 Axes>"
      ]
     },
     "metadata": {},
     "output_type": "display_data"
    },
    {
     "data": {
      "image/png": "[encoded data removed]",
      "text/plain": [
       "<Figure size 640x480 with 1 Axes>"
      ]
     },
     "metadata": {},
     "output_type": "display_data"
    },
    {
     "data": {
      "text/html": [
       "<div>\n",
       "<style scoped>\n",
       "    .dataframe tbody tr th:only-of-type {\n",
       "        vertical-align: middle;\n",
       "    }\n",
       "\n",
       "    .dataframe tbody tr th {\n",
       "        vertical-align: top;\n",
       "    }\n",
       "\n",
       "    .dataframe thead th {\n",
       "        text-align: right;\n",
       "    }\n",
       "</style>\n",
       "<table border=\"1\" class=\"dataframe\">\n",
       "  <thead>\n",
       "    <tr style=\"text-align: right;\">\n",
       "      <th></th>\n",
       "      <th>player_id</th>\n",
       "      <th>current_club_id</th>\n",
       "      <th>current_club_domestic_competition_id</th>\n",
       "      <th>height_in_cm</th>\n",
       "      <th>market_value_in_eur</th>\n",
       "      <th>highest_market_value_in_eur</th>\n",
       "    </tr>\n",
       "  </thead>\n",
       "  <tbody>\n",
       "    <tr>\n",
       "      <th>25616</th>\n",
       "      <td>592398</td>\n",
       "      <td>40</td>\n",
       "      <td>FR1</td>\n",
       "      <td>18.0</td>\n",
       "      <td>150000.0</td>\n",
       "      <td>150000.0</td>\n",
       "    </tr>\n",
       "    <tr>\n",
       "      <th>26481</th>\n",
       "      <td>628490</td>\n",
       "      <td>2687</td>\n",
       "      <td>ES1</td>\n",
       "      <td>18.0</td>\n",
       "      <td>150000.0</td>\n",
       "      <td>150000.0</td>\n",
       "    </tr>\n",
       "  </tbody>\n",
       "</table>\n",
       "</div>"
      ],
      "text/plain": [
       "       player_id  current_club_id current_club_domestic_competition_id  \\\n",
       "25616     592398               40                                  FR1   \n",
       "26481     628490             2687                                  ES1   \n",
       "\n",
       "       height_in_cm  market_value_in_eur  highest_market_value_in_eur  \n",
       "25616          18.0             150000.0                     150000.0  \n",
       "26481          18.0             150000.0                     150000.0  "
      ]
     },
     "metadata": {},
     "output_type": "display_data"
    },
    {
     "data": {
      "text/plain": [
       "(30419, 6)"
      ]
     },
     "metadata": {},
     "output_type": "display_data"
    },
    {
     "data": {
      "text/plain": [
       "(30417, 6)"
      ]
     },
     "metadata": {},
     "output_type": "display_data"
    },
    {
     "name": "stdout",
     "output_type": "stream",
     "text": [
      "market value range: 10000.0 180000000.0\n"
     ]
    },
    {
     "data": {
      "text/plain": [
       "<Figure size 640x480 with 0 Axes>"
      ]
     },
     "metadata": {},
     "output_type": "display_data"
    }
   ],
   "source": [
    "# Examine extreme values\n",
    "display(players_df[numerical_variables].describe(include = 'all'))\n",
    "\n",
    "sns.boxplot(data = players_df['height_in_cm'])\n",
    "plt.show()\n",
    "plt.clf()\n",
    "\n",
    "sns.boxplot(data = players_df[['market_value_in_eur','highest_market_value_in_eur']])\n",
    "plt.show()\n",
    "plt.clf()\n",
    "\n",
    "# Inpsect the height_in_cm (height cannot be lower than 25 cm)\n",
    "# The average height of players is around 182.25 cm\n",
    "\n",
    "heights_outlier = players_df[players_df['height_in_cm'] < 25]\n",
    "display(heights_outlier)\n",
    "display(players_df.shape) # Back track the rows before removal of the outlier\n",
    "\n",
    "# Remove the outlier from the players data frame\n",
    "players_df = players_df[~(players_df['height_in_cm'] < 25)]\n",
    "display(players_df.shape) # Check if the outlier has been removed from the data frame\n",
    "# Successfully removed the outlier\n",
    "\n",
    "# Inpsect the market_value_in_eur \n",
    "market_value_min = np.min(players_df['market_value_in_eur'])\n",
    "market_value_max = np.max(players_df['market_value_in_eur'])\n",
    "print('market value range:',market_value_min,market_value_max)\n",
    "# Some players are valued lower at the start of the career or depriciated in value overtime while \n",
    "# based on seasonal/consistence performance some players are valued extremely high. Therefore,\n",
    "# it is not required for extreme low/high values to be removed from the data frame."
   ]
  },
  {
   "cell_type": "markdown",
   "id": "8488f49e",
   "metadata": {},
   "source": [
    "###### 5.8 Address Average Height Variable And Inspect The Final Players Data Frame"
   ]
  },
  {
   "cell_type": "code",
   "execution_count": 552,
   "id": "9ddee6fb",
   "metadata": {
    "ExecuteTime": {
     "end_time": "2024-03-05T18:23:53.027389Z",
     "start_time": "2024-03-05T18:23:52.987605Z"
    }
   },
   "outputs": [
    {
     "data": {
      "text/html": [
       "<div>\n",
       "<style scoped>\n",
       "    .dataframe tbody tr th:only-of-type {\n",
       "        vertical-align: middle;\n",
       "    }\n",
       "\n",
       "    .dataframe tbody tr th {\n",
       "        vertical-align: top;\n",
       "    }\n",
       "\n",
       "    .dataframe thead th {\n",
       "        text-align: right;\n",
       "    }\n",
       "</style>\n",
       "<table border=\"1\" class=\"dataframe\">\n",
       "  <thead>\n",
       "    <tr style=\"text-align: right;\">\n",
       "      <th></th>\n",
       "      <th>player_id</th>\n",
       "      <th>current_club_id</th>\n",
       "      <th>current_club_domestic_competition_id</th>\n",
       "      <th>average_height</th>\n",
       "      <th>average_market_value</th>\n",
       "    </tr>\n",
       "  </thead>\n",
       "  <tbody>\n",
       "    <tr>\n",
       "      <th>0</th>\n",
       "      <td>10</td>\n",
       "      <td>398</td>\n",
       "      <td>IT1</td>\n",
       "      <td>182.330357</td>\n",
       "      <td>2.509298e+06</td>\n",
       "    </tr>\n",
       "    <tr>\n",
       "      <th>1</th>\n",
       "      <td>26</td>\n",
       "      <td>16</td>\n",
       "      <td>L1</td>\n",
       "      <td>184.600000</td>\n",
       "      <td>7.843077e+06</td>\n",
       "    </tr>\n",
       "    <tr>\n",
       "      <th>2</th>\n",
       "      <td>65</td>\n",
       "      <td>1091</td>\n",
       "      <td>GR1</td>\n",
       "      <td>181.173469</td>\n",
       "      <td>1.153866e+06</td>\n",
       "    </tr>\n",
       "    <tr>\n",
       "      <th>3</th>\n",
       "      <td>77</td>\n",
       "      <td>506</td>\n",
       "      <td>IT1</td>\n",
       "      <td>183.770115</td>\n",
       "      <td>5.494278e+06</td>\n",
       "    </tr>\n",
       "    <tr>\n",
       "      <th>4</th>\n",
       "      <td>80</td>\n",
       "      <td>27</td>\n",
       "      <td>L1</td>\n",
       "      <td>184.446154</td>\n",
       "      <td>1.537425e+07</td>\n",
       "    </tr>\n",
       "  </tbody>\n",
       "</table>\n",
       "</div>"
      ],
      "text/plain": [
       "   player_id  current_club_id current_club_domestic_competition_id  \\\n",
       "0         10              398                                  IT1   \n",
       "1         26               16                                   L1   \n",
       "2         65             1091                                  GR1   \n",
       "3         77              506                                  IT1   \n",
       "4         80               27                                   L1   \n",
       "\n",
       "   average_height  average_market_value  \n",
       "0      182.330357          2.509298e+06  \n",
       "1      184.600000          7.843077e+06  \n",
       "2      181.173469          1.153866e+06  \n",
       "3      183.770115          5.494278e+06  \n",
       "4      184.446154          1.537425e+07  "
      ]
     },
     "execution_count": 552,
     "metadata": {},
     "output_type": "execute_result"
    }
   ],
   "source": [
    "# Determine average height based on current club id\n",
    "players_df['average_height'] = players_df.groupby('current_club_id')['height_in_cm'].transform('mean')\n",
    "#players_df.head()\n",
    "\n",
    "# Determine average market value based on current club id\n",
    "players_df['average_market_value'] = players_df.groupby('current_club_id')['market_value_in_eur'].transform('mean')\n",
    "#players_df.head()\n",
    "\n",
    "# Final Data Frame For Players\n",
    "players_df = players_df[['player_id','current_club_id','current_club_domestic_competition_id','average_height','average_market_value']]\n",
    "players_df.head()"
   ]
  },
  {
   "cell_type": "markdown",
   "id": "18ed80e1",
   "metadata": {},
   "source": [
    "###### 5.9 Inspect The Cleaned Players Data Frame"
   ]
  },
  {
   "cell_type": "code",
   "execution_count": 553,
   "id": "3bbd1def",
   "metadata": {
    "ExecuteTime": {
     "end_time": "2024-03-05T18:23:53.067055Z",
     "start_time": "2024-03-05T18:23:53.034052Z"
    }
   },
   "outputs": [
    {
     "data": {
      "text/plain": [
       "player_id                               0\n",
       "current_club_id                         0\n",
       "current_club_domestic_competition_id    0\n",
       "average_height                          0\n",
       "average_market_value                    0\n",
       "dtype: int64"
      ]
     },
     "metadata": {},
     "output_type": "display_data"
    },
    {
     "data": {
      "text/plain": [
       "player_id                                 int64\n",
       "current_club_id                           int64\n",
       "current_club_domestic_competition_id     object\n",
       "average_height                          float64\n",
       "average_market_value                    float64\n",
       "dtype: object"
      ]
     },
     "metadata": {},
     "output_type": "display_data"
    },
    {
     "data": {
      "text/plain": [
       "(30417, 5)"
      ]
     },
     "metadata": {},
     "output_type": "display_data"
    },
    {
     "data": {
      "text/html": [
       "<div>\n",
       "<style scoped>\n",
       "    .dataframe tbody tr th:only-of-type {\n",
       "        vertical-align: middle;\n",
       "    }\n",
       "\n",
       "    .dataframe tbody tr th {\n",
       "        vertical-align: top;\n",
       "    }\n",
       "\n",
       "    .dataframe thead th {\n",
       "        text-align: right;\n",
       "    }\n",
       "</style>\n",
       "<table border=\"1\" class=\"dataframe\">\n",
       "  <thead>\n",
       "    <tr style=\"text-align: right;\">\n",
       "      <th></th>\n",
       "      <th>player_id</th>\n",
       "      <th>current_club_id</th>\n",
       "      <th>current_club_domestic_competition_id</th>\n",
       "      <th>average_height</th>\n",
       "      <th>average_market_value</th>\n",
       "    </tr>\n",
       "  </thead>\n",
       "  <tbody>\n",
       "    <tr>\n",
       "      <th>0</th>\n",
       "      <td>10</td>\n",
       "      <td>398</td>\n",
       "      <td>IT1</td>\n",
       "      <td>182.330357</td>\n",
       "      <td>2.509298e+06</td>\n",
       "    </tr>\n",
       "    <tr>\n",
       "      <th>1</th>\n",
       "      <td>26</td>\n",
       "      <td>16</td>\n",
       "      <td>L1</td>\n",
       "      <td>184.600000</td>\n",
       "      <td>7.843077e+06</td>\n",
       "    </tr>\n",
       "    <tr>\n",
       "      <th>2</th>\n",
       "      <td>65</td>\n",
       "      <td>1091</td>\n",
       "      <td>GR1</td>\n",
       "      <td>181.173469</td>\n",
       "      <td>1.153866e+06</td>\n",
       "    </tr>\n",
       "    <tr>\n",
       "      <th>3</th>\n",
       "      <td>77</td>\n",
       "      <td>506</td>\n",
       "      <td>IT1</td>\n",
       "      <td>183.770115</td>\n",
       "      <td>5.494278e+06</td>\n",
       "    </tr>\n",
       "    <tr>\n",
       "      <th>4</th>\n",
       "      <td>80</td>\n",
       "      <td>27</td>\n",
       "      <td>L1</td>\n",
       "      <td>184.446154</td>\n",
       "      <td>1.537425e+07</td>\n",
       "    </tr>\n",
       "  </tbody>\n",
       "</table>\n",
       "</div>"
      ],
      "text/plain": [
       "   player_id  current_club_id current_club_domestic_competition_id  \\\n",
       "0         10              398                                  IT1   \n",
       "1         26               16                                   L1   \n",
       "2         65             1091                                  GR1   \n",
       "3         77              506                                  IT1   \n",
       "4         80               27                                   L1   \n",
       "\n",
       "   average_height  average_market_value  \n",
       "0      182.330357          2.509298e+06  \n",
       "1      184.600000          7.843077e+06  \n",
       "2      181.173469          1.153866e+06  \n",
       "3      183.770115          5.494278e+06  \n",
       "4      184.446154          1.537425e+07  "
      ]
     },
     "metadata": {},
     "output_type": "display_data"
    }
   ],
   "source": [
    "display(players_df.isnull().sum()) # No null values reported \n",
    "#display(players_df.describe(include = \"all\"))\n",
    "display(players_df.dtypes)\n",
    "display(players_df.shape)\n",
    "display(players_df.head())"
   ]
  },
  {
   "cell_type": "markdown",
   "id": "1b6c414d",
   "metadata": {},
   "source": [
    "###### 6 -- APPEARANCES DATA FRAME [appearances.csv]"
   ]
  },
  {
   "cell_type": "markdown",
   "id": "78f6755f",
   "metadata": {},
   "source": [
    "###### 6.1 Load the appearances csv file and convert into a dataframe"
   ]
  },
  {
   "cell_type": "code",
   "execution_count": 554,
   "id": "fa9110df",
   "metadata": {
    "ExecuteTime": {
     "end_time": "2024-03-05T18:23:57.278318Z",
     "start_time": "2024-03-05T18:23:53.069071Z"
    }
   },
   "outputs": [
    {
     "data": {
      "text/html": [
       "<div>\n",
       "<style scoped>\n",
       "    .dataframe tbody tr th:only-of-type {\n",
       "        vertical-align: middle;\n",
       "    }\n",
       "\n",
       "    .dataframe tbody tr th {\n",
       "        vertical-align: top;\n",
       "    }\n",
       "\n",
       "    .dataframe thead th {\n",
       "        text-align: right;\n",
       "    }\n",
       "</style>\n",
       "<table border=\"1\" class=\"dataframe\">\n",
       "  <thead>\n",
       "    <tr style=\"text-align: right;\">\n",
       "      <th></th>\n",
       "      <th>appearance_id</th>\n",
       "      <th>game_id</th>\n",
       "      <th>player_id</th>\n",
       "      <th>player_club_id</th>\n",
       "      <th>player_current_club_id</th>\n",
       "      <th>date</th>\n",
       "      <th>player_name</th>\n",
       "      <th>competition_id</th>\n",
       "      <th>yellow_cards</th>\n",
       "      <th>red_cards</th>\n",
       "      <th>goals</th>\n",
       "      <th>assists</th>\n",
       "      <th>minutes_played</th>\n",
       "    </tr>\n",
       "  </thead>\n",
       "  <tbody>\n",
       "    <tr>\n",
       "      <th>0</th>\n",
       "      <td>2231978_38004</td>\n",
       "      <td>2231978</td>\n",
       "      <td>38004</td>\n",
       "      <td>853</td>\n",
       "      <td>235</td>\n",
       "      <td>2012-07-03</td>\n",
       "      <td>Aurélien Joachim</td>\n",
       "      <td>CLQ</td>\n",
       "      <td>0</td>\n",
       "      <td>0</td>\n",
       "      <td>2</td>\n",
       "      <td>0</td>\n",
       "      <td>90</td>\n",
       "    </tr>\n",
       "    <tr>\n",
       "      <th>1</th>\n",
       "      <td>2233748_79232</td>\n",
       "      <td>2233748</td>\n",
       "      <td>79232</td>\n",
       "      <td>8841</td>\n",
       "      <td>2698</td>\n",
       "      <td>2012-07-05</td>\n",
       "      <td>Ruslan Abyshov</td>\n",
       "      <td>ELQ</td>\n",
       "      <td>0</td>\n",
       "      <td>0</td>\n",
       "      <td>0</td>\n",
       "      <td>0</td>\n",
       "      <td>90</td>\n",
       "    </tr>\n",
       "    <tr>\n",
       "      <th>2</th>\n",
       "      <td>2234413_42792</td>\n",
       "      <td>2234413</td>\n",
       "      <td>42792</td>\n",
       "      <td>6251</td>\n",
       "      <td>465</td>\n",
       "      <td>2012-07-05</td>\n",
       "      <td>Sander Puri</td>\n",
       "      <td>ELQ</td>\n",
       "      <td>0</td>\n",
       "      <td>0</td>\n",
       "      <td>0</td>\n",
       "      <td>0</td>\n",
       "      <td>45</td>\n",
       "    </tr>\n",
       "    <tr>\n",
       "      <th>3</th>\n",
       "      <td>2234418_73333</td>\n",
       "      <td>2234418</td>\n",
       "      <td>73333</td>\n",
       "      <td>1274</td>\n",
       "      <td>6646</td>\n",
       "      <td>2012-07-05</td>\n",
       "      <td>Vegar Hedenstad</td>\n",
       "      <td>ELQ</td>\n",
       "      <td>0</td>\n",
       "      <td>0</td>\n",
       "      <td>0</td>\n",
       "      <td>0</td>\n",
       "      <td>90</td>\n",
       "    </tr>\n",
       "    <tr>\n",
       "      <th>4</th>\n",
       "      <td>2234421_122011</td>\n",
       "      <td>2234421</td>\n",
       "      <td>122011</td>\n",
       "      <td>195</td>\n",
       "      <td>3008</td>\n",
       "      <td>2012-07-05</td>\n",
       "      <td>Markus Henriksen</td>\n",
       "      <td>ELQ</td>\n",
       "      <td>0</td>\n",
       "      <td>0</td>\n",
       "      <td>0</td>\n",
       "      <td>1</td>\n",
       "      <td>90</td>\n",
       "    </tr>\n",
       "  </tbody>\n",
       "</table>\n",
       "</div>"
      ],
      "text/plain": [
       "    appearance_id  game_id  player_id  player_club_id  player_current_club_id  \\\n",
       "0   2231978_38004  2231978      38004             853                     235   \n",
       "1   2233748_79232  2233748      79232            8841                    2698   \n",
       "2   2234413_42792  2234413      42792            6251                     465   \n",
       "3   2234418_73333  2234418      73333            1274                    6646   \n",
       "4  2234421_122011  2234421     122011             195                    3008   \n",
       "\n",
       "         date       player_name competition_id  yellow_cards  red_cards  \\\n",
       "0  2012-07-03  Aurélien Joachim            CLQ             0          0   \n",
       "1  2012-07-05    Ruslan Abyshov            ELQ             0          0   \n",
       "2  2012-07-05       Sander Puri            ELQ             0          0   \n",
       "3  2012-07-05   Vegar Hedenstad            ELQ             0          0   \n",
       "4  2012-07-05  Markus Henriksen            ELQ             0          0   \n",
       "\n",
       "   goals  assists  minutes_played  \n",
       "0      2        0              90  \n",
       "1      0        0              90  \n",
       "2      0        0              45  \n",
       "3      0        0              90  \n",
       "4      0        1              90  "
      ]
     },
     "metadata": {},
     "output_type": "display_data"
    },
    {
     "data": {
      "text/plain": [
       "(1527494, 13)"
      ]
     },
     "metadata": {},
     "output_type": "display_data"
    }
   ],
   "source": [
    "appearances_data = pd.read_csv('../1. Input/appearances.csv')\n",
    "display(appearances_data.head())\n",
    "display(appearances_data.shape)"
   ]
  },
  {
   "cell_type": "markdown",
   "id": "a52cc93c",
   "metadata": {},
   "source": [
    "###### 6.2 Select the desired variables and save it as appearances_df"
   ]
  },
  {
   "cell_type": "code",
   "execution_count": 555,
   "id": "f0ca8daf",
   "metadata": {
    "ExecuteTime": {
     "end_time": "2024-03-05T18:23:57.394882Z",
     "start_time": "2024-03-05T18:23:57.284391Z"
    }
   },
   "outputs": [
    {
     "data": {
      "text/plain": [
       "(1527494, 8)"
      ]
     },
     "metadata": {},
     "output_type": "display_data"
    },
    {
     "data": {
      "text/html": [
       "<div>\n",
       "<style scoped>\n",
       "    .dataframe tbody tr th:only-of-type {\n",
       "        vertical-align: middle;\n",
       "    }\n",
       "\n",
       "    .dataframe tbody tr th {\n",
       "        vertical-align: top;\n",
       "    }\n",
       "\n",
       "    .dataframe thead th {\n",
       "        text-align: right;\n",
       "    }\n",
       "</style>\n",
       "<table border=\"1\" class=\"dataframe\">\n",
       "  <thead>\n",
       "    <tr style=\"text-align: right;\">\n",
       "      <th></th>\n",
       "      <th>appearance_id</th>\n",
       "      <th>game_id</th>\n",
       "      <th>player_id</th>\n",
       "      <th>player_club_id</th>\n",
       "      <th>player_current_club_id</th>\n",
       "      <th>competition_id</th>\n",
       "      <th>assists</th>\n",
       "      <th>goals</th>\n",
       "    </tr>\n",
       "  </thead>\n",
       "  <tbody>\n",
       "    <tr>\n",
       "      <th>0</th>\n",
       "      <td>2231978_38004</td>\n",
       "      <td>2231978</td>\n",
       "      <td>38004</td>\n",
       "      <td>853</td>\n",
       "      <td>235</td>\n",
       "      <td>CLQ</td>\n",
       "      <td>0</td>\n",
       "      <td>2</td>\n",
       "    </tr>\n",
       "    <tr>\n",
       "      <th>1</th>\n",
       "      <td>2233748_79232</td>\n",
       "      <td>2233748</td>\n",
       "      <td>79232</td>\n",
       "      <td>8841</td>\n",
       "      <td>2698</td>\n",
       "      <td>ELQ</td>\n",
       "      <td>0</td>\n",
       "      <td>0</td>\n",
       "    </tr>\n",
       "    <tr>\n",
       "      <th>2</th>\n",
       "      <td>2234413_42792</td>\n",
       "      <td>2234413</td>\n",
       "      <td>42792</td>\n",
       "      <td>6251</td>\n",
       "      <td>465</td>\n",
       "      <td>ELQ</td>\n",
       "      <td>0</td>\n",
       "      <td>0</td>\n",
       "    </tr>\n",
       "    <tr>\n",
       "      <th>3</th>\n",
       "      <td>2234418_73333</td>\n",
       "      <td>2234418</td>\n",
       "      <td>73333</td>\n",
       "      <td>1274</td>\n",
       "      <td>6646</td>\n",
       "      <td>ELQ</td>\n",
       "      <td>0</td>\n",
       "      <td>0</td>\n",
       "    </tr>\n",
       "    <tr>\n",
       "      <th>4</th>\n",
       "      <td>2234421_122011</td>\n",
       "      <td>2234421</td>\n",
       "      <td>122011</td>\n",
       "      <td>195</td>\n",
       "      <td>3008</td>\n",
       "      <td>ELQ</td>\n",
       "      <td>1</td>\n",
       "      <td>0</td>\n",
       "    </tr>\n",
       "  </tbody>\n",
       "</table>\n",
       "</div>"
      ],
      "text/plain": [
       "    appearance_id  game_id  player_id  player_club_id  player_current_club_id  \\\n",
       "0   2231978_38004  2231978      38004             853                     235   \n",
       "1   2233748_79232  2233748      79232            8841                    2698   \n",
       "2   2234413_42792  2234413      42792            6251                     465   \n",
       "3   2234418_73333  2234418      73333            1274                    6646   \n",
       "4  2234421_122011  2234421     122011             195                    3008   \n",
       "\n",
       "  competition_id  assists  goals  \n",
       "0            CLQ        0      2  \n",
       "1            ELQ        0      0  \n",
       "2            ELQ        0      0  \n",
       "3            ELQ        0      0  \n",
       "4            ELQ        1      0  "
      ]
     },
     "metadata": {},
     "output_type": "display_data"
    }
   ],
   "source": [
    "appearances_df = appearances_data[['appearance_id','game_id','player_id','player_club_id','player_current_club_id','competition_id','assists','goals']]\n",
    "display(appearances_df.shape)\n",
    "display(appearances_df.head())"
   ]
  },
  {
   "cell_type": "markdown",
   "id": "e4b03f01",
   "metadata": {},
   "source": [
    "###### 6.3 Understand the Numerical, Categorical and Binary Variables"
   ]
  },
  {
   "cell_type": "code",
   "execution_count": 556,
   "id": "d2f4a47d",
   "metadata": {
    "ExecuteTime": {
     "end_time": "2024-03-05T18:23:58.102666Z",
     "start_time": "2024-03-05T18:23:57.397894Z"
    }
   },
   "outputs": [
    {
     "name": "stdout",
     "output_type": "stream",
     "text": [
      "Numerical Variables: ['game_id', 'player_id', 'player_club_id', 'player_current_club_id', 'assists', 'goals']\n",
      "Categorical Variables: ['appearance_id', 'competition_id']\n",
      "Binary Variables: []\n",
      "Total Numerical Variables:  6\n",
      "Total Categorical Variables:  2\n",
      "Total Binary Variables:  0\n"
     ]
    }
   ],
   "source": [
    "# Create lists to hold the names of each type of column\n",
    "numerical_variables = []\n",
    "categorical_variables = []\n",
    "binary_variables = []\n",
    "\n",
    "# Loop through the games_df columns to classify them\n",
    "for column_name in appearances_df.columns:\n",
    "    unique_vals = appearances_df[column_name].nunique()\n",
    "    \n",
    "    # Check for Binary\n",
    "    if (appearances_df[column_name].dtype in ['int64', 'float64', 'bool']) and (unique_vals == 2):\n",
    "        binary_variables.append(column_name)\n",
    "    # Check for Numerical\n",
    "    elif appearances_df[column_name].dtype in ['int64', 'float64']:\n",
    "        numerical_variables.append(column_name)\n",
    "    # Check for Categorical\n",
    "    elif appearances_df[column_name].dtype == 'object' or appearances_df[column_name].dtype.name == 'category':\n",
    "        categorical_variables.append(column_name)\n",
    "\n",
    "print(\"Numerical Variables:\", numerical_variables)\n",
    "print(\"Categorical Variables:\", categorical_variables)\n",
    "print(\"Binary Variables:\", binary_variables)\n",
    "\n",
    "print(\"Total Numerical Variables: \",len(numerical_variables))\n",
    "print(\"Total Categorical Variables: \",len(categorical_variables))\n",
    "print(\"Total Binary Variables: \",len(binary_variables))"
   ]
  },
  {
   "cell_type": "markdown",
   "id": "72159764",
   "metadata": {},
   "source": [
    "###### 6.4 Inspect Null And Extreme Values For Numerical Variables"
   ]
  },
  {
   "cell_type": "code",
   "execution_count": 557,
   "id": "2ff8c763",
   "metadata": {
    "ExecuteTime": {
     "end_time": "2024-03-05T18:24:08.875265Z",
     "start_time": "2024-03-05T18:23:58.104672Z"
    }
   },
   "outputs": [
    {
     "data": {
      "text/plain": [
       "appearance_id             0\n",
       "game_id                   0\n",
       "player_id                 0\n",
       "player_club_id            0\n",
       "player_current_club_id    0\n",
       "competition_id            0\n",
       "assists                   0\n",
       "goals                     0\n",
       "dtype: int64"
      ]
     },
     "metadata": {},
     "output_type": "display_data"
    },
    {
     "data": {
      "text/html": [
       "<div>\n",
       "<style scoped>\n",
       "    .dataframe tbody tr th:only-of-type {\n",
       "        vertical-align: middle;\n",
       "    }\n",
       "\n",
       "    .dataframe tbody tr th {\n",
       "        vertical-align: top;\n",
       "    }\n",
       "\n",
       "    .dataframe thead th {\n",
       "        text-align: right;\n",
       "    }\n",
       "</style>\n",
       "<table border=\"1\" class=\"dataframe\">\n",
       "  <thead>\n",
       "    <tr style=\"text-align: right;\">\n",
       "      <th></th>\n",
       "      <th>assists</th>\n",
       "      <th>goals</th>\n",
       "    </tr>\n",
       "  </thead>\n",
       "  <tbody>\n",
       "    <tr>\n",
       "      <th>count</th>\n",
       "      <td>1.527494e+06</td>\n",
       "      <td>1.527494e+06</td>\n",
       "    </tr>\n",
       "    <tr>\n",
       "      <th>mean</th>\n",
       "      <td>7.588573e-02</td>\n",
       "      <td>9.629956e-02</td>\n",
       "    </tr>\n",
       "    <tr>\n",
       "      <th>std</th>\n",
       "      <td>2.864527e-01</td>\n",
       "      <td>3.316974e-01</td>\n",
       "    </tr>\n",
       "    <tr>\n",
       "      <th>min</th>\n",
       "      <td>0.000000e+00</td>\n",
       "      <td>0.000000e+00</td>\n",
       "    </tr>\n",
       "    <tr>\n",
       "      <th>25%</th>\n",
       "      <td>0.000000e+00</td>\n",
       "      <td>0.000000e+00</td>\n",
       "    </tr>\n",
       "    <tr>\n",
       "      <th>50%</th>\n",
       "      <td>0.000000e+00</td>\n",
       "      <td>0.000000e+00</td>\n",
       "    </tr>\n",
       "    <tr>\n",
       "      <th>75%</th>\n",
       "      <td>0.000000e+00</td>\n",
       "      <td>0.000000e+00</td>\n",
       "    </tr>\n",
       "    <tr>\n",
       "      <th>max</th>\n",
       "      <td>6.000000e+00</td>\n",
       "      <td>6.000000e+00</td>\n",
       "    </tr>\n",
       "  </tbody>\n",
       "</table>\n",
       "</div>"
      ],
      "text/plain": [
       "            assists         goals\n",
       "count  1.527494e+06  1.527494e+06\n",
       "mean   7.588573e-02  9.629956e-02\n",
       "std    2.864527e-01  3.316974e-01\n",
       "min    0.000000e+00  0.000000e+00\n",
       "25%    0.000000e+00  0.000000e+00\n",
       "50%    0.000000e+00  0.000000e+00\n",
       "75%    0.000000e+00  0.000000e+00\n",
       "max    6.000000e+00  6.000000e+00"
      ]
     },
     "metadata": {},
     "output_type": "display_data"
    },
    {
     "data": {
      "image/png": "[encoded data removed]",
      "text/plain": [
       "<Figure size 640x480 with 1 Axes>"
      ]
     },
     "metadata": {},
     "output_type": "display_data"
    }
   ],
   "source": [
    "# Check for null values in numerical variables\n",
    "display(appearances_df.isnull().sum()) # No null values reported\n",
    "display(appearances_df[['assists','goals']].describe(include = \"all\"))\n",
    "\n",
    "# Check for extreme values in assists/goals\n",
    "sns.boxplot(data = appearances_df[['assists', 'goals']])\n",
    "plt.title('Distribution of Assists and Goals')\n",
    "plt.ylabel('Frequency')\n",
    "plt.show()\n",
    "# No extreme values reported quiet consistent across with the goals variable and does not require any\n",
    "# measurement or treatment."
   ]
  },
  {
   "cell_type": "markdown",
   "id": "1be0da3a",
   "metadata": {},
   "source": [
    "###### 6.5 Final Inspection Of Appearances Data Frame"
   ]
  },
  {
   "cell_type": "code",
   "execution_count": 558,
   "id": "9d73e904",
   "metadata": {
    "ExecuteTime": {
     "end_time": "2024-03-05T18:24:09.048842Z",
     "start_time": "2024-03-05T18:24:08.876273Z"
    }
   },
   "outputs": [
    {
     "data": {
      "text/plain": [
       "appearance_id     0\n",
       "competition_id    0\n",
       "dtype: int64"
      ]
     },
     "metadata": {},
     "output_type": "display_data"
    },
    {
     "data": {
      "text/plain": [
       "(1527494, 8)"
      ]
     },
     "metadata": {},
     "output_type": "display_data"
    },
    {
     "data": {
      "text/html": [
       "<div>\n",
       "<style scoped>\n",
       "    .dataframe tbody tr th:only-of-type {\n",
       "        vertical-align: middle;\n",
       "    }\n",
       "\n",
       "    .dataframe tbody tr th {\n",
       "        vertical-align: top;\n",
       "    }\n",
       "\n",
       "    .dataframe thead th {\n",
       "        text-align: right;\n",
       "    }\n",
       "</style>\n",
       "<table border=\"1\" class=\"dataframe\">\n",
       "  <thead>\n",
       "    <tr style=\"text-align: right;\">\n",
       "      <th></th>\n",
       "      <th>appearance_id</th>\n",
       "      <th>game_id</th>\n",
       "      <th>player_id</th>\n",
       "      <th>player_club_id</th>\n",
       "      <th>player_current_club_id</th>\n",
       "      <th>competition_id</th>\n",
       "      <th>assists</th>\n",
       "      <th>goals</th>\n",
       "    </tr>\n",
       "  </thead>\n",
       "  <tbody>\n",
       "    <tr>\n",
       "      <th>0</th>\n",
       "      <td>2231978_38004</td>\n",
       "      <td>2231978</td>\n",
       "      <td>38004</td>\n",
       "      <td>853</td>\n",
       "      <td>235</td>\n",
       "      <td>CLQ</td>\n",
       "      <td>0</td>\n",
       "      <td>2</td>\n",
       "    </tr>\n",
       "    <tr>\n",
       "      <th>1</th>\n",
       "      <td>2233748_79232</td>\n",
       "      <td>2233748</td>\n",
       "      <td>79232</td>\n",
       "      <td>8841</td>\n",
       "      <td>2698</td>\n",
       "      <td>ELQ</td>\n",
       "      <td>0</td>\n",
       "      <td>0</td>\n",
       "    </tr>\n",
       "    <tr>\n",
       "      <th>2</th>\n",
       "      <td>2234413_42792</td>\n",
       "      <td>2234413</td>\n",
       "      <td>42792</td>\n",
       "      <td>6251</td>\n",
       "      <td>465</td>\n",
       "      <td>ELQ</td>\n",
       "      <td>0</td>\n",
       "      <td>0</td>\n",
       "    </tr>\n",
       "    <tr>\n",
       "      <th>3</th>\n",
       "      <td>2234418_73333</td>\n",
       "      <td>2234418</td>\n",
       "      <td>73333</td>\n",
       "      <td>1274</td>\n",
       "      <td>6646</td>\n",
       "      <td>ELQ</td>\n",
       "      <td>0</td>\n",
       "      <td>0</td>\n",
       "    </tr>\n",
       "    <tr>\n",
       "      <th>4</th>\n",
       "      <td>2234421_122011</td>\n",
       "      <td>2234421</td>\n",
       "      <td>122011</td>\n",
       "      <td>195</td>\n",
       "      <td>3008</td>\n",
       "      <td>ELQ</td>\n",
       "      <td>1</td>\n",
       "      <td>0</td>\n",
       "    </tr>\n",
       "  </tbody>\n",
       "</table>\n",
       "</div>"
      ],
      "text/plain": [
       "    appearance_id  game_id  player_id  player_club_id  player_current_club_id  \\\n",
       "0   2231978_38004  2231978      38004             853                     235   \n",
       "1   2233748_79232  2233748      79232            8841                    2698   \n",
       "2   2234413_42792  2234413      42792            6251                     465   \n",
       "3   2234418_73333  2234418      73333            1274                    6646   \n",
       "4  2234421_122011  2234421     122011             195                    3008   \n",
       "\n",
       "  competition_id  assists  goals  \n",
       "0            CLQ        0      2  \n",
       "1            ELQ        0      0  \n",
       "2            ELQ        0      0  \n",
       "3            ELQ        0      0  \n",
       "4            ELQ        1      0  "
      ]
     },
     "metadata": {},
     "output_type": "display_data"
    }
   ],
   "source": [
    "display(appearances_df[categorical_variables].isnull().sum()) # No null values reported \n",
    "# The appearances data frame seems to be a cleaned data frame and is ready for merging\n",
    "display(appearances_df.shape)\n",
    "display(appearances_df.head())"
   ]
  },
  {
   "cell_type": "markdown",
   "id": "dc456b91",
   "metadata": {},
   "source": [
    "###### 7 -- DEVELOP THE MASTER DATA FRAME"
   ]
  },
  {
   "cell_type": "markdown",
   "id": "e6a27e08",
   "metadata": {},
   "source": [
    "###### 7.1 Write the cleaned data frames to csv files to create the master file"
   ]
  },
  {
   "cell_type": "code",
   "execution_count": 559,
   "id": "ff11cce3",
   "metadata": {
    "ExecuteTime": {
     "end_time": "2024-03-05T18:24:23.865466Z",
     "start_time": "2024-03-05T18:24:09.052853Z"
    }
   },
   "outputs": [],
   "source": [
    "# Create data frame clones and write it to a csv file [preserve originals]\n",
    "\n",
    "games_cleaned = games_df.copy()\n",
    "games_cleaned.to_csv(r\"../4. Outputs/games_csv.csv\",index = False)\n",
    "\n",
    "clubs_cleaned = clubs_df.copy()\n",
    "clubs_cleaned.to_csv(r\"../4. Outputs/clubs_csv.csv\",index = False)\n",
    "\n",
    "competitions_cleaned = competitions_df.copy()\n",
    "competitions_cleaned.to_csv(r\"../4. Outputs/competitions_csv.csv\",index = False)\n",
    "\n",
    "events_cleaned = events_df.copy()\n",
    "events_cleaned.to_csv(r\"../4. Outputs/events_csv.csv\",index = False)\n",
    "\n",
    "players_cleaned = players_df.copy()\n",
    "players_cleaned.to_csv(r\"../4. Outputs/players_csv.csv\",index = False)\n",
    "\n",
    "appearances_cleaned = appearances_df.copy()\n",
    "appearances_cleaned.to_csv(r\"../4. Outputs/appearances_csv.csv\",index = False)"
   ]
  },
  {
   "cell_type": "markdown",
   "id": "9bb30909",
   "metadata": {},
   "source": [
    "###### 7.2 Preliminary Inspection Of Cleaned Data Frames Before Merge [Observations / Variable Count]"
   ]
  },
  {
   "cell_type": "code",
   "execution_count": 560,
   "id": "9b20e20c",
   "metadata": {
    "ExecuteTime": {
     "end_time": "2024-03-05T18:24:23.874804Z",
     "start_time": "2024-03-05T18:24:23.867481Z"
    }
   },
   "outputs": [
    {
     "name": "stdout",
     "output_type": "stream",
     "text": [
      "Games Data Frame : Observations / Variables (46546, 19)\n",
      "Clubs Data Frame : Observations / Variables (426, 5)\n",
      "Competitions Data Frame : Observations / Variables (14, 3)\n",
      "Events Data Frame : Observations / Variables (683511, 8)\n",
      "Players Data Frame : Observations / Variables (30417, 5)\n",
      "Appearances Data Frame : Observations / Variables (1527494, 8)\n"
     ]
    }
   ],
   "source": [
    "print(\"Games Data Frame : Observations / Variables\",games_cleaned.shape)\n",
    "print(\"Clubs Data Frame : Observations / Variables\",clubs_cleaned.shape)\n",
    "print(\"Competitions Data Frame : Observations / Variables\",competitions_cleaned.shape)\n",
    "print(\"Events Data Frame : Observations / Variables\",events_cleaned.shape)\n",
    "print(\"Players Data Frame : Observations / Variables\",players_cleaned.shape)\n",
    "print(\"Appearances Data Frame : Observations / Variables\",appearances_cleaned.shape)"
   ]
  },
  {
   "cell_type": "markdown",
   "id": "240f73b2",
   "metadata": {},
   "source": [
    "###### 7.3 Master Data Frame Creation -- Process"
   ]
  },
  {
   "cell_type": "markdown",
   "id": "0347744b",
   "metadata": {},
   "source": [
    "###### 7.3.1 Primary Merge : Merge The Games And Clubs Data Frame"
   ]
  },
  {
   "cell_type": "code",
   "execution_count": 561,
   "id": "6c81e271",
   "metadata": {
    "ExecuteTime": {
     "end_time": "2024-03-05T18:24:23.962506Z",
     "start_time": "2024-03-05T18:24:23.876842Z"
    }
   },
   "outputs": [
    {
     "name": "stdout",
     "output_type": "stream",
     "text": [
      "After merging Games and Clubs Data Frame : 46546 rows, 29 columns\n"
     ]
    }
   ],
   "source": [
    "merged_home = pd.merge(games_cleaned,clubs_cleaned,left_on = 'home_club_id',right_on = 'club_id',how = 'left',suffixes = ('', '_home'))\n",
    "merged_full = pd.merge(merged_home,clubs_cleaned,left_on = 'away_club_id',right_on = 'club_id',how = 'left',suffixes = ('', '_away'))\n",
    "print(f\"After merging Games and Clubs Data Frame : {merged_full.shape[0]} rows, {merged_full.shape[1]} columns\")"
   ]
  },
  {
   "cell_type": "markdown",
   "id": "b5e5a832",
   "metadata": {},
   "source": [
    "###### 7.3.2 Second Merge : Merge With Competitions Data Frame"
   ]
  },
  {
   "cell_type": "code",
   "execution_count": 562,
   "id": "336483e4",
   "metadata": {
    "ExecuteTime": {
     "end_time": "2024-03-05T18:24:24.003070Z",
     "start_time": "2024-03-05T18:24:23.965474Z"
    }
   },
   "outputs": [
    {
     "name": "stdout",
     "output_type": "stream",
     "text": [
      "After merging with Competitions Data Frame : 46546 rows, 31 columns\n"
     ]
    }
   ],
   "source": [
    "merged_with_competitions = pd.merge(merged_full,competitions_cleaned,on = 'competition_id',how = 'left')\n",
    "print(f\"After merging with Competitions Data Frame : {merged_with_competitions.shape[0]} rows, {merged_with_competitions.shape[1]} columns\")"
   ]
  },
  {
   "cell_type": "markdown",
   "id": "b38415a3",
   "metadata": {},
   "source": [
    "###### 7.3.3 Third Merge : Merge With Aggregated Events"
   ]
  },
  {
   "cell_type": "code",
   "execution_count": 563,
   "id": "ece2085f",
   "metadata": {
    "ExecuteTime": {
     "end_time": "2024-03-05T18:24:24.133492Z",
     "start_time": "2024-03-05T18:24:24.006083Z"
    }
   },
   "outputs": [
    {
     "name": "stdout",
     "output_type": "stream",
     "text": [
      "After merging with Aggregated Events : 46546 rows, 33 columns\n"
     ]
    }
   ],
   "source": [
    "events_aggregated = events_cleaned.groupby('game_id').agg(\n",
    "    total_yellow_cards=('yellow_card', 'sum'),\n",
    "    total_red_cards=('red_card', 'sum')\n",
    ").reset_index()\n",
    "\n",
    "merged_with_event_summaries = pd.merge(merged_with_competitions,events_aggregated,on = 'game_id',how = 'left')\n",
    "print(f\"After merging with Aggregated Events : {merged_with_event_summaries.shape[0]} rows, {merged_with_event_summaries.shape[1]} columns\")"
   ]
  },
  {
   "cell_type": "markdown",
   "id": "67e23ff6",
   "metadata": {},
   "source": [
    "###### 7.3.4 Fourth Merge : Merge With Aggregated Player Statistics"
   ]
  },
  {
   "cell_type": "code",
   "execution_count": 564,
   "id": "d572b800",
   "metadata": {
    "ExecuteTime": {
     "end_time": "2024-03-05T18:24:24.186739Z",
     "start_time": "2024-03-05T18:24:24.136508Z"
    }
   },
   "outputs": [
    {
     "name": "stdout",
     "output_type": "stream",
     "text": [
      "After merging with Player Aggregates : 46546 rows, 37 columns\n"
     ]
    }
   ],
   "source": [
    "player_club_aggregates = players_cleaned.groupby('current_club_id').agg(\n",
    "    average_height_per_club=('average_height', 'mean'),\n",
    "    average_market_value_per_club=('average_market_value', 'mean')\n",
    ").reset_index()\n",
    "\n",
    "player_club_aggregates_home = player_club_aggregates.rename(columns={\n",
    "    'current_club_id': 'home_club_id',\n",
    "    'average_height_per_club': 'average_height_home_club',\n",
    "    'average_market_value_per_club': 'average_market_value_home_club'\n",
    "})\n",
    "\n",
    "player_club_aggregates_away = player_club_aggregates.rename(columns={\n",
    "    'current_club_id': 'away_club_id',\n",
    "    'average_height_per_club': 'average_height_away_club',\n",
    "    'average_market_value_per_club': 'average_market_value_away_club'\n",
    "})\n",
    "# Merge With Home Club Aggregates\n",
    "merged_with_home_club_aggregates = pd.merge(merged_with_event_summaries,player_club_aggregates_home,on = 'home_club_id',how = 'left')\n",
    "\n",
    "# Merge With Away Club Aggregates\n",
    "merged_with_club_aggregates = pd.merge(merged_with_home_club_aggregates,player_club_aggregates_away,on = 'away_club_id',how = 'left')\n",
    "\n",
    "print(f\"After merging with Player Aggregates : {merged_with_club_aggregates.shape[0]} rows, {merged_with_club_aggregates.shape[1]} columns\")"
   ]
  },
  {
   "cell_type": "markdown",
   "id": "9c00af75",
   "metadata": {},
   "source": [
    "###### 7.3.5 Final Merge : Merge With Aggregated Appearance Statistics"
   ]
  },
  {
   "cell_type": "code",
   "execution_count": 565,
   "id": "8317f2df",
   "metadata": {
    "ExecuteTime": {
     "end_time": "2024-03-05T18:24:24.318168Z",
     "start_time": "2024-03-05T18:24:24.189756Z"
    }
   },
   "outputs": [
    {
     "name": "stdout",
     "output_type": "stream",
     "text": [
      "After merging with Aggregated Appearance Statistics : 46546 rows, 39 columns\n"
     ]
    }
   ],
   "source": [
    "appearances_aggregated = appearances_cleaned.groupby('game_id').agg(\n",
    "    total_assists=('assists', 'sum'),\n",
    "    total_goals=('goals', 'sum')\n",
    ").reset_index()\n",
    "\n",
    "merged_with_appearance_aggregates = pd.merge(merged_with_club_aggregates,appearances_aggregated,on = 'game_id',how = 'left')\n",
    "print(f\"After merging with Aggregated Appearance Statistics : {merged_with_appearance_aggregates.shape[0]} rows, {merged_with_appearance_aggregates.shape[1]} columns\")"
   ]
  },
  {
   "cell_type": "markdown",
   "id": "909acdee",
   "metadata": {},
   "source": [
    "###### 7.3.6 Master Data Frame : Domestic League Competitions"
   ]
  },
  {
   "cell_type": "code",
   "execution_count": 566,
   "id": "e5c38e3c",
   "metadata": {
    "ExecuteTime": {
     "end_time": "2024-03-05T18:24:27.412149Z",
     "start_time": "2024-03-05T18:24:24.323422Z"
    }
   },
   "outputs": [
    {
     "data": {
      "text/plain": [
       "(46546, 39)"
      ]
     },
     "metadata": {},
     "output_type": "display_data"
    },
    {
     "data": {
      "text/html": [
       "<div>\n",
       "<style scoped>\n",
       "    .dataframe tbody tr th:only-of-type {\n",
       "        vertical-align: middle;\n",
       "    }\n",
       "\n",
       "    .dataframe tbody tr th {\n",
       "        vertical-align: top;\n",
       "    }\n",
       "\n",
       "    .dataframe thead th {\n",
       "        text-align: right;\n",
       "    }\n",
       "</style>\n",
       "<table border=\"1\" class=\"dataframe\">\n",
       "  <thead>\n",
       "    <tr style=\"text-align: right;\">\n",
       "      <th></th>\n",
       "      <th>game_id</th>\n",
       "      <th>competition_id</th>\n",
       "      <th>season</th>\n",
       "      <th>date</th>\n",
       "      <th>home_club_id</th>\n",
       "      <th>away_club_id</th>\n",
       "      <th>home_club_goals</th>\n",
       "      <th>away_club_goals</th>\n",
       "      <th>home_club_position</th>\n",
       "      <th>away_club_position</th>\n",
       "      <th>...</th>\n",
       "      <th>name</th>\n",
       "      <th>country_name</th>\n",
       "      <th>total_yellow_cards</th>\n",
       "      <th>total_red_cards</th>\n",
       "      <th>average_height_home_club</th>\n",
       "      <th>average_market_value_home_club</th>\n",
       "      <th>average_height_away_club</th>\n",
       "      <th>average_market_value_away_club</th>\n",
       "      <th>total_assists</th>\n",
       "      <th>total_goals</th>\n",
       "    </tr>\n",
       "  </thead>\n",
       "  <tbody>\n",
       "    <tr>\n",
       "      <th>0</th>\n",
       "      <td>2321044</td>\n",
       "      <td>L1</td>\n",
       "      <td>2013</td>\n",
       "      <td>2013-08-18</td>\n",
       "      <td>16</td>\n",
       "      <td>23</td>\n",
       "      <td>2</td>\n",
       "      <td>1</td>\n",
       "      <td>1</td>\n",
       "      <td>15</td>\n",
       "      <td>...</td>\n",
       "      <td>bundesliga</td>\n",
       "      <td>Germany</td>\n",
       "      <td>1.0</td>\n",
       "      <td>0.0</td>\n",
       "      <td>184.600000</td>\n",
       "      <td>7.843077e+06</td>\n",
       "      <td>182.15000</td>\n",
       "      <td>1.666667e+05</td>\n",
       "      <td>3.0</td>\n",
       "      <td>3.0</td>\n",
       "    </tr>\n",
       "    <tr>\n",
       "      <th>1</th>\n",
       "      <td>2321060</td>\n",
       "      <td>L1</td>\n",
       "      <td>2013</td>\n",
       "      <td>2013-08-25</td>\n",
       "      <td>23</td>\n",
       "      <td>24</td>\n",
       "      <td>0</td>\n",
       "      <td>2</td>\n",
       "      <td>18</td>\n",
       "      <td>11</td>\n",
       "      <td>...</td>\n",
       "      <td>bundesliga</td>\n",
       "      <td>Germany</td>\n",
       "      <td>3.0</td>\n",
       "      <td>0.0</td>\n",
       "      <td>182.150000</td>\n",
       "      <td>1.666667e+05</td>\n",
       "      <td>183.53271</td>\n",
       "      <td>2.441609e+06</td>\n",
       "      <td>1.0</td>\n",
       "      <td>2.0</td>\n",
       "    </tr>\n",
       "    <tr>\n",
       "      <th>2</th>\n",
       "      <td>2321086</td>\n",
       "      <td>L1</td>\n",
       "      <td>2013</td>\n",
       "      <td>2013-09-21</td>\n",
       "      <td>4</td>\n",
       "      <td>16</td>\n",
       "      <td>1</td>\n",
       "      <td>1</td>\n",
       "      <td>15</td>\n",
       "      <td>1</td>\n",
       "      <td>...</td>\n",
       "      <td>bundesliga</td>\n",
       "      <td>Germany</td>\n",
       "      <td>3.0</td>\n",
       "      <td>0.0</td>\n",
       "      <td>182.187500</td>\n",
       "      <td>3.324324e+05</td>\n",
       "      <td>184.60000</td>\n",
       "      <td>7.843077e+06</td>\n",
       "      <td>1.0</td>\n",
       "      <td>2.0</td>\n",
       "    </tr>\n",
       "    <tr>\n",
       "      <th>3</th>\n",
       "      <td>2321152</td>\n",
       "      <td>L1</td>\n",
       "      <td>2013</td>\n",
       "      <td>2013-11-02</td>\n",
       "      <td>44</td>\n",
       "      <td>33</td>\n",
       "      <td>0</td>\n",
       "      <td>2</td>\n",
       "      <td>7</td>\n",
       "      <td>6</td>\n",
       "      <td>...</td>\n",
       "      <td>bundesliga</td>\n",
       "      <td>Germany</td>\n",
       "      <td>4.0</td>\n",
       "      <td>0.0</td>\n",
       "      <td>184.031250</td>\n",
       "      <td>5.526812e+05</td>\n",
       "      <td>185.37931</td>\n",
       "      <td>5.754167e+05</td>\n",
       "      <td>2.0</td>\n",
       "      <td>2.0</td>\n",
       "    </tr>\n",
       "    <tr>\n",
       "      <th>4</th>\n",
       "      <td>2321205</td>\n",
       "      <td>L1</td>\n",
       "      <td>2013</td>\n",
       "      <td>2013-12-21</td>\n",
       "      <td>41</td>\n",
       "      <td>39</td>\n",
       "      <td>2</td>\n",
       "      <td>3</td>\n",
       "      <td>14</td>\n",
       "      <td>9</td>\n",
       "      <td>...</td>\n",
       "      <td>bundesliga</td>\n",
       "      <td>Germany</td>\n",
       "      <td>3.0</td>\n",
       "      <td>0.0</td>\n",
       "      <td>182.888889</td>\n",
       "      <td>4.302632e+05</td>\n",
       "      <td>184.12987</td>\n",
       "      <td>1.580357e+06</td>\n",
       "      <td>5.0</td>\n",
       "      <td>5.0</td>\n",
       "    </tr>\n",
       "  </tbody>\n",
       "</table>\n",
       "<p>5 rows × 39 columns</p>\n",
       "</div>"
      ],
      "text/plain": [
       "   game_id competition_id  season       date  home_club_id  away_club_id  \\\n",
       "0  2321044             L1    2013 2013-08-18            16            23   \n",
       "1  2321060             L1    2013 2013-08-25            23            24   \n",
       "2  2321086             L1    2013 2013-09-21             4            16   \n",
       "3  2321152             L1    2013 2013-11-02            44            33   \n",
       "4  2321205             L1    2013 2013-12-21            41            39   \n",
       "\n",
       "   home_club_goals  away_club_goals  home_club_position  away_club_position  \\\n",
       "0                2                1                   1                  15   \n",
       "1                0                2                  18                  11   \n",
       "2                1                1                  15                   1   \n",
       "3                0                2                   7                   6   \n",
       "4                2                3                  14                   9   \n",
       "\n",
       "   ...        name  country_name total_yellow_cards total_red_cards  \\\n",
       "0  ...  bundesliga       Germany                1.0             0.0   \n",
       "1  ...  bundesliga       Germany                3.0             0.0   \n",
       "2  ...  bundesliga       Germany                3.0             0.0   \n",
       "3  ...  bundesliga       Germany                4.0             0.0   \n",
       "4  ...  bundesliga       Germany                3.0             0.0   \n",
       "\n",
       "  average_height_home_club average_market_value_home_club  \\\n",
       "0               184.600000                   7.843077e+06   \n",
       "1               182.150000                   1.666667e+05   \n",
       "2               182.187500                   3.324324e+05   \n",
       "3               184.031250                   5.526812e+05   \n",
       "4               182.888889                   4.302632e+05   \n",
       "\n",
       "  average_height_away_club average_market_value_away_club total_assists  \\\n",
       "0                182.15000                   1.666667e+05           3.0   \n",
       "1                183.53271                   2.441609e+06           1.0   \n",
       "2                184.60000                   7.843077e+06           1.0   \n",
       "3                185.37931                   5.754167e+05           2.0   \n",
       "4                184.12987                   1.580357e+06           5.0   \n",
       "\n",
       "   total_goals  \n",
       "0          3.0  \n",
       "1          2.0  \n",
       "2          2.0  \n",
       "3          2.0  \n",
       "4          5.0  \n",
       "\n",
       "[5 rows x 39 columns]"
      ]
     },
     "metadata": {},
     "output_type": "display_data"
    }
   ],
   "source": [
    "master_df = merged_with_appearance_aggregates.copy()\n",
    "display(master_df.shape)\n",
    "display(master_df.head())\n",
    "\n",
    "# Write the master data frame to csv file\n",
    "master_df.to_csv(r\"../4. Outputs/master_csv.csv\",index = False)"
   ]
  },
  {
   "cell_type": "markdown",
   "id": "65910dcf",
   "metadata": {},
   "source": [
    "###### 8 -- Master Data Frame : Data Preprocessing & Cleaning"
   ]
  },
  {
   "cell_type": "markdown",
   "id": "b5fe07a7",
   "metadata": {},
   "source": [
    "###### 8.1 Inspect The Master Data Frame"
   ]
  },
  {
   "cell_type": "code",
   "execution_count": 567,
   "id": "f89f1390",
   "metadata": {
    "ExecuteTime": {
     "end_time": "2024-03-05T18:24:27.555015Z",
     "start_time": "2024-03-05T18:24:27.415910Z"
    }
   },
   "outputs": [
    {
     "data": {
      "text/plain": [
       "game_id                           46546\n",
       "competition_id                       14\n",
       "season                               12\n",
       "date                               2585\n",
       "home_club_id                        426\n",
       "away_club_id                        426\n",
       "home_club_goals                      11\n",
       "away_club_goals                      11\n",
       "home_club_position                   21\n",
       "away_club_position                   21\n",
       "stadium                             511\n",
       "attendance                        23540\n",
       "home_club_formation                  36\n",
       "away_club_formation                  35\n",
       "home_club_name                      426\n",
       "away_club_name                      426\n",
       "competition_type                      1\n",
       "home_club_strategy                    3\n",
       "away_club_strategy                    3\n",
       "club_id                             426\n",
       "domestic_competition_id              14\n",
       "average_age                          70\n",
       "stadium_seats                       380\n",
       "net_transfer_record                 276\n",
       "club_id_away                        426\n",
       "domestic_competition_id_away         14\n",
       "average_age_away                     70\n",
       "stadium_seats_away                  380\n",
       "net_transfer_record_away            276\n",
       "name                                 13\n",
       "country_name                         14\n",
       "total_yellow_cards                   16\n",
       "total_red_cards                       5\n",
       "average_height_home_club            406\n",
       "average_market_value_home_club      423\n",
       "average_height_away_club            406\n",
       "average_market_value_away_club      423\n",
       "total_assists                        12\n",
       "total_goals                          14\n",
       "dtype: int64"
      ]
     },
     "metadata": {},
     "output_type": "display_data"
    }
   ],
   "source": [
    "#display(master_df.describe(include=\"all\",datetime_is_numeric = True))\n",
    "display(master_df.nunique())"
   ]
  },
  {
   "cell_type": "markdown",
   "id": "c4881c1f",
   "metadata": {},
   "source": [
    "###### 8.2 Understand the Numerical, Categorical and Binary Variables"
   ]
  },
  {
   "cell_type": "code",
   "execution_count": 568,
   "id": "4c615706",
   "metadata": {
    "ExecuteTime": {
     "end_time": "2024-03-05T18:24:27.744709Z",
     "start_time": "2024-03-05T18:24:27.559031Z"
    }
   },
   "outputs": [
    {
     "name": "stdout",
     "output_type": "stream",
     "text": [
      "Numerical Variables: ['game_id', 'season', 'home_club_id', 'away_club_id', 'home_club_goals', 'away_club_goals', 'home_club_position', 'away_club_position', 'attendance', 'club_id', 'average_age', 'stadium_seats', 'net_transfer_record', 'club_id_away', 'average_age_away', 'stadium_seats_away', 'net_transfer_record_away', 'total_yellow_cards', 'total_red_cards', 'average_height_home_club', 'average_market_value_home_club', 'average_height_away_club', 'average_market_value_away_club', 'total_assists', 'total_goals']\n",
      "Categorical Variables: ['competition_id', 'stadium', 'home_club_formation', 'away_club_formation', 'home_club_name', 'away_club_name', 'competition_type', 'home_club_strategy', 'away_club_strategy', 'domestic_competition_id', 'domestic_competition_id_away', 'name', 'country_name']\n",
      "Binary Variables: []\n",
      "Total Number Of Numerical Variables: 25\n",
      "Total Number Of Categorical Variables: 13\n",
      "Total Number Of Binary Variables: 0\n"
     ]
    }
   ],
   "source": [
    "# Create lists to hold the names of each type of column\n",
    "numerical_variables = []\n",
    "categorical_variables = []\n",
    "binary_variables = []\n",
    "\n",
    "# Loop through the master_df columns to classify them\n",
    "for column_name in master_df.columns:\n",
    "    unique_vals = master_df[column_name].nunique()\n",
    "    data_type = master_df[column_name].dtype\n",
    "    \n",
    "    # Check for Binary\n",
    "    if unique_vals == 2 and data_type in ['int64', 'float64', 'bool']:\n",
    "        binary_variables.append(column_name)\n",
    "    \n",
    "    # Check for Numerical\n",
    "    elif data_type in ['int64', 'float64', 'int32', 'float32', 'int16', 'float16']:\n",
    "        numerical_variables.append(column_name)\n",
    "    \n",
    "    # Check for Categorical\n",
    "    elif data_type in ['object', 'category', 'int8', 'uint8']:\n",
    "        categorical_variables.append(column_name)\n",
    "\n",
    "print(\"Numerical Variables:\", numerical_variables)\n",
    "print(\"Categorical Variables:\", categorical_variables)\n",
    "print(\"Binary Variables:\", binary_variables)\n",
    "\n",
    "print(\"Total Number Of Numerical Variables:\", len(numerical_variables))\n",
    "print(\"Total Number Of Categorical Variables:\", len(categorical_variables))\n",
    "print(\"Total Number Of Binary Variables:\", len(binary_variables))"
   ]
  },
  {
   "cell_type": "markdown",
   "id": "432a23d1",
   "metadata": {},
   "source": [
    "###### 8.3 Inspect Null Values For Numerical Variables"
   ]
  },
  {
   "cell_type": "code",
   "execution_count": 569,
   "id": "778d6513",
   "metadata": {
    "ExecuteTime": {
     "end_time": "2024-03-05T18:24:27.772690Z",
     "start_time": "2024-03-05T18:24:27.748729Z"
    }
   },
   "outputs": [
    {
     "data": {
      "text/plain": [
       "game_id                              0\n",
       "season                               0\n",
       "home_club_id                         0\n",
       "away_club_id                         0\n",
       "home_club_goals                      0\n",
       "away_club_goals                      0\n",
       "home_club_position                   0\n",
       "away_club_position                   0\n",
       "attendance                           0\n",
       "club_id                              0\n",
       "average_age                       2167\n",
       "stadium_seats                        0\n",
       "net_transfer_record                  0\n",
       "club_id_away                         0\n",
       "average_age_away                  2168\n",
       "stadium_seats_away                   0\n",
       "net_transfer_record_away             0\n",
       "total_yellow_cards                  81\n",
       "total_red_cards                     81\n",
       "average_height_home_club            33\n",
       "average_market_value_home_club      33\n",
       "average_height_away_club            34\n",
       "average_market_value_away_club      34\n",
       "total_assists                       80\n",
       "total_goals                         80\n",
       "dtype: int64"
      ]
     },
     "metadata": {},
     "output_type": "display_data"
    }
   ],
   "source": [
    "display(master_df[numerical_variables].isnull().sum())\n",
    "\n",
    "# total_yellow_cards                81 [Needs further assessment]\n",
    "# total_red_cards                   81 [Needs further assessment]\n",
    "# average_height_home_club          33 [Needs further assessment]\n",
    "# average_market_value_home_club    33 [Needs further assessment]\n",
    "# average_height_away_club          34 [Needs further assessment]\n",
    "# average_market_value_away_club    34 [Needs further assessment]\n",
    "# total_assists                     80 [Needs further assessment]\n",
    "# total_goals                       80 [Needs further assessment]"
   ]
  },
  {
   "cell_type": "markdown",
   "id": "924b300a",
   "metadata": {},
   "source": [
    "###### 8.4 KNN (K - Nearest Neighbours Imputation Technique) [Numerical Variables : Null Values]"
   ]
  },
  {
   "cell_type": "code",
   "execution_count": 570,
   "id": "3cdf83e6",
   "metadata": {
    "ExecuteTime": {
     "end_time": "2024-03-05T18:24:29.302384Z",
     "start_time": "2024-03-05T18:24:27.775705Z"
    }
   },
   "outputs": [
    {
     "data": {
      "text/plain": [
       "game_id                              0\n",
       "season                               0\n",
       "home_club_id                         0\n",
       "away_club_id                         0\n",
       "home_club_goals                      0\n",
       "away_club_goals                      0\n",
       "home_club_position                   0\n",
       "away_club_position                   0\n",
       "attendance                           0\n",
       "club_id                              0\n",
       "average_age                       2167\n",
       "stadium_seats                        0\n",
       "net_transfer_record                  0\n",
       "club_id_away                         0\n",
       "average_age_away                  2168\n",
       "stadium_seats_away                   0\n",
       "net_transfer_record_away             0\n",
       "total_yellow_cards                   0\n",
       "total_red_cards                      0\n",
       "average_height_home_club             0\n",
       "average_market_value_home_club       0\n",
       "average_height_away_club             0\n",
       "average_market_value_away_club       0\n",
       "total_assists                        0\n",
       "total_goals                          0\n",
       "dtype: int64"
      ]
     },
     "metadata": {},
     "output_type": "display_data"
    }
   ],
   "source": [
    "from sklearn.impute import KNNImputer\n",
    "\n",
    "knn_imputer = KNNImputer(n_neighbors=5)\n",
    "desired_variables = [\n",
    "    'total_yellow_cards', \n",
    "    'total_red_cards', \n",
    "    'average_height_home_club',\n",
    "    'average_height_away_club', \n",
    "    'average_market_value_home_club',\n",
    "    'average_market_value_away_club', \n",
    "    'total_assists', \n",
    "    'total_goals'\n",
    "]\n",
    "\n",
    "master_df[desired_variables] = knn_imputer.fit_transform(master_df[desired_variables])\n",
    "display(master_df[numerical_variables].isnull().sum()) # Null Values Imputed Successfully"
   ]
  },
  {
   "cell_type": "markdown",
   "id": "b88b5e28",
   "metadata": {},
   "source": [
    "###### 8.5 Inspect Extreme Values For Numerical Variables"
   ]
  },
  {
   "cell_type": "code",
   "execution_count": 571,
   "id": "b6b50a43",
   "metadata": {
    "ExecuteTime": {
     "end_time": "2024-03-05T18:24:32.699385Z",
     "start_time": "2024-03-05T18:24:29.309022Z"
    }
   },
   "outputs": [
    {
     "data": {
      "image/png": "[encoded data removed]",
      "text/plain": [
       "<Figure size 2000x1500 with 8 Axes>"
      ]
     },
     "metadata": {},
     "output_type": "display_data"
    },
    {
     "data": {
      "text/plain": [
       "<Figure size 640x480 with 0 Axes>"
      ]
     },
     "metadata": {},
     "output_type": "display_data"
    }
   ],
   "source": [
    "# Set the aesthetics for the plots\n",
    "sns.set(style = \"whitegrid\")\n",
    "\n",
    "# List of numerical columns to plot\n",
    "numerical_columns = ['total_yellow_cards', 'total_red_cards', \n",
    "                     'average_height_home_club', 'average_height_away_club', \n",
    "                     'average_market_value_home_club', 'average_market_value_away_club', \n",
    "                     'total_assists', 'total_goals']\n",
    "\n",
    "# Plotting box plots for each numerical column\n",
    "plt.figure(figsize=(20, 15))\n",
    "\n",
    "for i, column in enumerate(numerical_columns, 1):\n",
    "    plt.subplot(3, 3, i)\n",
    "    sns.boxplot(data = master_df[column])\n",
    "    plt.title(column)\n",
    "\n",
    "plt.tight_layout()\n",
    "plt.show()\n",
    "plt.clf()"
   ]
  },
  {
   "cell_type": "markdown",
   "id": "2c92c424",
   "metadata": {},
   "source": [
    "###### 8.6 Analysis and Findings Regarding Outliers"
   ]
  },
  {
   "cell_type": "markdown",
   "id": "1e4af13f",
   "metadata": {},
   "source": [
    "###### Total Yellow Cards and Total Red Cards\n",
    "Both variables exhibit a significant number of outliers beyond the upper whiskers. This suggests that while most matches have few or no cards, there are matches with unusually high numbers of yellow and red cards, which could be due to particularly aggressive play or contentious matches.\n",
    "\n",
    "###### Average Height (Home and Away Clubs)\n",
    "The outliers in average height for both home and away clubs are minimal. The distribution appears quite tight around the median, indicating that most teams have similar average heights. The few outliers present might indicate teams with unusually tall or short players, but these deviations are not extreme.\n",
    "\n",
    "###### Average Market Value (Home and Away Clubs)\n",
    "There's a wide range of values with a significant number of outliers on the higher end for both home and away clubs. This indicates that while many clubs have moderate market values, there are several clubs with exceptionally high market values, possibly reflecting elite clubs with more valuable players.\n",
    "\n",
    "###### Total Assists and Total Goals\n",
    "Similar to the yellow and red cards, these variables have a considerable amount of data points considered outliers beyond the upper whiskers. This indicates matches with unusually high numbers of assists and goals, which could be due to one-sided matches or particularly effective offensive play."
   ]
  },
  {
   "cell_type": "markdown",
   "id": "a1cff617",
   "metadata": {},
   "source": [
    "###### 8.7 Inspect Null Values For Categorical Variables"
   ]
  },
  {
   "cell_type": "code",
   "execution_count": 572,
   "id": "8ebb60e1",
   "metadata": {
    "ExecuteTime": {
     "end_time": "2024-03-05T18:24:32.738701Z",
     "start_time": "2024-03-05T18:24:32.700398Z"
    }
   },
   "outputs": [
    {
     "data": {
      "text/plain": [
       "competition_id                  0\n",
       "stadium                         0\n",
       "home_club_formation             0\n",
       "away_club_formation             0\n",
       "home_club_name                  0\n",
       "away_club_name                  0\n",
       "competition_type                0\n",
       "home_club_strategy              0\n",
       "away_club_strategy              0\n",
       "domestic_competition_id         0\n",
       "domestic_competition_id_away    0\n",
       "name                            0\n",
       "country_name                    0\n",
       "dtype: int64"
      ]
     },
     "metadata": {},
     "output_type": "display_data"
    }
   ],
   "source": [
    "display(master_df[categorical_variables].isnull().sum()) # No Null Values Reported"
   ]
  },
  {
   "cell_type": "markdown",
   "id": "c4610aa5",
   "metadata": {},
   "source": [
    "###### 8.8 Inspect The Cleaned Master Data Frame and Convert to a CSV File"
   ]
  },
  {
   "cell_type": "code",
   "execution_count": 573,
   "id": "77ff1e4c",
   "metadata": {
    "ExecuteTime": {
     "end_time": "2024-03-05T18:26:31.269581Z",
     "start_time": "2024-03-05T18:26:28.068512Z"
    }
   },
   "outputs": [
    {
     "data": {
      "text/plain": [
       "(46546, 39)"
      ]
     },
     "metadata": {},
     "output_type": "display_data"
    },
    {
     "data": {
      "text/html": [
       "<div>\n",
       "<style scoped>\n",
       "    .dataframe tbody tr th:only-of-type {\n",
       "        vertical-align: middle;\n",
       "    }\n",
       "\n",
       "    .dataframe tbody tr th {\n",
       "        vertical-align: top;\n",
       "    }\n",
       "\n",
       "    .dataframe thead th {\n",
       "        text-align: right;\n",
       "    }\n",
       "</style>\n",
       "<table border=\"1\" class=\"dataframe\">\n",
       "  <thead>\n",
       "    <tr style=\"text-align: right;\">\n",
       "      <th></th>\n",
       "      <th>game_id</th>\n",
       "      <th>competition_id</th>\n",
       "      <th>season</th>\n",
       "      <th>date</th>\n",
       "      <th>home_club_id</th>\n",
       "      <th>away_club_id</th>\n",
       "      <th>home_club_goals</th>\n",
       "      <th>away_club_goals</th>\n",
       "      <th>home_club_position</th>\n",
       "      <th>away_club_position</th>\n",
       "      <th>...</th>\n",
       "      <th>name</th>\n",
       "      <th>country_name</th>\n",
       "      <th>total_yellow_cards</th>\n",
       "      <th>total_red_cards</th>\n",
       "      <th>average_height_home_club</th>\n",
       "      <th>average_market_value_home_club</th>\n",
       "      <th>average_height_away_club</th>\n",
       "      <th>average_market_value_away_club</th>\n",
       "      <th>total_assists</th>\n",
       "      <th>total_goals</th>\n",
       "    </tr>\n",
       "  </thead>\n",
       "  <tbody>\n",
       "    <tr>\n",
       "      <th>0</th>\n",
       "      <td>2321044</td>\n",
       "      <td>L1</td>\n",
       "      <td>2013</td>\n",
       "      <td>2013-08-18</td>\n",
       "      <td>16</td>\n",
       "      <td>23</td>\n",
       "      <td>2</td>\n",
       "      <td>1</td>\n",
       "      <td>1</td>\n",
       "      <td>15</td>\n",
       "      <td>...</td>\n",
       "      <td>bundesliga</td>\n",
       "      <td>Germany</td>\n",
       "      <td>1.0</td>\n",
       "      <td>0.0</td>\n",
       "      <td>184.600000</td>\n",
       "      <td>7.843077e+06</td>\n",
       "      <td>182.15000</td>\n",
       "      <td>1.666667e+05</td>\n",
       "      <td>3.0</td>\n",
       "      <td>3.0</td>\n",
       "    </tr>\n",
       "    <tr>\n",
       "      <th>1</th>\n",
       "      <td>2321060</td>\n",
       "      <td>L1</td>\n",
       "      <td>2013</td>\n",
       "      <td>2013-08-25</td>\n",
       "      <td>23</td>\n",
       "      <td>24</td>\n",
       "      <td>0</td>\n",
       "      <td>2</td>\n",
       "      <td>18</td>\n",
       "      <td>11</td>\n",
       "      <td>...</td>\n",
       "      <td>bundesliga</td>\n",
       "      <td>Germany</td>\n",
       "      <td>3.0</td>\n",
       "      <td>0.0</td>\n",
       "      <td>182.150000</td>\n",
       "      <td>1.666667e+05</td>\n",
       "      <td>183.53271</td>\n",
       "      <td>2.441609e+06</td>\n",
       "      <td>1.0</td>\n",
       "      <td>2.0</td>\n",
       "    </tr>\n",
       "    <tr>\n",
       "      <th>2</th>\n",
       "      <td>2321086</td>\n",
       "      <td>L1</td>\n",
       "      <td>2013</td>\n",
       "      <td>2013-09-21</td>\n",
       "      <td>4</td>\n",
       "      <td>16</td>\n",
       "      <td>1</td>\n",
       "      <td>1</td>\n",
       "      <td>15</td>\n",
       "      <td>1</td>\n",
       "      <td>...</td>\n",
       "      <td>bundesliga</td>\n",
       "      <td>Germany</td>\n",
       "      <td>3.0</td>\n",
       "      <td>0.0</td>\n",
       "      <td>182.187500</td>\n",
       "      <td>3.324324e+05</td>\n",
       "      <td>184.60000</td>\n",
       "      <td>7.843077e+06</td>\n",
       "      <td>1.0</td>\n",
       "      <td>2.0</td>\n",
       "    </tr>\n",
       "    <tr>\n",
       "      <th>3</th>\n",
       "      <td>2321152</td>\n",
       "      <td>L1</td>\n",
       "      <td>2013</td>\n",
       "      <td>2013-11-02</td>\n",
       "      <td>44</td>\n",
       "      <td>33</td>\n",
       "      <td>0</td>\n",
       "      <td>2</td>\n",
       "      <td>7</td>\n",
       "      <td>6</td>\n",
       "      <td>...</td>\n",
       "      <td>bundesliga</td>\n",
       "      <td>Germany</td>\n",
       "      <td>4.0</td>\n",
       "      <td>0.0</td>\n",
       "      <td>184.031250</td>\n",
       "      <td>5.526812e+05</td>\n",
       "      <td>185.37931</td>\n",
       "      <td>5.754167e+05</td>\n",
       "      <td>2.0</td>\n",
       "      <td>2.0</td>\n",
       "    </tr>\n",
       "    <tr>\n",
       "      <th>4</th>\n",
       "      <td>2321205</td>\n",
       "      <td>L1</td>\n",
       "      <td>2013</td>\n",
       "      <td>2013-12-21</td>\n",
       "      <td>41</td>\n",
       "      <td>39</td>\n",
       "      <td>2</td>\n",
       "      <td>3</td>\n",
       "      <td>14</td>\n",
       "      <td>9</td>\n",
       "      <td>...</td>\n",
       "      <td>bundesliga</td>\n",
       "      <td>Germany</td>\n",
       "      <td>3.0</td>\n",
       "      <td>0.0</td>\n",
       "      <td>182.888889</td>\n",
       "      <td>4.302632e+05</td>\n",
       "      <td>184.12987</td>\n",
       "      <td>1.580357e+06</td>\n",
       "      <td>5.0</td>\n",
       "      <td>5.0</td>\n",
       "    </tr>\n",
       "  </tbody>\n",
       "</table>\n",
       "<p>5 rows × 39 columns</p>\n",
       "</div>"
      ],
      "text/plain": [
       "   game_id competition_id  season       date  home_club_id  away_club_id  \\\n",
       "0  2321044             L1    2013 2013-08-18            16            23   \n",
       "1  2321060             L1    2013 2013-08-25            23            24   \n",
       "2  2321086             L1    2013 2013-09-21             4            16   \n",
       "3  2321152             L1    2013 2013-11-02            44            33   \n",
       "4  2321205             L1    2013 2013-12-21            41            39   \n",
       "\n",
       "   home_club_goals  away_club_goals  home_club_position  away_club_position  \\\n",
       "0                2                1                   1                  15   \n",
       "1                0                2                  18                  11   \n",
       "2                1                1                  15                   1   \n",
       "3                0                2                   7                   6   \n",
       "4                2                3                  14                   9   \n",
       "\n",
       "   ...        name  country_name total_yellow_cards total_red_cards  \\\n",
       "0  ...  bundesliga       Germany                1.0             0.0   \n",
       "1  ...  bundesliga       Germany                3.0             0.0   \n",
       "2  ...  bundesliga       Germany                3.0             0.0   \n",
       "3  ...  bundesliga       Germany                4.0             0.0   \n",
       "4  ...  bundesliga       Germany                3.0             0.0   \n",
       "\n",
       "  average_height_home_club average_market_value_home_club  \\\n",
       "0               184.600000                   7.843077e+06   \n",
       "1               182.150000                   1.666667e+05   \n",
       "2               182.187500                   3.324324e+05   \n",
       "3               184.031250                   5.526812e+05   \n",
       "4               182.888889                   4.302632e+05   \n",
       "\n",
       "  average_height_away_club average_market_value_away_club total_assists  \\\n",
       "0                182.15000                   1.666667e+05           3.0   \n",
       "1                183.53271                   2.441609e+06           1.0   \n",
       "2                184.60000                   7.843077e+06           1.0   \n",
       "3                185.37931                   5.754167e+05           2.0   \n",
       "4                184.12987                   1.580357e+06           5.0   \n",
       "\n",
       "   total_goals  \n",
       "0          3.0  \n",
       "1          2.0  \n",
       "2          2.0  \n",
       "3          2.0  \n",
       "4          5.0  \n",
       "\n",
       "[5 rows x 39 columns]"
      ]
     },
     "metadata": {},
     "output_type": "display_data"
    }
   ],
   "source": [
    "#display(master_df.isnull().sum())\n",
    "display(master_df.shape)\n",
    "display(master_df.head())\n",
    "#display(master_df.dtypes)\n",
    "\n",
    "# Write the master cleaned data frame to csv file\n",
    "master_cleaned = master_df.copy()\n",
    "master_cleaned.to_csv(r\"../4. Outputs/master_cleaned_csv.csv\", index=False)"
   ]
  },
  {
   "cell_type": "code",
   "execution_count": 478,
   "id": "0b6effaf",
   "metadata": {},
   "outputs": [
    {
     "data": {
      "text/html": [
       "<div>\n",
       "<style scoped>\n",
       "    .dataframe tbody tr th:only-of-type {\n",
       "        vertical-align: middle;\n",
       "    }\n",
       "\n",
       "    .dataframe tbody tr th {\n",
       "        vertical-align: top;\n",
       "    }\n",
       "\n",
       "    .dataframe thead th {\n",
       "        text-align: right;\n",
       "    }\n",
       "</style>\n",
       "<table border=\"1\" class=\"dataframe\">\n",
       "  <thead>\n",
       "    <tr style=\"text-align: right;\">\n",
       "      <th></th>\n",
       "      <th>game_id</th>\n",
       "      <th>competition_id</th>\n",
       "      <th>season</th>\n",
       "      <th>date</th>\n",
       "      <th>home_club_id</th>\n",
       "      <th>away_club_id</th>\n",
       "      <th>home_club_goals</th>\n",
       "      <th>away_club_goals</th>\n",
       "      <th>home_club_position</th>\n",
       "      <th>away_club_position</th>\n",
       "      <th>...</th>\n",
       "      <th>country_name</th>\n",
       "      <th>total_yellow_cards</th>\n",
       "      <th>total_red_cards</th>\n",
       "      <th>average_height_home_club</th>\n",
       "      <th>average_market_value_home_club</th>\n",
       "      <th>average_height_away_club</th>\n",
       "      <th>average_market_value_away_club</th>\n",
       "      <th>total_assists</th>\n",
       "      <th>total_goals</th>\n",
       "      <th>occupation_percentage</th>\n",
       "    </tr>\n",
       "  </thead>\n",
       "  <tbody>\n",
       "    <tr>\n",
       "      <th>0</th>\n",
       "      <td>2321044</td>\n",
       "      <td>L1</td>\n",
       "      <td>2013</td>\n",
       "      <td>2013-08-18</td>\n",
       "      <td>16</td>\n",
       "      <td>23</td>\n",
       "      <td>2</td>\n",
       "      <td>1</td>\n",
       "      <td>1</td>\n",
       "      <td>15</td>\n",
       "      <td>...</td>\n",
       "      <td>Germany</td>\n",
       "      <td>1.0</td>\n",
       "      <td>0.0</td>\n",
       "      <td>184.600000</td>\n",
       "      <td>7.843077e+06</td>\n",
       "      <td>182.15000</td>\n",
       "      <td>1.666667e+05</td>\n",
       "      <td>3.0</td>\n",
       "      <td>3.0</td>\n",
       "      <td>98.568180</td>\n",
       "    </tr>\n",
       "    <tr>\n",
       "      <th>1</th>\n",
       "      <td>2321060</td>\n",
       "      <td>L1</td>\n",
       "      <td>2013</td>\n",
       "      <td>2013-08-25</td>\n",
       "      <td>23</td>\n",
       "      <td>24</td>\n",
       "      <td>0</td>\n",
       "      <td>2</td>\n",
       "      <td>18</td>\n",
       "      <td>11</td>\n",
       "      <td>...</td>\n",
       "      <td>Germany</td>\n",
       "      <td>3.0</td>\n",
       "      <td>0.0</td>\n",
       "      <td>182.150000</td>\n",
       "      <td>1.666667e+05</td>\n",
       "      <td>183.53271</td>\n",
       "      <td>2.441609e+06</td>\n",
       "      <td>1.0</td>\n",
       "      <td>2.0</td>\n",
       "      <td>100.000000</td>\n",
       "    </tr>\n",
       "    <tr>\n",
       "      <th>2</th>\n",
       "      <td>2321086</td>\n",
       "      <td>L1</td>\n",
       "      <td>2013</td>\n",
       "      <td>2013-09-21</td>\n",
       "      <td>4</td>\n",
       "      <td>16</td>\n",
       "      <td>1</td>\n",
       "      <td>1</td>\n",
       "      <td>15</td>\n",
       "      <td>1</td>\n",
       "      <td>...</td>\n",
       "      <td>Germany</td>\n",
       "      <td>3.0</td>\n",
       "      <td>0.0</td>\n",
       "      <td>182.187500</td>\n",
       "      <td>3.324324e+05</td>\n",
       "      <td>184.60000</td>\n",
       "      <td>7.843077e+06</td>\n",
       "      <td>1.0</td>\n",
       "      <td>2.0</td>\n",
       "      <td>100.000000</td>\n",
       "    </tr>\n",
       "    <tr>\n",
       "      <th>3</th>\n",
       "      <td>2321152</td>\n",
       "      <td>L1</td>\n",
       "      <td>2013</td>\n",
       "      <td>2013-11-02</td>\n",
       "      <td>44</td>\n",
       "      <td>33</td>\n",
       "      <td>0</td>\n",
       "      <td>2</td>\n",
       "      <td>7</td>\n",
       "      <td>6</td>\n",
       "      <td>...</td>\n",
       "      <td>Germany</td>\n",
       "      <td>4.0</td>\n",
       "      <td>0.0</td>\n",
       "      <td>184.031250</td>\n",
       "      <td>5.526812e+05</td>\n",
       "      <td>185.37931</td>\n",
       "      <td>5.754167e+05</td>\n",
       "      <td>2.0</td>\n",
       "      <td>2.0</td>\n",
       "      <td>92.781282</td>\n",
       "    </tr>\n",
       "    <tr>\n",
       "      <th>4</th>\n",
       "      <td>2321205</td>\n",
       "      <td>L1</td>\n",
       "      <td>2013</td>\n",
       "      <td>2013-12-21</td>\n",
       "      <td>41</td>\n",
       "      <td>39</td>\n",
       "      <td>2</td>\n",
       "      <td>3</td>\n",
       "      <td>14</td>\n",
       "      <td>9</td>\n",
       "      <td>...</td>\n",
       "      <td>Germany</td>\n",
       "      <td>3.0</td>\n",
       "      <td>0.0</td>\n",
       "      <td>182.888889</td>\n",
       "      <td>4.302632e+05</td>\n",
       "      <td>184.12987</td>\n",
       "      <td>1.580357e+06</td>\n",
       "      <td>5.0</td>\n",
       "      <td>5.0</td>\n",
       "      <td>87.719298</td>\n",
       "    </tr>\n",
       "  </tbody>\n",
       "</table>\n",
       "<p>5 rows × 40 columns</p>\n",
       "</div>"
      ],
      "text/plain": [
       "   game_id competition_id  season       date  home_club_id  away_club_id  \\\n",
       "0  2321044             L1    2013 2013-08-18            16            23   \n",
       "1  2321060             L1    2013 2013-08-25            23            24   \n",
       "2  2321086             L1    2013 2013-09-21             4            16   \n",
       "3  2321152             L1    2013 2013-11-02            44            33   \n",
       "4  2321205             L1    2013 2013-12-21            41            39   \n",
       "\n",
       "   home_club_goals  away_club_goals  home_club_position  away_club_position  \\\n",
       "0                2                1                   1                  15   \n",
       "1                0                2                  18                  11   \n",
       "2                1                1                  15                   1   \n",
       "3                0                2                   7                   6   \n",
       "4                2                3                  14                   9   \n",
       "\n",
       "   ... country_name  total_yellow_cards total_red_cards  \\\n",
       "0  ...      Germany                 1.0             0.0   \n",
       "1  ...      Germany                 3.0             0.0   \n",
       "2  ...      Germany                 3.0             0.0   \n",
       "3  ...      Germany                 4.0             0.0   \n",
       "4  ...      Germany                 3.0             0.0   \n",
       "\n",
       "  average_height_home_club average_market_value_home_club  \\\n",
       "0               184.600000                   7.843077e+06   \n",
       "1               182.150000                   1.666667e+05   \n",
       "2               182.187500                   3.324324e+05   \n",
       "3               184.031250                   5.526812e+05   \n",
       "4               182.888889                   4.302632e+05   \n",
       "\n",
       "  average_height_away_club average_market_value_away_club total_assists  \\\n",
       "0                182.15000                   1.666667e+05           3.0   \n",
       "1                183.53271                   2.441609e+06           1.0   \n",
       "2                184.60000                   7.843077e+06           1.0   \n",
       "3                185.37931                   5.754167e+05           2.0   \n",
       "4                184.12987                   1.580357e+06           5.0   \n",
       "\n",
       "  total_goals  occupation_percentage  \n",
       "0         3.0              98.568180  \n",
       "1         2.0             100.000000  \n",
       "2         2.0             100.000000  \n",
       "3         2.0              92.781282  \n",
       "4         5.0              87.719298  \n",
       "\n",
       "[5 rows x 40 columns]"
      ]
     },
     "metadata": {},
     "output_type": "display_data"
    },
    {
     "data": {
      "text/plain": [
       "game_id                              0\n",
       "competition_id                       0\n",
       "season                               0\n",
       "date                                 0\n",
       "home_club_id                         0\n",
       "away_club_id                         0\n",
       "home_club_goals                      0\n",
       "away_club_goals                      0\n",
       "home_club_position                   0\n",
       "away_club_position                   0\n",
       "stadium                              0\n",
       "attendance                           0\n",
       "home_club_formation                  0\n",
       "away_club_formation                  0\n",
       "home_club_name                       0\n",
       "away_club_name                       0\n",
       "competition_type                     0\n",
       "home_club_strategy                   0\n",
       "away_club_strategy                   0\n",
       "club_id                              0\n",
       "domestic_competition_id              0\n",
       "average_age                       2167\n",
       "stadium_seats                        0\n",
       "net_transfer_record                  0\n",
       "club_id_away                         0\n",
       "domestic_competition_id_away         0\n",
       "average_age_away                  2168\n",
       "stadium_seats_away                   0\n",
       "net_transfer_record_away             0\n",
       "name                                 0\n",
       "country_name                         0\n",
       "total_yellow_cards                   0\n",
       "total_red_cards                      0\n",
       "average_height_home_club             0\n",
       "average_market_value_home_club       0\n",
       "average_height_away_club             0\n",
       "average_market_value_away_club       0\n",
       "total_assists                        0\n",
       "total_goals                          0\n",
       "occupation_percentage                0\n",
       "dtype: int64"
      ]
     },
     "metadata": {},
     "output_type": "display_data"
    },
    {
     "data": {
      "text/plain": [
       "(46546, 40)"
      ]
     },
     "metadata": {},
     "output_type": "display_data"
    }
   ],
   "source": [
    "display(master_cleaned.head())\n",
    "display(master_cleaned.isnull().sum()) \n",
    "# Average Age Null Values : [average_age 2167, average_age_away 2168]\n",
    "# display(master_cleaned.shape)"
   ]
  },
  {
   "cell_type": "markdown",
   "id": "27fb6735",
   "metadata": {},
   "source": [
    "###### 9.0 Feature Engineering For Home/Away Yellow/Red Cards"
   ]
  },
  {
   "cell_type": "code",
   "execution_count": 579,
   "id": "0af5877f",
   "metadata": {},
   "outputs": [
    {
     "data": {
      "text/plain": [
       "Index(['game_id', 'competition_id', 'season', 'date', 'home_club_id',\n",
       "       'away_club_id', 'home_club_goals', 'away_club_goals',\n",
       "       'home_club_position', 'away_club_position', 'stadium', 'attendance',\n",
       "       'home_club_formation', 'away_club_formation', 'home_club_name',\n",
       "       'away_club_name', 'competition_type', 'home_club_strategy',\n",
       "       'away_club_strategy', 'club_id', 'domestic_competition_id',\n",
       "       'average_age', 'stadium_seats', 'net_transfer_record', 'club_id_away',\n",
       "       'domestic_competition_id_away', 'average_age_away',\n",
       "       'stadium_seats_away', 'net_transfer_record_away', 'name',\n",
       "       'country_name', 'total_yellow_cards', 'total_red_cards',\n",
       "       'average_height_home_club', 'average_market_value_home_club',\n",
       "       'average_height_away_club', 'average_market_value_away_club',\n",
       "       'total_assists', 'total_goals'],\n",
       "      dtype='object')"
      ]
     },
     "metadata": {},
     "output_type": "display_data"
    },
    {
     "data": {
      "text/plain": [
       "Index(['game_event_id', 'game_id', 'club_id', 'player_id', 'minute', 'type',\n",
       "       'yellow_card', 'red_card'],\n",
       "      dtype='object')"
      ]
     },
     "metadata": {},
     "output_type": "display_data"
    },
    {
     "data": {
      "text/plain": [
       "(46546, 39)"
      ]
     },
     "metadata": {},
     "output_type": "display_data"
    },
    {
     "data": {
      "text/plain": [
       "(683511, 8)"
      ]
     },
     "metadata": {},
     "output_type": "display_data"
    }
   ],
   "source": [
    "display(master_cleaned.columns)\n",
    "display(events_cleaned.columns)\n",
    "display(master_cleaned.shape) # (46546, 39)\n",
    "display(events_cleaned.shape) # (683511, 8)"
   ]
  },
  {
   "cell_type": "code",
   "execution_count": 580,
   "id": "66f42308",
   "metadata": {},
   "outputs": [],
   "source": [
    "# Aggregate yellow and red cards for each game and club\n",
    "cards_aggregated = events_cleaned[events_cleaned['type'] == 'Cards'].groupby(['game_id','club_id']).agg(\n",
    "    yellow_cards = ('yellow_card','sum'),\n",
    "    red_cards = ('red_card','sum')\n",
    ").reset_index()\n",
    "\n",
    "# Prepare the aggregated cards data for merging by renaming columns for home and away clubs\n",
    "cards_home = cards_aggregated.rename(columns = {'club_id':'home_club_id','yellow_cards':'home_yellow_cards','red_cards':'home_red_cards'})\n",
    "cards_away = cards_aggregated.rename(columns = {'club_id':'away_club_id','yellow_cards':'away_yellow_cards','red_cards':'away_red_cards'})\n",
    "\n",
    "# Merge the aggregated cards data with the master data frame for home clubs\n",
    "master_merged_home = pd.merge(master_cleaned,cards_home,how = 'left',on = ['game_id','home_club_id'])\n",
    "\n",
    "# Merge the updated master data frame with the aggregated cards data for away clubs\n",
    "master_merged_final = pd.merge(master_merged_home,cards_away,how = 'left',on = ['game_id','away_club_id'])"
   ]
  },
  {
   "cell_type": "code",
   "execution_count": 585,
   "id": "93a93ad2",
   "metadata": {},
   "outputs": [
    {
     "data": {
      "text/html": [
       "<div>\n",
       "<style scoped>\n",
       "    .dataframe tbody tr th:only-of-type {\n",
       "        vertical-align: middle;\n",
       "    }\n",
       "\n",
       "    .dataframe tbody tr th {\n",
       "        vertical-align: top;\n",
       "    }\n",
       "\n",
       "    .dataframe thead th {\n",
       "        text-align: right;\n",
       "    }\n",
       "</style>\n",
       "<table border=\"1\" class=\"dataframe\">\n",
       "  <thead>\n",
       "    <tr style=\"text-align: right;\">\n",
       "      <th></th>\n",
       "      <th>game_id</th>\n",
       "      <th>competition_id</th>\n",
       "      <th>season</th>\n",
       "      <th>date</th>\n",
       "      <th>home_club_id</th>\n",
       "      <th>away_club_id</th>\n",
       "      <th>home_club_goals</th>\n",
       "      <th>away_club_goals</th>\n",
       "      <th>home_club_position</th>\n",
       "      <th>away_club_position</th>\n",
       "      <th>...</th>\n",
       "      <th>average_height_home_club</th>\n",
       "      <th>average_market_value_home_club</th>\n",
       "      <th>average_height_away_club</th>\n",
       "      <th>average_market_value_away_club</th>\n",
       "      <th>total_assists</th>\n",
       "      <th>total_goals</th>\n",
       "      <th>home_yellow_cards</th>\n",
       "      <th>home_red_cards</th>\n",
       "      <th>away_yellow_cards</th>\n",
       "      <th>away_red_cards</th>\n",
       "    </tr>\n",
       "  </thead>\n",
       "  <tbody>\n",
       "    <tr>\n",
       "      <th>0</th>\n",
       "      <td>2321044</td>\n",
       "      <td>L1</td>\n",
       "      <td>2013</td>\n",
       "      <td>2013-08-18</td>\n",
       "      <td>16</td>\n",
       "      <td>23</td>\n",
       "      <td>2</td>\n",
       "      <td>1</td>\n",
       "      <td>1</td>\n",
       "      <td>15</td>\n",
       "      <td>...</td>\n",
       "      <td>184.600000</td>\n",
       "      <td>7.843077e+06</td>\n",
       "      <td>182.15000</td>\n",
       "      <td>1.666667e+05</td>\n",
       "      <td>3.0</td>\n",
       "      <td>3.0</td>\n",
       "      <td>NaN</td>\n",
       "      <td>NaN</td>\n",
       "      <td>1.0</td>\n",
       "      <td>0.0</td>\n",
       "    </tr>\n",
       "    <tr>\n",
       "      <th>1</th>\n",
       "      <td>2321060</td>\n",
       "      <td>L1</td>\n",
       "      <td>2013</td>\n",
       "      <td>2013-08-25</td>\n",
       "      <td>23</td>\n",
       "      <td>24</td>\n",
       "      <td>0</td>\n",
       "      <td>2</td>\n",
       "      <td>18</td>\n",
       "      <td>11</td>\n",
       "      <td>...</td>\n",
       "      <td>182.150000</td>\n",
       "      <td>1.666667e+05</td>\n",
       "      <td>183.53271</td>\n",
       "      <td>2.441609e+06</td>\n",
       "      <td>1.0</td>\n",
       "      <td>2.0</td>\n",
       "      <td>2.0</td>\n",
       "      <td>0.0</td>\n",
       "      <td>1.0</td>\n",
       "      <td>0.0</td>\n",
       "    </tr>\n",
       "    <tr>\n",
       "      <th>2</th>\n",
       "      <td>2321086</td>\n",
       "      <td>L1</td>\n",
       "      <td>2013</td>\n",
       "      <td>2013-09-21</td>\n",
       "      <td>4</td>\n",
       "      <td>16</td>\n",
       "      <td>1</td>\n",
       "      <td>1</td>\n",
       "      <td>15</td>\n",
       "      <td>1</td>\n",
       "      <td>...</td>\n",
       "      <td>182.187500</td>\n",
       "      <td>3.324324e+05</td>\n",
       "      <td>184.60000</td>\n",
       "      <td>7.843077e+06</td>\n",
       "      <td>1.0</td>\n",
       "      <td>2.0</td>\n",
       "      <td>1.0</td>\n",
       "      <td>0.0</td>\n",
       "      <td>2.0</td>\n",
       "      <td>0.0</td>\n",
       "    </tr>\n",
       "    <tr>\n",
       "      <th>3</th>\n",
       "      <td>2321152</td>\n",
       "      <td>L1</td>\n",
       "      <td>2013</td>\n",
       "      <td>2013-11-02</td>\n",
       "      <td>44</td>\n",
       "      <td>33</td>\n",
       "      <td>0</td>\n",
       "      <td>2</td>\n",
       "      <td>7</td>\n",
       "      <td>6</td>\n",
       "      <td>...</td>\n",
       "      <td>184.031250</td>\n",
       "      <td>5.526812e+05</td>\n",
       "      <td>185.37931</td>\n",
       "      <td>5.754167e+05</td>\n",
       "      <td>2.0</td>\n",
       "      <td>2.0</td>\n",
       "      <td>3.0</td>\n",
       "      <td>0.0</td>\n",
       "      <td>1.0</td>\n",
       "      <td>0.0</td>\n",
       "    </tr>\n",
       "    <tr>\n",
       "      <th>4</th>\n",
       "      <td>2321205</td>\n",
       "      <td>L1</td>\n",
       "      <td>2013</td>\n",
       "      <td>2013-12-21</td>\n",
       "      <td>41</td>\n",
       "      <td>39</td>\n",
       "      <td>2</td>\n",
       "      <td>3</td>\n",
       "      <td>14</td>\n",
       "      <td>9</td>\n",
       "      <td>...</td>\n",
       "      <td>182.888889</td>\n",
       "      <td>4.302632e+05</td>\n",
       "      <td>184.12987</td>\n",
       "      <td>1.580357e+06</td>\n",
       "      <td>5.0</td>\n",
       "      <td>5.0</td>\n",
       "      <td>2.0</td>\n",
       "      <td>0.0</td>\n",
       "      <td>1.0</td>\n",
       "      <td>0.0</td>\n",
       "    </tr>\n",
       "  </tbody>\n",
       "</table>\n",
       "<p>5 rows × 43 columns</p>\n",
       "</div>"
      ],
      "text/plain": [
       "   game_id competition_id  season       date  home_club_id  away_club_id  \\\n",
       "0  2321044             L1    2013 2013-08-18            16            23   \n",
       "1  2321060             L1    2013 2013-08-25            23            24   \n",
       "2  2321086             L1    2013 2013-09-21             4            16   \n",
       "3  2321152             L1    2013 2013-11-02            44            33   \n",
       "4  2321205             L1    2013 2013-12-21            41            39   \n",
       "\n",
       "   home_club_goals  away_club_goals  home_club_position  away_club_position  \\\n",
       "0                2                1                   1                  15   \n",
       "1                0                2                  18                  11   \n",
       "2                1                1                  15                   1   \n",
       "3                0                2                   7                   6   \n",
       "4                2                3                  14                   9   \n",
       "\n",
       "   ... average_height_home_club  average_market_value_home_club  \\\n",
       "0  ...               184.600000                    7.843077e+06   \n",
       "1  ...               182.150000                    1.666667e+05   \n",
       "2  ...               182.187500                    3.324324e+05   \n",
       "3  ...               184.031250                    5.526812e+05   \n",
       "4  ...               182.888889                    4.302632e+05   \n",
       "\n",
       "  average_height_away_club average_market_value_away_club total_assists  \\\n",
       "0                182.15000                   1.666667e+05           3.0   \n",
       "1                183.53271                   2.441609e+06           1.0   \n",
       "2                184.60000                   7.843077e+06           1.0   \n",
       "3                185.37931                   5.754167e+05           2.0   \n",
       "4                184.12987                   1.580357e+06           5.0   \n",
       "\n",
       "  total_goals home_yellow_cards home_red_cards away_yellow_cards  \\\n",
       "0         3.0               NaN            NaN               1.0   \n",
       "1         2.0               2.0            0.0               1.0   \n",
       "2         2.0               1.0            0.0               2.0   \n",
       "3         2.0               3.0            0.0               1.0   \n",
       "4         5.0               2.0            0.0               1.0   \n",
       "\n",
       "   away_red_cards  \n",
       "0             0.0  \n",
       "1             0.0  \n",
       "2             0.0  \n",
       "3             0.0  \n",
       "4             0.0  \n",
       "\n",
       "[5 rows x 43 columns]"
      ]
     },
     "metadata": {},
     "output_type": "display_data"
    },
    {
     "data": {
      "text/plain": [
       "game_id                               0\n",
       "competition_id                        0\n",
       "season                                0\n",
       "date                                  0\n",
       "home_club_id                          0\n",
       "away_club_id                          0\n",
       "home_club_goals                       0\n",
       "away_club_goals                       0\n",
       "home_club_position                    0\n",
       "away_club_position                    0\n",
       "stadium                               0\n",
       "attendance                            0\n",
       "home_club_formation                   0\n",
       "away_club_formation                   0\n",
       "home_club_name                        0\n",
       "away_club_name                        0\n",
       "competition_type                      0\n",
       "home_club_strategy                    0\n",
       "away_club_strategy                    0\n",
       "club_id                               0\n",
       "domestic_competition_id               0\n",
       "average_age                        2167\n",
       "stadium_seats                         0\n",
       "net_transfer_record                   0\n",
       "club_id_away                          0\n",
       "domestic_competition_id_away          0\n",
       "average_age_away                   2168\n",
       "stadium_seats_away                    0\n",
       "net_transfer_record_away              0\n",
       "name                                  0\n",
       "country_name                          0\n",
       "total_yellow_cards                    0\n",
       "total_red_cards                       0\n",
       "average_height_home_club              0\n",
       "average_market_value_home_club        0\n",
       "average_height_away_club              0\n",
       "average_market_value_away_club        0\n",
       "total_assists                         0\n",
       "total_goals                           0\n",
       "home_yellow_cards                 37447\n",
       "home_red_cards                    37447\n",
       "away_yellow_cards                 36936\n",
       "away_red_cards                    36936\n",
       "dtype: int64"
      ]
     },
     "metadata": {},
     "output_type": "display_data"
    }
   ],
   "source": [
    "display(master_merged_final.head())\n",
    "display(master_merged_final.isnull().sum())\n",
    "# average_age                        2167\n",
    "# average_age_away                   2168\n",
    "# home_yellow_cards                 37447\n",
    "# home_red_cards                    37447\n",
    "# away_yellow_cards                 36936\n",
    "# away_red_cards                    36936"
   ]
  },
  {
   "cell_type": "markdown",
   "id": "f3c66d6a",
   "metadata": {},
   "source": [
    "Feature Engineering"
   ]
  },
  {
   "cell_type": "code",
   "execution_count": 458,
   "id": "b219190b",
   "metadata": {},
   "outputs": [
    {
     "data": {
      "text/plain": [
       "<Axes: >"
      ]
     },
     "execution_count": 458,
     "metadata": {},
     "output_type": "execute_result"
    },
    {
     "data": {
      "image/png": "[encoded data removed]",
      "text/plain": [
       "<Figure size 1000x600 with 2 Axes>"
      ]
     },
     "metadata": {},
     "output_type": "display_data"
    }
   ],
   "source": [
    "%matplotlib inline\n",
    "\n",
    "df = pd.DataFrame(master_cleaned)\n",
    "\n",
    "# calculate the percentage of occupation in a stadium\n",
    "df['occupation_percentage'] = (df['attendance'] / df['stadium_seats']) * 100\n",
    "\n",
    "# remove total_goals, total_assists since we have home/away_goals/assists.\n",
    "# remove attendance, stadium seats after there is occupation_percentage\n",
    "# remove stadium_seats_away + unnecessary/identical columns\n",
    "df = df.drop(columns=[\"total_goals\", \"total_assists\", \"attendance\", \"stadium_seats\",'stadium_seats_away', 'club_id_away'])\n",
    "\n",
    "# extract only the numeric columns from the df\n",
    "numeric_df = df.select_dtypes(\"number\")\n",
    "\n",
    "# keep only non-\"id\" columns\n",
    "columns_without_id = [col for col in numeric_df.columns if 'id' not in col]\n",
    "\n",
    "# extract non-\"id\" columns from the numeric_df\n",
    "filtered_df = numeric_df[columns_without_id]\n",
    "\n",
    "# get correlation matric from filtered_df\n",
    "numeric_columns_cor = filtered_df.corr()\n",
    "\n",
    "# Plotting\n",
    "plt.figure(figsize=(10,6))\n",
    "sns.heatmap(numeric_columns_cor, annot =True,annot_kws={\"fontsize\": 8}) #optimise the sizing of numbers\n"
   ]
  },
  {
   "cell_type": "code",
   "execution_count": 459,
   "id": "194eebc9",
   "metadata": {},
   "outputs": [],
   "source": [
    "# keep only the numerical part of home_club_formations, removing the strings\n",
    "df['home_club_formation'] = df['home_club_formation'].str.extract(r'(\\d+(?:-\\d+)+)', expand=False)# \\d pick only the digits, '+' means one or more occurances from the preciding digit pattern \n",
    "# (?:-\\d+) defines the capturing group, which means that we keep only the digits that are followed by \"-\"\n",
    "\n",
    "# keep only the numerical part of away_club_formations, removing the strings\n",
    "df['away_club_formation'] = df['away_club_formation'].str.extract(r'(\\d+(?:-\\d+)+)', expand=False)"
   ]
  },
  {
   "cell_type": "code",
   "execution_count": 460,
   "id": "9f15be26",
   "metadata": {},
   "outputs": [
    {
     "name": "stdout",
     "output_type": "stream",
     "text": [
      "Index(['game_id', 'competition_id', 'season', 'date', 'home_club_id',\n",
      "       'away_club_id', 'home_club_goals', 'away_club_goals',\n",
      "       'home_club_position', 'away_club_position', 'stadium',\n",
      "       'home_club_formation', 'away_club_formation', 'home_club_name',\n",
      "       'away_club_name', 'competition_type', 'home_club_strategy',\n",
      "       'away_club_strategy', 'club_id', 'domestic_competition_id',\n",
      "       'average_age', 'net_transfer_record', 'domestic_competition_id_away',\n",
      "       'average_age_away', 'net_transfer_record_away', 'name', 'country_name',\n",
      "       'total_yellow_cards', 'total_red_cards', 'average_height_home_club',\n",
      "       'average_market_value_home_club', 'average_height_away_club',\n",
      "       'average_market_value_away_club', 'occupation_percentage'],\n",
      "      dtype='object')\n"
     ]
    }
   ],
   "source": [
    "print(df.columns)"
   ]
  },
  {
   "cell_type": "code",
   "execution_count": 461,
   "id": "25352625",
   "metadata": {},
   "outputs": [],
   "source": [
    "# combine the desired rows into a new column\n",
    "df['combined_list'] = df.apply(lambda row: [row['home_club_formation'], str(row['home_club_goals'])], axis=1) #both features have to be in the same data type\n",
    "\n",
    "# transform that column into a list\n",
    "# a list of lists is the expected input from apriori library that will be used for association rule mining\n",
    "# its easier for association rule mining to look for patterns within lists, detecting the presence or absence of categorical items \n",
    "transactions = df['combined_list'].tolist()"
   ]
  },
  {
   "cell_type": "code",
   "execution_count": 462,
   "id": "958f31ee",
   "metadata": {
    "scrolled": false
   },
   "outputs": [],
   "source": [
    "#print(transactions)"
   ]
  },
  {
   "cell_type": "code",
   "execution_count": 463,
   "id": "fb263d1c",
   "metadata": {},
   "outputs": [
    {
     "name": "stdout",
     "output_type": "stream",
     "text": [
      "Requirement already satisfied: mlxtend in c:\\users\\lenovo\\anaconda3\\lib\\site-packages (0.23.1)\n",
      "Requirement already satisfied: matplotlib>=3.0.0 in c:\\users\\lenovo\\anaconda3\\lib\\site-packages (from mlxtend) (3.7.0)\n",
      "Requirement already satisfied: numpy>=1.16.2 in c:\\users\\lenovo\\anaconda3\\lib\\site-packages (from mlxtend) (1.23.5)\n",
      "Requirement already satisfied: scikit-learn>=1.0.2 in c:\\users\\lenovo\\anaconda3\\lib\\site-packages (from mlxtend) (1.2.1)\n",
      "Requirement already satisfied: joblib>=0.13.2 in c:\\users\\lenovo\\anaconda3\\lib\\site-packages (from mlxtend) (1.1.1)\n",
      "Requirement already satisfied: pandas>=0.24.2 in c:\\users\\lenovo\\anaconda3\\lib\\site-packages (from mlxtend) (1.5.3)\n",
      "Requirement already satisfied: scipy>=1.2.1 in c:\\users\\lenovo\\anaconda3\\lib\\site-packages (from mlxtend) (1.10.0)\n",
      "Requirement already satisfied: kiwisolver>=1.0.1 in c:\\users\\lenovo\\anaconda3\\lib\\site-packages (from matplotlib>=3.0.0->mlxtend) (1.4.4)\n",
      "Requirement already satisfied: python-dateutil>=2.7 in c:\\users\\lenovo\\anaconda3\\lib\\site-packages (from matplotlib>=3.0.0->mlxtend) (2.8.2)\n",
      "Requirement already satisfied: packaging>=20.0 in c:\\users\\lenovo\\anaconda3\\lib\\site-packages (from matplotlib>=3.0.0->mlxtend) (22.0)\n",
      "Requirement already satisfied: contourpy>=1.0.1 in c:\\users\\lenovo\\anaconda3\\lib\\site-packages (from matplotlib>=3.0.0->mlxtend) (1.0.5)\n",
      "Requirement already satisfied: cycler>=0.10 in c:\\users\\lenovo\\anaconda3\\lib\\site-packages (from matplotlib>=3.0.0->mlxtend) (0.11.0)\n",
      "Requirement already satisfied: fonttools>=4.22.0 in c:\\users\\lenovo\\anaconda3\\lib\\site-packages (from matplotlib>=3.0.0->mlxtend) (4.25.0)\n",
      "Requirement already satisfied: pillow>=6.2.0 in c:\\users\\lenovo\\anaconda3\\lib\\site-packages (from matplotlib>=3.0.0->mlxtend) (9.4.0)\n",
      "Requirement already satisfied: pyparsing>=2.3.1 in c:\\users\\lenovo\\anaconda3\\lib\\site-packages (from matplotlib>=3.0.0->mlxtend) (3.0.9)\n",
      "Requirement already satisfied: pytz>=2020.1 in c:\\users\\lenovo\\anaconda3\\lib\\site-packages (from pandas>=0.24.2->mlxtend) (2022.7)\n",
      "Requirement already satisfied: threadpoolctl>=2.0.0 in c:\\users\\lenovo\\anaconda3\\lib\\site-packages (from scikit-learn>=1.0.2->mlxtend) (2.2.0)\n",
      "Requirement already satisfied: six>=1.5 in c:\\users\\lenovo\\anaconda3\\lib\\site-packages (from python-dateutil>=2.7->matplotlib>=3.0.0->mlxtend) (1.16.0)\n",
      "Note: you may need to restart the kernel to use updated packages.\n"
     ]
    }
   ],
   "source": [
    "pip install mlxtend"
   ]
  },
  {
   "cell_type": "code",
   "execution_count": 464,
   "id": "2f303045",
   "metadata": {},
   "outputs": [
    {
     "name": "stdout",
     "output_type": "stream",
     "text": [
      "   antecedents consequents  antecedent support  consequent support   support  \\\n",
      "0      (3-5-2)         (0)            0.060521            0.234650  0.015447   \n",
      "1          (0)     (3-5-2)            0.234650            0.060521  0.015447   \n",
      "2    (4-1-4-1)         (0)            0.056804            0.234650  0.014308   \n",
      "3          (0)   (4-1-4-1)            0.234650            0.056804  0.014308   \n",
      "4    (4-2-3-1)         (0)            0.378550            0.234650  0.089890   \n",
      "5          (0)   (4-2-3-1)            0.234650            0.378550  0.089890   \n",
      "6          (0)     (4-3-3)            0.234650            0.197718  0.041572   \n",
      "7      (4-3-3)         (0)            0.197718            0.234650  0.041572   \n",
      "8          (0)     (4-4-2)            0.234650            0.141215  0.032720   \n",
      "9      (4-4-2)         (0)            0.141215            0.234650  0.032720   \n",
      "10   (3-4-2-1)         (1)            0.032634            0.323551  0.010807   \n",
      "11         (1)   (3-4-2-1)            0.323551            0.032634  0.010807   \n",
      "12     (3-5-2)         (1)            0.060521            0.323551  0.020174   \n",
      "13         (1)     (3-5-2)            0.323551            0.060521  0.020174   \n",
      "14   (4-1-4-1)         (1)            0.056804            0.323551  0.018949   \n",
      "15         (1)   (4-1-4-1)            0.323551            0.056804  0.018949   \n",
      "16   (4-2-3-1)         (1)            0.378550            0.323551  0.120397   \n",
      "17         (1)   (4-2-3-1)            0.323551            0.378550  0.120397   \n",
      "18     (4-3-3)         (1)            0.197718            0.323551  0.061294   \n",
      "19         (1)     (4-3-3)            0.323551            0.197718  0.061294   \n",
      "20     (4-4-2)         (1)            0.141215            0.323551  0.046728   \n",
      "21         (1)     (4-4-2)            0.323551            0.141215  0.046728   \n",
      "22         (2)     (3-5-2)            0.240923            0.060521  0.014394   \n",
      "23     (3-5-2)         (2)            0.060521            0.240923  0.014394   \n",
      "24   (4-1-4-1)         (2)            0.056804            0.240923  0.013256   \n",
      "25         (2)   (4-1-4-1)            0.240923            0.056804  0.013256   \n",
      "26         (2)   (4-2-3-1)            0.240923            0.378550  0.091974   \n",
      "27   (4-2-3-1)         (2)            0.378550            0.240923  0.091974   \n",
      "28         (2)     (4-3-3)            0.240923            0.197718  0.047716   \n",
      "29     (4-3-3)         (2)            0.197718            0.240923  0.047716   \n",
      "30         (2)     (4-4-2)            0.240923            0.141215  0.034482   \n",
      "31     (4-4-2)         (2)            0.141215            0.240923  0.034482   \n",
      "32   (4-2-3-1)         (3)            0.378550            0.122889  0.047630   \n",
      "33         (3)   (4-2-3-1)            0.122889            0.378550  0.047630   \n",
      "34         (3)     (4-3-3)            0.122889            0.197718  0.026447   \n",
      "35     (4-3-3)         (3)            0.197718            0.122889  0.026447   \n",
      "36         (3)     (4-4-2)            0.122889            0.141215  0.016693   \n",
      "37     (4-4-2)         (3)            0.141215            0.122889  0.016693   \n",
      "38   (4-2-3-1)         (4)            0.378550            0.050079  0.018562   \n",
      "39         (4)   (4-2-3-1)            0.050079            0.378550  0.018562   \n",
      "40         (4)     (4-3-3)            0.050079            0.197718  0.012719   \n",
      "41     (4-3-3)         (4)            0.197718            0.050079  0.012719   \n",
      "\n",
      "    confidence      lift  leverage  conviction  zhangs_metric  \n",
      "0     0.255236  1.087733  0.001246    1.027642       0.085852  \n",
      "1     0.065830  1.087733  0.001246    1.005684       0.105385  \n",
      "2     0.251891  1.073478  0.000979    1.023047       0.072570  \n",
      "3     0.060978  1.073478  0.000979    1.004445       0.089434  \n",
      "4     0.237457  1.011966  0.001063    1.003682       0.019027  \n",
      "5     0.383080  1.011966  0.001063    1.007343       0.015450  \n",
      "6     0.177165  0.896049 -0.004823    0.975022      -0.131627  \n",
      "7     0.210258  0.896049 -0.004823    0.969114      -0.126333  \n",
      "8     0.139443  0.987453 -0.000416    0.997941      -0.016331  \n",
      "9     0.231705  0.987453 -0.000416    0.996168      -0.014580  \n",
      "10    0.331139  1.023452  0.000248    1.011345       0.023688  \n",
      "11    0.033400  1.023452  0.000248    1.000792       0.033875  \n",
      "12    0.333333  1.030235  0.000592    1.014674       0.031238  \n",
      "13    0.062351  1.030235  0.000592    1.001951       0.043384  \n",
      "14    0.333585  1.031014  0.000570    1.015058       0.031893  \n",
      "15    0.058566  1.031014  0.000570    1.001871       0.044469  \n",
      "16    0.318048  0.982991 -0.002083    0.991930      -0.027089  \n",
      "17    0.372112  0.982991 -0.002083    0.989745      -0.024941  \n",
      "18    0.310008  0.958142 -0.002678    0.980372      -0.051641  \n",
      "19    0.189442  0.958142 -0.002678    0.989790      -0.060665  \n",
      "20    0.330899  1.022711  0.001038    1.010982       0.025858  \n",
      "21    0.144422  1.022711  0.001038    1.003749       0.032829  \n",
      "22    0.059747  0.987211 -0.000186    0.999177      -0.016781  \n",
      "23    0.237842  0.987211 -0.000186    0.995957      -0.013602  \n",
      "24    0.233359  0.968602 -0.000430    0.990133      -0.033226  \n",
      "25    0.055021  0.968602 -0.000430    0.998113      -0.040955  \n",
      "26    0.381755  1.008466  0.000772    1.005184       0.011059  \n",
      "27    0.242963  1.008466  0.000772    1.002694       0.013508  \n",
      "28    0.198056  1.001708  0.000081    1.000421       0.002246  \n",
      "29    0.241334  1.001708  0.000081    1.000542       0.002125  \n",
      "30    0.143125  1.013522  0.000460    1.002228       0.017576  \n",
      "31    0.244181  1.013522  0.000460    1.004310       0.015536  \n",
      "32    0.125823  1.023873  0.001111    1.003356       0.037519  \n",
      "33    0.387587  1.023873  0.001111    1.014757       0.026583  \n",
      "34    0.215210  1.088466  0.002150    1.022288       0.092663  \n",
      "35    0.133761  1.088466  0.002150    1.012550       0.101306  \n",
      "36    0.135839  0.961931 -0.000661    0.993779      -0.043173  \n",
      "37    0.118211  0.961931 -0.000661    0.994695      -0.044054  \n",
      "38    0.049035  0.979147 -0.000395    0.998902      -0.033134  \n",
      "39    0.370656  0.979147 -0.000395    0.987457      -0.021928  \n",
      "40    0.253968  1.284495  0.002817    1.075399       0.233160  \n",
      "41    0.064327  1.284495  0.002817    1.015227       0.276067  \n"
     ]
    }
   ],
   "source": [
    "from mlxtend.frequent_patterns import apriori, association_rules\n",
    "from mlxtend.preprocessing import TransactionEncoder\n",
    "\n",
    "# Instantiate the encoder and encode the data\n",
    "# One-hot encoding\n",
    "encoder = TransactionEncoder()\n",
    "transactions_encoded = encoder.fit(transactions).transform(transactions)\n",
    "\n",
    "# Convert the matrix into a DataFrame to manipulate the data\n",
    "df_encoded = pd.DataFrame(transactions_encoded, columns=encoder.columns_)\n",
    "\n",
    "# Apply the Apriori algorithm to find frequent itemsets\n",
    "# Adjust the min_support parameter that specifies how frequently an itemset appears in the dataset\n",
    "frequent_itemsets = apriori(df_encoded, min_support=0.01, use_colnames=True) \n",
    "\n",
    "# Generate association rules\n",
    "# Adjust the min_threshhold which is the minimum level of confidence\n",
    "rules = association_rules(frequent_itemsets, metric='confidence', min_threshold=0.01)\n",
    "\n",
    "# Display the rules\n",
    "print(rules)"
   ]
  },
  {
   "cell_type": "code",
   "execution_count": 465,
   "id": "9e57a502",
   "metadata": {},
   "outputs": [
    {
     "name": "stdout",
     "output_type": "stream",
     "text": [
      "antecedents            (4-3-3)\n",
      "consequents                (4)\n",
      "antecedent support    0.197718\n",
      "consequent support    0.050079\n",
      "support               0.012719\n",
      "confidence            0.064327\n",
      "lift                  1.284495\n",
      "leverage              0.002817\n",
      "conviction            1.015227\n",
      "zhangs_metric         0.276067\n",
      "Name: 41, dtype: object\n"
     ]
    }
   ],
   "source": [
    "# identifying the most significant rule based on zhangs_metric\n",
    "most_significant_rule = rules.loc[rules['zhangs_metric'].abs().idxmax()]\n",
    "\n",
    "# print the most significatnt rule\n",
    "print(most_significant_rule)\n"
   ]
  },
  {
   "cell_type": "markdown",
   "id": "3ed004ff",
   "metadata": {},
   "source": [
    "The \"4-3-3\" formation is used in 19.77% of matches, while scoring \"4\" goals in a match happens in about 5.01% of the games. The combined occurrence of using the \"4-3-3\" formation and scoring \"4\" goals is about 1.27%, suggesting this specific outcome is rare. Although there is a positive association between the \"4-3-3\" formation and scoring \"4\" goals, the overall strength and predictive power of this rule are relatively weak. The Zhang's metric reveal that this relatioship is significant."
   ]
  },
  {
   "cell_type": "code",
   "execution_count": 466,
   "id": "91b7b38b",
   "metadata": {},
   "outputs": [],
   "source": [
    "# splitting the formation into three columns(defenders,midfielders,attackers)\n",
    "def split_and_assign_positions(formation):\n",
    "    columns = formation.split('-')\n",
    "    if len(columns) == 4:  # If formation has 4 digits\n",
    "        defenders = int(columns[0])\n",
    "        midfielders = int(columns[1]) + int(columns[2])  # Combine the two median values of the formation into one column \n",
    "        attackers = int(columns[3])\n",
    "    elif len(columns) == 3:  # If formation has 3 digits\n",
    "        defenders = int(columns[0])\n",
    "        midfielders = int(columns[1])\n",
    "        attackers = int(columns[2])\n",
    "    return defenders, midfielders, attackers\n"
   ]
  },
  {
   "cell_type": "code",
   "execution_count": 467,
   "id": "8b3ff435",
   "metadata": {},
   "outputs": [],
   "source": [
    "# define the home defenders/midfielders/attackers\n",
    "df['home_defenders'], df['home_midfielders'], df['home_attackers'] = zip(*df['home_club_formation'].apply(split_and_assign_positions)) # zip to unpack the returned values"
   ]
  },
  {
   "cell_type": "code",
   "execution_count": 468,
   "id": "756da12e",
   "metadata": {},
   "outputs": [],
   "source": [
    "# define the away defenders/midfielders/attackers\n",
    "df['away_defenders'], df['away_midfielders'], df['away_attackers'] = zip(*df['away_club_formation'].apply(split_and_assign_positions)) # zip to unpack the returned values"
   ]
  },
  {
   "cell_type": "markdown",
   "id": "5deb5a70",
   "metadata": {},
   "source": [
    "This approach could create bias in the machine learning model because in the formations with 3 digits, the defensive and attacking midfielders are not directly specified in many cases to categorize them accordingly. Regarding the formations with 4 digits, we could specify the defensive and attacking midfielders by classifying the second digit into defensive midfielders and the third one into offensive midfielders. However, there is no information about the tactical approach of each team and hence it is not feasible to create distinct columns for the midfield.\n",
    "\n",
    "This approach is suitable in order to cluster the data and find patterns among the home-defenders/midfielders/attackers and the goals scored or goals conceded."
   ]
  },
  {
   "cell_type": "code",
   "execution_count": 469,
   "id": "659811d3",
   "metadata": {},
   "outputs": [
    {
     "name": "stdout",
     "output_type": "stream",
     "text": [
      "Index(['game_id', 'competition_id', 'season', 'date', 'home_club_id',\n",
      "       'away_club_id', 'home_club_goals', 'away_club_goals',\n",
      "       'home_club_position', 'away_club_position', 'stadium',\n",
      "       'home_club_formation', 'away_club_formation', 'home_club_name',\n",
      "       'away_club_name', 'competition_type', 'home_club_strategy',\n",
      "       'away_club_strategy', 'club_id', 'domestic_competition_id',\n",
      "       'average_age', 'net_transfer_record', 'domestic_competition_id_away',\n",
      "       'average_age_away', 'net_transfer_record_away', 'name', 'country_name',\n",
      "       'total_yellow_cards', 'total_red_cards', 'average_height_home_club',\n",
      "       'average_market_value_home_club', 'average_height_away_club',\n",
      "       'average_market_value_away_club', 'occupation_percentage',\n",
      "       'combined_list', 'home_defenders', 'home_midfielders', 'home_attackers',\n",
      "       'away_defenders', 'away_midfielders', 'away_attackers'],\n",
      "      dtype='object')\n"
     ]
    }
   ],
   "source": [
    "print(df.columns)"
   ]
  },
  {
   "cell_type": "code",
   "execution_count": 470,
   "id": "ee6e7e19",
   "metadata": {},
   "outputs": [],
   "source": [
    "model_df = df.drop(columns=['season','home_club_name','away_club_name','stadium','competition_type','home_club_formation','away_club_formation','club_id','domestic_competition_id','domestic_competition_id_away','name','country_name','total_yellow_cards','total_red_cards','combined_list', 'home_defenders', 'home_midfielders', 'home_attackers',\n",
    "       'away_defenders', 'away_midfielders', 'away_attackers'])"
   ]
  },
  {
   "cell_type": "code",
   "execution_count": 471,
   "id": "33e52d36",
   "metadata": {},
   "outputs": [],
   "source": [
    "model_df.rename(columns={'average_age': 'home_club_average_age',  'average_age_away':'away_club_average_age','net_transfer_record': 'home_club_net_transfer_record', 'net_transfer_record_away': 'away_club_net_transfer_record', 'average_height_home_club': 'home_club_average_height','average_market_value_home_club':'home_club_average_market_value', 'average_height_away_club': 'away_club_average_height', 'average_market_value_away_club': 'away_club_average_market_value','occupation_percentage': 'stadium_occupancy_percentage'}, inplace=True)"
   ]
  },
  {
   "cell_type": "code",
   "execution_count": 472,
   "id": "07e050aa",
   "metadata": {},
   "outputs": [
    {
     "name": "stdout",
     "output_type": "stream",
     "text": [
      "Index(['game_id', 'competition_id', 'date', 'home_club_id', 'away_club_id',\n",
      "       'home_club_goals', 'away_club_goals', 'home_club_position',\n",
      "       'away_club_position', 'home_club_strategy', 'away_club_strategy',\n",
      "       'home_club_average_age', 'home_club_net_transfer_record',\n",
      "       'away_club_average_age', 'away_club_net_transfer_record',\n",
      "       'home_club_average_height', 'home_club_average_market_value',\n",
      "       'away_club_average_height', 'away_club_average_market_value',\n",
      "       'stadium_occupancy_percentage'],\n",
      "      dtype='object')\n"
     ]
    }
   ],
   "source": [
    "print(model_df.columns)"
   ]
  },
  {
   "cell_type": "code",
   "execution_count": 473,
   "id": "a944b3e9",
   "metadata": {},
   "outputs": [],
   "source": [
    "from sklearn.model_selection import train_test_split\n",
    "\n",
    "# Split the data into train and test sets (80,20)\n",
    "train_model_df, test_model_df = train_test_split(model_df, test_size=0.2, random_state=42)\n",
    "\n",
    "# Save the train and test sets to CSV files\n",
    "#train_model_df.to_csv('train.csv', index=False)\n",
    "#test_model_df.to_csv('test.csv', index=False)"
   ]
  }
 ],
 "metadata": {
  "kernelspec": {
   "display_name": "Python 3 (ipykernel)",
   "language": "python",
   "name": "python3"
  },
  "language_info": {
   "codemirror_mode": {
    "name": "ipython",
    "version": 3
   },
   "file_extension": ".py",
   "mimetype": "text/x-python",
   "name": "python",
   "nbconvert_exporter": "python",
   "pygments_lexer": "ipython3",
   "version": "3.10.9"
  }
 },
 "nbformat": 4,
 "nbformat_minor": 5
}
