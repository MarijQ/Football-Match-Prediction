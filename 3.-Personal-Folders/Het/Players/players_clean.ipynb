{
 "cells": [
  {
   "cell_type": "code",
   "execution_count": 104,
   "metadata": {
    "ExecuteTime": {
     "end_time": "2024-02-17T14:54:40.079091100Z",
     "start_time": "2024-02-17T14:54:39.722295500Z"
    }
   },
   "outputs": [],
   "source": [
    "import pandas as pd\n",
    "df = pd.read_csv(\"../../../1. Input/players.csv\")"
   ]
  },
  {
   "cell_type": "code",
   "execution_count": 105,
   "metadata": {
    "ExecuteTime": {
     "end_time": "2024-02-17T14:54:40.139119500Z",
     "start_time": "2024-02-17T14:54:39.938166600Z"
    }
   },
   "outputs": [],
   "source": [
    "# pip install unidecode"
   ]
  },
  {
   "cell_type": "code",
   "execution_count": 106,
   "metadata": {
    "ExecuteTime": {
     "end_time": "2024-02-17T14:54:40.172118Z",
     "start_time": "2024-02-17T14:54:40.081091800Z"
    }
   },
   "outputs": [
    {
     "data": {
      "text/plain": "player_id                                   0\nfirst_name                               1980\nlast_name                                   0\nname                                        0\nlast_season                                 0\ncurrent_club_id                             0\nplayer_code                                 0\ncountry_of_birth                         2696\ncity_of_birth                            2190\ncountry_of_citizenship                    560\ndate_of_birth                              46\nsub_position                              174\nposition                                    0\nfoot                                     2376\nheight_in_cm                             2084\ncontract_expiration_date                11451\nagent_name                              15352\nimage_url                                   0\nurl                                         0\ncurrent_club_domestic_competition_id        0\ncurrent_club_name                           0\nmarket_value_in_eur                      1122\nhighest_market_value_in_eur              1122\ndtype: int64"
     },
     "execution_count": 106,
     "metadata": {},
     "output_type": "execute_result"
    }
   ],
   "source": [
    "#Finding the null_vals in the dataset\n",
    "miss_val = df.isnull().sum()\n",
    "miss_val"
   ]
  },
  {
   "cell_type": "code",
   "execution_count": 107,
   "metadata": {
    "ExecuteTime": {
     "end_time": "2024-02-17T14:54:40.270993400Z",
     "start_time": "2024-02-17T14:54:40.175120300Z"
    }
   },
   "outputs": [
    {
     "data": {
      "text/plain": "       player_id  first_name     last_name                 name  last_season  \\\n0             10    Miroslav         Klose       Miroslav Klose         2015   \n1             26       Roman  Weidenfeller   Roman Weidenfeller         2017   \n2             65     Dimitar      Berbatov     Dimitar Berbatov         2015   \n4             80         Tom        Starke           Tom Starke         2017   \n6            123   Christoph     Metzelder  Christoph Metzelder         2012   \n...          ...         ...           ...                  ...          ...   \n30414    1176866       Motez       Nourani        Motez Nourani         2023   \n30415    1178474      Amadou          Koné          Amadou Koné         2023   \n30416    1186012      Bakary       Haidara       Bakary Haidara         2023   \n30417    1187799  Franciszek      Franczak  Franciszek Franczak         2023   \n30418    1225269       Erdem         Çalık          Erdem Çalık         2023   \n\n       current_club_id          player_code    country_of_birth city_of_birth  \\\n0                  398       miroslav-klose              Poland         Opole   \n1                   16   roman-weidenfeller             Germany          Diez   \n2                 1091     dimitar-berbatov            Bulgaria   Blagoevgrad   \n4                   27           tom-starke  East Germany (GDR)       Freital   \n6                   33  christoph-metzelder             Germany       Haltern   \n...                ...                  ...                 ...           ...   \n30414             3840        motez-nourani             Tunisia        Sousse   \n30415             1421          amadou-kone                Mali        Bamako   \n30416              968       bakary-haidara                 NaN           NaN   \n30417             2578  franciszek-franczak              Poland      Limanowa   \n30418             3209          erdem-calik              Turkey      Istanbul   \n\n      country_of_citizenship  ...   foot height_in_cm  \\\n0                    Germany  ...  right        184.0   \n1                    Germany  ...   left        190.0   \n2                   Bulgaria  ...    NaN          NaN   \n4                    Germany  ...  right        194.0   \n6                    Germany  ...    NaN          NaN   \n...                      ...  ...    ...          ...   \n30414                Tunisia  ...  right          NaN   \n30415          Cote d'Ivoire  ...    NaN          NaN   \n30416          Cote d'Ivoire  ...  right          NaN   \n30417                 Poland  ...  right        173.0   \n30418                 Turkey  ...  right          NaN   \n\n      contract_expiration_date            agent_name  \\\n0                          NaN  ASBW Sport Marketing   \n1                          NaN      Neubauer 13 GmbH   \n2                          NaN       CSKA-AS-23 Ltd.   \n4                          NaN                   IFM   \n6                          NaN                   NaN   \n...                        ...                   ...   \n30414      2026-06-30 00:00:00     PROhorizons Group   \n30415                      NaN             Rudy Raba   \n30416      2026-06-30 00:00:00                   NaN   \n30417                      NaN                   NaN   \n30418      2026-06-30 00:00:00                   NaN   \n\n                                               image_url  \\\n0      https://img.a.transfermarkt.technology/portrai...   \n1      https://img.a.transfermarkt.technology/portrai...   \n2      https://img.a.transfermarkt.technology/portrai...   \n4      https://img.a.transfermarkt.technology/portrai...   \n6      https://img.a.transfermarkt.technology/portrai...   \n...                                                  ...   \n30414  https://img.a.transfermarkt.technology/portrai...   \n30415  https://img.a.transfermarkt.technology/portrai...   \n30416  https://img.a.transfermarkt.technology/portrai...   \n30417  https://img.a.transfermarkt.technology/portrai...   \n30418  https://img.a.transfermarkt.technology/portrai...   \n\n                                                     url  \\\n0      https://www.transfermarkt.co.uk/miroslav-klose...   \n1      https://www.transfermarkt.co.uk/roman-weidenfe...   \n2      https://www.transfermarkt.co.uk/dimitar-berbat...   \n4      https://www.transfermarkt.co.uk/tom-starke/pro...   \n6      https://www.transfermarkt.co.uk/christoph-metz...   \n...                                                  ...   \n30414  https://www.transfermarkt.co.uk/motez-nourani/...   \n30415  https://www.transfermarkt.co.uk/amadou-kone/pr...   \n30416  https://www.transfermarkt.co.uk/bakary-haidara...   \n30417  https://www.transfermarkt.co.uk/franciszek-fra...   \n30418  https://www.transfermarkt.co.uk/erdem-calik/pr...   \n\n      current_club_domestic_competition_id  \\\n0                                      IT1   \n1                                       L1   \n2                                      GR1   \n4                                       L1   \n6                                       L1   \n...                                    ...   \n30414                                  TR1   \n30415                                  FR1   \n30416                                  BE1   \n30417                                  SC1   \n30418                                  TR1   \n\n                                       current_club_name market_value_in_eur  \\\n0                          Società Sportiva Lazio S.p.A.           1000000.0   \n1                                      Borussia Dortmund            750000.0   \n2      Panthessalonikios Athlitikos Omilos Konstantin...           1000000.0   \n4                                      FC Bayern München            100000.0   \n6                                          FC Schalke 04           1500000.0   \n...                                                  ...                 ...   \n30414                             Adana Demirspor Kulübü            250000.0   \n30415                                     Stade de Reims             50000.0   \n30416                  Koninklijke Voetbal Club Westerlo            350000.0   \n30417                      Saint Johnstone Football Club             75000.0   \n30418                                         Pendikspor             50000.0   \n\n      highest_market_value_in_eur  \n0                      30000000.0  \n1                       8000000.0  \n2                      34500000.0  \n4                       3000000.0  \n6                       9500000.0  \n...                           ...  \n30414                    250000.0  \n30415                     50000.0  \n30416                    350000.0  \n30417                     75000.0  \n30418                     50000.0  \n\n[28439 rows x 23 columns]",
      "text/html": "<div>\n<style scoped>\n    .dataframe tbody tr th:only-of-type {\n        vertical-align: middle;\n    }\n\n    .dataframe tbody tr th {\n        vertical-align: top;\n    }\n\n    .dataframe thead th {\n        text-align: right;\n    }\n</style>\n<table border=\"1\" class=\"dataframe\">\n  <thead>\n    <tr style=\"text-align: right;\">\n      <th></th>\n      <th>player_id</th>\n      <th>first_name</th>\n      <th>last_name</th>\n      <th>name</th>\n      <th>last_season</th>\n      <th>current_club_id</th>\n      <th>player_code</th>\n      <th>country_of_birth</th>\n      <th>city_of_birth</th>\n      <th>country_of_citizenship</th>\n      <th>...</th>\n      <th>foot</th>\n      <th>height_in_cm</th>\n      <th>contract_expiration_date</th>\n      <th>agent_name</th>\n      <th>image_url</th>\n      <th>url</th>\n      <th>current_club_domestic_competition_id</th>\n      <th>current_club_name</th>\n      <th>market_value_in_eur</th>\n      <th>highest_market_value_in_eur</th>\n    </tr>\n  </thead>\n  <tbody>\n    <tr>\n      <th>0</th>\n      <td>10</td>\n      <td>Miroslav</td>\n      <td>Klose</td>\n      <td>Miroslav Klose</td>\n      <td>2015</td>\n      <td>398</td>\n      <td>miroslav-klose</td>\n      <td>Poland</td>\n      <td>Opole</td>\n      <td>Germany</td>\n      <td>...</td>\n      <td>right</td>\n      <td>184.0</td>\n      <td>NaN</td>\n      <td>ASBW Sport Marketing</td>\n      <td>https://img.a.transfermarkt.technology/portrai...</td>\n      <td>https://www.transfermarkt.co.uk/miroslav-klose...</td>\n      <td>IT1</td>\n      <td>Società Sportiva Lazio S.p.A.</td>\n      <td>1000000.0</td>\n      <td>30000000.0</td>\n    </tr>\n    <tr>\n      <th>1</th>\n      <td>26</td>\n      <td>Roman</td>\n      <td>Weidenfeller</td>\n      <td>Roman Weidenfeller</td>\n      <td>2017</td>\n      <td>16</td>\n      <td>roman-weidenfeller</td>\n      <td>Germany</td>\n      <td>Diez</td>\n      <td>Germany</td>\n      <td>...</td>\n      <td>left</td>\n      <td>190.0</td>\n      <td>NaN</td>\n      <td>Neubauer 13 GmbH</td>\n      <td>https://img.a.transfermarkt.technology/portrai...</td>\n      <td>https://www.transfermarkt.co.uk/roman-weidenfe...</td>\n      <td>L1</td>\n      <td>Borussia Dortmund</td>\n      <td>750000.0</td>\n      <td>8000000.0</td>\n    </tr>\n    <tr>\n      <th>2</th>\n      <td>65</td>\n      <td>Dimitar</td>\n      <td>Berbatov</td>\n      <td>Dimitar Berbatov</td>\n      <td>2015</td>\n      <td>1091</td>\n      <td>dimitar-berbatov</td>\n      <td>Bulgaria</td>\n      <td>Blagoevgrad</td>\n      <td>Bulgaria</td>\n      <td>...</td>\n      <td>NaN</td>\n      <td>NaN</td>\n      <td>NaN</td>\n      <td>CSKA-AS-23 Ltd.</td>\n      <td>https://img.a.transfermarkt.technology/portrai...</td>\n      <td>https://www.transfermarkt.co.uk/dimitar-berbat...</td>\n      <td>GR1</td>\n      <td>Panthessalonikios Athlitikos Omilos Konstantin...</td>\n      <td>1000000.0</td>\n      <td>34500000.0</td>\n    </tr>\n    <tr>\n      <th>4</th>\n      <td>80</td>\n      <td>Tom</td>\n      <td>Starke</td>\n      <td>Tom Starke</td>\n      <td>2017</td>\n      <td>27</td>\n      <td>tom-starke</td>\n      <td>East Germany (GDR)</td>\n      <td>Freital</td>\n      <td>Germany</td>\n      <td>...</td>\n      <td>right</td>\n      <td>194.0</td>\n      <td>NaN</td>\n      <td>IFM</td>\n      <td>https://img.a.transfermarkt.technology/portrai...</td>\n      <td>https://www.transfermarkt.co.uk/tom-starke/pro...</td>\n      <td>L1</td>\n      <td>FC Bayern München</td>\n      <td>100000.0</td>\n      <td>3000000.0</td>\n    </tr>\n    <tr>\n      <th>6</th>\n      <td>123</td>\n      <td>Christoph</td>\n      <td>Metzelder</td>\n      <td>Christoph Metzelder</td>\n      <td>2012</td>\n      <td>33</td>\n      <td>christoph-metzelder</td>\n      <td>Germany</td>\n      <td>Haltern</td>\n      <td>Germany</td>\n      <td>...</td>\n      <td>NaN</td>\n      <td>NaN</td>\n      <td>NaN</td>\n      <td>NaN</td>\n      <td>https://img.a.transfermarkt.technology/portrai...</td>\n      <td>https://www.transfermarkt.co.uk/christoph-metz...</td>\n      <td>L1</td>\n      <td>FC Schalke 04</td>\n      <td>1500000.0</td>\n      <td>9500000.0</td>\n    </tr>\n    <tr>\n      <th>...</th>\n      <td>...</td>\n      <td>...</td>\n      <td>...</td>\n      <td>...</td>\n      <td>...</td>\n      <td>...</td>\n      <td>...</td>\n      <td>...</td>\n      <td>...</td>\n      <td>...</td>\n      <td>...</td>\n      <td>...</td>\n      <td>...</td>\n      <td>...</td>\n      <td>...</td>\n      <td>...</td>\n      <td>...</td>\n      <td>...</td>\n      <td>...</td>\n      <td>...</td>\n      <td>...</td>\n    </tr>\n    <tr>\n      <th>30414</th>\n      <td>1176866</td>\n      <td>Motez</td>\n      <td>Nourani</td>\n      <td>Motez Nourani</td>\n      <td>2023</td>\n      <td>3840</td>\n      <td>motez-nourani</td>\n      <td>Tunisia</td>\n      <td>Sousse</td>\n      <td>Tunisia</td>\n      <td>...</td>\n      <td>right</td>\n      <td>NaN</td>\n      <td>2026-06-30 00:00:00</td>\n      <td>PROhorizons Group</td>\n      <td>https://img.a.transfermarkt.technology/portrai...</td>\n      <td>https://www.transfermarkt.co.uk/motez-nourani/...</td>\n      <td>TR1</td>\n      <td>Adana Demirspor Kulübü</td>\n      <td>250000.0</td>\n      <td>250000.0</td>\n    </tr>\n    <tr>\n      <th>30415</th>\n      <td>1178474</td>\n      <td>Amadou</td>\n      <td>Koné</td>\n      <td>Amadou Koné</td>\n      <td>2023</td>\n      <td>1421</td>\n      <td>amadou-kone</td>\n      <td>Mali</td>\n      <td>Bamako</td>\n      <td>Cote d'Ivoire</td>\n      <td>...</td>\n      <td>NaN</td>\n      <td>NaN</td>\n      <td>NaN</td>\n      <td>Rudy Raba</td>\n      <td>https://img.a.transfermarkt.technology/portrai...</td>\n      <td>https://www.transfermarkt.co.uk/amadou-kone/pr...</td>\n      <td>FR1</td>\n      <td>Stade de Reims</td>\n      <td>50000.0</td>\n      <td>50000.0</td>\n    </tr>\n    <tr>\n      <th>30416</th>\n      <td>1186012</td>\n      <td>Bakary</td>\n      <td>Haidara</td>\n      <td>Bakary Haidara</td>\n      <td>2023</td>\n      <td>968</td>\n      <td>bakary-haidara</td>\n      <td>NaN</td>\n      <td>NaN</td>\n      <td>Cote d'Ivoire</td>\n      <td>...</td>\n      <td>right</td>\n      <td>NaN</td>\n      <td>2026-06-30 00:00:00</td>\n      <td>NaN</td>\n      <td>https://img.a.transfermarkt.technology/portrai...</td>\n      <td>https://www.transfermarkt.co.uk/bakary-haidara...</td>\n      <td>BE1</td>\n      <td>Koninklijke Voetbal Club Westerlo</td>\n      <td>350000.0</td>\n      <td>350000.0</td>\n    </tr>\n    <tr>\n      <th>30417</th>\n      <td>1187799</td>\n      <td>Franciszek</td>\n      <td>Franczak</td>\n      <td>Franciszek Franczak</td>\n      <td>2023</td>\n      <td>2578</td>\n      <td>franciszek-franczak</td>\n      <td>Poland</td>\n      <td>Limanowa</td>\n      <td>Poland</td>\n      <td>...</td>\n      <td>right</td>\n      <td>173.0</td>\n      <td>NaN</td>\n      <td>NaN</td>\n      <td>https://img.a.transfermarkt.technology/portrai...</td>\n      <td>https://www.transfermarkt.co.uk/franciszek-fra...</td>\n      <td>SC1</td>\n      <td>Saint Johnstone Football Club</td>\n      <td>75000.0</td>\n      <td>75000.0</td>\n    </tr>\n    <tr>\n      <th>30418</th>\n      <td>1225269</td>\n      <td>Erdem</td>\n      <td>Çalık</td>\n      <td>Erdem Çalık</td>\n      <td>2023</td>\n      <td>3209</td>\n      <td>erdem-calik</td>\n      <td>Turkey</td>\n      <td>Istanbul</td>\n      <td>Turkey</td>\n      <td>...</td>\n      <td>right</td>\n      <td>NaN</td>\n      <td>2026-06-30 00:00:00</td>\n      <td>NaN</td>\n      <td>https://img.a.transfermarkt.technology/portrai...</td>\n      <td>https://www.transfermarkt.co.uk/erdem-calik/pr...</td>\n      <td>TR1</td>\n      <td>Pendikspor</td>\n      <td>50000.0</td>\n      <td>50000.0</td>\n    </tr>\n  </tbody>\n</table>\n<p>28439 rows × 23 columns</p>\n</div>"
     },
     "execution_count": 107,
     "metadata": {},
     "output_type": "execute_result"
    }
   ],
   "source": [
    "#drop rows with missing values for 'first_name'\n",
    "df = df.dropna(subset=['first_name'])\n",
    "df"
   ]
  },
  {
   "cell_type": "code",
   "execution_count": 108,
   "metadata": {
    "ExecuteTime": {
     "end_time": "2024-02-17T14:54:40.271992500Z",
     "start_time": "2024-02-17T14:54:40.219708100Z"
    }
   },
   "outputs": [
    {
     "data": {
      "text/plain": "0          Miroslav\n1             Roman\n2           Dimitar\n4               Tom\n6         Christoph\n            ...    \n30414         Motez\n30415        Amadou\n30416        Bakary\n30417    Franciszek\n30418         Erdem\nName: first_name, Length: 28439, dtype: object"
     },
     "execution_count": 108,
     "metadata": {},
     "output_type": "execute_result"
    }
   ],
   "source": [
    "df['first_name']"
   ]
  },
  {
   "cell_type": "code",
   "execution_count": 109,
   "metadata": {
    "ExecuteTime": {
     "end_time": "2024-02-17T14:54:40.331404300Z",
     "start_time": "2024-02-17T14:54:40.272993800Z"
    }
   },
   "outputs": [
    {
     "name": "stderr",
     "output_type": "stream",
     "text": [
      "C:\\Users\\marij\\AppData\\Local\\Temp\\ipykernel_18356\\3060465331.py:3: FutureWarning: A value is trying to be set on a copy of a DataFrame or Series through chained assignment using an inplace method.\n",
      "The behavior will change in pandas 3.0. This inplace method will never work because the intermediate object on which we are setting values always behaves as a copy.\n",
      "\n",
      "For example, when doing 'df[col].method(value, inplace=True)', try using 'df.method({col: value}, inplace=True)' or df[col] = df[col].method(value) instead, to perform the operation inplace on the original object.\n",
      "\n",
      "\n",
      "  df['country_of_birth'].fillna('Uknown', inplace = True)\n"
     ]
    }
   ],
   "source": [
    "#Replacing null values of 'country_of_birth' with 'unknown'\n",
    "\n",
    "df['country_of_birth'].fillna('Uknown', inplace = True)"
   ]
  },
  {
   "cell_type": "code",
   "execution_count": 110,
   "metadata": {
    "ExecuteTime": {
     "end_time": "2024-02-17T14:54:40.376404Z",
     "start_time": "2024-02-17T14:54:40.310904100Z"
    }
   },
   "outputs": [
    {
     "data": {
      "text/plain": "0                    Poland\n1                   Germany\n2                  Bulgaria\n4        East Germany (GDR)\n6                   Germany\n                ...        \n30414               Tunisia\n30415                  Mali\n30416                Uknown\n30417                Poland\n30418                Turkey\nName: country_of_birth, Length: 28439, dtype: object"
     },
     "execution_count": 110,
     "metadata": {},
     "output_type": "execute_result"
    }
   ],
   "source": [
    "df['country_of_birth']"
   ]
  },
  {
   "cell_type": "code",
   "execution_count": 111,
   "metadata": {
    "ExecuteTime": {
     "end_time": "2024-02-17T14:54:40.562968Z",
     "start_time": "2024-02-17T14:54:40.378405900Z"
    }
   },
   "outputs": [
    {
     "name": "stderr",
     "output_type": "stream",
     "text": [
      "C:\\Users\\marij\\AppData\\Local\\Temp\\ipykernel_18356\\866985371.py:3: FutureWarning: A value is trying to be set on a copy of a DataFrame or Series through chained assignment using an inplace method.\n",
      "The behavior will change in pandas 3.0. This inplace method will never work because the intermediate object on which we are setting values always behaves as a copy.\n",
      "\n",
      "For example, when doing 'df[col].method(value, inplace=True)', try using 'df.method({col: value}, inplace=True)' or df[col] = df[col].method(value) instead, to perform the operation inplace on the original object.\n",
      "\n",
      "\n",
      "  df['city_of_birth'].fillna('Unknown', inplace = True)\n"
     ]
    },
    {
     "data": {
      "text/plain": "0              Opole\n1               Diez\n2        Blagoevgrad\n4            Freital\n6            Haltern\n            ...     \n30414         Sousse\n30415         Bamako\n30416        Unknown\n30417       Limanowa\n30418       Istanbul\nName: city_of_birth, Length: 28439, dtype: object"
     },
     "execution_count": 111,
     "metadata": {},
     "output_type": "execute_result"
    }
   ],
   "source": [
    "#Replacing null values for 'city_of_birth' with 'unknown' (Note: the column is dropped)\n",
    "\n",
    "df['city_of_birth'].fillna('Unknown', inplace = True)\n",
    "df['city_of_birth']"
   ]
  },
  {
   "cell_type": "code",
   "execution_count": 112,
   "metadata": {
    "ExecuteTime": {
     "end_time": "2024-02-17T14:54:40.625659600Z",
     "start_time": "2024-02-17T14:54:40.403865400Z"
    }
   },
   "outputs": [],
   "source": [
    "#Dropping the cols:- ['agent_name', 'image_url', 'url', 'contract_expiration_date'], not an important info\n",
    "\n",
    "col_drop = ['agent_name', 'image_url', 'url', 'contract_expiration_date']\n",
    "df.drop(columns=col_drop, inplace=True)"
   ]
  },
  {
   "cell_type": "code",
   "execution_count": 113,
   "metadata": {
    "ExecuteTime": {
     "end_time": "2024-02-17T14:54:40.718130500Z",
     "start_time": "2024-02-17T14:54:40.605976400Z"
    }
   },
   "outputs": [
    {
     "data": {
      "text/plain": "   player_id first_name     last_name                 name  last_season  \\\n0         10   Miroslav         Klose       Miroslav Klose         2015   \n1         26      Roman  Weidenfeller   Roman Weidenfeller         2017   \n2         65    Dimitar      Berbatov     Dimitar Berbatov         2015   \n4         80        Tom        Starke           Tom Starke         2017   \n6        123  Christoph     Metzelder  Christoph Metzelder         2012   \n\n   current_club_id          player_code    country_of_birth city_of_birth  \\\n0              398       miroslav-klose              Poland         Opole   \n1               16   roman-weidenfeller             Germany          Diez   \n2             1091     dimitar-berbatov            Bulgaria   Blagoevgrad   \n4               27           tom-starke  East Germany (GDR)       Freital   \n6               33  christoph-metzelder             Germany       Haltern   \n\n  country_of_citizenship date_of_birth    sub_position    position   foot  \\\n0                Germany    1978-06-09  Centre-Forward      Attack  right   \n1                Germany    1980-08-06      Goalkeeper  Goalkeeper   left   \n2               Bulgaria    1981-01-30  Centre-Forward      Attack    NaN   \n4                Germany    1981-03-18      Goalkeeper  Goalkeeper  right   \n6                Germany    1980-11-05     Centre-Back    Defender    NaN   \n\n   height_in_cm current_club_domestic_competition_id  \\\n0         184.0                                  IT1   \n1         190.0                                   L1   \n2           NaN                                  GR1   \n4         194.0                                   L1   \n6           NaN                                   L1   \n\n                                   current_club_name  market_value_in_eur  \\\n0                      Società Sportiva Lazio S.p.A.            1000000.0   \n1                                  Borussia Dortmund             750000.0   \n2  Panthessalonikios Athlitikos Omilos Konstantin...            1000000.0   \n4                                  FC Bayern München             100000.0   \n6                                      FC Schalke 04            1500000.0   \n\n   highest_market_value_in_eur  \n0                   30000000.0  \n1                    8000000.0  \n2                   34500000.0  \n4                    3000000.0  \n6                    9500000.0  ",
      "text/html": "<div>\n<style scoped>\n    .dataframe tbody tr th:only-of-type {\n        vertical-align: middle;\n    }\n\n    .dataframe tbody tr th {\n        vertical-align: top;\n    }\n\n    .dataframe thead th {\n        text-align: right;\n    }\n</style>\n<table border=\"1\" class=\"dataframe\">\n  <thead>\n    <tr style=\"text-align: right;\">\n      <th></th>\n      <th>player_id</th>\n      <th>first_name</th>\n      <th>last_name</th>\n      <th>name</th>\n      <th>last_season</th>\n      <th>current_club_id</th>\n      <th>player_code</th>\n      <th>country_of_birth</th>\n      <th>city_of_birth</th>\n      <th>country_of_citizenship</th>\n      <th>date_of_birth</th>\n      <th>sub_position</th>\n      <th>position</th>\n      <th>foot</th>\n      <th>height_in_cm</th>\n      <th>current_club_domestic_competition_id</th>\n      <th>current_club_name</th>\n      <th>market_value_in_eur</th>\n      <th>highest_market_value_in_eur</th>\n    </tr>\n  </thead>\n  <tbody>\n    <tr>\n      <th>0</th>\n      <td>10</td>\n      <td>Miroslav</td>\n      <td>Klose</td>\n      <td>Miroslav Klose</td>\n      <td>2015</td>\n      <td>398</td>\n      <td>miroslav-klose</td>\n      <td>Poland</td>\n      <td>Opole</td>\n      <td>Germany</td>\n      <td>1978-06-09</td>\n      <td>Centre-Forward</td>\n      <td>Attack</td>\n      <td>right</td>\n      <td>184.0</td>\n      <td>IT1</td>\n      <td>Società Sportiva Lazio S.p.A.</td>\n      <td>1000000.0</td>\n      <td>30000000.0</td>\n    </tr>\n    <tr>\n      <th>1</th>\n      <td>26</td>\n      <td>Roman</td>\n      <td>Weidenfeller</td>\n      <td>Roman Weidenfeller</td>\n      <td>2017</td>\n      <td>16</td>\n      <td>roman-weidenfeller</td>\n      <td>Germany</td>\n      <td>Diez</td>\n      <td>Germany</td>\n      <td>1980-08-06</td>\n      <td>Goalkeeper</td>\n      <td>Goalkeeper</td>\n      <td>left</td>\n      <td>190.0</td>\n      <td>L1</td>\n      <td>Borussia Dortmund</td>\n      <td>750000.0</td>\n      <td>8000000.0</td>\n    </tr>\n    <tr>\n      <th>2</th>\n      <td>65</td>\n      <td>Dimitar</td>\n      <td>Berbatov</td>\n      <td>Dimitar Berbatov</td>\n      <td>2015</td>\n      <td>1091</td>\n      <td>dimitar-berbatov</td>\n      <td>Bulgaria</td>\n      <td>Blagoevgrad</td>\n      <td>Bulgaria</td>\n      <td>1981-01-30</td>\n      <td>Centre-Forward</td>\n      <td>Attack</td>\n      <td>NaN</td>\n      <td>NaN</td>\n      <td>GR1</td>\n      <td>Panthessalonikios Athlitikos Omilos Konstantin...</td>\n      <td>1000000.0</td>\n      <td>34500000.0</td>\n    </tr>\n    <tr>\n      <th>4</th>\n      <td>80</td>\n      <td>Tom</td>\n      <td>Starke</td>\n      <td>Tom Starke</td>\n      <td>2017</td>\n      <td>27</td>\n      <td>tom-starke</td>\n      <td>East Germany (GDR)</td>\n      <td>Freital</td>\n      <td>Germany</td>\n      <td>1981-03-18</td>\n      <td>Goalkeeper</td>\n      <td>Goalkeeper</td>\n      <td>right</td>\n      <td>194.0</td>\n      <td>L1</td>\n      <td>FC Bayern München</td>\n      <td>100000.0</td>\n      <td>3000000.0</td>\n    </tr>\n    <tr>\n      <th>6</th>\n      <td>123</td>\n      <td>Christoph</td>\n      <td>Metzelder</td>\n      <td>Christoph Metzelder</td>\n      <td>2012</td>\n      <td>33</td>\n      <td>christoph-metzelder</td>\n      <td>Germany</td>\n      <td>Haltern</td>\n      <td>Germany</td>\n      <td>1980-11-05</td>\n      <td>Centre-Back</td>\n      <td>Defender</td>\n      <td>NaN</td>\n      <td>NaN</td>\n      <td>L1</td>\n      <td>FC Schalke 04</td>\n      <td>1500000.0</td>\n      <td>9500000.0</td>\n    </tr>\n  </tbody>\n</table>\n</div>"
     },
     "execution_count": 113,
     "metadata": {},
     "output_type": "execute_result"
    }
   ],
   "source": [
    "df.head()"
   ]
  },
  {
   "cell_type": "code",
   "execution_count": 114,
   "metadata": {
    "ExecuteTime": {
     "end_time": "2024-02-17T14:54:40.747130900Z",
     "start_time": "2024-02-17T14:54:40.697667Z"
    }
   },
   "outputs": [],
   "source": [
    "#converting 'date_of_birth' to datetime format (Note: the column is dropped)\n",
    "\n",
    "df['date_of_birth'] = pd.to_datetime(df['date_of_birth'])"
   ]
  },
  {
   "cell_type": "code",
   "execution_count": 115,
   "metadata": {
    "ExecuteTime": {
     "end_time": "2024-02-17T14:54:41.061165100Z",
     "start_time": "2024-02-17T14:54:40.749134100Z"
    }
   },
   "outputs": [
    {
     "name": "stdout",
     "output_type": "stream",
     "text": [
      "       player_id  first_name     last_name                 name  last_season  \\\n",
      "14           299      Fabian         Ernst         Fabian Ernst         2012   \n",
      "35           837     Thorben          Marx         Thorben Marx         2014   \n",
      "77          1587       Mario      Eggimann       Mario Eggimann         2012   \n",
      "94          1944       Deniz         Dogan          Deniz Dogan         2013   \n",
      "130         2950      Robert         Almer         Robert Almer         2014   \n",
      "280         3942      Martin         Lanig         Martin Lanig         2014   \n",
      "572         6322     Patrick        Helmes       Patrick Helmes         2014   \n",
      "1411       16565      Daniel        Halfar        Daniel Halfar         2014   \n",
      "1696       20444      Tobias          Weis          Tobias Weis         2013   \n",
      "2679       32611       Sezer         Badur          Sezer Badur         2015   \n",
      "3041       36189   Christian         Dorda      Christian Dorda         2014   \n",
      "3579       42463        Timo       Gebhart         Timo Gebhart         2013   \n",
      "4279       49681       Aykut        Öztürk         Aykut Öztürk         2013   \n",
      "4346       50765      Mahmut         Temür         Mahmut Temür         2014   \n",
      "4376       51190        Marc     Vucinovic       Marc Vucinovic         2014   \n",
      "5099       58124      Julian      Schieber      Julian Schieber         2020   \n",
      "5130       58379  Maximilian       Beister   Maximilian Beister         2015   \n",
      "6827       83188        Marc          Lais            Marc Lais         2012   \n",
      "7537       94598      Stefan  Wannenwetsch  Stefan Wannenwetsch         2015   \n",
      "8487      116272    Benedikt        Röcker      Benedikt Röcker         2018   \n",
      "12662     202753        Oguz       Özcelik         Oguz Özcelik         2012   \n",
      "13470     221883       Abdul         Basit          Abdul Basit         2016   \n",
      "14624     246051      Martin        Haesum        Martin Haesum         2012   \n",
      "17956     328791      Miguel  Blanco-Lopez  Miguel Blanco-Lopez         2016   \n",
      "18251     335633        Noel     Wembacher       Noel Wembacher         2015   \n",
      "18252     335635         Jan        Finger           Jan Finger         2015   \n",
      "18254     335646        Nick          Volk            Nick Volk         2015   \n",
      "18840     345068    Abdullah       Karakoc     Abdullah Karakoc         2014   \n",
      "20145     381132      Daniel          Thur          Daniel Thur         2016   \n",
      "20146     381134    Johannes         Wolff       Johannes Wolff         2016   \n",
      "22455     457583     Dimitri        Swisch       Dimitri Swisch         2013   \n",
      "23951     521323    Filippos        Selkos      Filippos Selkos         2019   \n",
      "24009     523200  Kristoffer        Larsen    Kristoffer Larsen         2017   \n",
      "24191     531161      Rasmus  Horup Hansen  Rasmus Horup Hansen         2017   \n",
      "24459     539248       Kalle   Christensen    Kalle Christensen         2017   \n",
      "24480     539732       Yuriy        Berdey         Yuriy Berdey         2017   \n",
      "24636     546133    Johannes         Frahm       Johannes Frahm         2019   \n",
      "25241     573816     Ibrahim         Suaib        Ibrahim Suaib         2017   \n",
      "25302     576729      Sergiy        Rusyan        Sergiy Rusyan         2017   \n",
      "26566     632716       Kalle           Bak            Kalle Bak         2019   \n",
      "26690     640558      Damian  van der Haar  Damian van der Haar         2021   \n",
      "27724     701335       Cihat       Topatan        Cihat Topatan         2021   \n",
      "27963     714313        José       Salinas         José Salinas         2020   \n",
      "29435     879619         Sem         Bonte            Sem Bonte         2022   \n",
      "30275    1067951      Hjalte    Toftegaard    Hjalte Toftegaard         2022   \n",
      "30315    1086787       Demba       N'Diaye        Demba N'Diaye         2022   \n",
      "\n",
      "       current_club_id          player_code country_of_birth  \\\n",
      "14               10484         fabian-ernst          Germany   \n",
      "35                  18         thorben-marx          Germany   \n",
      "77                  42       mario-eggimann      Switzerland   \n",
      "94                  23          deniz-dogan          Germany   \n",
      "130                 42         robert-almer          Austria   \n",
      "280                 24         martin-lanig          Germany   \n",
      "572                  3       patrick-helmes          Germany   \n",
      "1411                 3        daniel-halfar          Germany   \n",
      "1696                24          tobias-weis          Germany   \n",
      "2679               589          sezer-badur          Germany   \n",
      "3041               968      christian-dorda          Germany   \n",
      "3579                 4         timo-gebhart          Germany   \n",
      "4279              2381         aykut-ozturk          Germany   \n",
      "4346              3216         mahmut-temur          Germany   \n",
      "4376               127       marc-vucinovic          Germany   \n",
      "5099               167      julian-schieber          Germany   \n",
      "5130                39   maximilian-beister          Germany   \n",
      "6827                60            marc-lais          Germany   \n",
      "7537              4795  stefan-wannenwetsch          Germany   \n",
      "8487               206      benedikt-rocker          Germany   \n",
      "12662             2414         oguz-ozcelik           Uknown   \n",
      "13470             1301          abdul-basit            Ghana   \n",
      "14624             1053        martin-haesum           Uknown   \n",
      "17956               24  miguel-blanco-lopez          Germany   \n",
      "18251              105       noel-wembacher          Germany   \n",
      "18252              105           jan-finger          Germany   \n",
      "18254              105            nick-volk          Germany   \n",
      "18840             3216     abdullah-karakoc          Germany   \n",
      "20145              105          daniel-thur           Uknown   \n",
      "20146              105       johannes-wolff           Uknown   \n",
      "22455             9007       dimitri-swisch            UdSSR   \n",
      "23951              169      filippos-selkos          Germany   \n",
      "24009             2414    kristoffer-larsen           Uknown   \n",
      "24191             2414  rasmus-horup-hansen           Uknown   \n",
      "24459             2414    kalle-christensen           Uknown   \n",
      "24480            26459         yuriy-berdey           Uknown   \n",
      "24636             5724       johannes-frahm           Uknown   \n",
      "25241             6992        ibrahim-suaib           Greece   \n",
      "25302            18303        sergiy-rusyan          Ukraine   \n",
      "26566             5818            kalle-bak           Uknown   \n",
      "26690             1269  damian-van-der-haar           Uknown   \n",
      "27724            11688        cihat-topatan          Germany   \n",
      "27963             1531         jose-salinas           Uknown   \n",
      "29435              133            sem-bonte           Uknown   \n",
      "30275             2414    hjalte-toftegaard           Uknown   \n",
      "30315             1420         demba-ndiaye           Uknown   \n",
      "\n",
      "                  city_of_birth country_of_citizenship date_of_birth  \\\n",
      "14                     Hannover                Germany           NaT   \n",
      "35                       Berlin                Germany           NaT   \n",
      "77                        Brugg            Switzerland           NaT   \n",
      "94                       Lübeck                 Turkey           NaT   \n",
      "130                   Bruck/Mur                Austria           NaT   \n",
      "280             Bad Mergentheim                Germany           NaT   \n",
      "572                        Köln                Germany           NaT   \n",
      "1411                   Mannheim                Germany           NaT   \n",
      "1696            Schwäbisch Hall                Germany           NaT   \n",
      "2679                     Berlin                 Turkey           NaT   \n",
      "3041            Mönchengladbach                Germany           NaT   \n",
      "3579                  Memmingen                Germany           NaT   \n",
      "4279               Ehringhausen                 Turkey           NaT   \n",
      "4346                      Düren                Germany           NaT   \n",
      "4376                   Hannover                Germany           NaT   \n",
      "5099                   Backnang                Germany           NaT   \n",
      "5130                  Göttingen                Germany           NaT   \n",
      "6827       Freiburg im Breisgau                Germany           NaT   \n",
      "7537                   Langenau                Germany           NaT   \n",
      "8487       Bietigheim-Bissingen                Germany           NaT   \n",
      "12662                   Unknown                Denmark           NaT   \n",
      "13470                     Accra                  Ghana           NaT   \n",
      "14624                   Unknown                Denmark           NaT   \n",
      "17956                      Bonn                Germany           NaT   \n",
      "18251                 Darmstadt                Germany           NaT   \n",
      "18252                Groß-Gerau                Germany           NaT   \n",
      "18254                 Darmstadt                Germany           NaT   \n",
      "18840                      Köln                    NaN           NaT   \n",
      "20145                   Unknown                Germany           NaT   \n",
      "20146                   Unknown                Germany           NaT   \n",
      "22455             St.Petersburg                Germany           NaT   \n",
      "23951            Castrop-Rauxel                 Greece           NaT   \n",
      "24009                   Unknown                Denmark           NaT   \n",
      "24191                   Unknown                Denmark           NaT   \n",
      "24459                   Unknown                Denmark           NaT   \n",
      "24480                   Unknown                Ukraine           NaT   \n",
      "24636                   Unknown                Denmark           NaT   \n",
      "25241                     Athen                Ukraine           NaT   \n",
      "25302  Makiivka, Donetsk Oblast                Ukraine           NaT   \n",
      "26566                   Unknown                Denmark           NaT   \n",
      "26690                   Unknown            Netherlands           NaT   \n",
      "27724               Wipperfürth                 Turkey           NaT   \n",
      "27963                   Unknown                  Spain           NaT   \n",
      "29435                   Unknown            Netherlands           NaT   \n",
      "30275                   Unknown                Denmark           NaT   \n",
      "30315                   Unknown                 France           NaT   \n",
      "\n",
      "             sub_position    position   foot  height_in_cm  \\\n",
      "14     Defensive Midfield    Midfield  right         183.0   \n",
      "35     Defensive Midfield    Midfield  right         184.0   \n",
      "77            Centre-Back    Defender  right         190.0   \n",
      "94            Centre-Back    Defender   left         181.0   \n",
      "130            Goalkeeper  Goalkeeper   left         194.0   \n",
      "280    Defensive Midfield    Midfield  right         190.0   \n",
      "572        Centre-Forward      Attack   both         182.0   \n",
      "1411   Attacking Midfield    Midfield   left         173.0   \n",
      "1696     Central Midfield    Midfield   both         170.0   \n",
      "2679     Central Midfield    Midfield  right         181.0   \n",
      "3041            Left-Back    Defender   left         182.0   \n",
      "3579   Attacking Midfield    Midfield  right         183.0   \n",
      "4279       Centre-Forward      Attack  right         182.0   \n",
      "4346       Centre-Forward      Attack   both         178.0   \n",
      "4376                  NaN     Missing  right         178.0   \n",
      "5099       Centre-Forward      Attack   left         186.0   \n",
      "5130         Right Winger      Attack   left         180.0   \n",
      "6827   Defensive Midfield    Midfield   both         184.0   \n",
      "7537   Defensive Midfield    Midfield  right         177.0   \n",
      "8487          Centre-Back    Defender   left         197.0   \n",
      "12662      Centre-Forward      Attack    NaN           NaN   \n",
      "13470                 NaN     Missing  right         180.0   \n",
      "14624          Goalkeeper  Goalkeeper    NaN           NaN   \n",
      "17956         Centre-Back    Defender   both         188.0   \n",
      "18251  Attacking Midfield    Midfield  right         192.0   \n",
      "18252         Centre-Back    Defender   left         188.0   \n",
      "18254  Attacking Midfield    Midfield  right         184.0   \n",
      "18840         Centre-Back    Defender    NaN           NaN   \n",
      "20145       Left Midfield    Midfield   left         180.0   \n",
      "20146          Right-Back    Defender  right         175.0   \n",
      "22455                 NaN     Missing    NaN           NaN   \n",
      "23951         Left Winger      Attack   both         186.0   \n",
      "24009         Left Winger      Attack    NaN           NaN   \n",
      "24191          Goalkeeper  Goalkeeper   left         175.0   \n",
      "24459          Right-Back    Defender    NaN         182.0   \n",
      "24480                 NaN     Missing    NaN         180.0   \n",
      "24636          Goalkeeper  Goalkeeper    NaN           NaN   \n",
      "25241          Goalkeeper  Goalkeeper  right         192.0   \n",
      "25302  Attacking Midfield    Midfield  right         177.0   \n",
      "26566           Left-Back    Defender    NaN           NaN   \n",
      "26690         Centre-Back    Defender   left           NaN   \n",
      "27724         Left Winger      Attack   left         171.0   \n",
      "27963          Goalkeeper  Goalkeeper    NaN           NaN   \n",
      "29435          Goalkeeper  Goalkeeper    NaN           NaN   \n",
      "30275    Central Midfield    Midfield    NaN           NaN   \n",
      "30315                 NaN     Missing    NaN           NaN   \n",
      "\n",
      "      current_club_domestic_competition_id  \\\n",
      "14                                     TR1   \n",
      "35                                      L1   \n",
      "77                                      L1   \n",
      "94                                      L1   \n",
      "130                                     L1   \n",
      "280                                     L1   \n",
      "572                                     L1   \n",
      "1411                                    L1   \n",
      "1696                                    L1   \n",
      "2679                                   TR1   \n",
      "3041                                   BE1   \n",
      "3579                                    L1   \n",
      "4279                                   TR1   \n",
      "4346                                   TR1   \n",
      "4376                                    L1   \n",
      "5099                                    L1   \n",
      "5130                                    L1   \n",
      "6827                                    L1   \n",
      "7537                                    L1   \n",
      "8487                                   DK1   \n",
      "12662                                  DK1   \n",
      "13470                                  PO1   \n",
      "14624                                  DK1   \n",
      "17956                                   L1   \n",
      "18251                                   L1   \n",
      "18252                                   L1   \n",
      "18254                                   L1   \n",
      "18840                                  TR1   \n",
      "20145                                   L1   \n",
      "20146                                   L1   \n",
      "22455                                 UKR1   \n",
      "23951                                  GR1   \n",
      "24009                                  DK1   \n",
      "24191                                  DK1   \n",
      "24459                                  DK1   \n",
      "24480                                 UKR1   \n",
      "24636                                  DK1   \n",
      "25241                                 UKR1   \n",
      "25302                                 UKR1   \n",
      "26566                                  DK1   \n",
      "26690                                  NL1   \n",
      "27724                                  TR1   \n",
      "27963                                  ES1   \n",
      "29435                                  NL1   \n",
      "30275                                  DK1   \n",
      "30315                                  FR1   \n",
      "\n",
      "                                       current_club_name  market_value_in_eur  \\\n",
      "14                                 Kasımpaşa Spor Kulübü            1500000.0   \n",
      "35     Borussia Verein für Leibesübungen 1900 Mönchen...             300000.0   \n",
      "77                                           Hannover 96             400000.0   \n",
      "94                                Eintracht Braunschweig              75000.0   \n",
      "130                                          Hannover 96             250000.0   \n",
      "280                       Eintracht Frankfurt Fußball AG             600000.0   \n",
      "572                                 1. Fußball-Club Köln            1000000.0   \n",
      "1411                                1. Fußball-Club Köln             400000.0   \n",
      "1696                      Eintracht Frankfurt Fußball AG             300000.0   \n",
      "2679                                         Antalyaspor              25000.0   \n",
      "3041                   Koninklijke Voetbal Club Westerlo             175000.0   \n",
      "3579                                      1.FC Nuremberg             100000.0   \n",
      "4279                                    Sivasspor Kulübü              10000.0   \n",
      "4346                                Mersin Talimyurdu SK              50000.0   \n",
      "4376                                     SC Paderborn 07             150000.0   \n",
      "5099                                    FC Augsburg 1907             400000.0   \n",
      "5130                1. Fußball- und Sportverein Mainz 05             100000.0   \n",
      "6827                                 Sport-Club Freiburg             150000.0   \n",
      "7537                                    FC Ingolstadt 04             200000.0   \n",
      "8487                              Brøndby Idrætsforening             200000.0   \n",
      "12662                                         AC Horsens                  NaN   \n",
      "13470                                        CS Marítimo              50000.0   \n",
      "14624                                         Aalborg BK                  NaN   \n",
      "17956                     Eintracht Frankfurt Fußball AG              25000.0   \n",
      "18251                   Sportverein Darmstadt 1898 e. V.             100000.0   \n",
      "18252                   Sportverein Darmstadt 1898 e. V.             100000.0   \n",
      "18254                   Sportverein Darmstadt 1898 e. V.             100000.0   \n",
      "18840                               Mersin Talimyurdu SK              50000.0   \n",
      "20145                   Sportverein Darmstadt 1898 e. V.             100000.0   \n",
      "20146                   Sportverein Darmstadt 1898 e. V.             100000.0   \n",
      "22455                                       Arsenal Kyiv                  NaN   \n",
      "23951                                   Panionios Athens             100000.0   \n",
      "24009                                         AC Horsens                  NaN   \n",
      "24191                                         AC Horsens                  NaN   \n",
      "24459                                         AC Horsens                  NaN   \n",
      "24480                                     NK Veres Rivne                  NaN   \n",
      "24636                               Randers Fodbold Club                  NaN   \n",
      "25241                         ZAO FK Chornomorets Odessa              25000.0   \n",
      "25302                                    FK Oleksandriya                  NaN   \n",
      "26566                                           Hobro IK                  NaN   \n",
      "26690  Prins Hendrik Ende Desespereert Nimmer Combina...                  NaN   \n",
      "27724                                        Giresunspor              25000.0   \n",
      "27963                                           Elche CF                  NaN   \n",
      "29435                              SC Cambuur Leeuwarden                  NaN   \n",
      "30275                                         AC Horsens                  NaN   \n",
      "30315                                         Angers SCO                  NaN   \n",
      "\n",
      "       highest_market_value_in_eur  \n",
      "14                       9000000.0  \n",
      "35                       2500000.0  \n",
      "77                       3000000.0  \n",
      "94                        400000.0  \n",
      "130                      1000000.0  \n",
      "280                      3500000.0  \n",
      "572                     10000000.0  \n",
      "1411                     1750000.0  \n",
      "1696                     3500000.0  \n",
      "2679                     2200000.0  \n",
      "3041                      550000.0  \n",
      "3579                     5000000.0  \n",
      "4279                      375000.0  \n",
      "4346                      350000.0  \n",
      "4376                      450000.0  \n",
      "5099                     8000000.0  \n",
      "5130                     3000000.0  \n",
      "6827                      700000.0  \n",
      "7537                      400000.0  \n",
      "8487                      850000.0  \n",
      "12662                          NaN  \n",
      "13470                     100000.0  \n",
      "14624                          NaN  \n",
      "17956                     100000.0  \n",
      "18251                     100000.0  \n",
      "18252                     100000.0  \n",
      "18254                     100000.0  \n",
      "18840                     100000.0  \n",
      "20145                     100000.0  \n",
      "20146                     100000.0  \n",
      "22455                          NaN  \n",
      "23951                     100000.0  \n",
      "24009                          NaN  \n",
      "24191                          NaN  \n",
      "24459                          NaN  \n",
      "24480                          NaN  \n",
      "24636                          NaN  \n",
      "25241                      25000.0  \n",
      "25302                          NaN  \n",
      "26566                          NaN  \n",
      "26690                          NaN  \n",
      "27724                      25000.0  \n",
      "27963                          NaN  \n",
      "29435                          NaN  \n",
      "30275                          NaN  \n",
      "30315                          NaN  \n"
     ]
    },
    {
     "name": "stderr",
     "output_type": "stream",
     "text": [
      "C:\\Users\\marij\\AppData\\Local\\Temp\\ipykernel_18356\\3266277821.py:6: FutureWarning: A value is trying to be set on a copy of a DataFrame or Series through chained assignment using an inplace method.\n",
      "The behavior will change in pandas 3.0. This inplace method will never work because the intermediate object on which we are setting values always behaves as a copy.\n",
      "\n",
      "For example, when doing 'df[col].method(value, inplace=True)', try using 'df.method({col: value}, inplace=True)' or df[col] = df[col].method(value) instead, to perform the operation inplace on the original object.\n",
      "\n",
      "\n",
      "  df['date_of_birth'].fillna('Unknown', inplace = True)\n",
      "C:\\Users\\marij\\AppData\\Local\\Temp\\ipykernel_18356\\3266277821.py:6: FutureWarning: Setting an item of incompatible dtype is deprecated and will raise an error in a future version of pandas. Value 'Unknown' has dtype incompatible with datetime64[ns], please explicitly cast to a compatible dtype first.\n",
      "  df['date_of_birth'].fillna('Unknown', inplace = True)\n"
     ]
    }
   ],
   "source": [
    "#replacing the null values of 'date_of_birth' with 'unknown'\n",
    "\n",
    "# print(df['date_of_birth'].isnull().sum())\n",
    "print(df[df['date_of_birth'].isnull()])\n",
    "\n",
    "df['date_of_birth'].fillna('Unknown', inplace = True)"
   ]
  },
  {
   "cell_type": "code",
   "execution_count": 116,
   "metadata": {
    "ExecuteTime": {
     "end_time": "2024-02-17T14:54:41.104925100Z",
     "start_time": "2024-02-17T14:54:40.835321300Z"
    }
   },
   "outputs": [
    {
     "data": {
      "text/plain": "player_id                                  0\nfirst_name                                 0\nlast_name                                  0\nname                                       0\nlast_season                                0\ncurrent_club_id                            0\nplayer_code                                0\ncountry_of_birth                           0\ncity_of_birth                              0\ncountry_of_citizenship                   519\ndate_of_birth                              0\nsub_position                             166\nposition                                   0\nfoot                                    2317\nheight_in_cm                            2055\ncurrent_club_domestic_competition_id       0\ncurrent_club_name                          0\nmarket_value_in_eur                     1079\nhighest_market_value_in_eur             1079\ndtype: int64"
     },
     "execution_count": 116,
     "metadata": {},
     "output_type": "execute_result"
    }
   ],
   "source": [
    "new_val = df.isnull().sum()\n",
    "new_val"
   ]
  },
  {
   "cell_type": "code",
   "execution_count": 117,
   "metadata": {
    "ExecuteTime": {
     "end_time": "2024-02-17T14:54:41.195944500Z",
     "start_time": "2024-02-17T14:54:41.108420800Z"
    }
   },
   "outputs": [
    {
     "name": "stderr",
     "output_type": "stream",
     "text": [
      "C:\\Users\\marij\\AppData\\Local\\Temp\\ipykernel_18356\\2812704695.py:3: FutureWarning: A value is trying to be set on a copy of a DataFrame or Series through chained assignment using an inplace method.\n",
      "The behavior will change in pandas 3.0. This inplace method will never work because the intermediate object on which we are setting values always behaves as a copy.\n",
      "\n",
      "For example, when doing 'df[col].method(value, inplace=True)', try using 'df.method({col: value}, inplace=True)' or df[col] = df[col].method(value) instead, to perform the operation inplace on the original object.\n",
      "\n",
      "\n",
      "  df['country_of_citizenship'].fillna('Unknown', inplace = True)\n"
     ]
    },
    {
     "data": {
      "text/plain": "0              Germany\n1              Germany\n2             Bulgaria\n4              Germany\n6              Germany\n             ...      \n30414          Tunisia\n30415    Cote d'Ivoire\n30416    Cote d'Ivoire\n30417           Poland\n30418           Turkey\nName: country_of_citizenship, Length: 28439, dtype: object"
     },
     "execution_count": 117,
     "metadata": {},
     "output_type": "execute_result"
    }
   ],
   "source": [
    "#replacing null values for 'country_of_citizenship' with 'unknown'\n",
    "\n",
    "df['country_of_citizenship'].fillna('Unknown', inplace = True)\n",
    "df['country_of_citizenship']"
   ]
  },
  {
   "cell_type": "code",
   "execution_count": 118,
   "metadata": {
    "ExecuteTime": {
     "end_time": "2024-02-17T14:54:41.241459900Z",
     "start_time": "2024-02-17T14:54:41.151827200Z"
    }
   },
   "outputs": [
    {
     "name": "stderr",
     "output_type": "stream",
     "text": [
      "C:\\Users\\marij\\AppData\\Local\\Temp\\ipykernel_18356\\2514944029.py:12: FutureWarning: A value is trying to be set on a copy of a DataFrame or Series through chained assignment using an inplace method.\n",
      "The behavior will change in pandas 3.0. This inplace method will never work because the intermediate object on which we are setting values always behaves as a copy.\n",
      "\n",
      "For example, when doing 'df[col].method(value, inplace=True)', try using 'df.method({col: value}, inplace=True)' or df[col] = df[col].method(value) instead, to perform the operation inplace on the original object.\n",
      "\n",
      "\n",
      "  df['height_in_cm'].fillna(num, inplace = True)\n"
     ]
    }
   ],
   "source": [
    "#Replacing values for 'height_in_cm' with the mean\n",
    "\n",
    "#Mean of 'height_in_cm'\n",
    "\n",
    "mean_height = df['height_in_cm'].mean()\n",
    "mean_height_int = int(mean_height)\n",
    "\n",
    "#converting string to int\n",
    "num = pd.to_numeric(mean_height_int)\n",
    "\n",
    "#Replacing null values with the mean\n",
    "df['height_in_cm'].fillna(num, inplace = True)"
   ]
  },
  {
   "cell_type": "code",
   "execution_count": 119,
   "metadata": {
    "ExecuteTime": {
     "end_time": "2024-02-17T14:54:41.291168Z",
     "start_time": "2024-02-17T14:54:41.244376200Z"
    }
   },
   "outputs": [
    {
     "data": {
      "text/plain": "0        184.0\n1        190.0\n2        182.0\n4        194.0\n6        182.0\n         ...  \n30414    182.0\n30415    182.0\n30416    182.0\n30417    173.0\n30418    182.0\nName: height_in_cm, Length: 28439, dtype: float64"
     },
     "execution_count": 119,
     "metadata": {},
     "output_type": "execute_result"
    }
   ],
   "source": [
    "df['height_in_cm']"
   ]
  },
  {
   "cell_type": "code",
   "execution_count": 120,
   "metadata": {
    "ExecuteTime": {
     "end_time": "2024-02-17T14:54:41.372358700Z",
     "start_time": "2024-02-17T14:54:41.293169600Z"
    }
   },
   "outputs": [
    {
     "data": {
      "text/plain": "player_id                                  0\nfirst_name                                 0\nlast_name                                  0\nname                                       0\nlast_season                                0\ncurrent_club_id                            0\nplayer_code                                0\ncountry_of_birth                           0\ncity_of_birth                              0\ncountry_of_citizenship                     0\ndate_of_birth                              0\nsub_position                             166\nposition                                   0\nfoot                                    2317\nheight_in_cm                               0\ncurrent_club_domestic_competition_id       0\ncurrent_club_name                          0\nmarket_value_in_eur                     1079\nhighest_market_value_in_eur             1079\ndtype: int64"
     },
     "execution_count": 120,
     "metadata": {},
     "output_type": "execute_result"
    }
   ],
   "source": [
    "n1 = df.isnull().sum()\n",
    "n1"
   ]
  },
  {
   "cell_type": "code",
   "execution_count": 121,
   "metadata": {
    "ExecuteTime": {
     "end_time": "2024-02-17T14:54:41.411872400Z",
     "start_time": "2024-02-17T14:54:41.353196800Z"
    }
   },
   "outputs": [
    {
     "name": "stderr",
     "output_type": "stream",
     "text": [
      "C:\\Users\\marij\\AppData\\Local\\Temp\\ipykernel_18356\\2595888478.py:9: FutureWarning: A value is trying to be set on a copy of a DataFrame or Series through chained assignment using an inplace method.\n",
      "The behavior will change in pandas 3.0. This inplace method will never work because the intermediate object on which we are setting values always behaves as a copy.\n",
      "\n",
      "For example, when doing 'df[col].method(value, inplace=True)', try using 'df.method({col: value}, inplace=True)' or df[col] = df[col].method(value) instead, to perform the operation inplace on the original object.\n",
      "\n",
      "\n",
      "  df['market_value_in_eur'].fillna(mean_num, inplace = True)\n"
     ]
    }
   ],
   "source": [
    "#finding mean for 'market_value_in eur' (Mean Imputation)\n",
    "eur_mean = df['market_value_in_eur'].mean()\n",
    "int_mean = int(eur_mean)\n",
    "\n",
    "#converting string to int\n",
    "mean_num = pd.to_numeric(int_mean)\n",
    "\n",
    "#Replacing null values with the mean\n",
    "df['market_value_in_eur'].fillna(mean_num, inplace = True)"
   ]
  },
  {
   "cell_type": "code",
   "execution_count": 122,
   "metadata": {
    "ExecuteTime": {
     "end_time": "2024-02-17T14:54:41.461385800Z",
     "start_time": "2024-02-17T14:54:41.414877800Z"
    }
   },
   "outputs": [
    {
     "data": {
      "text/plain": "0        1000000.0\n1         750000.0\n2        1000000.0\n4         100000.0\n6        1500000.0\n           ...    \n30414     250000.0\n30415      50000.0\n30416     350000.0\n30417      75000.0\n30418      50000.0\nName: market_value_in_eur, Length: 28439, dtype: float64"
     },
     "execution_count": 122,
     "metadata": {},
     "output_type": "execute_result"
    }
   ],
   "source": [
    "df['market_value_in_eur']"
   ]
  },
  {
   "cell_type": "code",
   "execution_count": 123,
   "metadata": {
    "ExecuteTime": {
     "end_time": "2024-02-17T14:54:41.520930200Z",
     "start_time": "2024-02-17T14:54:41.455538700Z"
    }
   },
   "outputs": [
    {
     "data": {
      "text/plain": "player_id                                  0\nfirst_name                                 0\nlast_name                                  0\nname                                       0\nlast_season                                0\ncurrent_club_id                            0\nplayer_code                                0\ncountry_of_birth                           0\ncity_of_birth                              0\ncountry_of_citizenship                     0\ndate_of_birth                              0\nsub_position                             166\nposition                                   0\nfoot                                    2317\nheight_in_cm                               0\ncurrent_club_domestic_competition_id       0\ncurrent_club_name                          0\nmarket_value_in_eur                        0\nhighest_market_value_in_eur             1079\ndtype: int64"
     },
     "execution_count": 123,
     "metadata": {},
     "output_type": "execute_result"
    }
   ],
   "source": [
    "n2 = df.isnull().sum()\n",
    "n2"
   ]
  },
  {
   "cell_type": "code",
   "execution_count": 124,
   "metadata": {
    "ExecuteTime": {
     "end_time": "2024-02-17T14:54:41.577674Z",
     "start_time": "2024-02-17T14:54:41.503420700Z"
    }
   },
   "outputs": [
    {
     "data": {
      "text/plain": "0"
     },
     "execution_count": 124,
     "metadata": {},
     "output_type": "execute_result"
    }
   ],
   "source": [
    "#check for duplicates (there is no duplicates in the dataset, or if there are any, idk ;) )\n",
    "\n",
    "dup_data = df.duplicated().sum()\n",
    "dup_data"
   ]
  },
  {
   "cell_type": "code",
   "execution_count": 125,
   "metadata": {
    "ExecuteTime": {
     "end_time": "2024-02-17T14:54:41.578674200Z",
     "start_time": "2024-02-17T14:54:41.541651100Z"
    }
   },
   "outputs": [
    {
     "data": {
      "text/plain": "0          Miroslav\n1             Roman\n2           Dimitar\n4               Tom\n6         Christoph\n            ...    \n30414         Motez\n30415        Amadou\n30416        Bakary\n30417    Franciszek\n30418         Erdem\nName: first_name, Length: 28439, dtype: object"
     },
     "execution_count": 125,
     "metadata": {},
     "output_type": "execute_result"
    }
   ],
   "source": [
    "from unidecode import unidecode\n",
    "\n",
    "#correcting unicode values for 'first_name'\n",
    "col_1 = df['first_name'] = df['first_name'].apply(unidecode)\n",
    "col_1"
   ]
  },
  {
   "cell_type": "code",
   "execution_count": 126,
   "metadata": {
    "ExecuteTime": {
     "end_time": "2024-02-17T14:54:41.623060400Z",
     "start_time": "2024-02-17T14:54:41.581679800Z"
    }
   },
   "outputs": [
    {
     "data": {
      "text/plain": "0               Klose\n1        Weidenfeller\n2            Berbatov\n4              Starke\n6           Metzelder\n             ...     \n30414         Nourani\n30415            Kone\n30416         Haidara\n30417        Franczak\n30418           Calik\nName: last_name, Length: 28439, dtype: object"
     },
     "execution_count": 126,
     "metadata": {},
     "output_type": "execute_result"
    }
   ],
   "source": [
    "#correcting unicode values for 'last_name'\n",
    "col_2 = df['last_name'] = df['last_name'].apply(unidecode)\n",
    "col_2"
   ]
  },
  {
   "cell_type": "code",
   "execution_count": 127,
   "metadata": {
    "ExecuteTime": {
     "end_time": "2024-02-17T14:54:41.686416400Z",
     "start_time": "2024-02-17T14:54:41.604293100Z"
    }
   },
   "outputs": [
    {
     "data": {
      "text/plain": "0             Miroslav Klose\n1         Roman Weidenfeller\n2           Dimitar Berbatov\n4                 Tom Starke\n6        Christoph Metzelder\n                ...         \n30414          Motez Nourani\n30415            Amadou Kone\n30416         Bakary Haidara\n30417    Franciszek Franczak\n30418            Erdem Calik\nName: name, Length: 28439, dtype: object"
     },
     "execution_count": 127,
     "metadata": {},
     "output_type": "execute_result"
    }
   ],
   "source": [
    "#correcting unicode values in 'name'\n",
    "names = df['name'] = df['name'].apply(unidecode)\n",
    "names"
   ]
  },
  {
   "cell_type": "code",
   "execution_count": 128,
   "metadata": {
    "ExecuteTime": {
     "end_time": "2024-02-17T14:54:41.690927Z",
     "start_time": "2024-02-17T14:54:41.660787500Z"
    }
   },
   "outputs": [],
   "source": [
    "#drop 'first_name' and 'last_name' columns as there is column 'name' which contains both first and last name\n",
    "name_drop = ['first_name', 'last_name']\n",
    "\n",
    "df.drop(columns = name_drop, inplace = True)"
   ]
  },
  {
   "cell_type": "code",
   "execution_count": 129,
   "metadata": {
    "ExecuteTime": {
     "end_time": "2024-02-17T14:54:41.749958600Z",
     "start_time": "2024-02-17T14:54:41.694927700Z"
    }
   },
   "outputs": [
    {
     "data": {
      "text/plain": "0              Opole\n1               Diez\n2        Blagoevgrad\n4            Freital\n6            Haltern\n            ...     \n30414         Sousse\n30415         Bamako\n30416        Unknown\n30417       Limanowa\n30418       Istanbul\nName: city_of_birth, Length: 28439, dtype: object"
     },
     "execution_count": 129,
     "metadata": {},
     "output_type": "execute_result"
    }
   ],
   "source": [
    "#correcting unicode values for 'city_of_birth' (Note: The column is dropped!)\n",
    "\n",
    "cb = df['city_of_birth'] = df['city_of_birth'].apply(unidecode)\n",
    "cb"
   ]
  },
  {
   "cell_type": "code",
   "execution_count": 130,
   "metadata": {
    "ExecuteTime": {
     "end_time": "2024-02-17T14:54:41.784382200Z",
     "start_time": "2024-02-17T14:54:41.752958700Z"
    }
   },
   "outputs": [],
   "source": [
    "#dropping 'city_of_birth'\n",
    "\n",
    "col_name = ['city_of_birth']\n",
    "\n",
    "df.drop(columns=col_name, inplace = True)"
   ]
  },
  {
   "cell_type": "code",
   "execution_count": 131,
   "metadata": {
    "ExecuteTime": {
     "end_time": "2024-02-17T14:54:41.820507300Z",
     "start_time": "2024-02-17T14:54:41.792806300Z"
    }
   },
   "outputs": [],
   "source": [
    "#correcting unicode values for 'current_club_name'\n",
    "\n",
    "ccn = df['current_club_name'] = df['current_club_name'].apply(unidecode)"
   ]
  },
  {
   "cell_type": "code",
   "execution_count": 132,
   "metadata": {
    "ExecuteTime": {
     "end_time": "2024-02-17T14:54:41.821508300Z",
     "start_time": "2024-02-17T14:54:41.796324800Z"
    }
   },
   "outputs": [
    {
     "data": {
      "text/plain": "player_id                                  0\nname                                       0\nlast_season                                0\ncurrent_club_id                            0\nplayer_code                                0\ncountry_of_birth                           0\ncountry_of_citizenship                     0\ndate_of_birth                              0\nsub_position                             166\nposition                                   0\nfoot                                    2317\nheight_in_cm                               0\ncurrent_club_domestic_competition_id       0\ncurrent_club_name                          0\nmarket_value_in_eur                        0\nhighest_market_value_in_eur             1079\ndtype: int64"
     },
     "execution_count": 132,
     "metadata": {},
     "output_type": "execute_result"
    }
   ],
   "source": [
    "#find remaining null values\n",
    "\n",
    "n3 = df.isnull().sum()\n",
    "n3"
   ]
  },
  {
   "cell_type": "code",
   "execution_count": 133,
   "metadata": {
    "ExecuteTime": {
     "end_time": "2024-02-17T14:54:41.914689Z",
     "start_time": "2024-02-17T14:54:41.823511700Z"
    }
   },
   "outputs": [
    {
     "name": "stderr",
     "output_type": "stream",
     "text": [
      "C:\\Users\\marij\\AppData\\Local\\Temp\\ipykernel_18356\\488347993.py:8: FutureWarning: A value is trying to be set on a copy of a DataFrame or Series through chained assignment using an inplace method.\n",
      "The behavior will change in pandas 3.0. This inplace method will never work because the intermediate object on which we are setting values always behaves as a copy.\n",
      "\n",
      "For example, when doing 'df[col].method(value, inplace=True)', try using 'df.method({col: value}, inplace=True)' or df[col] = df[col].method(value) instead, to perform the operation inplace on the original object.\n",
      "\n",
      "\n",
      "  df['foot'].fillna(random.choice(foot), inplace = True)\n"
     ]
    }
   ],
   "source": [
    "#random imputation for 'foot'\n",
    "\n",
    "import random\n",
    "\n",
    "foot = ['right', 'left', 'both']\n",
    "\n",
    "#Repalcing null values with random values:\n",
    "df['foot'].fillna(random.choice(foot), inplace = True)"
   ]
  },
  {
   "cell_type": "code",
   "execution_count": 134,
   "metadata": {
    "ExecuteTime": {
     "end_time": "2024-02-17T14:54:41.918693400Z",
     "start_time": "2024-02-17T14:54:41.906174800Z"
    }
   },
   "outputs": [
    {
     "data": {
      "text/plain": "player_id                                  0\nname                                       0\nlast_season                                0\ncurrent_club_id                            0\nplayer_code                                0\ncountry_of_birth                           0\ncountry_of_citizenship                     0\ndate_of_birth                              0\nsub_position                             166\nposition                                   0\nfoot                                       0\nheight_in_cm                               0\ncurrent_club_domestic_competition_id       0\ncurrent_club_name                          0\nmarket_value_in_eur                        0\nhighest_market_value_in_eur             1079\ndtype: int64"
     },
     "execution_count": 134,
     "metadata": {},
     "output_type": "execute_result"
    }
   ],
   "source": [
    "#find remaining null values\n",
    "\n",
    "n4 = df.isnull().sum()\n",
    "n4"
   ]
  },
  {
   "cell_type": "code",
   "execution_count": 135,
   "metadata": {
    "ExecuteTime": {
     "end_time": "2024-02-17T14:54:41.967070100Z",
     "start_time": "2024-02-17T14:54:41.922688600Z"
    }
   },
   "outputs": [
    {
     "data": {
      "text/plain": "array(['Centre-Forward', 'Goalkeeper', 'Centre-Back',\n       'Attacking Midfield', 'Central Midfield', 'Defensive Midfield',\n       'Left Midfield', 'Left Winger', 'Left-Back', 'Right-Back',\n       'Second Striker', nan, 'Right Winger', 'Right Midfield'],\n      dtype=object)"
     },
     "execution_count": 135,
     "metadata": {},
     "output_type": "execute_result"
    }
   ],
   "source": [
    "#Finding unique values for 'sub_position'\n",
    "\n",
    "pos = df['sub_position'].unique()\n",
    "pos"
   ]
  },
  {
   "cell_type": "code",
   "execution_count": 136,
   "metadata": {
    "ExecuteTime": {
     "end_time": "2024-02-17T14:54:41.993234100Z",
     "start_time": "2024-02-17T14:54:41.955701300Z"
    }
   },
   "outputs": [
    {
     "name": "stderr",
     "output_type": "stream",
     "text": [
      "C:\\Users\\marij\\AppData\\Local\\Temp\\ipykernel_18356\\925121456.py:3: FutureWarning: A value is trying to be set on a copy of a DataFrame or Series through chained assignment using an inplace method.\n",
      "The behavior will change in pandas 3.0. This inplace method will never work because the intermediate object on which we are setting values always behaves as a copy.\n",
      "\n",
      "For example, when doing 'df[col].method(value, inplace=True)', try using 'df.method({col: value}, inplace=True)' or df[col] = df[col].method(value) instead, to perform the operation inplace on the original object.\n",
      "\n",
      "\n",
      "  df['sub_position'].fillna(random.choice(pos), inplace = True)\n"
     ]
    }
   ],
   "source": [
    "#Replacing null values for 'sub_position' with random values (Random Imputation)\n",
    "\n",
    "df['sub_position'].fillna(random.choice(pos), inplace = True)"
   ]
  },
  {
   "cell_type": "code",
   "execution_count": 137,
   "metadata": {
    "ExecuteTime": {
     "end_time": "2024-02-17T14:54:42.038631Z",
     "start_time": "2024-02-17T14:54:42.004241300Z"
    }
   },
   "outputs": [
    {
     "data": {
      "text/plain": "player_id                                  0\nname                                       0\nlast_season                                0\ncurrent_club_id                            0\nplayer_code                                0\ncountry_of_birth                           0\ncountry_of_citizenship                     0\ndate_of_birth                              0\nsub_position                               0\nposition                                   0\nfoot                                       0\nheight_in_cm                               0\ncurrent_club_domestic_competition_id       0\ncurrent_club_name                          0\nmarket_value_in_eur                        0\nhighest_market_value_in_eur             1079\ndtype: int64"
     },
     "execution_count": 137,
     "metadata": {},
     "output_type": "execute_result"
    }
   ],
   "source": [
    "n4 = df.isnull().sum()\n",
    "n4"
   ]
  },
  {
   "cell_type": "code",
   "execution_count": 138,
   "metadata": {
    "ExecuteTime": {
     "end_time": "2024-02-17T14:54:42.085307100Z",
     "start_time": "2024-02-17T14:54:42.021723500Z"
    }
   },
   "outputs": [
    {
     "name": "stderr",
     "output_type": "stream",
     "text": [
      "C:\\Users\\marij\\AppData\\Local\\Temp\\ipykernel_18356\\1356228074.py:11: FutureWarning: A value is trying to be set on a copy of a DataFrame or Series through chained assignment using an inplace method.\n",
      "The behavior will change in pandas 3.0. This inplace method will never work because the intermediate object on which we are setting values always behaves as a copy.\n",
      "\n",
      "For example, when doing 'df[col].method(value, inplace=True)', try using 'df.method({col: value}, inplace=True)' or df[col] = df[col].method(value) instead, to perform the operation inplace on the original object.\n",
      "\n",
      "\n",
      "  df['highest_market_value_in_eur'].fillna(num_val, inplace = True)\n"
     ]
    }
   ],
   "source": [
    "#finding mean for 'highest_market_value_in_eur' (Mean Imputation)\n",
    "mean_val = df['highest_market_value_in_eur'].mean()\n",
    "\n",
    "#converting into Integer\n",
    "mean_val_int = int(mean_val)\n",
    "\n",
    "#converting string to int\n",
    "num_val = pd.to_numeric(mean_val_int)\n",
    "\n",
    "#Replacing null values with the mean (num_value)\n",
    "df['highest_market_value_in_eur'].fillna(num_val, inplace = True)\n"
   ]
  },
  {
   "cell_type": "code",
   "execution_count": 139,
   "metadata": {
    "ExecuteTime": {
     "end_time": "2024-02-17T14:54:42.132999800Z",
     "start_time": "2024-02-17T14:54:42.095308300Z"
    }
   },
   "outputs": [
    {
     "data": {
      "text/plain": "player_id                               0\nname                                    0\nlast_season                             0\ncurrent_club_id                         0\nplayer_code                             0\ncountry_of_birth                        0\ncountry_of_citizenship                  0\ndate_of_birth                           0\nsub_position                            0\nposition                                0\nfoot                                    0\nheight_in_cm                            0\ncurrent_club_domestic_competition_id    0\ncurrent_club_name                       0\nmarket_value_in_eur                     0\nhighest_market_value_in_eur             0\ndtype: int64"
     },
     "execution_count": 139,
     "metadata": {},
     "output_type": "execute_result"
    }
   ],
   "source": [
    "#final check for null values\n",
    "\n",
    "n5 = df.isnull().sum()\n",
    "n5"
   ]
  },
  {
   "cell_type": "code",
   "execution_count": 140,
   "metadata": {
    "ExecuteTime": {
     "end_time": "2024-02-17T14:54:42.484710800Z",
     "start_time": "2024-02-17T14:54:42.118000700Z"
    }
   },
   "outputs": [],
   "source": [
    "df.to_csv('data.csv', index = False)"
   ]
  },
  {
   "cell_type": "code",
   "execution_count": 141,
   "metadata": {
    "ExecuteTime": {
     "end_time": "2024-02-17T14:54:42.504777900Z",
     "start_time": "2024-02-17T14:54:42.495226100Z"
    }
   },
   "outputs": [
    {
     "data": {
      "text/plain": "       player_id                 name  last_season  current_club_id  \\\n0             10       Miroslav Klose         2015              398   \n1             26   Roman Weidenfeller         2017               16   \n2             65     Dimitar Berbatov         2015             1091   \n4             80           Tom Starke         2017               27   \n6            123  Christoph Metzelder         2012               33   \n...          ...                  ...          ...              ...   \n30414    1176866        Motez Nourani         2023             3840   \n30415    1178474          Amadou Kone         2023             1421   \n30416    1186012       Bakary Haidara         2023              968   \n30417    1187799  Franciszek Franczak         2023             2578   \n30418    1225269          Erdem Calik         2023             3209   \n\n               player_code    country_of_birth country_of_citizenship  \\\n0           miroslav-klose              Poland                Germany   \n1       roman-weidenfeller             Germany                Germany   \n2         dimitar-berbatov            Bulgaria               Bulgaria   \n4               tom-starke  East Germany (GDR)                Germany   \n6      christoph-metzelder             Germany                Germany   \n...                    ...                 ...                    ...   \n30414        motez-nourani             Tunisia                Tunisia   \n30415          amadou-kone                Mali          Cote d'Ivoire   \n30416       bakary-haidara              Uknown          Cote d'Ivoire   \n30417  franciszek-franczak              Poland                 Poland   \n30418          erdem-calik              Turkey                 Turkey   \n\n             date_of_birth        sub_position    position   foot  \\\n0      1978-06-09 00:00:00      Centre-Forward      Attack  right   \n1      1980-08-06 00:00:00          Goalkeeper  Goalkeeper   left   \n2      1981-01-30 00:00:00      Centre-Forward      Attack   left   \n4      1981-03-18 00:00:00          Goalkeeper  Goalkeeper  right   \n6      1980-11-05 00:00:00         Centre-Back    Defender   left   \n...                    ...                 ...         ...    ...   \n30414  2002-01-11 00:00:00         Left Winger      Attack  right   \n30415  2005-05-14 00:00:00  Attacking Midfield    Midfield   left   \n30416  2005-06-01 00:00:00         Centre-Back    Defender  right   \n30417  2007-08-16 00:00:00      Right Midfield    Midfield  right   \n30418  2006-06-05 00:00:00    Central Midfield    Midfield  right   \n\n       height_in_cm current_club_domestic_competition_id  \\\n0             184.0                                  IT1   \n1             190.0                                   L1   \n2             182.0                                  GR1   \n4             194.0                                   L1   \n6             182.0                                   L1   \n...             ...                                  ...   \n30414         182.0                                  TR1   \n30415         182.0                                  FR1   \n30416         182.0                                  BE1   \n30417         173.0                                  SC1   \n30418         182.0                                  TR1   \n\n                                       current_club_name  market_value_in_eur  \\\n0                          Societa Sportiva Lazio S.p.A.            1000000.0   \n1                                      Borussia Dortmund             750000.0   \n2      Panthessalonikios Athlitikos Omilos Konstantin...            1000000.0   \n4                                      FC Bayern Munchen             100000.0   \n6                                          FC Schalke 04            1500000.0   \n...                                                  ...                  ...   \n30414                             Adana Demirspor Kulubu             250000.0   \n30415                                     Stade de Reims              50000.0   \n30416                  Koninklijke Voetbal Club Westerlo             350000.0   \n30417                      Saint Johnstone Football Club              75000.0   \n30418                                         Pendikspor              50000.0   \n\n       highest_market_value_in_eur  \n0                       30000000.0  \n1                        8000000.0  \n2                       34500000.0  \n4                        3000000.0  \n6                        9500000.0  \n...                            ...  \n30414                     250000.0  \n30415                      50000.0  \n30416                     350000.0  \n30417                      75000.0  \n30418                      50000.0  \n\n[28439 rows x 16 columns]",
      "text/html": "<div>\n<style scoped>\n    .dataframe tbody tr th:only-of-type {\n        vertical-align: middle;\n    }\n\n    .dataframe tbody tr th {\n        vertical-align: top;\n    }\n\n    .dataframe thead th {\n        text-align: right;\n    }\n</style>\n<table border=\"1\" class=\"dataframe\">\n  <thead>\n    <tr style=\"text-align: right;\">\n      <th></th>\n      <th>player_id</th>\n      <th>name</th>\n      <th>last_season</th>\n      <th>current_club_id</th>\n      <th>player_code</th>\n      <th>country_of_birth</th>\n      <th>country_of_citizenship</th>\n      <th>date_of_birth</th>\n      <th>sub_position</th>\n      <th>position</th>\n      <th>foot</th>\n      <th>height_in_cm</th>\n      <th>current_club_domestic_competition_id</th>\n      <th>current_club_name</th>\n      <th>market_value_in_eur</th>\n      <th>highest_market_value_in_eur</th>\n    </tr>\n  </thead>\n  <tbody>\n    <tr>\n      <th>0</th>\n      <td>10</td>\n      <td>Miroslav Klose</td>\n      <td>2015</td>\n      <td>398</td>\n      <td>miroslav-klose</td>\n      <td>Poland</td>\n      <td>Germany</td>\n      <td>1978-06-09 00:00:00</td>\n      <td>Centre-Forward</td>\n      <td>Attack</td>\n      <td>right</td>\n      <td>184.0</td>\n      <td>IT1</td>\n      <td>Societa Sportiva Lazio S.p.A.</td>\n      <td>1000000.0</td>\n      <td>30000000.0</td>\n    </tr>\n    <tr>\n      <th>1</th>\n      <td>26</td>\n      <td>Roman Weidenfeller</td>\n      <td>2017</td>\n      <td>16</td>\n      <td>roman-weidenfeller</td>\n      <td>Germany</td>\n      <td>Germany</td>\n      <td>1980-08-06 00:00:00</td>\n      <td>Goalkeeper</td>\n      <td>Goalkeeper</td>\n      <td>left</td>\n      <td>190.0</td>\n      <td>L1</td>\n      <td>Borussia Dortmund</td>\n      <td>750000.0</td>\n      <td>8000000.0</td>\n    </tr>\n    <tr>\n      <th>2</th>\n      <td>65</td>\n      <td>Dimitar Berbatov</td>\n      <td>2015</td>\n      <td>1091</td>\n      <td>dimitar-berbatov</td>\n      <td>Bulgaria</td>\n      <td>Bulgaria</td>\n      <td>1981-01-30 00:00:00</td>\n      <td>Centre-Forward</td>\n      <td>Attack</td>\n      <td>left</td>\n      <td>182.0</td>\n      <td>GR1</td>\n      <td>Panthessalonikios Athlitikos Omilos Konstantin...</td>\n      <td>1000000.0</td>\n      <td>34500000.0</td>\n    </tr>\n    <tr>\n      <th>4</th>\n      <td>80</td>\n      <td>Tom Starke</td>\n      <td>2017</td>\n      <td>27</td>\n      <td>tom-starke</td>\n      <td>East Germany (GDR)</td>\n      <td>Germany</td>\n      <td>1981-03-18 00:00:00</td>\n      <td>Goalkeeper</td>\n      <td>Goalkeeper</td>\n      <td>right</td>\n      <td>194.0</td>\n      <td>L1</td>\n      <td>FC Bayern Munchen</td>\n      <td>100000.0</td>\n      <td>3000000.0</td>\n    </tr>\n    <tr>\n      <th>6</th>\n      <td>123</td>\n      <td>Christoph Metzelder</td>\n      <td>2012</td>\n      <td>33</td>\n      <td>christoph-metzelder</td>\n      <td>Germany</td>\n      <td>Germany</td>\n      <td>1980-11-05 00:00:00</td>\n      <td>Centre-Back</td>\n      <td>Defender</td>\n      <td>left</td>\n      <td>182.0</td>\n      <td>L1</td>\n      <td>FC Schalke 04</td>\n      <td>1500000.0</td>\n      <td>9500000.0</td>\n    </tr>\n    <tr>\n      <th>...</th>\n      <td>...</td>\n      <td>...</td>\n      <td>...</td>\n      <td>...</td>\n      <td>...</td>\n      <td>...</td>\n      <td>...</td>\n      <td>...</td>\n      <td>...</td>\n      <td>...</td>\n      <td>...</td>\n      <td>...</td>\n      <td>...</td>\n      <td>...</td>\n      <td>...</td>\n      <td>...</td>\n    </tr>\n    <tr>\n      <th>30414</th>\n      <td>1176866</td>\n      <td>Motez Nourani</td>\n      <td>2023</td>\n      <td>3840</td>\n      <td>motez-nourani</td>\n      <td>Tunisia</td>\n      <td>Tunisia</td>\n      <td>2002-01-11 00:00:00</td>\n      <td>Left Winger</td>\n      <td>Attack</td>\n      <td>right</td>\n      <td>182.0</td>\n      <td>TR1</td>\n      <td>Adana Demirspor Kulubu</td>\n      <td>250000.0</td>\n      <td>250000.0</td>\n    </tr>\n    <tr>\n      <th>30415</th>\n      <td>1178474</td>\n      <td>Amadou Kone</td>\n      <td>2023</td>\n      <td>1421</td>\n      <td>amadou-kone</td>\n      <td>Mali</td>\n      <td>Cote d'Ivoire</td>\n      <td>2005-05-14 00:00:00</td>\n      <td>Attacking Midfield</td>\n      <td>Midfield</td>\n      <td>left</td>\n      <td>182.0</td>\n      <td>FR1</td>\n      <td>Stade de Reims</td>\n      <td>50000.0</td>\n      <td>50000.0</td>\n    </tr>\n    <tr>\n      <th>30416</th>\n      <td>1186012</td>\n      <td>Bakary Haidara</td>\n      <td>2023</td>\n      <td>968</td>\n      <td>bakary-haidara</td>\n      <td>Uknown</td>\n      <td>Cote d'Ivoire</td>\n      <td>2005-06-01 00:00:00</td>\n      <td>Centre-Back</td>\n      <td>Defender</td>\n      <td>right</td>\n      <td>182.0</td>\n      <td>BE1</td>\n      <td>Koninklijke Voetbal Club Westerlo</td>\n      <td>350000.0</td>\n      <td>350000.0</td>\n    </tr>\n    <tr>\n      <th>30417</th>\n      <td>1187799</td>\n      <td>Franciszek Franczak</td>\n      <td>2023</td>\n      <td>2578</td>\n      <td>franciszek-franczak</td>\n      <td>Poland</td>\n      <td>Poland</td>\n      <td>2007-08-16 00:00:00</td>\n      <td>Right Midfield</td>\n      <td>Midfield</td>\n      <td>right</td>\n      <td>173.0</td>\n      <td>SC1</td>\n      <td>Saint Johnstone Football Club</td>\n      <td>75000.0</td>\n      <td>75000.0</td>\n    </tr>\n    <tr>\n      <th>30418</th>\n      <td>1225269</td>\n      <td>Erdem Calik</td>\n      <td>2023</td>\n      <td>3209</td>\n      <td>erdem-calik</td>\n      <td>Turkey</td>\n      <td>Turkey</td>\n      <td>2006-06-05 00:00:00</td>\n      <td>Central Midfield</td>\n      <td>Midfield</td>\n      <td>right</td>\n      <td>182.0</td>\n      <td>TR1</td>\n      <td>Pendikspor</td>\n      <td>50000.0</td>\n      <td>50000.0</td>\n    </tr>\n  </tbody>\n</table>\n<p>28439 rows × 16 columns</p>\n</div>"
     },
     "execution_count": 141,
     "metadata": {},
     "output_type": "execute_result"
    }
   ],
   "source": [
    "df"
   ]
  },
  {
   "cell_type": "code",
   "execution_count": 141,
   "metadata": {
    "ExecuteTime": {
     "end_time": "2024-02-17T14:54:42.506776Z",
     "start_time": "2024-02-17T14:54:42.498798400Z"
    }
   },
   "outputs": [],
   "source": []
  },
  {
   "cell_type": "code",
   "execution_count": 141,
   "metadata": {
    "ExecuteTime": {
     "end_time": "2024-02-17T14:54:42.528279400Z",
     "start_time": "2024-02-17T14:54:42.503252800Z"
    }
   },
   "outputs": [],
   "source": []
  },
  {
   "cell_type": "code",
   "execution_count": 141,
   "metadata": {
    "ExecuteTime": {
     "end_time": "2024-02-17T14:54:42.551278Z",
     "start_time": "2024-02-17T14:54:42.507504500Z"
    }
   },
   "outputs": [],
   "source": []
  }
 ],
 "metadata": {
  "kernelspec": {
   "display_name": "Python 3 (ipykernel)",
   "language": "python",
   "name": "python3"
  },
  "language_info": {
   "codemirror_mode": {
    "name": "ipython",
    "version": 3
   },
   "file_extension": ".py",
   "mimetype": "text/x-python",
   "name": "python",
   "nbconvert_exporter": "python",
   "pygments_lexer": "ipython3",
   "version": "3.12.1"
  }
 },
 "nbformat": 4,
 "nbformat_minor": 4
}
